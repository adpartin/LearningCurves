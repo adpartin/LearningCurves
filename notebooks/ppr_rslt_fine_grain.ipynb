{
 "cells": [
  {
   "cell_type": "markdown",
   "metadata": {},
   "source": [
    "# Paper Section: Fig of the fine grain extrapolation"
   ]
  },
  {
   "cell_type": "code",
   "execution_count": 1,
   "metadata": {},
   "outputs": [
    {
     "name": "stdout",
     "output_type": "stream",
     "text": [
      "/vol/ml/apartin/projects/LearningCurves/notebooks\n"
     ]
    }
   ],
   "source": [
    "%load_ext autoreload\n",
    "%autoreload 2\n",
    "%matplotlib inline\n",
    "\n",
    "import warnings\n",
    "warnings.filterwarnings('ignore')\n",
    "\n",
    "import os\n",
    "import sys\n",
    "from pathlib import Path\n",
    "\n",
    "import sklearn\n",
    "import numpy as np\n",
    "import pandas as pd\n",
    "from glob import glob\n",
    "\n",
    "from sklearn import metrics\n",
    "from math import sqrt\n",
    "\n",
    "import matplotlib\n",
    "import matplotlib.pyplot as plt\n",
    "\n",
    "# Make all python scripts available in the path\n",
    "sys.path.append('../')\n",
    "\n",
    "import pp_utils\n",
    "import lrn_crv_plot\n",
    "%matplotlib inline\n",
    "\n",
    "filepath = Path(os.getcwd())\n",
    "print(filepath)"
   ]
  },
  {
   "cell_type": "code",
   "execution_count": 2,
   "metadata": {},
   "outputs": [],
   "source": [
    "from fit import * # weighted_power_law, fit_weighted_pwr_law\n",
    "import rpy2.robjects as robjects"
   ]
  },
  {
   "cell_type": "code",
   "execution_count": 3,
   "metadata": {},
   "outputs": [],
   "source": [
    "save_fig_path = filepath/'figs/fine_grain'\n",
    "os.makedirs(save_fig_path, exist_ok=True)\n",
    "\n",
    "def save_fig(save_fig_path, fname):    \n",
    "    # plt.savefig(save_fig_path/(fname + '.eps'), format='eps')\n",
    "    plt.savefig(save_fig_path/(fname + '.png'), dpi=200)"
   ]
  },
  {
   "cell_type": "code",
   "execution_count": 4,
   "metadata": {},
   "outputs": [],
   "source": [
    "def calc_gof(y, yfit):\n",
    "    gof = {}\n",
    "    rmse = sqrt( metrics.mean_squared_error(y, yfit) )\n",
    "    mae = metrics.mean_absolute_error(y, yfit)\n",
    "    gof['rmse'] = rmse\n",
    "    gof['mae'] = mae\n",
    "    return gof"
   ]
  },
  {
   "cell_type": "code",
   "execution_count": null,
   "metadata": {},
   "outputs": [],
   "source": []
  },
  {
   "cell_type": "markdown",
   "metadata": {},
   "source": [
    "### Get dir path of all runs"
   ]
  },
  {
   "cell_type": "code",
   "execution_count": 5,
   "metadata": {},
   "outputs": [],
   "source": [
    "src = 'gdsc_on_none'\n",
    "# src = 'top6_on_none'\n",
    "\n",
    "# base_dir = Path('/vol/ml/apartin/projects/LearningCurves/trn.gdsc/split_on_none/fine_grain_lgb_subset_even_space')\n",
    "# base_dir = Path('/vol/ml/apartin/projects/LearningCurves/trn.gdsc/split_on_none/fine_grain_lgb_subset')\n",
    "base_dir = Path('/vol/ml/apartin/projects/LearningCurves/trn.gdsc/split_on_none/fine_grain_lgb')\n",
    "    \n",
    "# Get all run dirs\n",
    "runs = glob(str(base_dir/'*'))"
   ]
  },
  {
   "cell_type": "markdown",
   "metadata": {},
   "source": [
    "### Aggregate results over runs"
   ]
  },
  {
   "cell_type": "code",
   "execution_count": 6,
   "metadata": {},
   "outputs": [],
   "source": [
    "# scores = []\n",
    "# for i, r in enumerate(runs):\n",
    "#     dpath = Path(r)/'lrn_crv_scores.csv'\n",
    "#     if not dpath.exists(): continue\n",
    "        \n",
    "#     scr_tmp = pd.read_csv( dpath )\n",
    "#     scr_tmp.rename(columns={'fold0': 'run'+str(i+1)}, inplace=True)\n",
    "#     if len(scores)==0:\n",
    "#         scores = scr_tmp\n",
    "#     else:\n",
    "#         scores = scores.merge(scr_tmp, on=['metric', 'tr_size', 'set'])\n",
    "        \n",
    "# run_col_names = [c for c in scores.columns if 'run' in c]\n",
    "\n",
    "# scores_mean   = scores[run_col_names].mean(axis=1)\n",
    "# scores_median = scores[run_col_names].median(axis=1)\n",
    "# scores_std    = scores[run_col_names].std(axis=1)\n",
    "\n",
    "# scores.insert(loc=3, column='mean', value=scores_mean)\n",
    "# scores.insert(loc=3, column='median', value=scores_median)\n",
    "# scores.insert(loc=3, column='std', value=scores_std)\n",
    "# print(len(np.unique(scores.tr_size)))\n",
    "\n",
    "# display(scores[:2])\n",
    "# print('Training set sizes:', np.unique(scores.tr_size))\n",
    "\n",
    "# save = True\n",
    "# if save:\n",
    "#     scores.to_csv(base_dir/'all_seed_runs_scores.csv', index=False)"
   ]
  },
  {
   "cell_type": "code",
   "execution_count": 7,
   "metadata": {},
   "outputs": [],
   "source": [
    "# scores_te = scores[(scores.metric=='mean_absolute_error') & (scores.set=='te')].reset_index(drop=True).iloc[:, :6]\n",
    "# scores_te.to_csv(base_dir/'scores.csv', index=False)"
   ]
  },
  {
   "cell_type": "code",
   "execution_count": 8,
   "metadata": {},
   "outputs": [
    {
     "name": "stdout",
     "output_type": "stream",
     "text": [
      "50\n",
      "Training set sizes: [   64    72    82    93   106   120   137   156   177   201   228   259\n",
      "   294   334   380   432   490   557   633   718   816   927  1053  1196\n",
      "  1358  1543  1752  1990  2261  2568  2916  3312  3762  4273  4853  5512\n",
      "  6261  7111  8076  9173 10419 11833 13440 15265 17337 19691 22365 25401\n",
      " 28850 32768]\n"
     ]
    }
   ],
   "source": [
    "scores = []\n",
    "prf = 'id'\n",
    "for i, r in enumerate(runs):\n",
    "    # scr_tmp = pd.read_csv( Path(r)/'lrn_crv_scores.csv' )\n",
    "    dpath = Path(r)/'lrn_crv_scores.csv'\n",
    "    if not dpath.exists():\n",
    "        continue\n",
    "        \n",
    "    scr_tmp = pd.read_csv( dpath )\n",
    "    scr_tmp.rename(columns={'fold0': prf+str(i)}, inplace=True)\n",
    "    if len(scores)==0:\n",
    "        scores = scr_tmp\n",
    "    else:\n",
    "        scores = scores.merge(scr_tmp, on=['metric', 'tr_size', 'set'])\n",
    "        \n",
    "run_col_names = [c for c in scores.columns if prf in c]\n",
    "\n",
    "scores_mean   = scores[run_col_names].mean(axis=1)\n",
    "scores_median = scores[run_col_names].median(axis=1)\n",
    "scores_std    = scores[run_col_names].std(axis=1)\n",
    "# scores_iqr    = iqr(scores.iloc[:, 6:].values, axis=0)\n",
    "\n",
    "scores.insert(loc=3, column='mean', value=scores_mean)\n",
    "scores.insert(loc=3, column='median', value=scores_median)\n",
    "scores.insert(loc=3, column='std', value=scores_std)\n",
    "print(len(np.unique(scores.tr_size)))\n",
    "\n",
    "# display(scores[:2])\n",
    "print('Training set sizes:', np.unique(scores.tr_size))\n",
    "\n",
    "# scores_te = scores[(scores.metric=='mean_absolute_error') & (scores.set=='te')].reset_index(drop=True).iloc[:, :6]\n",
    "scores_te = scores[(scores.metric=='mean_absolute_error') & (scores.set=='te')].reset_index(drop=True)\n",
    "\n",
    "save = True\n",
    "if save:\n",
    "    scores.to_csv(base_dir/'all_seed_runs_scores.csv', index=False)\n",
    "    scores_te.to_csv(base_dir/'scores.csv', index=False)"
   ]
  },
  {
   "cell_type": "code",
   "execution_count": null,
   "metadata": {},
   "outputs": [],
   "source": []
  },
  {
   "cell_type": "code",
   "execution_count": null,
   "metadata": {},
   "outputs": [],
   "source": []
  },
  {
   "cell_type": "code",
   "execution_count": null,
   "metadata": {},
   "outputs": [],
   "source": []
  },
  {
   "cell_type": "code",
   "execution_count": 9,
   "metadata": {},
   "outputs": [],
   "source": [
    "figsize = (6, 4.5)\n",
    "metric_name = 'mean_absolute_error'\n",
    "tr_set = 'te'"
   ]
  },
  {
   "cell_type": "code",
   "execution_count": 10,
   "metadata": {},
   "outputs": [
    {
     "data": {
      "image/png": "[encoded data removed]",
      "text/plain": [
       "<Figure size 432x324 with 1 Axes>"
      ]
     },
     "metadata": {
      "needs_background": "light"
     },
     "output_type": "display_data"
    }
   ],
   "source": [
    "plot_args = {'tr_set': tr_set, 'metric_name': metric_name, 'figsize': figsize, 'xtick_scale': 'linear', 'ytick_scale': 'linear'}\n",
    "shard_min_idx=0\n",
    "# shard_min_idx=1\n",
    "\n",
    "ax = pp_utils.plot_lc_multi_runs( runs, shard_min_idx=shard_min_idx, **plot_args );\n",
    "# plt.savefig(save_fig_path/f'{src}_all_runs_linlin.png')"
   ]
  },
  {
   "cell_type": "code",
   "execution_count": 11,
   "metadata": {},
   "outputs": [
    {
     "data": {
      "image/png": "[encoded data removed]",
      "text/plain": [
       "<Figure size 432x324 with 1 Axes>"
      ]
     },
     "metadata": {
      "needs_background": "light"
     },
     "output_type": "display_data"
    }
   ],
   "source": [
    "plot_args = {'tr_set': tr_set, 'metric_name': metric_name, 'figsize': figsize, 'xtick_scale': 'log2', 'ytick_scale': 'linear'}\n",
    "shard_min_idx=0\n",
    "# shard_min_idx=1\n",
    "\n",
    "ax = pp_utils.plot_lc_multi_runs( runs, shard_min_idx=shard_min_idx, **plot_args );\n",
    "plt.tight_layout()\n",
    "# plt.savefig(save_fig_path/f'{src}_all_runs_loglog.png')\n",
    "# save_fig(save_fig_path, fname=f'{src}_all_runs_loglog')"
   ]
  },
  {
   "cell_type": "markdown",
   "metadata": {},
   "source": [
    "- STD of scores across runs is inversely proportional to the subset size. This can be attributed to the distribution similarity of target values between training subset and test set. The target values, is our use case, are the dose-independent values. The smaller the subset, the lower the similarity with a test set, and therefore, we observe larger variance of scores across runs [shuffles/experiments] at smaller subsets.\n",
    "- We exploit this observation for ... [Mukherjee exploits this observation ...]"
   ]
  },
  {
   "cell_type": "code",
   "execution_count": 12,
   "metadata": {},
   "outputs": [],
   "source": [
    "figsize = (6, 4.5)\n",
    "# figsize = (10, 8)\n",
    "metric_name = 'mean_absolute_error'\n",
    "xtick_scale, ytick_scale = 'log2', 'linear'\n",
    "\n",
    "plot_args = {'metric_name': metric_name, 'xtick_scale': xtick_scale, 'ytick_scale': ytick_scale, 'figsize': figsize}"
   ]
  },
  {
   "cell_type": "code",
   "execution_count": 68,
   "metadata": {},
   "outputs": [],
   "source": [
    "# The previous two figures should help decide which shards to use\n",
    "shift_idx = 0\n",
    "shift_idx_end = 37\n",
    "# scr = scores_te[shift_idx:].reset_index(drop=True)\n",
    "scr = scores_te[shift_idx:shift_idx_end].reset_index(drop=True)\n",
    "y_col_name = 'median'"
   ]
  },
  {
   "cell_type": "code",
   "execution_count": 69,
   "metadata": {},
   "outputs": [],
   "source": [
    "# scores_te = scores[ (scores['metric']==metric_name) & (scores['set']=='te') ].reset_index(drop=True)\n",
    "\n",
    "# shard_min_idx=0\n",
    "# # shard_min_idx=1\n",
    "\n",
    "# ax = None\n",
    "# ax = lrn_crv_plot.plot_lrn_crv_new(\n",
    "#         x=scores_te['tr_size'][shard_min_idx:], y=scores_te['median'][shard_min_idx:], yerr=scores_te['std'][shard_min_idx:],\n",
    "#         ax=ax, ls='--', marker='.', alpha=1,\n",
    "#         **plot_args, label='Median and STD')\n",
    "\n",
    "# ax.legend(frameon=True, fontsize=10, loc='best');\n",
    "# plt.tight_layout()\n",
    "# # plt.savefig(save_fig_path/f'{src}_agg_median_std.png')"
   ]
  },
  {
   "cell_type": "code",
   "execution_count": 70,
   "metadata": {},
   "outputs": [
    {
     "name": "stdout",
     "output_type": "stream",
     "text": [
      "GOF: {'rmse': 0.001774872872052397, 'mae': 0.001261631398604079}\n"
     ]
    },
    {
     "data": {
      "image/png": "[encoded data removed]",
      "text/plain": [
       "<Figure size 576x468 with 1 Axes>"
      ]
     },
     "metadata": {
      "needs_background": "light"
     },
     "output_type": "display_data"
    }
   ],
   "source": [
    "x = scr['tr_size']\n",
    "y = scr[y_col_name]\n",
    "yerr = scr['std']\n",
    "\n",
    "shard_min_idx = 0\n",
    "xf = x[shard_min_idx:]\n",
    "yf = y[shard_min_idx:]\n",
    "prms = fit_params(xf, yf)\n",
    "yfit = biased_powerlaw(xf, **prms)\n",
    "\n",
    "ax = None\n",
    "\n",
    "ax = lrn_crv_plot.plot_lrn_crv_new(x=x, y=y, yerr=yerr,\n",
    "                                   ax=ax, ls='', marker='v', alpha=0.5,\n",
    "                                   **plot_args, color='b', label='Median and STD')\n",
    "\n",
    "ax = lrn_crv_plot.plot_lrn_crv_new(x=xf, y=yfit,\n",
    "                                   ax=ax, ls='--', marker='', alpha=1,\n",
    "                                   **plot_args, color='firebrick', label='Fit')\n",
    "\n",
    "gof = calc_gof(yf, yfit)\n",
    "\n",
    "ax.legend(frameon=True, fontsize=10, loc='best')\n",
    "plt.tight_layout()\n",
    "ax.grid(False)\n",
    "# ax.set_xticks([2**i for i in range(2, 17)]) # GDSC\n",
    "# ax.set_xticks([2**i for i in range(2, 18)]) # Top6\n",
    "\n",
    "# save_fig(save_fig_path, fname=f'{src}_agg_median_std_fit_all')\n",
    "print('GOF:', gof)"
   ]
  },
  {
   "cell_type": "code",
   "execution_count": null,
   "metadata": {},
   "outputs": [],
   "source": []
  },
  {
   "cell_type": "code",
   "execution_count": 71,
   "metadata": {},
   "outputs": [],
   "source": [
    "x = scr['tr_size']\n",
    "y = scr[y_col_name]\n",
    "yerr = scr['std']\n",
    "\n",
    "# Fit\n",
    "shard_min_idx = 5\n",
    "shard_max_idx = 15\n",
    "xf = x[shard_min_idx:shard_max_idx]\n",
    "yf = y[shard_min_idx:shard_max_idx]\n",
    "prms = fit_params(xf, yf)\n",
    "yfit = biased_powerlaw(xf, **prms)"
   ]
  },
  {
   "cell_type": "code",
   "execution_count": 76,
   "metadata": {},
   "outputs": [
    {
     "name": "stdout",
     "output_type": "stream",
     "text": [
      "Range of m used to fit:  [120 137 156 177 201 228 259 294 334 380]\n",
      "Extrap point x_ext1:  2916\n",
      "Extrap point x_ext2:  5512\n",
      "GOF: {'rmse': 0.001774872872052397, 'mae': 0.001261631398604079}\n"
     ]
    },
    {
     "data": {
      "image/png": "[encoded data removed]",
      "text/plain": [
       "<Figure size 576x468 with 1 Axes>"
      ]
     },
     "metadata": {
      "needs_background": "light"
     },
     "output_type": "display_data"
    }
   ],
   "source": [
    "plot_args = {'metric_name': metric_name, 'ytick_scale': 'linear', 'figsize': (8, 6.5)}\n",
    "xtick_scale = 'linear'\n",
    "# xtick_scale = 'log2'\n",
    "\n",
    "ax = None\n",
    "\n",
    "ax = lrn_crv_plot.plot_lrn_crv_new(x=x, y=y, # yerr=yerr,\n",
    "                                   ax=ax, ls='', marker='o', alpha=0.5,\n",
    "                                   **plot_args, xtick_scale = xtick_scale, color='b', label='Median')\n",
    "\n",
    "ax = lrn_crv_plot.plot_lrn_crv_new(x=xf, y=yfit,\n",
    "                                   ax=ax, ls='--', marker='', alpha=1,\n",
    "                                   **plot_args, xtick_scale = xtick_scale, color='firebrick', label='Fit')\n",
    "\n",
    "xf_ = x[shard_max_idx:]\n",
    "# yf_ = y[shard_max_idx:]\n",
    "yfit_ = biased_powerlaw(xf_, **prms)\n",
    "ax = lrn_crv_plot.plot_lrn_crv_new(x=xf_, y=yfit_,\n",
    "                                   ax=ax, ls='--', marker='', alpha=1,\n",
    "                                   **plot_args, xtick_scale = xtick_scale, color='g', label='Extrapolation')\n",
    "\n",
    "x_id_ext1 = shard_max_idx + 15\n",
    "x_id_ext2 = shard_max_idx + 20\n",
    "x_ext1 = x[x_id_ext1]\n",
    "x_ext2 = x[x_id_ext2]\n",
    "y_ext1 = biased_powerlaw(x_ext1, **prms)\n",
    "y_ext2 = biased_powerlaw(x_ext2, **prms)\n",
    "ax.plot(x_ext1, y_ext1, 's', color='darkorange', markeredgecolor='k', alpha=1, label='Extrapolation point 1')  # darkviolet\n",
    "ax.plot(x_ext2, y_ext2, 'o', color='r', markeredgecolor='k', alpha=1, label='Extrapolation point 2')\n",
    "\n",
    "print('Range of m used to fit: ', xf.values)\n",
    "print('Extrap point x_ext1: ', x_ext1)\n",
    "print('Extrap point x_ext2: ', x_ext2)\n",
    "\n",
    "# print('GOF for extrap 1', calc_gof(yf, y_ext1))\n",
    "# gof = calc_gof(yf, yfit)\n",
    "# gof = calc_gof(yf, yfit)\n",
    "\n",
    "ax.legend(frameon=True, fontsize=10, loc='best')\n",
    "plt.tight_layout()\n",
    "ax.grid(False)\n",
    "# ax.set_xticks([2**i for i in range(2, 17)]) # GDSC\n",
    "# ax.set_xticks([2**i for i in range(2, 18)]) # Top6\n",
    "\n",
    "save_fig(save_fig_path, fname=f'{src}fine_grain_extrap_{xtick_scale}')\n",
    "print('GOF:', gof)"
   ]
  },
  {
   "cell_type": "code",
   "execution_count": null,
   "metadata": {},
   "outputs": [],
   "source": []
  },
  {
   "cell_type": "code",
   "execution_count": null,
   "metadata": {},
   "outputs": [],
   "source": []
  },
  {
   "cell_type": "code",
   "execution_count": null,
   "metadata": {},
   "outputs": [],
   "source": []
  },
  {
   "cell_type": "code",
   "execution_count": null,
   "metadata": {},
   "outputs": [],
   "source": []
  },
  {
   "cell_type": "code",
   "execution_count": 73,
   "metadata": {},
   "outputs": [],
   "source": [
    "# tot_pnts = len(scores_te['tr_size'])\n",
    "# n_pnts_fit = 70 # Number of points to use for curve fitting starting from the largest size\n",
    "\n",
    "# y_col_name = 'median'\n",
    "\n",
    "# ax = None\n",
    "\n",
    "# ax = lrn_crv_plot.plot_lrn_crv_new(\n",
    "#         x=scores_te['tr_size'][0:], y=scores_te[y_col_name][0:], yerr=scores_te['std'][0:],\n",
    "#         ax=ax, ls='', marker='v', alpha=0.7,\n",
    "#         **plot_args, label='Median Values')\n",
    "\n",
    "# shard_min_idx = 0 if tot_pnts < n_pnts_fit else tot_pnts - n_pnts_fit\n",
    "\n",
    "# ax, _, gof = lrn_crv_plot.plot_lrn_crv_power_law(\n",
    "#         x=scores_te['tr_size'][shard_min_idx:], y=scores_te[y_col_name][shard_min_idx:],\n",
    "#         **plot_args, plot_raw=False, ax=ax, alpha=1 );\n",
    "\n",
    "# ax.legend(frameon=True, fontsize=10, loc='best')\n",
    "# plt.tight_layout()\n",
    "# # plt.savefig(save_fig_path/f'{src}_agg_median_std_fit_subset_points.png')\n",
    "\n",
    "# print('GOF:', gof)"
   ]
  },
  {
   "cell_type": "markdown",
   "metadata": {},
   "source": [
    "# Fig: Fine-grain extrapolation"
   ]
  },
  {
   "cell_type": "code",
   "execution_count": 47,
   "metadata": {},
   "outputs": [],
   "source": [
    "# scr = scores_te.copy()\n",
    "# # scr = scores_te.copy().reset_index(drop=True)\n",
    "# # scr = scores_te.copy().iloc[5:, :].reset_index(drop=True)\n",
    "# # scr = scores_te.copy().iloc[shift:-20, :].reset_index(drop=True)\n",
    "\n",
    "# # plot_args['figsize'] = (11, 8)\n",
    "# plot_args['figsize'] = (7, 4.5)\n",
    "# tot_pnts = len(scr['tr_size'])\n",
    "\n",
    "# x_fit_min = 0  # good start\n",
    "# x_fit_max = 10 # good end\n",
    "# # x_ext = 28     # good extrapolation\n",
    "# x_ext = 35   # bad extrapolation\n",
    "# print('x_fit_min={}, m={}'.format(x_fit_min, scr.loc[x_fit_min, 'tr_size']))\n",
    "# print('x_fit_max={}, m={}'.format(x_fit_max, scr.loc[x_fit_max, 'tr_size']))\n",
    "# print('ext={}, m={}'.format(x_fit_max, scr.loc[x_ext, 'tr_size']))\n",
    "\n",
    "# y_col_name = 'median'\n",
    "# plot_args['xtick_scale'], plot_args['ytick_scale'] = 'linear', 'linear'\n",
    "# # plot_args['xtick_scale'], plot_args['ytick_scale'] = 'log2', 'log2'\n",
    "\n",
    "# ax = None\n",
    "# ax = lrn_crv_plot.plot_lrn_crv_new(\n",
    "#         x = scr['tr_size'], y = scr[y_col_name], # yerr = scr['std'],\n",
    "#         ax=ax, ls='', marker='.', alpha=0.8, # color='k',\n",
    "#         **plot_args, label='Excluded Points')\n",
    "\n",
    "# ax = lrn_crv_plot.plot_lrn_crv_new(\n",
    "#         x = scr.loc[x_fit_min:x_fit_max, 'tr_size'], y = scr.loc[x_fit_min:x_fit_max, y_col_name],\n",
    "#         ax=ax, ls='', marker='*', alpha=0.8, # color='c',\n",
    "#         **plot_args, label='Fitting Points')\n",
    "\n",
    "# ax, fit_prms, gof = lrn_crv_plot.plot_lrn_crv_power_law(\n",
    "#         x=scr.loc[x_fit_min:x_fit_max, 'tr_size'], y=scr.loc[x_fit_min:x_fit_max, y_col_name],\n",
    "#         **plot_args, plot_raw=False, ax=ax, alpha=1 );\n",
    "\n",
    "# y_ext = lrn_crv_plot.power_law_func_3prm(x=scr.loc[x_ext, 'tr_size'], **fit_prms)\n",
    "\n",
    "# ext_mae = abs(y_ext - scr.loc[x_ext, y_col_name])\n",
    "# print('Extrapolation MAE', ext_mae)\n",
    "\n",
    "# ax = lrn_crv_plot.plot_lrn_crv_new(\n",
    "#         x = np.array(scr.loc[x_ext, 'tr_size']), y = y_ext,\n",
    "#         ax=ax, ls='', marker='o', alpha=0.8, color='r',\n",
    "#         **plot_args, label='Extrapolated')\n",
    "\n",
    "# plt.tight_layout()\n",
    "# ax.legend(frameon=True, fontsize=10, loc='best');\n",
    "# # save_fig(save_fig_path, fname=f'{src}_fine_grain_extrap_linling')"
   ]
  },
  {
   "cell_type": "code",
   "execution_count": null,
   "metadata": {},
   "outputs": [],
   "source": []
  },
  {
   "cell_type": "code",
   "execution_count": null,
   "metadata": {},
   "outputs": [],
   "source": []
  },
  {
   "cell_type": "code",
   "execution_count": null,
   "metadata": {},
   "outputs": [],
   "source": []
  },
  {
   "cell_type": "code",
   "execution_count": null,
   "metadata": {},
   "outputs": [],
   "source": []
  },
  {
   "cell_type": "code",
   "execution_count": null,
   "metadata": {},
   "outputs": [],
   "source": []
  },
  {
   "cell_type": "code",
   "execution_count": null,
   "metadata": {},
   "outputs": [],
   "source": []
  },
  {
   "cell_type": "code",
   "execution_count": null,
   "metadata": {},
   "outputs": [],
   "source": []
  },
  {
   "cell_type": "code",
   "execution_count": null,
   "metadata": {},
   "outputs": [],
   "source": []
  },
  {
   "cell_type": "code",
   "execution_count": null,
   "metadata": {},
   "outputs": [],
   "source": []
  },
  {
   "cell_type": "code",
   "execution_count": null,
   "metadata": {},
   "outputs": [],
   "source": []
  },
  {
   "cell_type": "code",
   "execution_count": null,
   "metadata": {},
   "outputs": [],
   "source": []
  },
  {
   "cell_type": "markdown",
   "metadata": {},
   "source": [
    "# Worked for fine_grain_subset"
   ]
  },
  {
   "cell_type": "code",
   "execution_count": 12,
   "metadata": {},
   "outputs": [
    {
     "name": "stdout",
     "output_type": "stream",
     "text": [
      "Could not fit power-law.\n"
     ]
    },
    {
     "ename": "TypeError",
     "evalue": "'NoneType' object is not iterable",
     "output_type": "error",
     "traceback": [
      "\u001b[0;31m---------------------------------------------------------------------------\u001b[0m",
      "\u001b[0;31mTypeError\u001b[0m                                 Traceback (most recent call last)",
      "\u001b[0;32m<ipython-input-12-a709b3da3ad2>\u001b[0m in \u001b[0;36m<module>\u001b[0;34m\u001b[0m\n\u001b[1;32m     31\u001b[0m ax, fit_prms, gof = lrn_crv_plot.plot_lrn_crv_power_law(\n\u001b[1;32m     32\u001b[0m         \u001b[0mx\u001b[0m\u001b[0;34m=\u001b[0m\u001b[0mscr\u001b[0m\u001b[0;34m.\u001b[0m\u001b[0mloc\u001b[0m\u001b[0;34m[\u001b[0m\u001b[0mfit_min\u001b[0m\u001b[0;34m:\u001b[0m\u001b[0mfit_max\u001b[0m\u001b[0;34m,\u001b[0m \u001b[0;34m'tr_size'\u001b[0m\u001b[0;34m]\u001b[0m\u001b[0;34m,\u001b[0m \u001b[0my\u001b[0m\u001b[0;34m=\u001b[0m\u001b[0mscr\u001b[0m\u001b[0;34m.\u001b[0m\u001b[0mloc\u001b[0m\u001b[0;34m[\u001b[0m\u001b[0mfit_min\u001b[0m\u001b[0;34m:\u001b[0m\u001b[0mfit_max\u001b[0m\u001b[0;34m,\u001b[0m \u001b[0my_col_name\u001b[0m\u001b[0;34m]\u001b[0m\u001b[0;34m,\u001b[0m\u001b[0;34m\u001b[0m\u001b[0;34m\u001b[0m\u001b[0m\n\u001b[0;32m---> 33\u001b[0;31m         **plot_args, plot_raw=False, ax=ax, alpha=1 );\n\u001b[0m\u001b[1;32m     34\u001b[0m \u001b[0;34m\u001b[0m\u001b[0m\n\u001b[1;32m     35\u001b[0m \u001b[0mprint\u001b[0m\u001b[0;34m(\u001b[0m\u001b[0;34m'fit_min_id={}, m={}'\u001b[0m\u001b[0;34m.\u001b[0m\u001b[0mformat\u001b[0m\u001b[0;34m(\u001b[0m\u001b[0mfit_min\u001b[0m\u001b[0;34m,\u001b[0m \u001b[0mscr\u001b[0m\u001b[0;34m.\u001b[0m\u001b[0mloc\u001b[0m\u001b[0;34m[\u001b[0m\u001b[0mfit_min\u001b[0m\u001b[0;34m,\u001b[0m \u001b[0;34m'tr_size'\u001b[0m\u001b[0;34m]\u001b[0m\u001b[0;34m)\u001b[0m\u001b[0;34m)\u001b[0m\u001b[0;34m\u001b[0m\u001b[0;34m\u001b[0m\u001b[0m\n",
      "\u001b[0;31mTypeError\u001b[0m: 'NoneType' object is not iterable"
     ]
    },
    {
     "data": {
      "image/png": "[encoded data removed]",
      "text/plain": [
       "<Figure size 504x324 with 1 Axes>"
      ]
     },
     "metadata": {
      "needs_background": "light"
     },
     "output_type": "display_data"
    }
   ],
   "source": [
    "scr = scores_te.copy()\n",
    "# scr = scores_te.copy().reset_index(drop=True)\n",
    "# scr = scores_te.copy().iloc[5:, :].reset_index(drop=True)\n",
    "shift = 0\n",
    "shift = 20\n",
    "scr = scores_te.copy().iloc[shift:-20, :].reset_index(drop=True)\n",
    "# plot_args['figsize'] = (11, 8)\n",
    "plot_args['figsize'] = (7, 4.5)\n",
    "tot_pnts = len(scr['tr_size'])\n",
    "# fit_min = 20  # good start\n",
    "# fit_max = 42  # good end\n",
    "\n",
    "fit_min = 20-shift  # good start\n",
    "fit_max = 42-shift  # good end\n",
    "\n",
    "y_col_name = 'median'\n",
    "plot_args['xtick_scale'], plot_args['ytick_scale'] = 'linear', 'linear'\n",
    "# plot_args['xtick_scale'], plot_args['ytick_scale'] = 'log2', 'log2'\n",
    "\n",
    "ax = None\n",
    "ax = lrn_crv_plot.plot_lrn_crv_new(\n",
    "        x = scr['tr_size'], y = scr[y_col_name], # yerr = scr['std'],\n",
    "        ax=ax, ls='', marker='.', alpha=0.8, # color='k',\n",
    "        **plot_args, label='Excluded Points')\n",
    "\n",
    "ax = lrn_crv_plot.plot_lrn_crv_new(\n",
    "        x = scr.loc[fit_min:fit_max, 'tr_size'], y = scr.loc[fit_min:fit_max, y_col_name], # yerr = scr.loc[fit_min:fit_max, 'std'],\n",
    "        ax=ax, ls='', marker='*', alpha=0.8, # color='c',\n",
    "        **plot_args, label='Fitting Points')\n",
    "\n",
    "ax, fit_prms, gof = lrn_crv_plot.plot_lrn_crv_power_law(\n",
    "        x=scr.loc[fit_min:fit_max, 'tr_size'], y=scr.loc[fit_min:fit_max, y_col_name],\n",
    "        **plot_args, plot_raw=False, ax=ax, alpha=1 );\n",
    "\n",
    "print('fit_min_id={}, m={}'.format(fit_min, scr.loc[fit_min, 'tr_size']))\n",
    "print('fit_max_id={}, m={}'.format(fit_max, scr.loc[fit_max, 'tr_size']))\n",
    "# x_ext = 52-shift  # good extrapolation -->\n",
    "x_ext = 70-shift  # bad extrapolation -->\n",
    "print('ext={}, m={}'.format(fit_max, scr.loc[x_ext, 'tr_size']))\n",
    "y_ext = lrn_crv_plot.power_law_func_3prm(x=scr.loc[x_ext, 'tr_size'], **fit_prms)\n",
    "\n",
    "ext_mae = abs(y_ext - scr.loc[x_ext, y_col_name])\n",
    "print('Extrapolation MAE', ext_mae)\n",
    "\n",
    "ax = lrn_crv_plot.plot_lrn_crv_new(\n",
    "        x = np.array(scr.loc[x_ext, 'tr_size']), y = y_ext,\n",
    "        ax=ax, ls='', marker='o', alpha=0.8, color='r',\n",
    "        **plot_args, label='Extrapolated')\n",
    "\n",
    "plt.tight_layout()\n",
    "ax.legend(frameon=True, fontsize=10, loc='best')\n",
    "save_fig(save_fig_path, fname=f'{src}_fine_grain_extrap_linling')"
   ]
  },
  {
   "cell_type": "code",
   "execution_count": null,
   "metadata": {},
   "outputs": [],
   "source": []
  }
 ],
 "metadata": {
  "kernelspec": {
   "display_name": "Python 3",
   "language": "python",
   "name": "python3"
  },
  "language_info": {
   "codemirror_mode": {
    "name": "ipython",
    "version": 3
   },
   "file_extension": ".py",
   "mimetype": "text/x-python",
   "name": "python",
   "nbconvert_exporter": "python",
   "pygments_lexer": "ipython3",
   "version": "3.6.8"
  }
 },
 "nbformat": 4,
 "nbformat_minor": 2
}
