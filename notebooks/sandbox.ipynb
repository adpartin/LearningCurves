{
 "cells": [
  {
   "cell_type": "code",
   "execution_count": 22,
   "metadata": {},
   "outputs": [
    {
     "name": "stdout",
     "output_type": "stream",
     "text": [
      "The autoreload extension is already loaded. To reload it, use:\n",
      "  %reload_ext autoreload\n"
     ]
    },
    {
     "name": "stderr",
     "output_type": "stream",
     "text": [
      "Using TensorFlow backend.\n"
     ]
    },
    {
     "name": "stdout",
     "output_type": "stream",
     "text": [
      "/vol/ml/apartin/projects/LearningCurves/notebooks\n"
     ]
    }
   ],
   "source": [
    "%load_ext autoreload\n",
    "%autoreload 2\n",
    "%matplotlib inline\n",
    "\n",
    "import warnings\n",
    "warnings.filterwarnings('ignore')\n",
    "\n",
    "import os\n",
    "import sys\n",
    "from pathlib import Path\n",
    "\n",
    "import sklearn\n",
    "import numpy as np\n",
    "import pandas as pd\n",
    "from glob import glob\n",
    "\n",
    "import matplotlib\n",
    "import matplotlib.pyplot as plt\n",
    "\n",
    "# Make all python scripts available in the path\n",
    "sys.path.append('../')\n",
    "\n",
    "import pp_utils\n",
    "import lrn_crv_plot\n",
    "from post_proc_from_serial import parse_args_file, parse_and_agg_scores\n",
    "from ml_models import plot_prfrm_metrics\n",
    "\n",
    "%matplotlib inline\n",
    "\n",
    "filepath = Path(os.getcwd())\n",
    "print(filepath)"
   ]
  },
  {
   "cell_type": "code",
   "execution_count": null,
   "metadata": {},
   "outputs": [],
   "source": [
    "df = pd.read_csv(Path('/vol/ml/apartin/projects/LearningCurves/trn.gdsc/split_on_cell/multi_seed_rf_100_trees/all_seed_runs_scores.csv'))"
   ]
  },
  {
   "cell_type": "code",
   "execution_count": 24,
   "metadata": {},
   "outputs": [],
   "source": [
    "fpath = Path('/vol/ml/apartin/projects/LearningCurves/hpo_runs/lc_gdsc_nn_reg0_hpo/run/id_217/output/data.nn_reg0.adam.cvf1.GE.DD.AUC_2019-11-7_h4-m5/cv1_sz213015/')\n",
    "trn_logs = fpath / 'training.log'\n",
    "h = plot_prfrm_metrics(logfile_path=trn_logs, skp_ep=0, outdir=fpath, add_lr=False)"
   ]
  },
  {
   "cell_type": "code",
   "execution_count": 46,
   "metadata": {},
   "outputs": [],
   "source": [
    "fpath = Path('/vol/ml/apartin/projects/LearningCurves/hpo_runs/lc_gdsc_nn_reg0_hpo/run/id_057/output/data.nn_reg0.adam.cvf1.GE.DD.AUC_2019-11-4_h23-m21/cv1_sz88416/')\n",
    "trn_logs = fpath / 'training.log'\n",
    "h = plot_prfrm_metrics(logfile_path=trn_logs, skp_ep=0, outdir=fpath, add_lr=False)"
   ]
  },
  {
   "cell_type": "code",
   "execution_count": null,
   "metadata": {},
   "outputs": [],
   "source": []
  },
  {
   "cell_type": "code",
   "execution_count": 28,
   "metadata": {},
   "outputs": [],
   "source": [
    "fpath = Path('/vol/ml/apartin/projects/LearningCurves/trn.top6/split_on_cell/nn_reg_ap/run_03/cv0_sz213019/')\n",
    "trn_logs = fpath / 'training.log'\n",
    "h = plot_prfrm_metrics(logfile_path=trn_logs, skp_ep=0, outdir=fpath, add_lr=False)"
   ]
  },
  {
   "cell_type": "code",
   "execution_count": null,
   "metadata": {},
   "outputs": [],
   "source": []
  },
  {
   "cell_type": "code",
   "execution_count": 30,
   "metadata": {},
   "outputs": [],
   "source": [
    "n_runs = 20\n",
    "digits = len(str(n_runs))"
   ]
  },
  {
   "cell_type": "code",
   "execution_count": 31,
   "metadata": {},
   "outputs": [
    {
     "data": {
      "text/plain": [
       "2"
      ]
     },
     "execution_count": 31,
     "metadata": {},
     "output_type": "execute_result"
    }
   ],
   "source": [
    "digits"
   ]
  },
  {
   "cell_type": "code",
   "execution_count": 57,
   "metadata": {},
   "outputs": [],
   "source": [
    "# df = pd.read_csv(Path('/vol/ml/apartin/projects/LearningCurves/trn.gdsc/split_on_cell/multi_seed_lgbm_100_trees/all_seed_runs_scores.csv'))\n",
    "df = pd.read_csv(Path('/vol/ml/apartin/projects/LearningCurves/trn.gdsc/split_on_cell/multi_seed_rf_100_trees/all_seed_runs_scores.csv'))\n",
    "df = df[(df.metric=='mean_absolute_error') & (df.set=='te')].reset_index(drop=True)"
   ]
  },
  {
   "cell_type": "code",
   "execution_count": null,
   "metadata": {},
   "outputs": [],
   "source": []
  },
  {
   "cell_type": "code",
   "execution_count": null,
   "metadata": {},
   "outputs": [],
   "source": [
    "# df = pd.read_csv(Path('/vol/ml/apartin/projects/LearningCurves/trn.gdsc/split_on_cell/multi_seed_lgbm_100_trees/all_seed_runs_scores.csv'))\n",
    "df = pd.read_csv(Path('/vol/ml/apartin/projects/LearningCurves/trn.gdsc/split_on_cell/multi_seed_rf_100_trees/all_seed_runs_scores.csv'))\n",
    "df = df[(df.metric=='mean_absolute_error') & (df.set=='te')].reset_index(drop=True)"
   ]
  },
  {
   "cell_type": "code",
   "execution_count": null,
   "metadata": {},
   "outputs": [],
   "source": []
  },
  {
   "cell_type": "code",
   "execution_count": 7,
   "metadata": {},
   "outputs": [],
   "source": [
    "# df = pd.read_csv(Path('/vol/ml/apartin/projects/LearningCurves/trn.gdsc/split_on_cell/multi_seed_lgbm_100_trees/all_seed_runs_scores.csv'))\n",
    "df = pd.read_csv(Path('/vol/ml/apartin/projects/LearningCurves/trn.top21/split_on_cell/top21.adam.nn_reg0.ge.dd.auc_2019-12-1/hpo_all.csv'))\n",
    "# df = df[(df.metric=='mean_absolute_error') & (df.set=='te')].reset_index(drop=True)"
   ]
  },
  {
   "cell_type": "code",
   "execution_count": 10,
   "metadata": {},
   "outputs": [
    {
     "data": {
      "text/html": [
       "<div>\n",
       "<style scoped>\n",
       "    .dataframe tbody tr th:only-of-type {\n",
       "        vertical-align: middle;\n",
       "    }\n",
       "\n",
       "    .dataframe tbody tr th {\n",
       "        vertical-align: top;\n",
       "    }\n",
       "\n",
       "    .dataframe thead th {\n",
       "        text-align: right;\n",
       "    }\n",
       "</style>\n",
       "<table border=\"1\" class=\"dataframe\">\n",
       "  <thead>\n",
       "    <tr style=\"text-align: right;\">\n",
       "      <th></th>\n",
       "      <th>mean_absolute_error</th>\n",
       "      <th>tr_size</th>\n",
       "    </tr>\n",
       "  </thead>\n",
       "  <tbody>\n",
       "    <tr>\n",
       "      <th>0</th>\n",
       "      <td>0.055923</td>\n",
       "      <td>392156</td>\n",
       "    </tr>\n",
       "    <tr>\n",
       "      <th>1</th>\n",
       "      <td>0.059719</td>\n",
       "      <td>131072</td>\n",
       "    </tr>\n",
       "    <tr>\n",
       "      <th>2</th>\n",
       "      <td>0.056969</td>\n",
       "      <td>262144</td>\n",
       "    </tr>\n",
       "    <tr>\n",
       "      <th>3</th>\n",
       "      <td>0.063548</td>\n",
       "      <td>65536</td>\n",
       "    </tr>\n",
       "    <tr>\n",
       "      <th>4</th>\n",
       "      <td>0.063102</td>\n",
       "      <td>32768</td>\n",
       "    </tr>\n",
       "  </tbody>\n",
       "</table>\n",
       "</div>"
      ],
      "text/plain": [
       "   mean_absolute_error  tr_size\n",
       "0             0.055923   392156\n",
       "1             0.059719   131072\n",
       "2             0.056969   262144\n",
       "3             0.063548    65536\n",
       "4             0.063102    32768"
      ]
     },
     "execution_count": 10,
     "metadata": {},
     "output_type": "execute_result"
    }
   ],
   "source": [
    "cols = ['mean_absolute_error', 'tr_size']\n",
    "df[cols]"
   ]
  },
  {
   "cell_type": "code",
   "execution_count": null,
   "metadata": {},
   "outputs": [],
   "source": []
  },
  {
   "cell_type": "code",
   "execution_count": 34,
   "metadata": {},
   "outputs": [
    {
     "data": {
      "text/plain": [
       "512"
      ]
     },
     "execution_count": 34,
     "metadata": {},
     "output_type": "execute_result"
    }
   ],
   "source": [
    "2**9"
   ]
  },
  {
   "cell_type": "code",
   "execution_count": 41,
   "metadata": {},
   "outputs": [
    {
     "data": {
      "text/plain": [
       "65536"
      ]
     },
     "execution_count": 41,
     "metadata": {},
     "output_type": "execute_result"
    }
   ],
   "source": [
    "2**16"
   ]
  },
  {
   "cell_type": "code",
   "execution_count": 43,
   "metadata": {},
   "outputs": [
    {
     "data": {
      "text/plain": [
       "array([  500,  1517,  2534,  3551,  4568,  5586,  6603,  7620,  8637,\n",
       "        9655, 10672, 11689, 12706, 13724, 14741, 15758, 16775, 17793,\n",
       "       18810, 19827, 20844, 21862, 22879, 23896, 24913, 25931, 26948,\n",
       "       27965, 28982, 30000])"
      ]
     },
     "execution_count": 43,
     "metadata": {},
     "output_type": "execute_result"
    }
   ],
   "source": [
    "m = np.linspace(500, 30000, 30)\n",
    "m = np.array( [int(i) for i in m] )\n",
    "m"
   ]
  },
  {
   "cell_type": "markdown",
   "metadata": {},
   "source": [
    "### m = np.linspace(500, 15000, 20)\n",
    "m = np.array( [int(i) for i in m] )\n",
    "m"
   ]
  },
  {
   "cell_type": "code",
   "execution_count": null,
   "metadata": {},
   "outputs": [],
   "source": []
  },
  {
   "cell_type": "code",
   "execution_count": null,
   "metadata": {},
   "outputs": [],
   "source": []
  },
  {
   "cell_type": "code",
   "execution_count": 19,
   "metadata": {},
   "outputs": [],
   "source": [
    "lrn_crv_scores = pd.read_csv(Path('/vol/ml/apartin/projects/LearningCurves/trn.top6/split_on_cell/multi_seed_lgbm_100_trees/top6.lgb_reg.ge.dd.auc1_2019-12-2_h0-m23/lrn_crv_scores.csv'))"
   ]
  },
  {
   "cell_type": "code",
   "execution_count": 20,
   "metadata": {},
   "outputs": [],
   "source": [
    "scores_te = lrn_crv_scores[(lrn_crv_scores.metric=='mean_absolute_error') & (lrn_crv_scores.set=='te')].sort_values('tr_size').reset_index(drop=True)"
   ]
  },
  {
   "cell_type": "code",
   "execution_count": 21,
   "metadata": {},
   "outputs": [
    {
     "data": {
      "text/html": [
       "<div>\n",
       "<style scoped>\n",
       "    .dataframe tbody tr th:only-of-type {\n",
       "        vertical-align: middle;\n",
       "    }\n",
       "\n",
       "    .dataframe tbody tr th {\n",
       "        vertical-align: top;\n",
       "    }\n",
       "\n",
       "    .dataframe thead th {\n",
       "        text-align: right;\n",
       "    }\n",
       "</style>\n",
       "<table border=\"1\" class=\"dataframe\">\n",
       "  <thead>\n",
       "    <tr style=\"text-align: right;\">\n",
       "      <th></th>\n",
       "      <th>metric</th>\n",
       "      <th>tr_size</th>\n",
       "      <th>set</th>\n",
       "      <th>fold0</th>\n",
       "    </tr>\n",
       "  </thead>\n",
       "  <tbody>\n",
       "    <tr>\n",
       "      <th>0</th>\n",
       "      <td>mean_absolute_error</td>\n",
       "      <td>128</td>\n",
       "      <td>te</td>\n",
       "      <td>0.122358</td>\n",
       "    </tr>\n",
       "    <tr>\n",
       "      <th>1</th>\n",
       "      <td>mean_absolute_error</td>\n",
       "      <td>256</td>\n",
       "      <td>te</td>\n",
       "      <td>0.110238</td>\n",
       "    </tr>\n",
       "    <tr>\n",
       "      <th>2</th>\n",
       "      <td>mean_absolute_error</td>\n",
       "      <td>512</td>\n",
       "      <td>te</td>\n",
       "      <td>0.106403</td>\n",
       "    </tr>\n",
       "    <tr>\n",
       "      <th>3</th>\n",
       "      <td>mean_absolute_error</td>\n",
       "      <td>1024</td>\n",
       "      <td>te</td>\n",
       "      <td>0.101531</td>\n",
       "    </tr>\n",
       "    <tr>\n",
       "      <th>4</th>\n",
       "      <td>mean_absolute_error</td>\n",
       "      <td>2048</td>\n",
       "      <td>te</td>\n",
       "      <td>0.093893</td>\n",
       "    </tr>\n",
       "    <tr>\n",
       "      <th>5</th>\n",
       "      <td>mean_absolute_error</td>\n",
       "      <td>4096</td>\n",
       "      <td>te</td>\n",
       "      <td>0.087796</td>\n",
       "    </tr>\n",
       "    <tr>\n",
       "      <th>6</th>\n",
       "      <td>mean_absolute_error</td>\n",
       "      <td>8192</td>\n",
       "      <td>te</td>\n",
       "      <td>0.086551</td>\n",
       "    </tr>\n",
       "    <tr>\n",
       "      <th>7</th>\n",
       "      <td>mean_absolute_error</td>\n",
       "      <td>16384</td>\n",
       "      <td>te</td>\n",
       "      <td>0.082146</td>\n",
       "    </tr>\n",
       "    <tr>\n",
       "      <th>8</th>\n",
       "      <td>mean_absolute_error</td>\n",
       "      <td>32768</td>\n",
       "      <td>te</td>\n",
       "      <td>0.080349</td>\n",
       "    </tr>\n",
       "    <tr>\n",
       "      <th>9</th>\n",
       "      <td>mean_absolute_error</td>\n",
       "      <td>65536</td>\n",
       "      <td>te</td>\n",
       "      <td>0.080122</td>\n",
       "    </tr>\n",
       "    <tr>\n",
       "      <th>10</th>\n",
       "      <td>mean_absolute_error</td>\n",
       "      <td>131072</td>\n",
       "      <td>te</td>\n",
       "      <td>0.079190</td>\n",
       "    </tr>\n",
       "    <tr>\n",
       "      <th>11</th>\n",
       "      <td>mean_absolute_error</td>\n",
       "      <td>213019</td>\n",
       "      <td>te</td>\n",
       "      <td>0.078026</td>\n",
       "    </tr>\n",
       "  </tbody>\n",
       "</table>\n",
       "</div>"
      ],
      "text/plain": [
       "                 metric  tr_size set     fold0\n",
       "0   mean_absolute_error      128  te  0.122358\n",
       "1   mean_absolute_error      256  te  0.110238\n",
       "2   mean_absolute_error      512  te  0.106403\n",
       "3   mean_absolute_error     1024  te  0.101531\n",
       "4   mean_absolute_error     2048  te  0.093893\n",
       "5   mean_absolute_error     4096  te  0.087796\n",
       "6   mean_absolute_error     8192  te  0.086551\n",
       "7   mean_absolute_error    16384  te  0.082146\n",
       "8   mean_absolute_error    32768  te  0.080349\n",
       "9   mean_absolute_error    65536  te  0.080122\n",
       "10  mean_absolute_error   131072  te  0.079190\n",
       "11  mean_absolute_error   213019  te  0.078026"
      ]
     },
     "execution_count": 21,
     "metadata": {},
     "output_type": "execute_result"
    }
   ],
   "source": [
    "scores_te"
   ]
  },
  {
   "cell_type": "code",
   "execution_count": null,
   "metadata": {},
   "outputs": [],
   "source": []
  },
  {
   "cell_type": "markdown",
   "metadata": {},
   "source": [
    "## Response and goodness of fit"
   ]
  },
  {
   "cell_type": "code",
   "execution_count": 31,
   "metadata": {},
   "outputs": [
    {
     "name": "stdout",
     "output_type": "stream",
     "text": [
      "(4484080, 14)\n"
     ]
    },
    {
     "data": {
      "text/html": [
       "<div>\n",
       "<style scoped>\n",
       "    .dataframe tbody tr th:only-of-type {\n",
       "        vertical-align: middle;\n",
       "    }\n",
       "\n",
       "    .dataframe tbody tr th {\n",
       "        vertical-align: top;\n",
       "    }\n",
       "\n",
       "    .dataframe thead th {\n",
       "        text-align: right;\n",
       "    }\n",
       "</style>\n",
       "<table border=\"1\" class=\"dataframe\">\n",
       "  <thead>\n",
       "    <tr style=\"text-align: right;\">\n",
       "      <th></th>\n",
       "      <th>SOURCE</th>\n",
       "      <th>CELL</th>\n",
       "      <th>DRUG</th>\n",
       "      <th>STUDY</th>\n",
       "      <th>AUC</th>\n",
       "      <th>IC50</th>\n",
       "      <th>EC50</th>\n",
       "      <th>EC50se</th>\n",
       "      <th>R2fit</th>\n",
       "      <th>Einf</th>\n",
       "      <th>HS</th>\n",
       "      <th>AAC1</th>\n",
       "      <th>AUC1</th>\n",
       "      <th>DSS1</th>\n",
       "    </tr>\n",
       "  </thead>\n",
       "  <tbody>\n",
       "    <tr>\n",
       "      <th>0</th>\n",
       "      <td>CCLE</td>\n",
       "      <td>CCLE.1321N1</td>\n",
       "      <td>CCLE.1</td>\n",
       "      <td>fake_exp</td>\n",
       "      <td>0.8330</td>\n",
       "      <td>4.883</td>\n",
       "      <td>5.183</td>\n",
       "      <td>0.5746</td>\n",
       "      <td>0.9864</td>\n",
       "      <td>0.2017</td>\n",
       "      <td>0.7463</td>\n",
       "      <td>0.1017</td>\n",
       "      <td>0.8983</td>\n",
       "      <td>0.0551</td>\n",
       "    </tr>\n",
       "    <tr>\n",
       "      <th>1</th>\n",
       "      <td>CCLE</td>\n",
       "      <td>CCLE.1321N1</td>\n",
       "      <td>CCLE.10</td>\n",
       "      <td>fake_exp</td>\n",
       "      <td>0.7909</td>\n",
       "      <td>5.217</td>\n",
       "      <td>5.217</td>\n",
       "      <td>2.2840</td>\n",
       "      <td>0.6526</td>\n",
       "      <td>0.0000</td>\n",
       "      <td>0.8993</td>\n",
       "      <td>0.1136</td>\n",
       "      <td>0.8864</td>\n",
       "      <td>0.0728</td>\n",
       "    </tr>\n",
       "  </tbody>\n",
       "</table>\n",
       "</div>"
      ],
      "text/plain": [
       "  SOURCE         CELL     DRUG     STUDY     AUC   IC50   EC50  EC50se  \\\n",
       "0   CCLE  CCLE.1321N1   CCLE.1  fake_exp  0.8330  4.883  5.183  0.5746   \n",
       "1   CCLE  CCLE.1321N1  CCLE.10  fake_exp  0.7909  5.217  5.217  2.2840   \n",
       "\n",
       "    R2fit    Einf      HS    AAC1    AUC1    DSS1  \n",
       "0  0.9864  0.2017  0.7463  0.1017  0.8983  0.0551  \n",
       "1  0.6526  0.0000  0.8993  0.1136  0.8864  0.0728  "
      ]
     },
     "metadata": {},
     "output_type": "display_data"
    }
   ],
   "source": [
    "rsp = pd.read_csv(Path('../data/combined_single_response_agg'), sep='\\t', engine='c', low_memory=False)\n",
    "print(rsp.shape)\n",
    "display(rsp[:2])"
   ]
  },
  {
   "cell_type": "code",
   "execution_count": 32,
   "metadata": {},
   "outputs": [
    {
     "name": "stdout",
     "output_type": "stream",
     "text": [
      "Total samples with R2fit<0: 44661\n"
     ]
    }
   ],
   "source": [
    "# Some responses have very bad fit\n",
    "print('Total samples with R2fit<0:', rsp[rsp['R2fit']<0].shape[0])\n",
    "\n",
    "# Keep a subset of responses\n",
    "rsp = rsp[rsp['R2fit']>0]\n",
    "print(rsp.shape)"
   ]
  },
  {
   "cell_type": "code",
   "execution_count": 34,
   "metadata": {},
   "outputs": [
    {
     "data": {
      "text/plain": [
       "(0, 1)"
      ]
     },
     "execution_count": 34,
     "metadata": {},
     "output_type": "execute_result"
    },
    {
     "data": {
      "image/png": "[encoded data removed]",
      "text/plain": [
       "<Figure size 432x288 with 1 Axes>"
      ]
     },
     "metadata": {
      "needs_background": "light"
     },
     "output_type": "display_data"
    }
   ],
   "source": [
    "plt.plot(rsp['R2fit'], rsp['AUC'], '.', alpha=0.4)\n",
    "# plt.xlim([0, 1])"
   ]
  },
  {
   "cell_type": "code",
   "execution_count": 35,
   "metadata": {},
   "outputs": [
    {
     "data": {
      "image/png": "[encoded data removed]",
      "text/plain": [
       "<Figure size 432x288 with 1 Axes>"
      ]
     },
     "metadata": {
      "needs_background": "light"
     },
     "output_type": "display_data"
    }
   ],
   "source": [
    "plt.hist(rsp['R2fit'], bins=100);\n",
    "plt.grid(True)"
   ]
  },
  {
   "cell_type": "code",
   "execution_count": 41,
   "metadata": {},
   "outputs": [
    {
     "name": "stdout",
     "output_type": "stream",
     "text": [
      "(3327420, 14)\n"
     ]
    }
   ],
   "source": [
    "r = rsp[rsp['EC50se'] < 100]\n",
    "print(r.shape)"
   ]
  },
  {
   "cell_type": "code",
   "execution_count": 42,
   "metadata": {},
   "outputs": [
    {
     "data": {
      "image/png": "[encoded data removed]",
      "text/plain": [
       "<Figure size 432x288 with 1 Axes>"
      ]
     },
     "metadata": {
      "needs_background": "light"
     },
     "output_type": "display_data"
    }
   ],
   "source": [
    "plt.hist(r['EC50se'], bins=100);\n",
    "plt.grid(True)"
   ]
  },
  {
   "cell_type": "code",
   "execution_count": null,
   "metadata": {},
   "outputs": [],
   "source": []
  },
  {
   "cell_type": "code",
   "execution_count": null,
   "metadata": {},
   "outputs": [],
   "source": []
  },
  {
   "cell_type": "markdown",
   "metadata": {},
   "source": [
    "## Compare (in)consistencies between Rick's and Harry's Top6 datasets"
   ]
  },
  {
   "cell_type": "code",
   "execution_count": 3,
   "metadata": {},
   "outputs": [
    {
     "name": "stdout",
     "output_type": "stream",
     "text": [
      "(283152, 6212)\n",
      "(283152, 1)\n"
     ]
    }
   ],
   "source": [
    "# Rick\n",
    "xr = pd.read_parquet(Path('../../pilot1/data/processed/data_splits/top6_cv_simple/xdata.parquet'))\n",
    "yr = pd.read_parquet(Path('../../pilot1/data/processed/data_splits/top6_cv_simple/ydata.parquet'))\n",
    "print(xr.shape)\n",
    "print(yr.shape)"
   ]
  },
  {
   "cell_type": "code",
   "execution_count": 5,
   "metadata": {},
   "outputs": [
    {
     "name": "stdout",
     "output_type": "stream",
     "text": [
      "(285004, 6212)\n",
      "(285004, 3)\n"
     ]
    }
   ],
   "source": [
    "# Harry\n",
    "xh = pd.read_parquet(Path('../top6_data_splits_/xdata.parquet'))\n",
    "mh = pd.read_parquet(Path('../top6_data_splits_/meta.parquet'))\n",
    "print(xh.shape)\n",
    "print(mh.shape)"
   ]
  },
  {
   "cell_type": "code",
   "execution_count": 11,
   "metadata": {},
   "outputs": [
    {
     "data": {
      "text/html": [
       "<div>\n",
       "<style scoped>\n",
       "    .dataframe tbody tr th:only-of-type {\n",
       "        vertical-align: middle;\n",
       "    }\n",
       "\n",
       "    .dataframe tbody tr th {\n",
       "        vertical-align: top;\n",
       "    }\n",
       "\n",
       "    .dataframe thead th {\n",
       "        text-align: right;\n",
       "    }\n",
       "</style>\n",
       "<table border=\"1\" class=\"dataframe\">\n",
       "  <thead>\n",
       "    <tr style=\"text-align: right;\">\n",
       "      <th></th>\n",
       "      <th>DD_AAC</th>\n",
       "      <th>DD_AECC</th>\n",
       "      <th>DD_ALOGP</th>\n",
       "      <th>DD_ALOGP2</th>\n",
       "      <th>DD_AMR</th>\n",
       "      <th>DD_AMW</th>\n",
       "      <th>DD_AROM</th>\n",
       "      <th>DD_ARR</th>\n",
       "      <th>DD_ASP</th>\n",
       "      <th>DD_ATS1e</th>\n",
       "      <th>...</th>\n",
       "      <th>GE_ZMIZ1</th>\n",
       "      <th>GE_ZMYM2</th>\n",
       "      <th>GE_ZNF131</th>\n",
       "      <th>GE_ZNF274</th>\n",
       "      <th>GE_ZNF318</th>\n",
       "      <th>GE_ZNF395</th>\n",
       "      <th>GE_ZNF451</th>\n",
       "      <th>GE_ZNF586</th>\n",
       "      <th>GE_ZNF589</th>\n",
       "      <th>GE_ZW10</th>\n",
       "    </tr>\n",
       "  </thead>\n",
       "  <tbody>\n",
       "    <tr>\n",
       "      <th>0</th>\n",
       "      <td>1.776</td>\n",
       "      <td>23.538</td>\n",
       "      <td>10.495</td>\n",
       "      <td>110.149</td>\n",
       "      <td>256.841</td>\n",
       "      <td>8.123</td>\n",
       "      <td>0.0</td>\n",
       "      <td>0.338</td>\n",
       "      <td>0.0</td>\n",
       "      <td>4.875</td>\n",
       "      <td>...</td>\n",
       "      <td>0.142000</td>\n",
       "      <td>-0.7695</td>\n",
       "      <td>-0.4844</td>\n",
       "      <td>-0.6543</td>\n",
       "      <td>-1.44600</td>\n",
       "      <td>-0.8420</td>\n",
       "      <td>-0.355500</td>\n",
       "      <td>-0.47530</td>\n",
       "      <td>-1.3390</td>\n",
       "      <td>-0.4937</td>\n",
       "    </tr>\n",
       "    <tr>\n",
       "      <th>1</th>\n",
       "      <td>1.776</td>\n",
       "      <td>23.538</td>\n",
       "      <td>10.495</td>\n",
       "      <td>110.149</td>\n",
       "      <td>256.841</td>\n",
       "      <td>8.123</td>\n",
       "      <td>0.0</td>\n",
       "      <td>0.338</td>\n",
       "      <td>0.0</td>\n",
       "      <td>4.875</td>\n",
       "      <td>...</td>\n",
       "      <td>0.532700</td>\n",
       "      <td>0.6830</td>\n",
       "      <td>0.0725</td>\n",
       "      <td>0.2411</td>\n",
       "      <td>-0.26150</td>\n",
       "      <td>-0.1866</td>\n",
       "      <td>-0.299600</td>\n",
       "      <td>1.35450</td>\n",
       "      <td>1.3560</td>\n",
       "      <td>1.5620</td>\n",
       "    </tr>\n",
       "    <tr>\n",
       "      <th>2</th>\n",
       "      <td>1.776</td>\n",
       "      <td>23.538</td>\n",
       "      <td>10.495</td>\n",
       "      <td>110.149</td>\n",
       "      <td>256.841</td>\n",
       "      <td>8.123</td>\n",
       "      <td>0.0</td>\n",
       "      <td>0.338</td>\n",
       "      <td>0.0</td>\n",
       "      <td>4.875</td>\n",
       "      <td>...</td>\n",
       "      <td>0.005966</td>\n",
       "      <td>-0.4277</td>\n",
       "      <td>-0.4485</td>\n",
       "      <td>-0.1606</td>\n",
       "      <td>0.02827</td>\n",
       "      <td>-0.5300</td>\n",
       "      <td>0.073000</td>\n",
       "      <td>-0.05112</td>\n",
       "      <td>-0.2966</td>\n",
       "      <td>-0.1231</td>\n",
       "    </tr>\n",
       "    <tr>\n",
       "      <th>3</th>\n",
       "      <td>1.776</td>\n",
       "      <td>23.538</td>\n",
       "      <td>10.495</td>\n",
       "      <td>110.149</td>\n",
       "      <td>256.841</td>\n",
       "      <td>8.123</td>\n",
       "      <td>0.0</td>\n",
       "      <td>0.338</td>\n",
       "      <td>0.0</td>\n",
       "      <td>4.875</td>\n",
       "      <td>...</td>\n",
       "      <td>-0.444300</td>\n",
       "      <td>-0.6230</td>\n",
       "      <td>-0.7360</td>\n",
       "      <td>0.3904</td>\n",
       "      <td>-0.68260</td>\n",
       "      <td>-1.5740</td>\n",
       "      <td>-0.392800</td>\n",
       "      <td>1.16100</td>\n",
       "      <td>-0.5810</td>\n",
       "      <td>-0.3252</td>\n",
       "    </tr>\n",
       "    <tr>\n",
       "      <th>4</th>\n",
       "      <td>1.776</td>\n",
       "      <td>23.538</td>\n",
       "      <td>10.495</td>\n",
       "      <td>110.149</td>\n",
       "      <td>256.841</td>\n",
       "      <td>8.123</td>\n",
       "      <td>0.0</td>\n",
       "      <td>0.338</td>\n",
       "      <td>0.0</td>\n",
       "      <td>4.875</td>\n",
       "      <td>...</td>\n",
       "      <td>0.243900</td>\n",
       "      <td>0.2925</td>\n",
       "      <td>0.2522</td>\n",
       "      <td>-0.9067</td>\n",
       "      <td>0.60740</td>\n",
       "      <td>0.6090</td>\n",
       "      <td>-0.001514</td>\n",
       "      <td>-0.20860</td>\n",
       "      <td>0.5770</td>\n",
       "      <td>0.4160</td>\n",
       "    </tr>\n",
       "  </tbody>\n",
       "</table>\n",
       "<p>5 rows × 6212 columns</p>\n",
       "</div>"
      ],
      "text/plain": [
       "   DD_AAC  DD_AECC  DD_ALOGP  DD_ALOGP2   DD_AMR  DD_AMW  DD_AROM  DD_ARR  \\\n",
       "0   1.776   23.538    10.495    110.149  256.841   8.123      0.0   0.338   \n",
       "1   1.776   23.538    10.495    110.149  256.841   8.123      0.0   0.338   \n",
       "2   1.776   23.538    10.495    110.149  256.841   8.123      0.0   0.338   \n",
       "3   1.776   23.538    10.495    110.149  256.841   8.123      0.0   0.338   \n",
       "4   1.776   23.538    10.495    110.149  256.841   8.123      0.0   0.338   \n",
       "\n",
       "   DD_ASP  DD_ATS1e  ...  GE_ZMIZ1  GE_ZMYM2  GE_ZNF131  GE_ZNF274  GE_ZNF318  \\\n",
       "0     0.0     4.875  ...  0.142000   -0.7695    -0.4844    -0.6543   -1.44600   \n",
       "1     0.0     4.875  ...  0.532700    0.6830     0.0725     0.2411   -0.26150   \n",
       "2     0.0     4.875  ...  0.005966   -0.4277    -0.4485    -0.1606    0.02827   \n",
       "3     0.0     4.875  ... -0.444300   -0.6230    -0.7360     0.3904   -0.68260   \n",
       "4     0.0     4.875  ...  0.243900    0.2925     0.2522    -0.9067    0.60740   \n",
       "\n",
       "   GE_ZNF395  GE_ZNF451  GE_ZNF586  GE_ZNF589  GE_ZW10  \n",
       "0    -0.8420  -0.355500   -0.47530    -1.3390  -0.4937  \n",
       "1    -0.1866  -0.299600    1.35450     1.3560   1.5620  \n",
       "2    -0.5300   0.073000   -0.05112    -0.2966  -0.1231  \n",
       "3    -1.5740  -0.392800    1.16100    -0.5810  -0.3252  \n",
       "4     0.6090  -0.001514   -0.20860     0.5770   0.4160  \n",
       "\n",
       "[5 rows x 6212 columns]"
      ]
     },
     "execution_count": 11,
     "metadata": {},
     "output_type": "execute_result"
    }
   ],
   "source": [
    "xr[sorted(xr.columns)].head()"
   ]
  },
  {
   "cell_type": "code",
   "execution_count": 12,
   "metadata": {},
   "outputs": [
    {
     "data": {
      "text/html": [
       "<div>\n",
       "<style scoped>\n",
       "    .dataframe tbody tr th:only-of-type {\n",
       "        vertical-align: middle;\n",
       "    }\n",
       "\n",
       "    .dataframe tbody tr th {\n",
       "        vertical-align: top;\n",
       "    }\n",
       "\n",
       "    .dataframe thead th {\n",
       "        text-align: right;\n",
       "    }\n",
       "</style>\n",
       "<table border=\"1\" class=\"dataframe\">\n",
       "  <thead>\n",
       "    <tr style=\"text-align: right;\">\n",
       "      <th></th>\n",
       "      <th>DD_AAC</th>\n",
       "      <th>DD_AECC</th>\n",
       "      <th>DD_ALOGP</th>\n",
       "      <th>DD_ALOGP2</th>\n",
       "      <th>DD_AMR</th>\n",
       "      <th>DD_AMW</th>\n",
       "      <th>DD_AROM</th>\n",
       "      <th>DD_ARR</th>\n",
       "      <th>DD_ASP</th>\n",
       "      <th>DD_ATS1e</th>\n",
       "      <th>...</th>\n",
       "      <th>GE_ZMIZ1</th>\n",
       "      <th>GE_ZMYM2</th>\n",
       "      <th>GE_ZNF131</th>\n",
       "      <th>GE_ZNF274</th>\n",
       "      <th>GE_ZNF318</th>\n",
       "      <th>GE_ZNF395</th>\n",
       "      <th>GE_ZNF451</th>\n",
       "      <th>GE_ZNF586</th>\n",
       "      <th>GE_ZNF589</th>\n",
       "      <th>GE_ZW10</th>\n",
       "    </tr>\n",
       "  </thead>\n",
       "  <tbody>\n",
       "    <tr>\n",
       "      <th>0</th>\n",
       "      <td>1.895</td>\n",
       "      <td>5.357</td>\n",
       "      <td>0.052</td>\n",
       "      <td>0.003</td>\n",
       "      <td>47.659</td>\n",
       "      <td>9.709</td>\n",
       "      <td>0.0</td>\n",
       "      <td>0.333</td>\n",
       "      <td>0.0</td>\n",
       "      <td>3.208</td>\n",
       "      <td>...</td>\n",
       "      <td>3.855</td>\n",
       "      <td>2.140</td>\n",
       "      <td>1.472</td>\n",
       "      <td>2.960</td>\n",
       "      <td>0.4844</td>\n",
       "      <td>3.002</td>\n",
       "      <td>1.4260</td>\n",
       "      <td>1.736</td>\n",
       "      <td>1.1030</td>\n",
       "      <td>1.863</td>\n",
       "    </tr>\n",
       "    <tr>\n",
       "      <th>1</th>\n",
       "      <td>1.483</td>\n",
       "      <td>12.559</td>\n",
       "      <td>4.887</td>\n",
       "      <td>23.886</td>\n",
       "      <td>222.539</td>\n",
       "      <td>6.932</td>\n",
       "      <td>0.0</td>\n",
       "      <td>0.239</td>\n",
       "      <td>0.0</td>\n",
       "      <td>4.863</td>\n",
       "      <td>...</td>\n",
       "      <td>1.213</td>\n",
       "      <td>1.760</td>\n",
       "      <td>2.250</td>\n",
       "      <td>2.904</td>\n",
       "      <td>2.2230</td>\n",
       "      <td>1.640</td>\n",
       "      <td>1.6130</td>\n",
       "      <td>1.268</td>\n",
       "      <td>0.7886</td>\n",
       "      <td>2.148</td>\n",
       "    </tr>\n",
       "    <tr>\n",
       "      <th>2</th>\n",
       "      <td>1.991</td>\n",
       "      <td>9.815</td>\n",
       "      <td>2.776</td>\n",
       "      <td>7.703</td>\n",
       "      <td>97.796</td>\n",
       "      <td>10.506</td>\n",
       "      <td>0.0</td>\n",
       "      <td>0.552</td>\n",
       "      <td>0.0</td>\n",
       "      <td>3.884</td>\n",
       "      <td>...</td>\n",
       "      <td>1.640</td>\n",
       "      <td>2.900</td>\n",
       "      <td>0.726</td>\n",
       "      <td>2.088</td>\n",
       "      <td>0.7876</td>\n",
       "      <td>1.616</td>\n",
       "      <td>1.5205</td>\n",
       "      <td>0.907</td>\n",
       "      <td>1.2990</td>\n",
       "      <td>1.137</td>\n",
       "    </tr>\n",
       "    <tr>\n",
       "      <th>3</th>\n",
       "      <td>1.840</td>\n",
       "      <td>7.762</td>\n",
       "      <td>-1.515</td>\n",
       "      <td>2.297</td>\n",
       "      <td>69.605</td>\n",
       "      <td>8.259</td>\n",
       "      <td>0.0</td>\n",
       "      <td>0.435</td>\n",
       "      <td>0.0</td>\n",
       "      <td>3.767</td>\n",
       "      <td>...</td>\n",
       "      <td>2.492</td>\n",
       "      <td>2.902</td>\n",
       "      <td>1.343</td>\n",
       "      <td>2.025</td>\n",
       "      <td>2.5700</td>\n",
       "      <td>2.432</td>\n",
       "      <td>2.1330</td>\n",
       "      <td>1.241</td>\n",
       "      <td>1.6040</td>\n",
       "      <td>1.788</td>\n",
       "    </tr>\n",
       "    <tr>\n",
       "      <th>4</th>\n",
       "      <td>1.885</td>\n",
       "      <td>9.417</td>\n",
       "      <td>5.905</td>\n",
       "      <td>34.873</td>\n",
       "      <td>110.533</td>\n",
       "      <td>13.864</td>\n",
       "      <td>0.0</td>\n",
       "      <td>0.462</td>\n",
       "      <td>0.0</td>\n",
       "      <td>3.673</td>\n",
       "      <td>...</td>\n",
       "      <td>1.956</td>\n",
       "      <td>3.140</td>\n",
       "      <td>1.591</td>\n",
       "      <td>2.854</td>\n",
       "      <td>2.1800</td>\n",
       "      <td>2.914</td>\n",
       "      <td>2.2700</td>\n",
       "      <td>1.592</td>\n",
       "      <td>1.8820</td>\n",
       "      <td>2.781</td>\n",
       "    </tr>\n",
       "  </tbody>\n",
       "</table>\n",
       "<p>5 rows × 6212 columns</p>\n",
       "</div>"
      ],
      "text/plain": [
       "   DD_AAC  DD_AECC  DD_ALOGP  DD_ALOGP2   DD_AMR  DD_AMW  DD_AROM  DD_ARR  \\\n",
       "0   1.895    5.357     0.052      0.003   47.659   9.709      0.0   0.333   \n",
       "1   1.483   12.559     4.887     23.886  222.539   6.932      0.0   0.239   \n",
       "2   1.991    9.815     2.776      7.703   97.796  10.506      0.0   0.552   \n",
       "3   1.840    7.762    -1.515      2.297   69.605   8.259      0.0   0.435   \n",
       "4   1.885    9.417     5.905     34.873  110.533  13.864      0.0   0.462   \n",
       "\n",
       "   DD_ASP  DD_ATS1e  ...  GE_ZMIZ1  GE_ZMYM2  GE_ZNF131  GE_ZNF274  GE_ZNF318  \\\n",
       "0     0.0     3.208  ...     3.855     2.140      1.472      2.960     0.4844   \n",
       "1     0.0     4.863  ...     1.213     1.760      2.250      2.904     2.2230   \n",
       "2     0.0     3.884  ...     1.640     2.900      0.726      2.088     0.7876   \n",
       "3     0.0     3.767  ...     2.492     2.902      1.343      2.025     2.5700   \n",
       "4     0.0     3.673  ...     1.956     3.140      1.591      2.854     2.1800   \n",
       "\n",
       "   GE_ZNF395  GE_ZNF451  GE_ZNF586  GE_ZNF589  GE_ZW10  \n",
       "0      3.002     1.4260      1.736     1.1030    1.863  \n",
       "1      1.640     1.6130      1.268     0.7886    2.148  \n",
       "2      1.616     1.5205      0.907     1.2990    1.137  \n",
       "3      2.432     2.1330      1.241     1.6040    1.788  \n",
       "4      2.914     2.2700      1.592     1.8820    2.781  \n",
       "\n",
       "[5 rows x 6212 columns]"
      ]
     },
     "execution_count": 12,
     "metadata": {},
     "output_type": "execute_result"
    }
   ],
   "source": [
    "xh[sorted(xh.columns)].head()"
   ]
  },
  {
   "cell_type": "code",
   "execution_count": null,
   "metadata": {},
   "outputs": [],
   "source": []
  },
  {
   "cell_type": "code",
   "execution_count": 80,
   "metadata": {},
   "outputs": [
    {
     "name": "stdout",
     "output_type": "stream",
     "text": [
      "Total HP sets 48\n"
     ]
    }
   ],
   "source": [
    "from sklearn.model_selection import ParameterGrid\n",
    "BATCH = [32, 64, 128]\n",
    "BATCHNORM = [False, True]\n",
    "DR_RATE = [0.1, 0.2, 0.3, 0.4]\n",
    "LR = [0.001, 0.0001]\n",
    "\n",
    "prm_grid = {'batch_size': BATCH, 'dr_rate': DR_RATE,\n",
    "            'batchnorm': BATCHNORM, 'lr': LR}\n",
    "\n",
    "sets = list(ParameterGrid(prm_grid))\n",
    "print('Total HP sets', len(sets))"
   ]
  },
  {
   "cell_type": "code",
   "execution_count": 82,
   "metadata": {},
   "outputs": [
    {
     "data": {
      "text/plain": [
       "list"
      ]
     },
     "execution_count": 82,
     "metadata": {},
     "output_type": "execute_result"
    }
   ],
   "source": [
    "type(sets)"
   ]
  },
  {
   "cell_type": "code",
   "execution_count": 90,
   "metadata": {},
   "outputs": [],
   "source": [
    "arg_list = []\n",
    "for arg, value in sets[1].items():\n",
    "    arg_list.append(f'--{arg}')\n",
    "    arg_list.append(f'{value}')"
   ]
  },
  {
   "cell_type": "code",
   "execution_count": 91,
   "metadata": {},
   "outputs": [
    {
     "data": {
      "text/plain": [
       "['--batch_size',\n",
       " '32',\n",
       " '--batchnorm',\n",
       " 'False',\n",
       " '--dr_rate',\n",
       " '0.1',\n",
       " '--lr',\n",
       " '0.0001']"
      ]
     },
     "execution_count": 91,
     "metadata": {},
     "output_type": "execute_result"
    }
   ],
   "source": [
    "arg_list"
   ]
  },
  {
   "cell_type": "code",
   "execution_count": null,
   "metadata": {},
   "outputs": [],
   "source": []
  },
  {
   "cell_type": "code",
   "execution_count": 85,
   "metadata": {},
   "outputs": [
    {
     "name": "stdout",
     "output_type": "stream",
     "text": [
      "{'batch_size': 32, 'batchnorm': False, 'dr_rate': 0.1, 'lr': 0.001}\n",
      "{'batch_size': 32, 'batchnorm': False, 'dr_rate': 0.1, 'lr': 0.0001}\n",
      "{'batch_size': 32, 'batchnorm': False, 'dr_rate': 0.2, 'lr': 0.001}\n",
      "{'batch_size': 32, 'batchnorm': False, 'dr_rate': 0.2, 'lr': 0.0001}\n",
      "{'batch_size': 32, 'batchnorm': False, 'dr_rate': 0.3, 'lr': 0.001}\n",
      "{'batch_size': 32, 'batchnorm': False, 'dr_rate': 0.3, 'lr': 0.0001}\n",
      "{'batch_size': 32, 'batchnorm': False, 'dr_rate': 0.4, 'lr': 0.001}\n",
      "{'batch_size': 32, 'batchnorm': False, 'dr_rate': 0.4, 'lr': 0.0001}\n",
      "{'batch_size': 32, 'batchnorm': True, 'dr_rate': 0.1, 'lr': 0.001}\n",
      "{'batch_size': 32, 'batchnorm': True, 'dr_rate': 0.1, 'lr': 0.0001}\n",
      "{'batch_size': 32, 'batchnorm': True, 'dr_rate': 0.2, 'lr': 0.001}\n",
      "{'batch_size': 32, 'batchnorm': True, 'dr_rate': 0.2, 'lr': 0.0001}\n",
      "{'batch_size': 32, 'batchnorm': True, 'dr_rate': 0.3, 'lr': 0.001}\n",
      "{'batch_size': 32, 'batchnorm': True, 'dr_rate': 0.3, 'lr': 0.0001}\n",
      "{'batch_size': 32, 'batchnorm': True, 'dr_rate': 0.4, 'lr': 0.001}\n",
      "{'batch_size': 32, 'batchnorm': True, 'dr_rate': 0.4, 'lr': 0.0001}\n",
      "{'batch_size': 64, 'batchnorm': False, 'dr_rate': 0.1, 'lr': 0.001}\n",
      "{'batch_size': 64, 'batchnorm': False, 'dr_rate': 0.1, 'lr': 0.0001}\n",
      "{'batch_size': 64, 'batchnorm': False, 'dr_rate': 0.2, 'lr': 0.001}\n",
      "{'batch_size': 64, 'batchnorm': False, 'dr_rate': 0.2, 'lr': 0.0001}\n",
      "{'batch_size': 64, 'batchnorm': False, 'dr_rate': 0.3, 'lr': 0.001}\n",
      "{'batch_size': 64, 'batchnorm': False, 'dr_rate': 0.3, 'lr': 0.0001}\n",
      "{'batch_size': 64, 'batchnorm': False, 'dr_rate': 0.4, 'lr': 0.001}\n",
      "{'batch_size': 64, 'batchnorm': False, 'dr_rate': 0.4, 'lr': 0.0001}\n",
      "{'batch_size': 64, 'batchnorm': True, 'dr_rate': 0.1, 'lr': 0.001}\n",
      "{'batch_size': 64, 'batchnorm': True, 'dr_rate': 0.1, 'lr': 0.0001}\n",
      "{'batch_size': 64, 'batchnorm': True, 'dr_rate': 0.2, 'lr': 0.001}\n",
      "{'batch_size': 64, 'batchnorm': True, 'dr_rate': 0.2, 'lr': 0.0001}\n",
      "{'batch_size': 64, 'batchnorm': True, 'dr_rate': 0.3, 'lr': 0.001}\n",
      "{'batch_size': 64, 'batchnorm': True, 'dr_rate': 0.3, 'lr': 0.0001}\n",
      "{'batch_size': 64, 'batchnorm': True, 'dr_rate': 0.4, 'lr': 0.001}\n",
      "{'batch_size': 64, 'batchnorm': True, 'dr_rate': 0.4, 'lr': 0.0001}\n",
      "{'batch_size': 128, 'batchnorm': False, 'dr_rate': 0.1, 'lr': 0.001}\n",
      "{'batch_size': 128, 'batchnorm': False, 'dr_rate': 0.1, 'lr': 0.0001}\n",
      "{'batch_size': 128, 'batchnorm': False, 'dr_rate': 0.2, 'lr': 0.001}\n",
      "{'batch_size': 128, 'batchnorm': False, 'dr_rate': 0.2, 'lr': 0.0001}\n",
      "{'batch_size': 128, 'batchnorm': False, 'dr_rate': 0.3, 'lr': 0.001}\n",
      "{'batch_size': 128, 'batchnorm': False, 'dr_rate': 0.3, 'lr': 0.0001}\n",
      "{'batch_size': 128, 'batchnorm': False, 'dr_rate': 0.4, 'lr': 0.001}\n",
      "{'batch_size': 128, 'batchnorm': False, 'dr_rate': 0.4, 'lr': 0.0001}\n",
      "{'batch_size': 128, 'batchnorm': True, 'dr_rate': 0.1, 'lr': 0.001}\n",
      "{'batch_size': 128, 'batchnorm': True, 'dr_rate': 0.1, 'lr': 0.0001}\n",
      "{'batch_size': 128, 'batchnorm': True, 'dr_rate': 0.2, 'lr': 0.001}\n",
      "{'batch_size': 128, 'batchnorm': True, 'dr_rate': 0.2, 'lr': 0.0001}\n",
      "{'batch_size': 128, 'batchnorm': True, 'dr_rate': 0.3, 'lr': 0.001}\n",
      "{'batch_size': 128, 'batchnorm': True, 'dr_rate': 0.3, 'lr': 0.0001}\n",
      "{'batch_size': 128, 'batchnorm': True, 'dr_rate': 0.4, 'lr': 0.001}\n",
      "{'batch_size': 128, 'batchnorm': True, 'dr_rate': 0.4, 'lr': 0.0001}\n"
     ]
    }
   ],
   "source": [
    "for hp_set in sets:\n",
    "    arg_list = []\n",
    "    for arg, value in sets[1].items():\n",
    "        arg_list.append(f'--{arg}')\n",
    "        arg_list.append(f'{value}')        "
   ]
  },
  {
   "cell_type": "code",
   "execution_count": 79,
   "metadata": {},
   "outputs": [
    {
     "data": {
      "text/plain": [
       "<sklearn.model_selection._search.ParameterGrid at 0x7fe7e6c7ed68>"
      ]
     },
     "execution_count": 79,
     "metadata": {},
     "output_type": "execute_result"
    }
   ],
   "source": [
    "sets"
   ]
  },
  {
   "cell_type": "code",
   "execution_count": 81,
   "metadata": {},
   "outputs": [
    {
     "data": {
      "text/plain": [
       "[{'batch_size': 32, 'batchnorm': False, 'dr_rate': 0.1, 'lr': 0.001},\n",
       " {'batch_size': 32, 'batchnorm': False, 'dr_rate': 0.1, 'lr': 0.0001},\n",
       " {'batch_size': 32, 'batchnorm': False, 'dr_rate': 0.2, 'lr': 0.001},\n",
       " {'batch_size': 32, 'batchnorm': False, 'dr_rate': 0.2, 'lr': 0.0001},\n",
       " {'batch_size': 32, 'batchnorm': False, 'dr_rate': 0.3, 'lr': 0.001},\n",
       " {'batch_size': 32, 'batchnorm': False, 'dr_rate': 0.3, 'lr': 0.0001},\n",
       " {'batch_size': 32, 'batchnorm': False, 'dr_rate': 0.4, 'lr': 0.001},\n",
       " {'batch_size': 32, 'batchnorm': False, 'dr_rate': 0.4, 'lr': 0.0001},\n",
       " {'batch_size': 32, 'batchnorm': True, 'dr_rate': 0.1, 'lr': 0.001},\n",
       " {'batch_size': 32, 'batchnorm': True, 'dr_rate': 0.1, 'lr': 0.0001},\n",
       " {'batch_size': 32, 'batchnorm': True, 'dr_rate': 0.2, 'lr': 0.001},\n",
       " {'batch_size': 32, 'batchnorm': True, 'dr_rate': 0.2, 'lr': 0.0001},\n",
       " {'batch_size': 32, 'batchnorm': True, 'dr_rate': 0.3, 'lr': 0.001},\n",
       " {'batch_size': 32, 'batchnorm': True, 'dr_rate': 0.3, 'lr': 0.0001},\n",
       " {'batch_size': 32, 'batchnorm': True, 'dr_rate': 0.4, 'lr': 0.001},\n",
       " {'batch_size': 32, 'batchnorm': True, 'dr_rate': 0.4, 'lr': 0.0001},\n",
       " {'batch_size': 64, 'batchnorm': False, 'dr_rate': 0.1, 'lr': 0.001},\n",
       " {'batch_size': 64, 'batchnorm': False, 'dr_rate': 0.1, 'lr': 0.0001},\n",
       " {'batch_size': 64, 'batchnorm': False, 'dr_rate': 0.2, 'lr': 0.001},\n",
       " {'batch_size': 64, 'batchnorm': False, 'dr_rate': 0.2, 'lr': 0.0001},\n",
       " {'batch_size': 64, 'batchnorm': False, 'dr_rate': 0.3, 'lr': 0.001},\n",
       " {'batch_size': 64, 'batchnorm': False, 'dr_rate': 0.3, 'lr': 0.0001},\n",
       " {'batch_size': 64, 'batchnorm': False, 'dr_rate': 0.4, 'lr': 0.001},\n",
       " {'batch_size': 64, 'batchnorm': False, 'dr_rate': 0.4, 'lr': 0.0001},\n",
       " {'batch_size': 64, 'batchnorm': True, 'dr_rate': 0.1, 'lr': 0.001},\n",
       " {'batch_size': 64, 'batchnorm': True, 'dr_rate': 0.1, 'lr': 0.0001},\n",
       " {'batch_size': 64, 'batchnorm': True, 'dr_rate': 0.2, 'lr': 0.001},\n",
       " {'batch_size': 64, 'batchnorm': True, 'dr_rate': 0.2, 'lr': 0.0001},\n",
       " {'batch_size': 64, 'batchnorm': True, 'dr_rate': 0.3, 'lr': 0.001},\n",
       " {'batch_size': 64, 'batchnorm': True, 'dr_rate': 0.3, 'lr': 0.0001},\n",
       " {'batch_size': 64, 'batchnorm': True, 'dr_rate': 0.4, 'lr': 0.001},\n",
       " {'batch_size': 64, 'batchnorm': True, 'dr_rate': 0.4, 'lr': 0.0001},\n",
       " {'batch_size': 128, 'batchnorm': False, 'dr_rate': 0.1, 'lr': 0.001},\n",
       " {'batch_size': 128, 'batchnorm': False, 'dr_rate': 0.1, 'lr': 0.0001},\n",
       " {'batch_size': 128, 'batchnorm': False, 'dr_rate': 0.2, 'lr': 0.001},\n",
       " {'batch_size': 128, 'batchnorm': False, 'dr_rate': 0.2, 'lr': 0.0001},\n",
       " {'batch_size': 128, 'batchnorm': False, 'dr_rate': 0.3, 'lr': 0.001},\n",
       " {'batch_size': 128, 'batchnorm': False, 'dr_rate': 0.3, 'lr': 0.0001},\n",
       " {'batch_size': 128, 'batchnorm': False, 'dr_rate': 0.4, 'lr': 0.001},\n",
       " {'batch_size': 128, 'batchnorm': False, 'dr_rate': 0.4, 'lr': 0.0001},\n",
       " {'batch_size': 128, 'batchnorm': True, 'dr_rate': 0.1, 'lr': 0.001},\n",
       " {'batch_size': 128, 'batchnorm': True, 'dr_rate': 0.1, 'lr': 0.0001},\n",
       " {'batch_size': 128, 'batchnorm': True, 'dr_rate': 0.2, 'lr': 0.001},\n",
       " {'batch_size': 128, 'batchnorm': True, 'dr_rate': 0.2, 'lr': 0.0001},\n",
       " {'batch_size': 128, 'batchnorm': True, 'dr_rate': 0.3, 'lr': 0.001},\n",
       " {'batch_size': 128, 'batchnorm': True, 'dr_rate': 0.3, 'lr': 0.0001},\n",
       " {'batch_size': 128, 'batchnorm': True, 'dr_rate': 0.4, 'lr': 0.001},\n",
       " {'batch_size': 128, 'batchnorm': True, 'dr_rate': 0.4, 'lr': 0.0001}]"
      ]
     },
     "execution_count": 81,
     "metadata": {},
     "output_type": "execute_result"
    }
   ],
   "source": [
    "sets"
   ]
  },
  {
   "cell_type": "code",
   "execution_count": null,
   "metadata": {},
   "outputs": [],
   "source": []
  },
  {
   "cell_type": "code",
   "execution_count": 51,
   "metadata": {},
   "outputs": [],
   "source": [
    "# df = pd.read_csv('/vol/ml/apartin/projects/LearningCurves/trn.top6/split_on_cell/top6.lgb_reg.ge.dd.auc_2019-12-3_h19-m30/lrn_crv_scores.csv')\n",
    "\n",
    "# x, y = pp_utils.get_xy(path='/vol/ml/apartin/projects/LearningCurves/trn.top6/split_on_cell/top6.lgb_reg.ge.dd.auc_2019-12-3_h19-m30/lrn_crv_scores.csv')\n",
    "x, y = pp_utils.get_xy(df)"
   ]
  },
  {
   "cell_type": "code",
   "execution_count": 66,
   "metadata": {},
   "outputs": [
    {
     "data": {
      "text/plain": [
       "(<matplotlib.axes._subplots.AxesSubplot at 0x7f9367967ef0>,\n",
       " {'alpha': 0.47692149055689514,\n",
       "  'beta': -0.38921419192615353,\n",
       "  'gamma': 0.051767191229699756},\n",
       " {'rmse': 0.0007633221154049152, 'mae': 0.0005062630105719133})"
      ]
     },
     "execution_count": 66,
     "metadata": {},
     "output_type": "execute_result"
    },
    {
     "data": {
      "image/png": "[encoded data removed]",
      "text/plain": [
       "<Figure size 504x360 with 1 Axes>"
      ]
     },
     "metadata": {
      "needs_background": "light"
     },
     "output_type": "display_data"
    }
   ],
   "source": [
    "lrn_crv_plot.plot_lrn_crv_power_law(x[4:], y[4:], xtick_scale='linear', ytick_scale='linear')"
   ]
  },
  {
   "cell_type": "code",
   "execution_count": 68,
   "metadata": {},
   "outputs": [],
   "source": [
    "lrn_crv_plot.lrn_crv_power_law_extrapolate(x[4:], y[4:], n_pnts_ext=18, xtick_scale='linear', ytick_scale='linear')"
   ]
  },
  {
   "cell_type": "code",
   "execution_count": 52,
   "metadata": {},
   "outputs": [
    {
     "data": {
      "text/plain": [
       "array([  500,  1483,  2466,  3450,  4433,  5416,  6400,  7383,  8366,\n",
       "        9350, 10333, 11316, 12300, 13283, 14266, 15250, 16233, 17216,\n",
       "       18200, 19183, 20166, 21150, 22133, 23116, 24100, 25083, 26066,\n",
       "       27050, 28033, 29016, 30000])"
      ]
     },
     "execution_count": 52,
     "metadata": {},
     "output_type": "execute_result"
    }
   ],
   "source": [
    "x"
   ]
  },
  {
   "cell_type": "code",
   "execution_count": 48,
   "metadata": {},
   "outputs": [
    {
     "data": {
      "text/html": [
       "<div>\n",
       "<style scoped>\n",
       "    .dataframe tbody tr th:only-of-type {\n",
       "        vertical-align: middle;\n",
       "    }\n",
       "\n",
       "    .dataframe tbody tr th {\n",
       "        vertical-align: top;\n",
       "    }\n",
       "\n",
       "    .dataframe thead th {\n",
       "        text-align: right;\n",
       "    }\n",
       "</style>\n",
       "<table border=\"1\" class=\"dataframe\">\n",
       "  <thead>\n",
       "    <tr style=\"text-align: right;\">\n",
       "      <th></th>\n",
       "      <th>metric</th>\n",
       "      <th>tr_size</th>\n",
       "      <th>set</th>\n",
       "      <th>fold0</th>\n",
       "    </tr>\n",
       "  </thead>\n",
       "  <tbody>\n",
       "    <tr>\n",
       "      <th>0</th>\n",
       "      <td>mean_absolute_error</td>\n",
       "      <td>500</td>\n",
       "      <td>tr</td>\n",
       "      <td>0.019850</td>\n",
       "    </tr>\n",
       "    <tr>\n",
       "      <th>1</th>\n",
       "      <td>mean_absolute_error</td>\n",
       "      <td>1483</td>\n",
       "      <td>tr</td>\n",
       "      <td>0.024511</td>\n",
       "    </tr>\n",
       "    <tr>\n",
       "      <th>2</th>\n",
       "      <td>mean_absolute_error</td>\n",
       "      <td>2466</td>\n",
       "      <td>tr</td>\n",
       "      <td>0.029370</td>\n",
       "    </tr>\n",
       "    <tr>\n",
       "      <th>3</th>\n",
       "      <td>mean_absolute_error</td>\n",
       "      <td>3450</td>\n",
       "      <td>tr</td>\n",
       "      <td>0.032100</td>\n",
       "    </tr>\n",
       "    <tr>\n",
       "      <th>4</th>\n",
       "      <td>mean_absolute_error</td>\n",
       "      <td>4433</td>\n",
       "      <td>tr</td>\n",
       "      <td>0.036693</td>\n",
       "    </tr>\n",
       "    <tr>\n",
       "      <th>5</th>\n",
       "      <td>mean_absolute_error</td>\n",
       "      <td>5416</td>\n",
       "      <td>tr</td>\n",
       "      <td>0.043911</td>\n",
       "    </tr>\n",
       "    <tr>\n",
       "      <th>6</th>\n",
       "      <td>mean_absolute_error</td>\n",
       "      <td>6400</td>\n",
       "      <td>tr</td>\n",
       "      <td>0.042493</td>\n",
       "    </tr>\n",
       "    <tr>\n",
       "      <th>7</th>\n",
       "      <td>mean_absolute_error</td>\n",
       "      <td>7383</td>\n",
       "      <td>tr</td>\n",
       "      <td>0.045282</td>\n",
       "    </tr>\n",
       "    <tr>\n",
       "      <th>8</th>\n",
       "      <td>mean_absolute_error</td>\n",
       "      <td>8366</td>\n",
       "      <td>tr</td>\n",
       "      <td>0.041547</td>\n",
       "    </tr>\n",
       "    <tr>\n",
       "      <th>9</th>\n",
       "      <td>mean_absolute_error</td>\n",
       "      <td>9350</td>\n",
       "      <td>tr</td>\n",
       "      <td>0.043729</td>\n",
       "    </tr>\n",
       "    <tr>\n",
       "      <th>10</th>\n",
       "      <td>mean_absolute_error</td>\n",
       "      <td>10333</td>\n",
       "      <td>tr</td>\n",
       "      <td>0.044869</td>\n",
       "    </tr>\n",
       "    <tr>\n",
       "      <th>11</th>\n",
       "      <td>mean_absolute_error</td>\n",
       "      <td>11316</td>\n",
       "      <td>tr</td>\n",
       "      <td>0.044811</td>\n",
       "    </tr>\n",
       "    <tr>\n",
       "      <th>12</th>\n",
       "      <td>mean_absolute_error</td>\n",
       "      <td>12300</td>\n",
       "      <td>tr</td>\n",
       "      <td>0.047348</td>\n",
       "    </tr>\n",
       "    <tr>\n",
       "      <th>13</th>\n",
       "      <td>mean_absolute_error</td>\n",
       "      <td>13283</td>\n",
       "      <td>tr</td>\n",
       "      <td>0.046361</td>\n",
       "    </tr>\n",
       "    <tr>\n",
       "      <th>14</th>\n",
       "      <td>mean_absolute_error</td>\n",
       "      <td>14266</td>\n",
       "      <td>tr</td>\n",
       "      <td>0.046440</td>\n",
       "    </tr>\n",
       "    <tr>\n",
       "      <th>15</th>\n",
       "      <td>mean_absolute_error</td>\n",
       "      <td>15250</td>\n",
       "      <td>tr</td>\n",
       "      <td>0.049307</td>\n",
       "    </tr>\n",
       "    <tr>\n",
       "      <th>16</th>\n",
       "      <td>mean_absolute_error</td>\n",
       "      <td>16233</td>\n",
       "      <td>tr</td>\n",
       "      <td>0.047331</td>\n",
       "    </tr>\n",
       "    <tr>\n",
       "      <th>17</th>\n",
       "      <td>mean_absolute_error</td>\n",
       "      <td>17216</td>\n",
       "      <td>tr</td>\n",
       "      <td>0.049479</td>\n",
       "    </tr>\n",
       "    <tr>\n",
       "      <th>18</th>\n",
       "      <td>mean_absolute_error</td>\n",
       "      <td>18200</td>\n",
       "      <td>tr</td>\n",
       "      <td>0.048054</td>\n",
       "    </tr>\n",
       "    <tr>\n",
       "      <th>19</th>\n",
       "      <td>mean_absolute_error</td>\n",
       "      <td>19183</td>\n",
       "      <td>tr</td>\n",
       "      <td>0.049043</td>\n",
       "    </tr>\n",
       "    <tr>\n",
       "      <th>20</th>\n",
       "      <td>mean_absolute_error</td>\n",
       "      <td>20166</td>\n",
       "      <td>tr</td>\n",
       "      <td>0.048400</td>\n",
       "    </tr>\n",
       "    <tr>\n",
       "      <th>21</th>\n",
       "      <td>mean_absolute_error</td>\n",
       "      <td>21150</td>\n",
       "      <td>tr</td>\n",
       "      <td>0.048732</td>\n",
       "    </tr>\n",
       "    <tr>\n",
       "      <th>22</th>\n",
       "      <td>mean_absolute_error</td>\n",
       "      <td>22133</td>\n",
       "      <td>tr</td>\n",
       "      <td>0.049158</td>\n",
       "    </tr>\n",
       "    <tr>\n",
       "      <th>23</th>\n",
       "      <td>mean_absolute_error</td>\n",
       "      <td>23116</td>\n",
       "      <td>tr</td>\n",
       "      <td>0.049244</td>\n",
       "    </tr>\n",
       "    <tr>\n",
       "      <th>24</th>\n",
       "      <td>mean_absolute_error</td>\n",
       "      <td>24100</td>\n",
       "      <td>tr</td>\n",
       "      <td>0.049061</td>\n",
       "    </tr>\n",
       "    <tr>\n",
       "      <th>25</th>\n",
       "      <td>mean_absolute_error</td>\n",
       "      <td>25083</td>\n",
       "      <td>tr</td>\n",
       "      <td>0.049582</td>\n",
       "    </tr>\n",
       "    <tr>\n",
       "      <th>26</th>\n",
       "      <td>mean_absolute_error</td>\n",
       "      <td>26066</td>\n",
       "      <td>tr</td>\n",
       "      <td>0.049512</td>\n",
       "    </tr>\n",
       "    <tr>\n",
       "      <th>27</th>\n",
       "      <td>mean_absolute_error</td>\n",
       "      <td>27050</td>\n",
       "      <td>tr</td>\n",
       "      <td>0.049981</td>\n",
       "    </tr>\n",
       "    <tr>\n",
       "      <th>28</th>\n",
       "      <td>mean_absolute_error</td>\n",
       "      <td>28033</td>\n",
       "      <td>tr</td>\n",
       "      <td>0.049800</td>\n",
       "    </tr>\n",
       "    <tr>\n",
       "      <th>29</th>\n",
       "      <td>mean_absolute_error</td>\n",
       "      <td>29016</td>\n",
       "      <td>tr</td>\n",
       "      <td>0.049918</td>\n",
       "    </tr>\n",
       "    <tr>\n",
       "      <th>...</th>\n",
       "      <td>...</td>\n",
       "      <td>...</td>\n",
       "      <td>...</td>\n",
       "      <td>...</td>\n",
       "    </tr>\n",
       "    <tr>\n",
       "      <th>621</th>\n",
       "      <td>y_avg_true</td>\n",
       "      <td>1483</td>\n",
       "      <td>te</td>\n",
       "      <td>0.853346</td>\n",
       "    </tr>\n",
       "    <tr>\n",
       "      <th>622</th>\n",
       "      <td>y_avg_true</td>\n",
       "      <td>2466</td>\n",
       "      <td>te</td>\n",
       "      <td>0.853346</td>\n",
       "    </tr>\n",
       "    <tr>\n",
       "      <th>623</th>\n",
       "      <td>y_avg_true</td>\n",
       "      <td>3450</td>\n",
       "      <td>te</td>\n",
       "      <td>0.853346</td>\n",
       "    </tr>\n",
       "    <tr>\n",
       "      <th>624</th>\n",
       "      <td>y_avg_true</td>\n",
       "      <td>4433</td>\n",
       "      <td>te</td>\n",
       "      <td>0.853346</td>\n",
       "    </tr>\n",
       "    <tr>\n",
       "      <th>625</th>\n",
       "      <td>y_avg_true</td>\n",
       "      <td>5416</td>\n",
       "      <td>te</td>\n",
       "      <td>0.853346</td>\n",
       "    </tr>\n",
       "    <tr>\n",
       "      <th>626</th>\n",
       "      <td>y_avg_true</td>\n",
       "      <td>6400</td>\n",
       "      <td>te</td>\n",
       "      <td>0.853346</td>\n",
       "    </tr>\n",
       "    <tr>\n",
       "      <th>627</th>\n",
       "      <td>y_avg_true</td>\n",
       "      <td>7383</td>\n",
       "      <td>te</td>\n",
       "      <td>0.853346</td>\n",
       "    </tr>\n",
       "    <tr>\n",
       "      <th>628</th>\n",
       "      <td>y_avg_true</td>\n",
       "      <td>8366</td>\n",
       "      <td>te</td>\n",
       "      <td>0.853346</td>\n",
       "    </tr>\n",
       "    <tr>\n",
       "      <th>629</th>\n",
       "      <td>y_avg_true</td>\n",
       "      <td>9350</td>\n",
       "      <td>te</td>\n",
       "      <td>0.853346</td>\n",
       "    </tr>\n",
       "    <tr>\n",
       "      <th>630</th>\n",
       "      <td>y_avg_true</td>\n",
       "      <td>10333</td>\n",
       "      <td>te</td>\n",
       "      <td>0.853346</td>\n",
       "    </tr>\n",
       "    <tr>\n",
       "      <th>631</th>\n",
       "      <td>y_avg_true</td>\n",
       "      <td>11316</td>\n",
       "      <td>te</td>\n",
       "      <td>0.853346</td>\n",
       "    </tr>\n",
       "    <tr>\n",
       "      <th>632</th>\n",
       "      <td>y_avg_true</td>\n",
       "      <td>12300</td>\n",
       "      <td>te</td>\n",
       "      <td>0.853346</td>\n",
       "    </tr>\n",
       "    <tr>\n",
       "      <th>633</th>\n",
       "      <td>y_avg_true</td>\n",
       "      <td>13283</td>\n",
       "      <td>te</td>\n",
       "      <td>0.853346</td>\n",
       "    </tr>\n",
       "    <tr>\n",
       "      <th>634</th>\n",
       "      <td>y_avg_true</td>\n",
       "      <td>14266</td>\n",
       "      <td>te</td>\n",
       "      <td>0.853346</td>\n",
       "    </tr>\n",
       "    <tr>\n",
       "      <th>635</th>\n",
       "      <td>y_avg_true</td>\n",
       "      <td>15250</td>\n",
       "      <td>te</td>\n",
       "      <td>0.853346</td>\n",
       "    </tr>\n",
       "    <tr>\n",
       "      <th>636</th>\n",
       "      <td>y_avg_true</td>\n",
       "      <td>16233</td>\n",
       "      <td>te</td>\n",
       "      <td>0.853346</td>\n",
       "    </tr>\n",
       "    <tr>\n",
       "      <th>637</th>\n",
       "      <td>y_avg_true</td>\n",
       "      <td>17216</td>\n",
       "      <td>te</td>\n",
       "      <td>0.853346</td>\n",
       "    </tr>\n",
       "    <tr>\n",
       "      <th>638</th>\n",
       "      <td>y_avg_true</td>\n",
       "      <td>18200</td>\n",
       "      <td>te</td>\n",
       "      <td>0.853346</td>\n",
       "    </tr>\n",
       "    <tr>\n",
       "      <th>639</th>\n",
       "      <td>y_avg_true</td>\n",
       "      <td>19183</td>\n",
       "      <td>te</td>\n",
       "      <td>0.853346</td>\n",
       "    </tr>\n",
       "    <tr>\n",
       "      <th>640</th>\n",
       "      <td>y_avg_true</td>\n",
       "      <td>20166</td>\n",
       "      <td>te</td>\n",
       "      <td>0.853346</td>\n",
       "    </tr>\n",
       "    <tr>\n",
       "      <th>641</th>\n",
       "      <td>y_avg_true</td>\n",
       "      <td>21150</td>\n",
       "      <td>te</td>\n",
       "      <td>0.853346</td>\n",
       "    </tr>\n",
       "    <tr>\n",
       "      <th>642</th>\n",
       "      <td>y_avg_true</td>\n",
       "      <td>22133</td>\n",
       "      <td>te</td>\n",
       "      <td>0.853346</td>\n",
       "    </tr>\n",
       "    <tr>\n",
       "      <th>643</th>\n",
       "      <td>y_avg_true</td>\n",
       "      <td>23116</td>\n",
       "      <td>te</td>\n",
       "      <td>0.853346</td>\n",
       "    </tr>\n",
       "    <tr>\n",
       "      <th>644</th>\n",
       "      <td>y_avg_true</td>\n",
       "      <td>24100</td>\n",
       "      <td>te</td>\n",
       "      <td>0.853346</td>\n",
       "    </tr>\n",
       "    <tr>\n",
       "      <th>645</th>\n",
       "      <td>y_avg_true</td>\n",
       "      <td>25083</td>\n",
       "      <td>te</td>\n",
       "      <td>0.853346</td>\n",
       "    </tr>\n",
       "    <tr>\n",
       "      <th>646</th>\n",
       "      <td>y_avg_true</td>\n",
       "      <td>26066</td>\n",
       "      <td>te</td>\n",
       "      <td>0.853346</td>\n",
       "    </tr>\n",
       "    <tr>\n",
       "      <th>647</th>\n",
       "      <td>y_avg_true</td>\n",
       "      <td>27050</td>\n",
       "      <td>te</td>\n",
       "      <td>0.853346</td>\n",
       "    </tr>\n",
       "    <tr>\n",
       "      <th>648</th>\n",
       "      <td>y_avg_true</td>\n",
       "      <td>28033</td>\n",
       "      <td>te</td>\n",
       "      <td>0.853346</td>\n",
       "    </tr>\n",
       "    <tr>\n",
       "      <th>649</th>\n",
       "      <td>y_avg_true</td>\n",
       "      <td>29016</td>\n",
       "      <td>te</td>\n",
       "      <td>0.853346</td>\n",
       "    </tr>\n",
       "    <tr>\n",
       "      <th>650</th>\n",
       "      <td>y_avg_true</td>\n",
       "      <td>30000</td>\n",
       "      <td>te</td>\n",
       "      <td>0.853346</td>\n",
       "    </tr>\n",
       "  </tbody>\n",
       "</table>\n",
       "<p>651 rows × 4 columns</p>\n",
       "</div>"
      ],
      "text/plain": [
       "                  metric  tr_size set     fold0\n",
       "0    mean_absolute_error      500  tr  0.019850\n",
       "1    mean_absolute_error     1483  tr  0.024511\n",
       "2    mean_absolute_error     2466  tr  0.029370\n",
       "3    mean_absolute_error     3450  tr  0.032100\n",
       "4    mean_absolute_error     4433  tr  0.036693\n",
       "5    mean_absolute_error     5416  tr  0.043911\n",
       "6    mean_absolute_error     6400  tr  0.042493\n",
       "7    mean_absolute_error     7383  tr  0.045282\n",
       "8    mean_absolute_error     8366  tr  0.041547\n",
       "9    mean_absolute_error     9350  tr  0.043729\n",
       "10   mean_absolute_error    10333  tr  0.044869\n",
       "11   mean_absolute_error    11316  tr  0.044811\n",
       "12   mean_absolute_error    12300  tr  0.047348\n",
       "13   mean_absolute_error    13283  tr  0.046361\n",
       "14   mean_absolute_error    14266  tr  0.046440\n",
       "15   mean_absolute_error    15250  tr  0.049307\n",
       "16   mean_absolute_error    16233  tr  0.047331\n",
       "17   mean_absolute_error    17216  tr  0.049479\n",
       "18   mean_absolute_error    18200  tr  0.048054\n",
       "19   mean_absolute_error    19183  tr  0.049043\n",
       "20   mean_absolute_error    20166  tr  0.048400\n",
       "21   mean_absolute_error    21150  tr  0.048732\n",
       "22   mean_absolute_error    22133  tr  0.049158\n",
       "23   mean_absolute_error    23116  tr  0.049244\n",
       "24   mean_absolute_error    24100  tr  0.049061\n",
       "25   mean_absolute_error    25083  tr  0.049582\n",
       "26   mean_absolute_error    26066  tr  0.049512\n",
       "27   mean_absolute_error    27050  tr  0.049981\n",
       "28   mean_absolute_error    28033  tr  0.049800\n",
       "29   mean_absolute_error    29016  tr  0.049918\n",
       "..                   ...      ...  ..       ...\n",
       "621           y_avg_true     1483  te  0.853346\n",
       "622           y_avg_true     2466  te  0.853346\n",
       "623           y_avg_true     3450  te  0.853346\n",
       "624           y_avg_true     4433  te  0.853346\n",
       "625           y_avg_true     5416  te  0.853346\n",
       "626           y_avg_true     6400  te  0.853346\n",
       "627           y_avg_true     7383  te  0.853346\n",
       "628           y_avg_true     8366  te  0.853346\n",
       "629           y_avg_true     9350  te  0.853346\n",
       "630           y_avg_true    10333  te  0.853346\n",
       "631           y_avg_true    11316  te  0.853346\n",
       "632           y_avg_true    12300  te  0.853346\n",
       "633           y_avg_true    13283  te  0.853346\n",
       "634           y_avg_true    14266  te  0.853346\n",
       "635           y_avg_true    15250  te  0.853346\n",
       "636           y_avg_true    16233  te  0.853346\n",
       "637           y_avg_true    17216  te  0.853346\n",
       "638           y_avg_true    18200  te  0.853346\n",
       "639           y_avg_true    19183  te  0.853346\n",
       "640           y_avg_true    20166  te  0.853346\n",
       "641           y_avg_true    21150  te  0.853346\n",
       "642           y_avg_true    22133  te  0.853346\n",
       "643           y_avg_true    23116  te  0.853346\n",
       "644           y_avg_true    24100  te  0.853346\n",
       "645           y_avg_true    25083  te  0.853346\n",
       "646           y_avg_true    26066  te  0.853346\n",
       "647           y_avg_true    27050  te  0.853346\n",
       "648           y_avg_true    28033  te  0.853346\n",
       "649           y_avg_true    29016  te  0.853346\n",
       "650           y_avg_true    30000  te  0.853346\n",
       "\n",
       "[651 rows x 4 columns]"
      ]
     },
     "execution_count": 48,
     "metadata": {},
     "output_type": "execute_result"
    }
   ],
   "source": [
    "df.metric=='mean_'"
   ]
  },
  {
   "cell_type": "code",
   "execution_count": null,
   "metadata": {},
   "outputs": [],
   "source": []
  },
  {
   "cell_type": "code",
   "execution_count": null,
   "metadata": {},
   "outputs": [],
   "source": []
  },
  {
   "cell_type": "markdown",
   "metadata": {},
   "source": [
    "# Weighted non-linear curve fitting (power-law)"
   ]
  },
  {
   "cell_type": "code",
   "execution_count": 6,
   "metadata": {},
   "outputs": [],
   "source": [
    "import pandas as pd\n",
    "from scipy.optimize import curve_fit\n",
    "# from lmfit import Model\n",
    "from scipy.optimize import leastsq\n",
    "\n",
    "import matplotlib\n",
    "import numpy as np\n",
    "import matplotlib.pyplot as plt"
   ]
  },
  {
   "cell_type": "code",
   "execution_count": null,
   "metadata": {},
   "outputs": [],
   "source": [
    "maindir = filepath / '../gdsc_trn/split_on_none'  # Results dir\n",
    "# maindir = filepath / '../ctrp_trn/split_on_none'  # Results dir\n",
    "# maindir = filepath / '../top6_trn/split_on_none'  # Results dir"
   ]
  },
  {
   "cell_type": "code",
   "execution_count": null,
   "metadata": {},
   "outputs": [],
   "source": [
    "lgb_reg_dir = maindir / 'gdsc.lgb_reg.cvf1.GE.DD.AUC_2019-11-4_h10-m20'\n",
    "rf_reg_dir  = maindir / 'gdsc.rf_reg.cvf1.GE.DD.AUC_2019-11-4_h10-m48'\n",
    "nn_reg_dir  = maindir / 'gdsc.adam.nn_reg0.cvf1.GE.DD.AUC_2019-11-3_h14-m30'\n",
    "# nn_reg_auc_clr_dir = maindir / 'gdsc.sgd.trng1.nn_reg0.cvf1.GE.DD.AUC_2019-11-5_h15-m55'"
   ]
  },
  {
   "cell_type": "code",
   "execution_count": null,
   "metadata": {},
   "outputs": [],
   "source": [
    "rt = pd.read_csv(Path('../top6_trn/top6.lgb_reg.cvf1.GE.DD.AUC_2019-9-22_h21-m18/runtime.csv'))\n",
    "rt.head()"
   ]
  },
  {
   "cell_type": "code",
   "execution_count": null,
   "metadata": {},
   "outputs": [],
   "source": []
  },
  {
   "cell_type": "code",
   "execution_count": null,
   "metadata": {},
   "outputs": [],
   "source": []
  },
  {
   "cell_type": "markdown",
   "metadata": {},
   "source": [
    "## insert shards into master table"
   ]
  },
  {
   "cell_type": "code",
   "execution_count": 56,
   "metadata": {},
   "outputs": [],
   "source": [
    "import lrn_crv_plot\n",
    "import pp_utils"
   ]
  },
  {
   "cell_type": "code",
   "execution_count": 57,
   "metadata": {},
   "outputs": [],
   "source": [
    "p1 = Path('/vol/ml/apartin/projects/LearningCurves/trn.gdsc/split_on_none/gdsc.adam.nn_reg0.ge.dd.auc_2019-11-20_LS_best')\n",
    "df1 = pd.read_csv(p1/'lrn_crv_scores.csv')\n",
    "\n",
    "p2 = Path('/vol/ml/apartin/projects/LearningCurves/trn.gdsc/split_on_none/gdsc.adam.nn_reg0.cvf1.ge.dd.auc_2019-11-25_tr_sz_8192')\n",
    "df2 = pd.read_csv(p2/'lrn_crv_scores.csv')"
   ]
  },
  {
   "cell_type": "code",
   "execution_count": 58,
   "metadata": {},
   "outputs": [],
   "source": [
    "tr_sz = df2['tr_size'].unique()[0]\n",
    "df1 = df1[ df1['tr_size']!=tr_sz ]\n",
    "df = pd.concat([df2, df1], axis=0).sort_values('tr_size').reset_index(drop=True)"
   ]
  },
  {
   "cell_type": "code",
   "execution_count": 61,
   "metadata": {},
   "outputs": [],
   "source": [
    "fname = os.getcwd()"
   ]
  },
  {
   "cell_type": "code",
   "execution_count": 63,
   "metadata": {},
   "outputs": [],
   "source": [
    "df.to_csv(Path(fname)/'../trn.gdsc/split_on_none/nn_reg0_ls_best/lrn_crv_scores.csv')"
   ]
  },
  {
   "cell_type": "code",
   "execution_count": 55,
   "metadata": {},
   "outputs": [
    {
     "data": {
      "image/png": "[encoded data removed]",
      "text/plain": [
       "<Figure size 504x360 with 1 Axes>"
      ]
     },
     "metadata": {
      "needs_background": "light"
     },
     "output_type": "display_data"
    }
   ],
   "source": [
    "shard_min_idx = 1\n",
    "x, y = pp_utils.get_xy(scores=df, metric_name='mean_absolute_error', tr_set='te', shard_min_idx=1, cv_folds=1)\n",
    "lrn_crv_plot.plot_lrn_crv_power_law( x=x, y=y, title='data',  plot_fit=True);"
   ]
  },
  {
   "cell_type": "code",
   "execution_count": 34,
   "metadata": {},
   "outputs": [
    {
     "data": {
      "text/html": [
       "<div>\n",
       "<style scoped>\n",
       "    .dataframe tbody tr th:only-of-type {\n",
       "        vertical-align: middle;\n",
       "    }\n",
       "\n",
       "    .dataframe tbody tr th {\n",
       "        vertical-align: top;\n",
       "    }\n",
       "\n",
       "    .dataframe thead th {\n",
       "        text-align: right;\n",
       "    }\n",
       "</style>\n",
       "<table border=\"1\" class=\"dataframe\">\n",
       "  <thead>\n",
       "    <tr style=\"text-align: right;\">\n",
       "      <th></th>\n",
       "      <th>metric</th>\n",
       "      <th>tr_size</th>\n",
       "      <th>set</th>\n",
       "      <th>fold0</th>\n",
       "    </tr>\n",
       "  </thead>\n",
       "  <tbody>\n",
       "    <tr>\n",
       "      <th>154</th>\n",
       "      <td>mean_absolute_error</td>\n",
       "      <td>128</td>\n",
       "      <td>te</td>\n",
       "      <td>0.466995</td>\n",
       "    </tr>\n",
       "    <tr>\n",
       "      <th>155</th>\n",
       "      <td>mean_absolute_error</td>\n",
       "      <td>256</td>\n",
       "      <td>te</td>\n",
       "      <td>0.170754</td>\n",
       "    </tr>\n",
       "    <tr>\n",
       "      <th>156</th>\n",
       "      <td>mean_absolute_error</td>\n",
       "      <td>512</td>\n",
       "      <td>te</td>\n",
       "      <td>0.146990</td>\n",
       "    </tr>\n",
       "    <tr>\n",
       "      <th>157</th>\n",
       "      <td>mean_absolute_error</td>\n",
       "      <td>1024</td>\n",
       "      <td>te</td>\n",
       "      <td>0.108193</td>\n",
       "    </tr>\n",
       "    <tr>\n",
       "      <th>158</th>\n",
       "      <td>mean_absolute_error</td>\n",
       "      <td>2048</td>\n",
       "      <td>te</td>\n",
       "      <td>0.093318</td>\n",
       "    </tr>\n",
       "    <tr>\n",
       "      <th>159</th>\n",
       "      <td>mean_absolute_error</td>\n",
       "      <td>4096</td>\n",
       "      <td>te</td>\n",
       "      <td>0.080185</td>\n",
       "    </tr>\n",
       "    <tr>\n",
       "      <th>14</th>\n",
       "      <td>mean_absolute_error</td>\n",
       "      <td>8192</td>\n",
       "      <td>te</td>\n",
       "      <td>0.077911</td>\n",
       "    </tr>\n",
       "    <tr>\n",
       "      <th>160</th>\n",
       "      <td>mean_absolute_error</td>\n",
       "      <td>8192</td>\n",
       "      <td>te</td>\n",
       "      <td>0.080440</td>\n",
       "    </tr>\n",
       "    <tr>\n",
       "      <th>161</th>\n",
       "      <td>mean_absolute_error</td>\n",
       "      <td>16384</td>\n",
       "      <td>te</td>\n",
       "      <td>0.071888</td>\n",
       "    </tr>\n",
       "    <tr>\n",
       "      <th>162</th>\n",
       "      <td>mean_absolute_error</td>\n",
       "      <td>32768</td>\n",
       "      <td>te</td>\n",
       "      <td>0.069285</td>\n",
       "    </tr>\n",
       "    <tr>\n",
       "      <th>163</th>\n",
       "      <td>mean_absolute_error</td>\n",
       "      <td>65536</td>\n",
       "      <td>te</td>\n",
       "      <td>0.064477</td>\n",
       "    </tr>\n",
       "    <tr>\n",
       "      <th>164</th>\n",
       "      <td>mean_absolute_error</td>\n",
       "      <td>88416</td>\n",
       "      <td>te</td>\n",
       "      <td>0.062981</td>\n",
       "    </tr>\n",
       "  </tbody>\n",
       "</table>\n",
       "</div>"
      ],
      "text/plain": [
       "                  metric  tr_size set     fold0\n",
       "154  mean_absolute_error      128  te  0.466995\n",
       "155  mean_absolute_error      256  te  0.170754\n",
       "156  mean_absolute_error      512  te  0.146990\n",
       "157  mean_absolute_error     1024  te  0.108193\n",
       "158  mean_absolute_error     2048  te  0.093318\n",
       "159  mean_absolute_error     4096  te  0.080185\n",
       "14   mean_absolute_error     8192  te  0.077911\n",
       "160  mean_absolute_error     8192  te  0.080440\n",
       "161  mean_absolute_error    16384  te  0.071888\n",
       "162  mean_absolute_error    32768  te  0.069285\n",
       "163  mean_absolute_error    65536  te  0.064477\n",
       "164  mean_absolute_error    88416  te  0.062981"
      ]
     },
     "execution_count": 34,
     "metadata": {},
     "output_type": "execute_result"
    }
   ],
   "source": [
    "dd"
   ]
  },
  {
   "cell_type": "code",
   "execution_count": 35,
   "metadata": {},
   "outputs": [
    {
     "data": {
      "image/png": "[encoded data removed]",
      "text/plain": [
       "<Figure size 504x360 with 1 Axes>"
      ]
     },
     "metadata": {
      "needs_background": "light"
     },
     "output_type": "display_data"
    }
   ],
   "source": [
    "lrn_crv_plot.plot_lrn_crv_power_law( x = dd['tr_size'], y = dd['fold0'], title='Largest-Subset HPO',  plot_fit=False);"
   ]
  },
  {
   "cell_type": "code",
   "execution_count": 29,
   "metadata": {},
   "outputs": [
    {
     "data": {
      "text/html": [
       "<div>\n",
       "<style scoped>\n",
       "    .dataframe tbody tr th:only-of-type {\n",
       "        vertical-align: middle;\n",
       "    }\n",
       "\n",
       "    .dataframe tbody tr th {\n",
       "        vertical-align: top;\n",
       "    }\n",
       "\n",
       "    .dataframe thead th {\n",
       "        text-align: right;\n",
       "    }\n",
       "</style>\n",
       "<table border=\"1\" class=\"dataframe\">\n",
       "  <thead>\n",
       "    <tr style=\"text-align: right;\">\n",
       "      <th></th>\n",
       "      <th>metric</th>\n",
       "      <th>tr_size</th>\n",
       "      <th>set</th>\n",
       "      <th>fold0</th>\n",
       "    </tr>\n",
       "  </thead>\n",
       "  <tbody>\n",
       "    <tr>\n",
       "      <th>14</th>\n",
       "      <td>mean_absolute_error</td>\n",
       "      <td>8192</td>\n",
       "      <td>te</td>\n",
       "      <td>0.077911</td>\n",
       "    </tr>\n",
       "    <tr>\n",
       "      <th>154</th>\n",
       "      <td>mean_absolute_error</td>\n",
       "      <td>128</td>\n",
       "      <td>te</td>\n",
       "      <td>0.466995</td>\n",
       "    </tr>\n",
       "    <tr>\n",
       "      <th>155</th>\n",
       "      <td>mean_absolute_error</td>\n",
       "      <td>256</td>\n",
       "      <td>te</td>\n",
       "      <td>0.170754</td>\n",
       "    </tr>\n",
       "    <tr>\n",
       "      <th>156</th>\n",
       "      <td>mean_absolute_error</td>\n",
       "      <td>512</td>\n",
       "      <td>te</td>\n",
       "      <td>0.146990</td>\n",
       "    </tr>\n",
       "    <tr>\n",
       "      <th>157</th>\n",
       "      <td>mean_absolute_error</td>\n",
       "      <td>1024</td>\n",
       "      <td>te</td>\n",
       "      <td>0.108193</td>\n",
       "    </tr>\n",
       "    <tr>\n",
       "      <th>158</th>\n",
       "      <td>mean_absolute_error</td>\n",
       "      <td>2048</td>\n",
       "      <td>te</td>\n",
       "      <td>0.093318</td>\n",
       "    </tr>\n",
       "    <tr>\n",
       "      <th>159</th>\n",
       "      <td>mean_absolute_error</td>\n",
       "      <td>4096</td>\n",
       "      <td>te</td>\n",
       "      <td>0.080185</td>\n",
       "    </tr>\n",
       "    <tr>\n",
       "      <th>160</th>\n",
       "      <td>mean_absolute_error</td>\n",
       "      <td>8192</td>\n",
       "      <td>te</td>\n",
       "      <td>0.080440</td>\n",
       "    </tr>\n",
       "    <tr>\n",
       "      <th>161</th>\n",
       "      <td>mean_absolute_error</td>\n",
       "      <td>16384</td>\n",
       "      <td>te</td>\n",
       "      <td>0.071888</td>\n",
       "    </tr>\n",
       "    <tr>\n",
       "      <th>162</th>\n",
       "      <td>mean_absolute_error</td>\n",
       "      <td>32768</td>\n",
       "      <td>te</td>\n",
       "      <td>0.069285</td>\n",
       "    </tr>\n",
       "    <tr>\n",
       "      <th>163</th>\n",
       "      <td>mean_absolute_error</td>\n",
       "      <td>65536</td>\n",
       "      <td>te</td>\n",
       "      <td>0.064477</td>\n",
       "    </tr>\n",
       "    <tr>\n",
       "      <th>164</th>\n",
       "      <td>mean_absolute_error</td>\n",
       "      <td>88416</td>\n",
       "      <td>te</td>\n",
       "      <td>0.062981</td>\n",
       "    </tr>\n",
       "  </tbody>\n",
       "</table>\n",
       "</div>"
      ],
      "text/plain": [
       "                  metric  tr_size set     fold0\n",
       "14   mean_absolute_error     8192  te  0.077911\n",
       "154  mean_absolute_error      128  te  0.466995\n",
       "155  mean_absolute_error      256  te  0.170754\n",
       "156  mean_absolute_error      512  te  0.146990\n",
       "157  mean_absolute_error     1024  te  0.108193\n",
       "158  mean_absolute_error     2048  te  0.093318\n",
       "159  mean_absolute_error     4096  te  0.080185\n",
       "160  mean_absolute_error     8192  te  0.080440\n",
       "161  mean_absolute_error    16384  te  0.071888\n",
       "162  mean_absolute_error    32768  te  0.069285\n",
       "163  mean_absolute_error    65536  te  0.064477\n",
       "164  mean_absolute_error    88416  te  0.062981"
      ]
     },
     "execution_count": 29,
     "metadata": {},
     "output_type": "execute_result"
    }
   ],
   "source": [
    "dd"
   ]
  },
  {
   "cell_type": "code",
   "execution_count": 30,
   "metadata": {},
   "outputs": [
    {
     "data": {
      "text/plain": [
       "[<matplotlib.lines.Line2D at 0x7fe7e8e23588>]"
      ]
     },
     "execution_count": 30,
     "metadata": {},
     "output_type": "execute_result"
    },
    {
     "data": {
      "image/png": "[encoded data removed]",
      "text/plain": [
       "<Figure size 432x288 with 1 Axes>"
      ]
     },
     "metadata": {
      "needs_background": "light"
     },
     "output_type": "display_data"
    }
   ],
   "source": [
    "plt.plot(dd['tr_size'], dd['fold0'], '.')"
   ]
  },
  {
   "cell_type": "code",
   "execution_count": 18,
   "metadata": {},
   "outputs": [
    {
     "data": {
      "text/plain": [
       "8192"
      ]
     },
     "execution_count": 18,
     "metadata": {},
     "output_type": "execute_result"
    }
   ],
   "source": []
  },
  {
   "cell_type": "code",
   "execution_count": null,
   "metadata": {},
   "outputs": [],
   "source": []
  }
 ],
 "metadata": {
  "kernelspec": {
   "display_name": "Python 3",
   "language": "python",
   "name": "python3"
  },
  "language_info": {
   "codemirror_mode": {
    "name": "ipython",
    "version": 3
   },
   "file_extension": ".py",
   "mimetype": "text/x-python",
   "name": "python",
   "nbconvert_exporter": "python",
   "pygments_lexer": "ipython3",
   "version": "3.6.8"
  }
 },
 "nbformat": 4,
 "nbformat_minor": 2
}
