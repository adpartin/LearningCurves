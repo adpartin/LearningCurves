{
 "cells": [
  {
   "cell_type": "markdown",
   "metadata": {},
   "source": [
    "# Analysis of how much data shuffling affects learning curves"
   ]
  },
  {
   "cell_type": "code",
   "execution_count": 68,
   "metadata": {},
   "outputs": [
    {
     "name": "stdout",
     "output_type": "stream",
     "text": [
      "The autoreload extension is already loaded. To reload it, use:\n",
      "  %reload_ext autoreload\n",
      "/vol/ml/apartin/projects/LearningCurves/notebooks\n"
     ]
    }
   ],
   "source": [
    "%load_ext autoreload\n",
    "%autoreload 2\n",
    "%matplotlib inline\n",
    "\n",
    "import warnings\n",
    "warnings.filterwarnings('ignore')\n",
    "\n",
    "import os\n",
    "import sys\n",
    "from pathlib import Path\n",
    "\n",
    "import sklearn\n",
    "import numpy as np\n",
    "import pandas as pd\n",
    "from scipy.stats import iqr\n",
    "from glob import glob\n",
    "\n",
    "from sklearn import metrics\n",
    "from math import sqrt\n",
    "\n",
    "import matplotlib\n",
    "import matplotlib.pyplot as plt\n",
    "# plt.style.use('ggplot')\n",
    "\n",
    "# Make all python scripts available in the path\n",
    "sys.path.append('../')\n",
    "\n",
    "import pp_utils\n",
    "import lrn_crv_plot\n",
    "%matplotlib inline\n",
    "\n",
    "filepath = Path(os.getcwd())\n",
    "print(filepath)"
   ]
  },
  {
   "cell_type": "code",
   "execution_count": 66,
   "metadata": {},
   "outputs": [],
   "source": [
    "from fit import * # weighted_power_law, fit_weighted_pwr_law\n",
    "import rpy2.robjects as robjects"
   ]
  },
  {
   "cell_type": "code",
   "execution_count": 64,
   "metadata": {},
   "outputs": [],
   "source": [
    "def calc_gof(y, yfit):\n",
    "    gof = {}\n",
    "    rmse = sqrt( metrics.mean_squared_error(y, yfit) )\n",
    "    mae = metrics.mean_absolute_error(y, yfit)\n",
    "    gof['rmse'] = rmse\n",
    "    gof['mae'] = mae\n",
    "    return gof"
   ]
  },
  {
   "cell_type": "code",
   "execution_count": 76,
   "metadata": {},
   "outputs": [],
   "source": [
    "# Set Y axis\n",
    "def set_yticks_ap(ax, ylim=None):\n",
    "    ax.get_yaxis().set_major_formatter(matplotlib.ticker.ScalarFormatter())\n",
    "    if (ylim is None):\n",
    "        ylim = ax.get_ylim()\n",
    "    ylim_log = np.log2(ylim)\n",
    "    ylabels_log = np.logspace(ylim_log[0], ylim_log[1], num=5, base=2)\n",
    "    ylabels_log = np.around(ylabels_log, decimals=3)\n",
    "    ax.set_yticks(ylabels_log)\n",
    "    return ax"
   ]
  },
  {
   "cell_type": "code",
   "execution_count": null,
   "metadata": {},
   "outputs": [],
   "source": []
  },
  {
   "cell_type": "markdown",
   "metadata": {},
   "source": [
    "### Load results from runs"
   ]
  },
  {
   "cell_type": "code",
   "execution_count": 2,
   "metadata": {},
   "outputs": [],
   "source": [
    "# src = 'gdsc'\n",
    "src = 'top6'\n",
    "\n",
    "# GDSC\n",
    "if src == 'gdsc':\n",
    "    base_dir = Path('/vol/ml/apartin/projects/LearningCurves/trn.gdsc/split_on_cell/multi_seed_lgbm_100_trees')\n",
    "    # base_dir = Path('/vol/ml/apartin/projects/LearningCurves/trn.gdsc/split_on_cell/multi_seed_rf_100_trees')\n",
    "\n",
    "elif src == 'top6':    \n",
    "    base_dir = Path('/vol/ml/apartin/projects/LearningCurves/trn.top6/split_on_none/nn_reg0')\n",
    "    \n",
    "elif src == 'ctrp':\n",
    "    pass\n",
    "    # base_dir = Path('/vol/ml/apartin/projects/LearningCurves/trn.ctrp/split_on_cell/multi_seed_lgbm_100_trees')\n",
    "    # base_dir = Path('/vol/ml/apartin/projects/LearningCurves/trn.ctrp/split_on_cell/multi_seed_rf_100_trees')\n",
    "    \n",
    "elif src == 'top21':\n",
    "    pass\n",
    "    # base_dir = Path('/vol/ml/apartin/projects/LearningCurves/trn.top21/multi_seed_lgbm_100_trees/trn.top21/split_on_cell/')\n",
    "    # base_dir = Path('/vol/ml/apartin/projects/LearningCurves/trn.ctrp/split_on_cell/multi_seed_lgbm_100_trees')\n",
    "    \n",
    "runs = glob(str(base_dir/'*'))"
   ]
  },
  {
   "cell_type": "code",
   "execution_count": 3,
   "metadata": {},
   "outputs": [
    {
     "name": "stdout",
     "output_type": "stream",
     "text": [
      "12\n",
      "Training set sizes: [   128    256    512   1024   2048   4096   8192  16384  32768  65536\n",
      " 131072 213015]\n"
     ]
    }
   ],
   "source": [
    "scores = []\n",
    "# prf = 'id'\n",
    "prf = 'run'\n",
    "\n",
    "for i, r in enumerate(runs):\n",
    "    # scr_tmp = pd.read_csv( Path(r)/'lrn_crv_scores.csv' )\n",
    "    dpath = Path(r)/'lrn_crv_scores.csv'\n",
    "    if not dpath.exists():\n",
    "        continue\n",
    "        \n",
    "    scr_tmp = pd.read_csv( dpath )\n",
    "    scr_tmp.rename(columns={'fold0': prf+str(i)}, inplace=True)\n",
    "    if len(scores)==0:\n",
    "        scores = scr_tmp\n",
    "    else:\n",
    "        scores = scores.merge(scr_tmp, on=['metric', 'tr_size', 'set'])\n",
    "        \n",
    "run_col_names = [c for c in scores.columns if prf in c]\n",
    "\n",
    "scores_mean   = scores[run_col_names].mean(axis=1)\n",
    "scores_median = scores[run_col_names].median(axis=1)\n",
    "scores_std    = scores[run_col_names].std(axis=1)\n",
    "# scores_iqr    = iqr(scores.iloc[:, 6:].values, axis=0)\n",
    "\n",
    "scores.insert(loc=3, column='mean', value=scores_mean)\n",
    "scores.insert(loc=3, column='median', value=scores_median)\n",
    "scores.insert(loc=3, column='std', value=scores_std)\n",
    "print(len(np.unique(scores.tr_size)))\n",
    "\n",
    "# display(scores[:2])\n",
    "print('Training set sizes:', np.unique(scores.tr_size))\n",
    "\n",
    "# scores_te = scores[(scores.metric=='mean_absolute_error') & (scores.set=='te')].reset_index(drop=True).iloc[:, :6]\n",
    "scores_te = scores[(scores.metric=='mean_absolute_error') & (scores.set=='te')].reset_index(drop=True)\n",
    "\n",
    "save = True\n",
    "if save:\n",
    "    scores.to_csv(base_dir/'all_seed_runs_scores.csv', index=False)\n",
    "    scores_te.to_csv(base_dir/'scores.csv', index=False)"
   ]
  },
  {
   "cell_type": "code",
   "execution_count": null,
   "metadata": {},
   "outputs": [],
   "source": []
  },
  {
   "cell_type": "markdown",
   "metadata": {},
   "source": [
    "# LC all lin-lin"
   ]
  },
  {
   "cell_type": "code",
   "execution_count": 41,
   "metadata": {},
   "outputs": [],
   "source": [
    "figsize = (6, 4.5)\n",
    "metric_name = 'mean_absolute_error'\n",
    "tr_set = 'te'\n",
    "\n",
    "shift_idx=0\n",
    "# shift_idx=1\n",
    "# shift_idx=2\n",
    "# shift_idx=3"
   ]
  },
  {
   "cell_type": "code",
   "execution_count": 46,
   "metadata": {},
   "outputs": [
    {
     "data": {
      "image/png": "[encoded data removed]",
      "text/plain": [
       "<Figure size 432x324 with 1 Axes>"
      ]
     },
     "metadata": {
      "needs_background": "light"
     },
     "output_type": "display_data"
    }
   ],
   "source": [
    "plot_args = {'tr_set': tr_set, 'metric_name': metric_name, 'figsize': figsize, 'xtick_scale': 'linear', 'ytick_scale': 'linear'}\n",
    "\n",
    "ax = pp_utils.plot_lc_multi_runs( runs, shard_min_idx=shift_idx, **plot_args );\n",
    "\n",
    "ax.tick_params(axis='both', labelsize=11)\n",
    "ax.grid(False)\n",
    "\n",
    "plt.tight_layout()\n",
    "plt.savefig(base_dir/(f'{src}_all_runs_linlin.png'), dpi=200)"
   ]
  },
  {
   "cell_type": "code",
   "execution_count": null,
   "metadata": {},
   "outputs": [],
   "source": []
  },
  {
   "cell_type": "markdown",
   "metadata": {},
   "source": [
    "# LC all log-log"
   ]
  },
  {
   "cell_type": "code",
   "execution_count": 57,
   "metadata": {},
   "outputs": [],
   "source": []
  },
  {
   "cell_type": "code",
   "execution_count": 59,
   "metadata": {},
   "outputs": [
    {
     "data": {
      "image/png": "[encoded data removed]",
      "text/plain": [
       "<Figure size 432x324 with 1 Axes>"
      ]
     },
     "metadata": {
      "needs_background": "light"
     },
     "output_type": "display_data"
    }
   ],
   "source": [
    "plot_args = {'tr_set': tr_set, 'metric_name': metric_name, 'figsize': figsize, 'xtick_scale': 'log2', 'ytick_scale': 'log2'}\n",
    "\n",
    "ax = pp_utils.plot_lc_multi_runs( runs, shard_min_idx=shift_idx, **plot_args );\n",
    "\n",
    "# print(ax.xaxis.get_major_locator())\n",
    "# print(ax.yaxis.get_major_locator())\n",
    "# print(ax.xaxis.get_major_formatter())\n",
    "# print(ax.yaxis.get_major_formatter())\n",
    "\n",
    "# General axes prms\n",
    "# https://matplotlib.org/3.1.1/api/_as_gen/matplotlib.axes.Axes.tick_params.html\n",
    "ax.tick_params(axis='both', labelsize=11)\n",
    "\n",
    "# Set X axis\n",
    "xlim = ax.get_xlim()\n",
    "# ax.set_xticks([2**i for i in range(2, 17)])\n",
    "\n",
    "# Set Y axis\n",
    "ax = set_yticks_ap(ax)\n",
    "\n",
    "ax.grid(False)\n",
    "plt.tight_layout()\n",
    "plt.savefig(base_dir/(f'{src}_all_runs_loglog.png'), dpi=200)"
   ]
  },
  {
   "cell_type": "code",
   "execution_count": 29,
   "metadata": {},
   "outputs": [],
   "source": [
    "# Fit data\n",
    "# pp_utils.fit_lc_multi_runs(runs, metric_name=metric_name, tr_set='te',\n",
    "#                              shard_min_idx=shard_min_idx, cv_folds=1,\n",
    "#                              xtick_scale=xtick_scale, ytick_scale=ytick_scale)"
   ]
  },
  {
   "cell_type": "code",
   "execution_count": 30,
   "metadata": {},
   "outputs": [],
   "source": [
    "# x, y = get_xy(Path(runs[2]), metric_name='mean_absolute_error', tr_set='te', shard_min_idx=0, cv_folds=1)\n",
    "# ax = lrn_crv_plot.plot_lrn_crv_power_law(x=x, y=y, marker='.', alpha=0.7)"
   ]
  },
  {
   "cell_type": "code",
   "execution_count": null,
   "metadata": {},
   "outputs": [],
   "source": []
  },
  {
   "cell_type": "markdown",
   "metadata": {},
   "source": [
    "# LC of Median and STD across shuffles"
   ]
  },
  {
   "cell_type": "code",
   "execution_count": 61,
   "metadata": {},
   "outputs": [],
   "source": [
    "plot_args = {'metric_name': metric_name, 'xtick_scale': 'log2', 'ytick_scale': 'log2', 'figsize': figsize}\n",
    "\n",
    "# The previous two figures should help decide which shards to use\n",
    "scr = scores_te[shift_idx:].reset_index(drop=True)\n",
    "y_col_name = 'median'"
   ]
  },
  {
   "cell_type": "code",
   "execution_count": 63,
   "metadata": {},
   "outputs": [
    {
     "data": {
      "image/png": "[encoded data removed]",
      "text/plain": [
       "<Figure size 432x324 with 1 Axes>"
      ]
     },
     "metadata": {
      "needs_background": "light"
     },
     "output_type": "display_data"
    }
   ],
   "source": [
    "x = scr['tr_size']\n",
    "y = scr[y_col_name]\n",
    "yerr = scr['std']\n",
    "\n",
    "shard_min_idx = 0\n",
    "xf = x[shard_min_idx:]\n",
    "yf = y[shard_min_idx:]\n",
    "\n",
    "ax = None\n",
    "\n",
    "ax = lrn_crv_plot.plot_lrn_crv_new(x=x, y=y, yerr=yerr,\n",
    "                                   ax=ax, ls='', marker='v', alpha=1,\n",
    "                                   **plot_args, color='b', label='Median and STD');\n",
    "# ---------------------\n",
    "# General axes prms\n",
    "# https://matplotlib.org/3.1.1/api/_as_gen/matplotlib.axes.Axes.tick_params.html\n",
    "ax.tick_params(axis='both', labelsize=11)\n",
    "\n",
    "# Set X axis\n",
    "xlim = ax.get_xlim()\n",
    "# ax.set_xticks([2**i for i in range(2, 17)])\n",
    "\n",
    "# Set Y axis\n",
    "ax = set_yticks_ap(ax)\n",
    "\n",
    "ax.legend(frameon=True, fontsize=10, loc='best');\n",
    "ax.grid(False)\n",
    "plt.tight_layout()\n",
    "plt.savefig(base_dir/(f'{src}_avg_median_std.png'), dpi=200)"
   ]
  },
  {
   "cell_type": "code",
   "execution_count": null,
   "metadata": {},
   "outputs": [],
   "source": []
  },
  {
   "cell_type": "markdown",
   "metadata": {},
   "source": [
    "# Fit using all shards"
   ]
  },
  {
   "cell_type": "code",
   "execution_count": 70,
   "metadata": {},
   "outputs": [
    {
     "name": "stdout",
     "output_type": "stream",
     "text": [
      "GOF: {'rmse': 0.004373180294086962, 'mae': 0.002395415843374948}\n"
     ]
    },
    {
     "data": {
      "image/png": "[encoded data removed]",
      "text/plain": [
       "<Figure size 432x324 with 1 Axes>"
      ]
     },
     "metadata": {
      "needs_background": "light"
     },
     "output_type": "display_data"
    }
   ],
   "source": [
    "x = scr['tr_size']\n",
    "y = scr[y_col_name]\n",
    "yerr = scr['std']\n",
    "\n",
    "shard_min_idx = 0\n",
    "xf = x[shard_min_idx:]\n",
    "yf = y[shard_min_idx:]\n",
    "prms = fit_params(xf, yf)\n",
    "yfit = biased_powerlaw(xf, **prms)\n",
    "\n",
    "ax = None\n",
    "\n",
    "ax = lrn_crv_plot.plot_lrn_crv_new(x=x, y=y, yerr=yerr,\n",
    "                                   ax=ax, ls='', marker='v', alpha=1,\n",
    "                                   **plot_args, color='b', label='Median and STD')\n",
    "\n",
    "ax = lrn_crv_plot.plot_lrn_crv_new(x=xf, y=yfit,\n",
    "                                   ax=ax, ls='--', marker='', alpha=1,\n",
    "                                   **plot_args, color='firebrick', label='Fit')\n",
    "gof = calc_gof(yf, yfit)\n",
    "print('GOF:', gof)\n",
    "\n",
    "# ---------------------\n",
    "# General axes prms\n",
    "# https://matplotlib.org/3.1.1/api/_as_gen/matplotlib.axes.Axes.tick_params.html\n",
    "ax.tick_params(axis='both', labelsize=11)\n",
    "\n",
    "# Set X axis\n",
    "xlim = ax.get_xlim()\n",
    "# ax.set_xticks([2**i for i in range(2, 17)])\n",
    "\n",
    "# Set Y axis\n",
    "ax = set_yticks_ap(ax)\n",
    "\n",
    "ax.legend(frameon=True, fontsize=11, loc='best');\n",
    "ax.grid(False)\n",
    "plt.tight_layout()\n",
    "plt.savefig(base_dir/(f'{src}_fit_using_all_shards.png'), dpi=200)"
   ]
  },
  {
   "cell_type": "code",
   "execution_count": null,
   "metadata": {},
   "outputs": [],
   "source": []
  },
  {
   "cell_type": "markdown",
   "metadata": {},
   "source": [
    "# Fit using subset of shards"
   ]
  },
  {
   "cell_type": "code",
   "execution_count": 71,
   "metadata": {},
   "outputs": [
    {
     "name": "stdout",
     "output_type": "stream",
     "text": [
      "GOF: {'rmse': 0.0010605317580562998, 'mae': 0.0005777380772490286}\n"
     ]
    },
    {
     "data": {
      "image/png": "[encoded data removed]",
      "text/plain": [
       "<Figure size 432x324 with 1 Axes>"
      ]
     },
     "metadata": {
      "needs_background": "light"
     },
     "output_type": "display_data"
    }
   ],
   "source": [
    "tot_pnts = len(x)\n",
    "n_pnts_fit = 9 # Number of points to use for curve fitting starting from the largest size\n",
    "\n",
    "x = scr['tr_size']\n",
    "y = scr[y_col_name]\n",
    "yerr = scr['std']\n",
    "\n",
    "shard_min_idx = 0 if tot_pnts < n_pnts_fit else tot_pnts - n_pnts_fit\n",
    "\n",
    "xf = x[shard_min_idx:]\n",
    "yf = y[shard_min_idx:]\n",
    "prms = fit_params(xf, yf)\n",
    "yfit = biased_powerlaw(xf, **prms)\n",
    "\n",
    "ax = None\n",
    "\n",
    "ax = lrn_crv_plot.plot_lrn_crv_new(x=x, y=y, yerr=yerr,\n",
    "                                   ax=ax, ls='', marker='v', alpha=1,\n",
    "                                   **plot_args, color='b', label='Median and STD')\n",
    "\n",
    "ax = lrn_crv_plot.plot_lrn_crv_new(x=xf, y=yfit,\n",
    "                                   ax=ax, ls='--', marker='', alpha=1,\n",
    "                                   **plot_args, color='firebrick', label='Fit')\n",
    "gof = calc_gof(yf, yfit)\n",
    "print('GOF:', gof)\n",
    "\n",
    "# ---------------------\n",
    "# General axes prms\n",
    "# https://matplotlib.org/3.1.1/api/_as_gen/matplotlib.axes.Axes.tick_params.html\n",
    "ax.tick_params(axis='both', labelsize=11)\n",
    "\n",
    "# Set X axis\n",
    "xlim = ax.get_xlim()\n",
    "# ax.set_xticks([2**i for i in range(2, 17)])\n",
    "\n",
    "# Set Y axis\n",
    "ax = set_yticks_ap(ax)\n",
    "\n",
    "ax.legend(frameon=True, fontsize=11, loc='best');\n",
    "ax.grid(False)\n",
    "plt.tight_layout()\n",
    "plt.savefig(base_dir/(f'{src}_fit_using_subset_shards.png'), dpi=200)"
   ]
  },
  {
   "cell_type": "code",
   "execution_count": null,
   "metadata": {},
   "outputs": [],
   "source": []
  },
  {
   "cell_type": "markdown",
   "metadata": {},
   "source": [
    "# MAE vs Number of LC fit points\n",
    "\n",
    "The workflow is to go backwards. We fit a power-law after every time we compute score for consecutive (smaller) shard. Stop when quality of fit decreases."
   ]
  },
  {
   "cell_type": "code",
   "execution_count": 72,
   "metadata": {},
   "outputs": [
    {
     "name": "stdout",
     "output_type": "stream",
     "text": [
      "tot_pnts 12\n"
     ]
    },
    {
     "data": {
      "image/png": "[encoded data removed]",
      "text/plain": [
       "<Figure size 432x324 with 1 Axes>"
      ]
     },
     "metadata": {
      "needs_background": "light"
     },
     "output_type": "display_data"
    }
   ],
   "source": [
    "x = scr['tr_size']\n",
    "y = scr[y_col_name]\n",
    "yerr = scr['std']\n",
    "\n",
    "tot_pnts = len(x)\n",
    "print('tot_pnts', tot_pnts)\n",
    "# min_points = 3  # 3 points doesn't work\n",
    "min_pnts_fit = 4  # Min points to fit \n",
    "# max_pnts_fit = 9  # Min points to fit\n",
    "max_pnts_fit = tot_pnts\n",
    "\n",
    "p_arr = []\n",
    "gof_arr = []\n",
    "prm_arr = []\n",
    "\n",
    "ax = None\n",
    "ax = lrn_crv_plot.plot_lrn_crv_new(x=x, y=y, yerr=yerr,\n",
    "                                   ax=ax, ls='', marker='v', alpha=1,\n",
    "                                   **plot_args, color='b', label='Median and STD');\n",
    "\n",
    "for n_pnts_fit in range(min_pnts_fit, max_pnts_fit+1):\n",
    "    shard_min_idx = tot_pnts - n_pnts_fit\n",
    "    \n",
    "    xf = x[shard_min_idx:]\n",
    "    yf = y[shard_min_idx:]\n",
    "    prms = fit_params(xf, yf)\n",
    "    yfit = biased_powerlaw(xf, **prms)\n",
    "    \n",
    "    gof = calc_gof(yf, yfit)\n",
    "    \n",
    "    ax = lrn_crv_plot.plot_lrn_crv_new(x=xf, y=yfit,\n",
    "                                       ax=ax, ls='--', marker='', alpha=1,\n",
    "                                       **plot_args, label='Fit');\n",
    "    \n",
    "    prm_arr.append(prms)\n",
    "    gof_arr.append(gof)\n",
    "    p_arr.append(n_pnts_fit)"
   ]
  },
  {
   "cell_type": "code",
   "execution_count": 73,
   "metadata": {},
   "outputs": [
    {
     "data": {
      "text/html": [
       "<div>\n",
       "<style scoped>\n",
       "    .dataframe tbody tr th:only-of-type {\n",
       "        vertical-align: middle;\n",
       "    }\n",
       "\n",
       "    .dataframe tbody tr th {\n",
       "        vertical-align: top;\n",
       "    }\n",
       "\n",
       "    .dataframe thead th {\n",
       "        text-align: right;\n",
       "    }\n",
       "</style>\n",
       "<table border=\"1\" class=\"dataframe\">\n",
       "  <thead>\n",
       "    <tr style=\"text-align: right;\">\n",
       "      <th></th>\n",
       "      <th>n_pnts</th>\n",
       "      <th>mae</th>\n",
       "      <th>rmse</th>\n",
       "      <th>alpha</th>\n",
       "      <th>beta</th>\n",
       "      <th>gamma</th>\n",
       "    </tr>\n",
       "  </thead>\n",
       "  <tbody>\n",
       "    <tr>\n",
       "      <th>0</th>\n",
       "      <td>4</td>\n",
       "      <td>0.000020</td>\n",
       "      <td>0.000022</td>\n",
       "      <td>1.817221</td>\n",
       "      <td>-0.490068</td>\n",
       "      <td>0.040589</td>\n",
       "    </tr>\n",
       "    <tr>\n",
       "      <th>1</th>\n",
       "      <td>5</td>\n",
       "      <td>0.000086</td>\n",
       "      <td>0.000110</td>\n",
       "      <td>0.775024</td>\n",
       "      <td>-0.397441</td>\n",
       "      <td>0.039107</td>\n",
       "    </tr>\n",
       "    <tr>\n",
       "      <th>2</th>\n",
       "      <td>6</td>\n",
       "      <td>0.000116</td>\n",
       "      <td>0.000161</td>\n",
       "      <td>1.023745</td>\n",
       "      <td>-0.429027</td>\n",
       "      <td>0.039730</td>\n",
       "    </tr>\n",
       "    <tr>\n",
       "      <th>3</th>\n",
       "      <td>7</td>\n",
       "      <td>0.000217</td>\n",
       "      <td>0.000296</td>\n",
       "      <td>0.792903</td>\n",
       "      <td>-0.399311</td>\n",
       "      <td>0.039102</td>\n",
       "    </tr>\n",
       "    <tr>\n",
       "      <th>4</th>\n",
       "      <td>8</td>\n",
       "      <td>0.000328</td>\n",
       "      <td>0.000515</td>\n",
       "      <td>0.634937</td>\n",
       "      <td>-0.372404</td>\n",
       "      <td>0.038407</td>\n",
       "    </tr>\n",
       "    <tr>\n",
       "      <th>5</th>\n",
       "      <td>9</td>\n",
       "      <td>0.000578</td>\n",
       "      <td>0.001061</td>\n",
       "      <td>0.506571</td>\n",
       "      <td>-0.343907</td>\n",
       "      <td>0.037511</td>\n",
       "    </tr>\n",
       "    <tr>\n",
       "      <th>6</th>\n",
       "      <td>10</td>\n",
       "      <td>0.001040</td>\n",
       "      <td>0.001827</td>\n",
       "      <td>0.421395</td>\n",
       "      <td>-0.319702</td>\n",
       "      <td>0.036593</td>\n",
       "    </tr>\n",
       "    <tr>\n",
       "      <th>7</th>\n",
       "      <td>11</td>\n",
       "      <td>0.001640</td>\n",
       "      <td>0.003157</td>\n",
       "      <td>0.358260</td>\n",
       "      <td>-0.297485</td>\n",
       "      <td>0.035591</td>\n",
       "    </tr>\n",
       "    <tr>\n",
       "      <th>8</th>\n",
       "      <td>12</td>\n",
       "      <td>0.002395</td>\n",
       "      <td>0.004373</td>\n",
       "      <td>0.322473</td>\n",
       "      <td>-0.282537</td>\n",
       "      <td>0.034812</td>\n",
       "    </tr>\n",
       "  </tbody>\n",
       "</table>\n",
       "</div>"
      ],
      "text/plain": [
       "   n_pnts       mae      rmse     alpha      beta     gamma\n",
       "0       4  0.000020  0.000022  1.817221 -0.490068  0.040589\n",
       "1       5  0.000086  0.000110  0.775024 -0.397441  0.039107\n",
       "2       6  0.000116  0.000161  1.023745 -0.429027  0.039730\n",
       "3       7  0.000217  0.000296  0.792903 -0.399311  0.039102\n",
       "4       8  0.000328  0.000515  0.634937 -0.372404  0.038407\n",
       "5       9  0.000578  0.001061  0.506571 -0.343907  0.037511\n",
       "6      10  0.001040  0.001827  0.421395 -0.319702  0.036593\n",
       "7      11  0.001640  0.003157  0.358260 -0.297485  0.035591\n",
       "8      12  0.002395  0.004373  0.322473 -0.282537  0.034812"
      ]
     },
     "metadata": {},
     "output_type": "display_data"
    }
   ],
   "source": [
    "prm_df = pd.DataFrame(prm_arr)\n",
    "gof_df = pd.DataFrame(gof_arr)\n",
    "n_pnts_df = pd.DataFrame({'n_pnts': p_arr})\n",
    "dd = pd.concat([n_pnts_df, gof_df, prm_df], axis=1)\n",
    "\n",
    "display(dd.sort_values('mae'))"
   ]
  },
  {
   "cell_type": "code",
   "execution_count": 74,
   "metadata": {},
   "outputs": [
    {
     "data": {
      "image/png": "[encoded data removed]",
      "text/plain": [
       "<Figure size 432x288 with 1 Axes>"
      ]
     },
     "metadata": {
      "needs_background": "light"
     },
     "output_type": "display_data"
    }
   ],
   "source": [
    "plot_beta = False\n",
    "# plot_beta = True\n",
    "\n",
    "fig, ax1 = plt.subplots()\n",
    "\n",
    "# Plot metrics\n",
    "alpha = 0.6\n",
    "linewidth = 1\n",
    "fontsize = 12\n",
    "lns1 = ax1.plot(dd.n_pnts, dd.mae, marker='o', ls='', color='teal', label='Fit MAE');\n",
    "ax1.set_xlabel('Number of Curve Fitting Points', fontsize=fontsize)\n",
    "# ax1.set_xlabel('Number of points used to fit power-law model', fontsize=fontsize)\n",
    "ax1.set_ylabel('Fit MAE', fontsize=fontsize)\n",
    "ax1.tick_params('y', colors='k')\n",
    "\n",
    "leg = lns1\n",
    "\n",
    "if plot_beta:\n",
    "    ax2 = ax1.twinx()\n",
    "    lns2 = ax2.plot(dd.n_pnts, dd.beta, color='m', marker='*', ls='', label='Fit Parameter $b$')\n",
    "    ax2.set_ylabel('Fit Parameter $b$ in $am^{b} + c$', color='k', fontsize=fontsize)\n",
    "    ax2.tick_params('y', colors='k')\n",
    "    leg.append(lns2)\n",
    "    leg = lns1 + lns2\n",
    "        \n",
    "ax1.grid(True)\n",
    "\n",
    "labs = [l.get_label() for l in leg]\n",
    "legend = ax1.legend(leg, labs, loc=0)\n",
    "frame = legend.get_frame()\n",
    "frame.set_facecolor('0.95')\n",
    "\n",
    "# ax.set_ylim([0.060, 0.150])\n",
    "ax1.grid(False)\n",
    "plt.tight_layout()\n",
    "plt.savefig(base_dir/(f'{src}_mae_prm_b_num_points.png'), dpi=200)"
   ]
  },
  {
   "cell_type": "code",
   "execution_count": null,
   "metadata": {},
   "outputs": [],
   "source": []
  },
  {
   "cell_type": "code",
   "execution_count": null,
   "metadata": {},
   "outputs": [],
   "source": []
  },
  {
   "cell_type": "code",
   "execution_count": null,
   "metadata": {},
   "outputs": [],
   "source": []
  },
  {
   "cell_type": "code",
   "execution_count": null,
   "metadata": {},
   "outputs": [],
   "source": []
  },
  {
   "cell_type": "code",
   "execution_count": null,
   "metadata": {},
   "outputs": [],
   "source": []
  },
  {
   "cell_type": "code",
   "execution_count": null,
   "metadata": {},
   "outputs": [],
   "source": []
  },
  {
   "cell_type": "code",
   "execution_count": null,
   "metadata": {},
   "outputs": [],
   "source": []
  },
  {
   "cell_type": "code",
   "execution_count": null,
   "metadata": {},
   "outputs": [],
   "source": []
  },
  {
   "cell_type": "code",
   "execution_count": null,
   "metadata": {},
   "outputs": [],
   "source": []
  },
  {
   "cell_type": "code",
   "execution_count": null,
   "metadata": {},
   "outputs": [],
   "source": []
  },
  {
   "cell_type": "code",
   "execution_count": null,
   "metadata": {},
   "outputs": [],
   "source": []
  },
  {
   "cell_type": "code",
   "execution_count": null,
   "metadata": {},
   "outputs": [],
   "source": []
  },
  {
   "cell_type": "code",
   "execution_count": null,
   "metadata": {},
   "outputs": [],
   "source": []
  },
  {
   "cell_type": "code",
   "execution_count": null,
   "metadata": {},
   "outputs": [],
   "source": []
  },
  {
   "cell_type": "code",
   "execution_count": null,
   "metadata": {},
   "outputs": [],
   "source": []
  },
  {
   "cell_type": "code",
   "execution_count": null,
   "metadata": {},
   "outputs": [],
   "source": []
  },
  {
   "cell_type": "code",
   "execution_count": null,
   "metadata": {},
   "outputs": [],
   "source": []
  },
  {
   "cell_type": "code",
   "execution_count": null,
   "metadata": {},
   "outputs": [],
   "source": []
  },
  {
   "cell_type": "code",
   "execution_count": null,
   "metadata": {},
   "outputs": [],
   "source": []
  },
  {
   "cell_type": "code",
   "execution_count": null,
   "metadata": {},
   "outputs": [],
   "source": []
  },
  {
   "cell_type": "code",
   "execution_count": null,
   "metadata": {},
   "outputs": [],
   "source": []
  },
  {
   "cell_type": "code",
   "execution_count": null,
   "metadata": {},
   "outputs": [],
   "source": []
  },
  {
   "cell_type": "code",
   "execution_count": null,
   "metadata": {},
   "outputs": [],
   "source": []
  },
  {
   "cell_type": "code",
   "execution_count": null,
   "metadata": {},
   "outputs": [],
   "source": []
  },
  {
   "cell_type": "code",
   "execution_count": null,
   "metadata": {},
   "outputs": [],
   "source": []
  },
  {
   "cell_type": "code",
   "execution_count": null,
   "metadata": {},
   "outputs": [],
   "source": []
  },
  {
   "cell_type": "code",
   "execution_count": null,
   "metadata": {},
   "outputs": [],
   "source": []
  },
  {
   "cell_type": "code",
   "execution_count": null,
   "metadata": {},
   "outputs": [],
   "source": []
  },
  {
   "cell_type": "code",
   "execution_count": null,
   "metadata": {},
   "outputs": [],
   "source": []
  },
  {
   "cell_type": "code",
   "execution_count": null,
   "metadata": {},
   "outputs": [],
   "source": []
  },
  {
   "cell_type": "code",
   "execution_count": null,
   "metadata": {},
   "outputs": [],
   "source": []
  },
  {
   "cell_type": "code",
   "execution_count": null,
   "metadata": {},
   "outputs": [],
   "source": []
  },
  {
   "cell_type": "markdown",
   "metadata": {},
   "source": [
    "### Aggregate results over runs"
   ]
  },
  {
   "cell_type": "code",
   "execution_count": 10,
   "metadata": {},
   "outputs": [],
   "source": [
    "# scores = []\n",
    "# for i, r in enumerate(runs):\n",
    "#     dpath = Path(r)/'lrn_crv_scores.csv'\n",
    "#     if not dpath.exists(): continue\n",
    "        \n",
    "#     scr_tmp = pd.read_csv( dpath )\n",
    "#     scr_tmp.rename(columns={'fold0': 'run'+str(i+1)}, inplace=True)\n",
    "#     if len(scores)==0:\n",
    "#         scores = scr_tmp\n",
    "#     else:\n",
    "#         scores = scores.merge(scr_tmp, on=['metric', 'tr_size', 'set'])\n",
    "        \n",
    "# run_col_names = [c for c in scores.columns if 'run' in c]\n",
    "\n",
    "# scores_mean   = scores[run_col_names].mean(axis=1)\n",
    "# scores_median = scores[run_col_names].median(axis=1)\n",
    "# scores_std    = scores[run_col_names].std(axis=1)\n",
    "\n",
    "# scores.insert(loc=3, column='mean', value=scores_mean)\n",
    "# scores.insert(loc=3, column='median', value=scores_median)\n",
    "# scores.insert(loc=3, column='std', value=scores_std)    \n",
    "\n",
    "# scores.to_csv(base_dir/'all_seed_runs_scores.csv', index=False)"
   ]
  },
  {
   "cell_type": "markdown",
   "metadata": {},
   "source": [
    "### LC of mean and errorbars"
   ]
  },
  {
   "cell_type": "code",
   "execution_count": 31,
   "metadata": {},
   "outputs": [],
   "source": [
    "figsize=(6, 4.5)\n",
    "metric_name='mean_absolute_error'\n",
    "xtick_scale, ytick_scale = 'linear', 'linear'\n",
    "# xtick_scale, ytick_scale = 'log2', 'log2'\n",
    "\n",
    "plot_kwargs = {'metric_name': metric_name, 'xtick_scale': xtick_scale, 'ytick_scale': xtick_scale, 'figsize': figsize}"
   ]
  },
  {
   "cell_type": "code",
   "execution_count": 32,
   "metadata": {},
   "outputs": [
    {
     "data": {
      "image/png": "[encoded data removed]",
      "text/plain": [
       "<Figure size 432x324 with 1 Axes>"
      ]
     },
     "metadata": {
      "needs_background": "light"
     },
     "output_type": "display_data"
    }
   ],
   "source": [
    "df = scores[ (scores['metric']==metric_name) & (scores['set']=='te') ].reset_index(drop=True)\n",
    "\n",
    "ax = None\n",
    "ax = lrn_crv_plot.plot_lrn_crv_new(\n",
    "            x=df['tr_size'], y=df['mean'], yerr=df['std'], ax=ax, marker='.', alpha=0.7,\n",
    "            title='Learning Curves (mean value across runs)', **plot_kwargs, label='mean')\n",
    "\n",
    "ax = lrn_crv_plot.plot_lrn_crv_new(\n",
    "            x=df['tr_size'], y=df['median'], yerr=df['std'], ax=ax, marker='.', alpha=0.7,\n",
    "            title='Learning Curves (mean value across runs)', **plot_kwargs, label='median')"
   ]
  },
  {
   "cell_type": "code",
   "execution_count": null,
   "metadata": {},
   "outputs": [],
   "source": []
  },
  {
   "cell_type": "markdown",
   "metadata": {},
   "source": [
    "### Fit power-law to LC of mean across shuffles"
   ]
  },
  {
   "cell_type": "code",
   "execution_count": 33,
   "metadata": {},
   "outputs": [
    {
     "data": {
      "image/png": "[encoded data removed]",
      "text/plain": [
       "<Figure size 432x324 with 1 Axes>"
      ]
     },
     "metadata": {
      "needs_background": "light"
     },
     "output_type": "display_data"
    }
   ],
   "source": [
    "shard_min_idx = 3\n",
    "ax, _, _ = lrn_crv_plot.plot_lrn_crv_power_law( x=df['tr_size'][shard_min_idx:], y=df['mean'][shard_min_idx:], title='Aggeregate over shuffles', **plot_kwargs, label='mean' );\n",
    "ax, _, _ = lrn_crv_plot.plot_lrn_crv_power_law( x=df['tr_size'][shard_min_idx:], y=df['median'][shard_min_idx:], title='Aggeregate over shuffles', **plot_kwargs, label='median', ax=ax );"
   ]
  },
  {
   "cell_type": "markdown",
   "metadata": {},
   "source": [
    "### Plot score deviation (std) vs shard across shuffles"
   ]
  },
  {
   "cell_type": "code",
   "execution_count": 34,
   "metadata": {},
   "outputs": [
    {
     "data": {
      "image/png": "[encoded data removed]",
      "text/plain": [
       "<Figure size 432x288 with 1 Axes>"
      ]
     },
     "metadata": {
      "needs_background": "light"
     },
     "output_type": "display_data"
    }
   ],
   "source": [
    "# matplotlib.org/3.1.1/gallery/lines_bars_and_markers/bar_stacked.html#sphx-glr-gallery-lines-bars-and-markers-bar-stacked-py\n",
    "y_err = df['std'].values\n",
    "ind = np.arange(len(y_err))\n",
    "width = 0.35  # width of the bars\n",
    "\n",
    "p1 = plt.bar(ind, y_err, width)\n",
    "plt.ylabel('Training Set Size')\n",
    "plt.ylabel('Deviation from Mean (std)') # TODO: should we use a different metric which is more robust to outliers such as IQR?\n",
    "plt.xticks(ind, [str(sz) for sz in df['tr_size'].values])\n",
    "plt.show()"
   ]
  },
  {
   "cell_type": "code",
   "execution_count": null,
   "metadata": {},
   "outputs": [],
   "source": []
  },
  {
   "cell_type": "markdown",
   "metadata": {},
   "source": [
    "# Compare ML models from multi-seed runs"
   ]
  },
  {
   "cell_type": "code",
   "execution_count": 28,
   "metadata": {},
   "outputs": [],
   "source": [
    "def filter_scores(scores):\n",
    "    return scores[ (scores['metric']==metric_name) & (scores['set']=='te') ].reset_index(drop=True)"
   ]
  },
  {
   "cell_type": "code",
   "execution_count": 119,
   "metadata": {},
   "outputs": [],
   "source": [
    "# GDSC\n",
    "# dir1 = Path('/vol/ml/apartin/projects/LearningCurves/trn.gdsc/split_on_cell/multi_seed_lgbm_100_trees_no_hpo')\n",
    "# dir2 = Path('/vol/ml/apartin/projects/LearningCurves/trn.gdsc/split_on_cell/multi_seed_lgbm_1000_trees_no_hpo')\n",
    "# dir3 = Path('/vol/ml/apartin/projects/LearningCurves/trn.gdsc/split_on_cell/multi_seed_rf_100_trees_no_hpo')\n",
    "# dir4 = Path('/vol/ml/apartin/projects/LearningCurves/trn.gdsc/split_on_cell/multi_seed_rf_1000_trees_no_hpo')\n",
    "\n",
    "dir1 = Path('/vol/ml/apartin/projects/LearningCurves/trn.gdsc/split_on_cell/multi_seed_lgbm_100_trees')\n",
    "dir3 = Path('/vol/ml/apartin/projects/LearningCurves/trn.gdsc/split_on_cell/multi_seed_rf_100_trees')\n",
    "\n",
    "# CTRP\n",
    "# dir1 = Path('/vol/ml/apartin/projects/LearningCurves/trn.ctrp/split_on_cell/multi_seed_lgbm_100_trees_no_hpo')\n",
    "# dir2 = Path('/vol/ml/apartin/projects/LearningCurves/trn.ctrp/split_on_cell/multi_seed_lgbm_1000_trees_no_hpo')\n",
    "# dir3 = Path('/vol/ml/apartin/projects/LearningCurves/trn.ctrp/split_on_cell/multi_seed_rf_100_trees_no_hpo')\n",
    "# dir4 = Path('/vol/ml/apartin/projects/LearningCurves/trn.ctrp/split_on_cell/multi_seed_rf_1000_trees_no_hpo')\n",
    "\n",
    "# dir1 = Path('/vol/ml/apartin/projects/LearningCurves/trn.ctrp/split_on_cell/multi_seed_lgbm_100_trees')\n",
    "# dir3 = Path('/vol/ml/apartin/projects/LearningCurves/trn.ctrp/split_on_cell/multi_seed_rf_100_trees')"
   ]
  },
  {
   "cell_type": "code",
   "execution_count": 120,
   "metadata": {},
   "outputs": [],
   "source": [
    "df1 = filter_scores( pd.read_csv(dir1/'all_seed_runs_scores.csv') )\n",
    "# df2 = filter_scores( pd.read_csv(dir2/'all_seed_runs_scores.csv') )\n",
    "df3 = filter_scores( pd.read_csv(dir3/'all_seed_runs_scores.csv') )\n",
    "# df4 = filter_scores( pd.read_csv(dir4/'all_seed_runs_scores.csv') )"
   ]
  },
  {
   "cell_type": "code",
   "execution_count": 121,
   "metadata": {},
   "outputs": [
    {
     "data": {
      "image/png": "[encoded data removed]",
      "text/plain": [
       "<Figure size 432x324 with 1 Axes>"
      ]
     },
     "metadata": {
      "needs_background": "light"
     },
     "output_type": "display_data"
    }
   ],
   "source": [
    "figsize=(6,4.5)\n",
    "metric_name='mean_absolute_error'\n",
    "# xtick_scale, ytick_scale = 'linear', 'linear'\n",
    "xtick_scale, ytick_scale = 'log2', 'log2'\n",
    "\n",
    "plot_kwargs = {'metric_name': metric_name, 'xtick_scale': xtick_scale, 'ytick_scale': xtick_scale, 'figsize': figsize}\n",
    "\n",
    "ax = None\n",
    "ax = lrn_crv_plot.plot_lrn_crv_new(\n",
    "            x=df1['tr_size'], y=df1['median'], yerr=df1['std'], ax=ax, marker='v', ls='--', alpha=0.5,\n",
    "            title='Learning Curves (median value across runs)', **plot_kwargs, label='lgbm_100')\n",
    "\n",
    "# ax = lrn_crv_plot.plot_lrn_crv_new(\n",
    "#             x=df2['tr_size'], y=df2['median'], yerr=df2['std'], ax=ax, marker='v', alpha=0.5,\n",
    "#             title='Learning Curves (median value across runs)', **plot_kwargs, label='lgbm_1000')\n",
    "\n",
    "ax = lrn_crv_plot.plot_lrn_crv_new(\n",
    "            x=df3['tr_size'], y=df3['median'], yerr=df3['std'], ax=ax, marker='.', ls='--', alpha=0.5,\n",
    "            title='Learning Curves (median value across runs)', **plot_kwargs, label='rf_100')\n",
    "\n",
    "# ax = lrn_crv_plot.plot_lrn_crv_new(\n",
    "#             x=df4['tr_size'], y=df4['median'], yerr=df4['std'], ax=ax, marker='.', alpha=0.5,\n",
    "#             title='Learning Curves (median value across runs)', **plot_kwargs, label='rf_1000')"
   ]
  },
  {
   "cell_type": "code",
   "execution_count": null,
   "metadata": {},
   "outputs": [],
   "source": []
  }
 ],
 "metadata": {
  "kernelspec": {
   "display_name": "Python 3",
   "language": "python",
   "name": "python3"
  },
  "language_info": {
   "codemirror_mode": {
    "name": "ipython",
    "version": 3
   },
   "file_extension": ".py",
   "mimetype": "text/x-python",
   "name": "python",
   "nbconvert_exporter": "python",
   "pygments_lexer": "ipython3",
   "version": "3.6.8"
  }
 },
 "nbformat": 4,
 "nbformat_minor": 2
}
