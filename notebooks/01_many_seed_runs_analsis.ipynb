{
 "cells": [
  {
   "cell_type": "markdown",
   "metadata": {},
   "source": [
    "# Analysis of how much data shuffling affects learning curves"
   ]
  },
  {
   "cell_type": "code",
   "execution_count": 1,
   "metadata": {},
   "outputs": [
    {
     "name": "stdout",
     "output_type": "stream",
     "text": [
      "/vol/ml/apartin/projects/LearningCurves/notebooks\n"
     ]
    }
   ],
   "source": [
    "%load_ext autoreload\n",
    "%autoreload 2\n",
    "%matplotlib inline\n",
    "\n",
    "import warnings\n",
    "warnings.filterwarnings('ignore')\n",
    "\n",
    "import os\n",
    "import sys\n",
    "from pathlib import Path\n",
    "\n",
    "import sklearn\n",
    "import numpy as np\n",
    "import pandas as pd\n",
    "from scipy.stats import iqr\n",
    "from glob import glob\n",
    "\n",
    "from sklearn import metrics\n",
    "from math import sqrt\n",
    "\n",
    "import matplotlib\n",
    "import matplotlib.pyplot as plt\n",
    "# plt.style.use('ggplot')\n",
    "\n",
    "# Make all python scripts available in the path\n",
    "sys.path.append('../')\n",
    "\n",
    "import pp_utils\n",
    "import lrn_crv_plot\n",
    "%matplotlib inline\n",
    "\n",
    "filepath = Path(os.getcwd())\n",
    "print(filepath)"
   ]
  },
  {
   "cell_type": "code",
   "execution_count": 2,
   "metadata": {},
   "outputs": [],
   "source": [
    "from fit import * # weighted_power_law, fit_weighted_pwr_law\n",
    "import rpy2.robjects as robjects"
   ]
  },
  {
   "cell_type": "code",
   "execution_count": 3,
   "metadata": {},
   "outputs": [],
   "source": [
    "def calc_gof(y, yfit):\n",
    "    gof = {}\n",
    "    rmse = sqrt( metrics.mean_squared_error(y, yfit) )\n",
    "    mae = metrics.mean_absolute_error(y, yfit)\n",
    "    gof['rmse'] = rmse\n",
    "    gof['mae'] = mae\n",
    "    return gof"
   ]
  },
  {
   "cell_type": "code",
   "execution_count": 4,
   "metadata": {},
   "outputs": [],
   "source": [
    "# Set Y axis\n",
    "def set_yticks_ap(ax, ylim=None):\n",
    "    ax.get_yaxis().set_major_formatter(matplotlib.ticker.ScalarFormatter())\n",
    "    if (ylim is None):\n",
    "        ylim = ax.get_ylim()\n",
    "    ylim_log = np.log2(ylim)\n",
    "    ylabels_log = np.logspace(ylim_log[0], ylim_log[1], num=5, base=2)\n",
    "    ylabels_log = np.around(ylabels_log, decimals=3)\n",
    "    ax.set_yticks(ylabels_log)\n",
    "    return ax"
   ]
  },
  {
   "cell_type": "code",
   "execution_count": null,
   "metadata": {},
   "outputs": [],
   "source": []
  },
  {
   "cell_type": "markdown",
   "metadata": {},
   "source": [
    "### Load results from runs"
   ]
  },
  {
   "cell_type": "code",
   "execution_count": 5,
   "metadata": {},
   "outputs": [],
   "source": [
    "src = 'gdsc'\n",
    "# src = 'top6'\n",
    "\n",
    "# GDSC\n",
    "if src == 'gdsc':\n",
    "    base_dir = Path('/vol/ml/apartin/projects/LearningCurves/trn.gdsc/split_on_none/multi_seed_lgbm_100_trees'); model='lgbm'\n",
    "    # base_dir = Path('/vol/ml/apartin/projects/LearningCurves/trn.gdsc/split_on_none/nn_reg0'); model='nn'\n",
    "    # base_dir = Path('/vol/ml/apartin/projects/LearningCurves/trn.gdsc/split_on_none/multi_seed_rf_100_trees'); model='rf'\n",
    "    # base_dir = Path('/vol/ml/apartin/projects/LearningCurves/trn.gdsc/split_on_none/nn_reg0_more')\n",
    "    # base_dir = Path('/vol/ml/apartin/projects/LearningCurves/trn.gdsc/split_on_none/nn_reg0_')\n",
    "\n",
    "elif src == 'top6':\n",
    "    base_dir = Path('/vol/ml/apartin/projects/LearningCurves/trn.top6/split_on_none/multi_seed_lgbm_100_trees'); model='lgbm'\n",
    "    # base_dir = Path('/vol/ml/apartin/projects/LearningCurves/trn.top6/split_on_none/nn_reg0'); model='nn'\n",
    "    # base_dir = Path('/vol/ml/apartin/projects/LearningCurves/trn.top6/split_on_none/multi_seed_rf_100_trees'); model='rf'\n",
    "    \n",
    "elif src == 'ctrp':\n",
    "    pass\n",
    "    # base_dir = Path('/vol/ml/apartin/projects/LearningCurves/trn.ctrp/split_on_cell/multi_seed_lgbm_100_trees')\n",
    "    # base_dir = Path('/vol/ml/apartin/projects/LearningCurves/trn.ctrp/split_on_cell/multi_seed_rf_100_trees')\n",
    "    \n",
    "elif src == 'top21':\n",
    "    pass\n",
    "    # base_dir = Path('/vol/ml/apartin/projects/LearningCurves/trn.top21/multi_seed_lgbm_100_trees/trn.top21/split_on_cell/')\n",
    "    # base_dir = Path('/vol/ml/apartin/projects/LearningCurves/trn.ctrp/split_on_cell/multi_seed_lgbm_100_trees')\n",
    "    \n",
    "runs = glob(str(base_dir/'*'))"
   ]
  },
  {
   "cell_type": "code",
   "execution_count": 6,
   "metadata": {},
   "outputs": [
    {
     "name": "stdout",
     "output_type": "stream",
     "text": [
      "17\n",
      "Training set sizes: [    2     4     8    16    32    64   128   256   512  1024  2048  4096\n",
      "  8192 16384 32768 65536 88416]\n"
     ]
    }
   ],
   "source": [
    "scores = []\n",
    "# prf = 'id'\n",
    "prf = 'run'\n",
    "\n",
    "for i, r in enumerate(runs):\n",
    "    # scr_tmp = pd.read_csv( Path(r)/'lrn_crv_scores.csv' )\n",
    "    dpath = Path(r)/'lrn_crv_scores.csv'\n",
    "    if not dpath.exists():\n",
    "        continue\n",
    "        \n",
    "    scr_tmp = pd.read_csv( dpath )\n",
    "    scr_tmp.rename(columns={'fold0': prf+str(i)}, inplace=True)\n",
    "    if len(scores)==0:\n",
    "        scores = scr_tmp\n",
    "    else:\n",
    "        scores = scores.merge(scr_tmp, on=['metric', 'tr_size', 'set'])\n",
    "    scr_tmp['file'] = str(dpath)\n",
    "        \n",
    "run_col_names = [c for c in scores.columns if prf in c]\n",
    "\n",
    "scores_mean   = scores[run_col_names].mean(axis=1)\n",
    "scores_median = scores[run_col_names].median(axis=1)\n",
    "scores_std    = scores[run_col_names].std(axis=1)\n",
    "# scores_iqr    = iqr(scores.iloc[:, 6:].values, axis=0)\n",
    "\n",
    "scores.insert(loc=3, column='mean', value=scores_mean)\n",
    "scores.insert(loc=3, column='median', value=scores_median)\n",
    "scores.insert(loc=3, column='std', value=scores_std)\n",
    "print(len(np.unique(scores.tr_size)))\n",
    "\n",
    "# display(scores[:2])\n",
    "print('Training set sizes:', np.unique(scores.tr_size))\n",
    "\n",
    "# scores_te = scores[(scores.metric=='mean_absolute_error') & (scores.set=='te')].reset_index(drop=True).iloc[:, :6]\n",
    "scores_te = scores[(scores.metric=='mean_absolute_error') & (scores.set=='te')].reset_index(drop=True)\n",
    "\n",
    "save = True\n",
    "if save:\n",
    "    scores.to_csv(base_dir/'all_seed_runs_scores.csv', index=False)\n",
    "    scores_te.to_csv(base_dir/'scores.csv', index=False)"
   ]
  },
  {
   "cell_type": "code",
   "execution_count": 7,
   "metadata": {},
   "outputs": [],
   "source": [
    "# (scr.iloc[0,6:] < 0.58)\n",
    "# run_names = ['run0', 'run2', 'run3', 'run7', 'run8', 'run10', 'run13', 'run15', 'run17', 'run18']\n",
    "# tmp = scores_te.iloc[:, 6:]\n",
    "# scr = pd.concat([scores_te.iloc[:, :6], tmp[run_names]], axis=1)"
   ]
  },
  {
   "cell_type": "code",
   "execution_count": 8,
   "metadata": {},
   "outputs": [],
   "source": [
    "# scores_te.T"
   ]
  },
  {
   "cell_type": "code",
   "execution_count": 9,
   "metadata": {},
   "outputs": [],
   "source": [
    "# # scores_te[[c for c in scores_te.columns if c not in ['run9', 'run12', 'run16']]]\n",
    "# tmp = scores_te[[c for c in scores_te.columns if c in ['file', 'run9', 'run12', 'run16']]]\n",
    "# pd.concat([scores_te.iloc[:,:5], tmp], axis=1)"
   ]
  },
  {
   "cell_type": "code",
   "execution_count": null,
   "metadata": {},
   "outputs": [],
   "source": []
  },
  {
   "cell_type": "markdown",
   "metadata": {},
   "source": [
    "# LC all lin-lin"
   ]
  },
  {
   "cell_type": "code",
   "execution_count": 10,
   "metadata": {},
   "outputs": [],
   "source": [
    "figsize = (6, 4.5)\n",
    "metric_name = 'mean_absolute_error'\n",
    "tr_set = 'te'\n",
    "\n",
    "# shift_idx=0\n",
    "# shift_idx=1\n",
    "# shift_idx=2\n",
    "# shift_idx=3\n",
    "\n",
    "if src=='gdsc':\n",
    "    shift_idx=2\n",
    "elif src=='top6':\n",
    "    shift_idx=2"
   ]
  },
  {
   "cell_type": "code",
   "execution_count": 11,
   "metadata": {},
   "outputs": [
    {
     "data": {
      "image/png": "[encoded data removed]",
      "text/plain": [
       "<Figure size 432x324 with 1 Axes>"
      ]
     },
     "metadata": {
      "needs_background": "light"
     },
     "output_type": "display_data"
    }
   ],
   "source": [
    "plot_args = {'tr_set': tr_set, 'metric_name': metric_name, 'figsize': figsize, 'xtick_scale': 'linear', 'ytick_scale': 'linear'}\n",
    "\n",
    "ax = pp_utils.plot_lc_multi_runs( runs, shard_min_idx=shift_idx, **plot_args );\n",
    "\n",
    "ax.tick_params(axis='both', labelsize=11)\n",
    "ax.grid(False)\n",
    "\n",
    "plt.tight_layout()\n",
    "plt.savefig(base_dir/(f'{src}_{model}_all_runs_linlin.png'), dpi=200)"
   ]
  },
  {
   "cell_type": "code",
   "execution_count": null,
   "metadata": {},
   "outputs": [],
   "source": []
  },
  {
   "cell_type": "markdown",
   "metadata": {},
   "source": [
    "# LC all log-log"
   ]
  },
  {
   "cell_type": "code",
   "execution_count": 12,
   "metadata": {},
   "outputs": [
    {
     "data": {
      "image/png": "[encoded data removed]",
      "text/plain": [
       "<Figure size 432x324 with 1 Axes>"
      ]
     },
     "metadata": {
      "needs_background": "light"
     },
     "output_type": "display_data"
    }
   ],
   "source": [
    "plot_args = {'tr_set': tr_set, 'metric_name': metric_name, 'figsize': figsize, 'xtick_scale': 'log2', 'ytick_scale': 'log2'}\n",
    "\n",
    "ax = pp_utils.plot_lc_multi_runs( runs, shard_min_idx=shift_idx, **plot_args );\n",
    "\n",
    "# print(ax.xaxis.get_major_locator())\n",
    "# print(ax.yaxis.get_major_locator())\n",
    "# print(ax.xaxis.get_major_formatter())\n",
    "# print(ax.yaxis.get_major_formatter())\n",
    "\n",
    "# General axes prms\n",
    "# https://matplotlib.org/3.1.1/api/_as_gen/matplotlib.axes.Axes.tick_params.html\n",
    "ax.tick_params(axis='both', labelsize=11)\n",
    "\n",
    "# Set X axis\n",
    "xlim = ax.get_xlim()\n",
    "# ax.set_xticks([2**i for i in range(2, 17)])\n",
    "# ax.set_ylim([0.063, 0.195]) # GDSC GBDT\n",
    "\n",
    "# Set Y axis\n",
    "ax = set_yticks_ap(ax)\n",
    "\n",
    "ax.grid(False)\n",
    "plt.tight_layout()\n",
    "plt.savefig(base_dir/(f'{src}_{model}_all_runs_loglog.png'), dpi=200)"
   ]
  },
  {
   "cell_type": "code",
   "execution_count": 13,
   "metadata": {},
   "outputs": [],
   "source": [
    "# Fit data\n",
    "# pp_utils.fit_lc_multi_runs(runs, metric_name=metric_name, tr_set='te',\n",
    "#                              shard_min_idx=shard_min_idx, cv_folds=1,\n",
    "#                              xtick_scale=xtick_scale, ytick_scale=ytick_scale)"
   ]
  },
  {
   "cell_type": "code",
   "execution_count": 14,
   "metadata": {},
   "outputs": [],
   "source": [
    "# x, y = get_xy(Path(runs[2]), metric_name='mean_absolute_error', tr_set='te', shard_min_idx=0, cv_folds=1)\n",
    "# ax = lrn_crv_plot.plot_lrn_crv_power_law(x=x, y=y, marker='.', alpha=0.7)"
   ]
  },
  {
   "cell_type": "code",
   "execution_count": null,
   "metadata": {},
   "outputs": [],
   "source": []
  },
  {
   "cell_type": "markdown",
   "metadata": {},
   "source": [
    "# LC of Median and STD across shuffles"
   ]
  },
  {
   "cell_type": "code",
   "execution_count": 15,
   "metadata": {},
   "outputs": [],
   "source": [
    "plot_args = {'metric_name': metric_name, 'xtick_scale': 'log2', 'ytick_scale': 'log2', 'figsize': figsize}\n",
    "\n",
    "# The previous two figures should help decide which shards to use\n",
    "scr = scores_te[shift_idx:].reset_index(drop=True)\n",
    "y_col_name = 'median'"
   ]
  },
  {
   "cell_type": "code",
   "execution_count": 16,
   "metadata": {},
   "outputs": [
    {
     "data": {
      "image/png": "[encoded data removed]",
      "text/plain": [
       "<Figure size 432x324 with 1 Axes>"
      ]
     },
     "metadata": {
      "needs_background": "light"
     },
     "output_type": "display_data"
    }
   ],
   "source": [
    "x = scr['tr_size'].values\n",
    "y = scr[y_col_name].values\n",
    "yerr = scr['std'].values\n",
    "\n",
    "shard_min_id = 0\n",
    "xf = x[shard_min_id:]\n",
    "yf = y[shard_min_id:]\n",
    "\n",
    "ax = None\n",
    "\n",
    "ax = lrn_crv_plot.plot_lrn_crv_new(x=x, y=y, yerr=yerr,\n",
    "                                   ax=ax, ls='', marker='v', alpha=1,\n",
    "                                   **plot_args, color='b', label='Median and STD');\n",
    "# ---------------------\n",
    "# General axes prms\n",
    "# https://matplotlib.org/3.1.1/api/_as_gen/matplotlib.axes.Axes.tick_params.html\n",
    "ax.tick_params(axis='both', labelsize=11)\n",
    "\n",
    "# Set X axis\n",
    "xlim = ax.get_xlim()\n",
    "# ax.set_xticks([2**i for i in range(2, 17)])\n",
    "\n",
    "# Set Y axis\n",
    "ax = set_yticks_ap(ax)\n",
    "\n",
    "ax.legend(frameon=True, fontsize=10, loc='best');\n",
    "ax.grid(False)\n",
    "plt.tight_layout()\n",
    "plt.savefig(base_dir/(f'{src}_{model}_avg_median_std.png'), dpi=200)"
   ]
  },
  {
   "cell_type": "code",
   "execution_count": null,
   "metadata": {},
   "outputs": [],
   "source": []
  },
  {
   "cell_type": "markdown",
   "metadata": {},
   "source": [
    "# Fit using all shards"
   ]
  },
  {
   "cell_type": "code",
   "execution_count": 17,
   "metadata": {},
   "outputs": [
    {
     "name": "stdout",
     "output_type": "stream",
     "text": [
      "GOF: {'rmse': 0.019030336294613, 'mae': 0.009198456244236609}\n"
     ]
    },
    {
     "data": {
      "image/png": "[encoded data removed]",
      "text/plain": [
       "<Figure size 432x324 with 1 Axes>"
      ]
     },
     "metadata": {
      "needs_background": "light"
     },
     "output_type": "display_data"
    }
   ],
   "source": [
    "x = scr['tr_size'].values\n",
    "y = scr[y_col_name].values\n",
    "yerr = scr['std'].values\n",
    "\n",
    "shard_min_id = 0\n",
    "xf = x[shard_min_id:]\n",
    "yf = y[shard_min_id:]\n",
    "prms = fit_params(xf, yf)\n",
    "yfit = biased_powerlaw(xf, **prms)\n",
    "\n",
    "ax = None\n",
    "\n",
    "# Median values\n",
    "ax = lrn_crv_plot.plot_lrn_crv_new(x=x, y=y, yerr=yerr,\n",
    "                                   ax=ax, ls='', marker='v', alpha=1,\n",
    "                                   **plot_args, color='b', label='Median and STD')\n",
    "\n",
    "# Fit\n",
    "ax = lrn_crv_plot.plot_lrn_crv_new(x=xf, y=yfit,\n",
    "                                   ax=ax, ls='--', marker='', alpha=1,\n",
    "                                   **plot_args, color='firebrick', label='Fitted curve')\n",
    "gof = calc_gof(yf, yfit)\n",
    "print('GOF:', gof)\n",
    "\n",
    "# ---------------------\n",
    "# General axes prms\n",
    "# https://matplotlib.org/3.1.1/api/_as_gen/matplotlib.axes.Axes.tick_params.html\n",
    "ax.tick_params(axis='both', labelsize=11)\n",
    "\n",
    "# Set X axis\n",
    "xlim = ax.get_xlim()\n",
    "# ax.set_xticks([2**i for i in range(2, 17)])\n",
    "\n",
    "# Set Y axis\n",
    "ax = set_yticks_ap(ax)\n",
    "\n",
    "ax.legend(frameon=True, fontsize=11, loc='best');\n",
    "ax.grid(False)\n",
    "plt.tight_layout()\n",
    "plt.savefig(base_dir/(f'{src}_{model}_fit_using_all_pnts.png'), dpi=200)"
   ]
  },
  {
   "cell_type": "code",
   "execution_count": null,
   "metadata": {},
   "outputs": [],
   "source": []
  },
  {
   "cell_type": "markdown",
   "metadata": {},
   "source": [
    "# Fit using subset of shards"
   ]
  },
  {
   "cell_type": "code",
   "execution_count": 18,
   "metadata": {},
   "outputs": [
    {
     "name": "stdout",
     "output_type": "stream",
     "text": [
      "GOF: {'rmse': 0.0004754311088049692, 'mae': 0.0002716722643654483}\n"
     ]
    },
    {
     "data": {
      "image/png": "[encoded data removed]",
      "text/plain": [
       "<Figure size 432x324 with 1 Axes>"
      ]
     },
     "metadata": {
      "needs_background": "light"
     },
     "output_type": "display_data"
    }
   ],
   "source": [
    "tot_pnts = len(x)\n",
    "n_pnts_fit = 9 # Number of points to use for curve fitting starting from the largest size\n",
    "\n",
    "x = scr['tr_size'].values\n",
    "y = scr[y_col_name].values\n",
    "yerr = scr['std'].values\n",
    "\n",
    "shard_min_id = 0 if tot_pnts < n_pnts_fit else tot_pnts - n_pnts_fit\n",
    "\n",
    "xf = x[shard_min_id:]\n",
    "yf = y[shard_min_id:]\n",
    "prms = fit_params(xf, yf)\n",
    "yfit = biased_powerlaw(xf, **prms)\n",
    "\n",
    "ax = None\n",
    "\n",
    "# Median values\n",
    "ax = lrn_crv_plot.plot_lrn_crv_new(x=x, y=y, yerr=yerr,\n",
    "                                   ax=ax, ls='', marker='v', alpha=1,\n",
    "                                   **plot_args, color='b', label='Median and STD')\n",
    "\n",
    "# Fit\n",
    "ax = lrn_crv_plot.plot_lrn_crv_new(x=xf, y=yfit,\n",
    "                                   ax=ax, ls='--', marker='', alpha=1,\n",
    "                                   **plot_args, color='firebrick', label='Fitted curve')\n",
    "gof = calc_gof(yf, yfit)\n",
    "print('GOF:', gof)\n",
    "\n",
    "# ---------------------\n",
    "# General axes prms\n",
    "# https://matplotlib.org/3.1.1/api/_as_gen/matplotlib.axes.Axes.tick_params.html\n",
    "ax.tick_params(axis='both', labelsize=11)\n",
    "\n",
    "# Set X axis\n",
    "xlim = ax.get_xlim()\n",
    "# ax.set_xticks([2**i for i in range(2, 17)])\n",
    "\n",
    "# Set Y axis\n",
    "ax = set_yticks_ap(ax)\n",
    "\n",
    "ax.legend(frameon=True, fontsize=11, loc='best');\n",
    "ax.grid(False)\n",
    "plt.tight_layout()\n",
    "plt.savefig(base_dir/(f'{src}_{model}_fit_using_subset_pnts.png'), dpi=200)"
   ]
  },
  {
   "cell_type": "code",
   "execution_count": null,
   "metadata": {},
   "outputs": [],
   "source": []
  },
  {
   "cell_type": "markdown",
   "metadata": {},
   "source": [
    "# GOF (fit MAE) vs Number of LC fit points\n",
    "\n",
    "The workflow is to go backwards. We fit a power-law after every time we compute score for consecutive (smaller) shard. Stop when quality of fit decreases."
   ]
  },
  {
   "cell_type": "code",
   "execution_count": 19,
   "metadata": {},
   "outputs": [
    {
     "name": "stdout",
     "output_type": "stream",
     "text": [
      "tot_pnts 15\n"
     ]
    },
    {
     "data": {
      "image/png": "[encoded data removed]",
      "text/plain": [
       "<Figure size 432x324 with 1 Axes>"
      ]
     },
     "metadata": {
      "needs_background": "light"
     },
     "output_type": "display_data"
    }
   ],
   "source": [
    "x = scr['tr_size'].values\n",
    "y = scr[y_col_name].values\n",
    "yerr = scr['std'].values\n",
    "\n",
    "tot_pnts = len(x)\n",
    "print('tot_pnts', tot_pnts)\n",
    "min_pnts_fit = 3  # 3 points doesn't work\n",
    "# min_pnts_fit = 4  # Min points to fit \n",
    "# max_pnts_fit = 9  # Min points to fit\n",
    "max_pnts_fit = tot_pnts\n",
    "\n",
    "p_arr = []\n",
    "gof_arr = []\n",
    "prm_arr = []\n",
    "xmin = []\n",
    "\n",
    "ax = None\n",
    "ax = lrn_crv_plot.plot_lrn_crv_new(x=x, y=y, yerr=yerr,\n",
    "                                   ax=ax, ls='', marker='v', alpha=1,\n",
    "                                   **plot_args, color='b', label='Median and STD');\n",
    "\n",
    "for n_pnts_fit in range(min_pnts_fit, max_pnts_fit+1):\n",
    "    shard_min_idx = tot_pnts - n_pnts_fit\n",
    "    \n",
    "    xf = x[shard_min_idx:]\n",
    "    yf = y[shard_min_idx:]\n",
    "    prms = fit_params(xf, yf)\n",
    "    yfit = biased_powerlaw(xf, **prms)\n",
    "    \n",
    "    gof = calc_gof(yf, yfit)\n",
    "    \n",
    "    ax = lrn_crv_plot.plot_lrn_crv_new(x=xf, y=yfit,\n",
    "                                       ax=ax, ls='--', marker='', alpha=1,\n",
    "                                       **plot_args, label='Fit');\n",
    "    \n",
    "    prm_arr.append(prms)\n",
    "    gof_arr.append(gof)\n",
    "    p_arr.append(n_pnts_fit)\n",
    "    xmin.append(xf[0])"
   ]
  },
  {
   "cell_type": "code",
   "execution_count": 20,
   "metadata": {},
   "outputs": [
    {
     "data": {
      "text/html": [
       "<div>\n",
       "<style scoped>\n",
       "    .dataframe tbody tr th:only-of-type {\n",
       "        vertical-align: middle;\n",
       "    }\n",
       "\n",
       "    .dataframe tbody tr th {\n",
       "        vertical-align: top;\n",
       "    }\n",
       "\n",
       "    .dataframe thead th {\n",
       "        text-align: right;\n",
       "    }\n",
       "</style>\n",
       "<table border=\"1\" class=\"dataframe\">\n",
       "  <thead>\n",
       "    <tr style=\"text-align: right;\">\n",
       "      <th></th>\n",
       "      <th>n_pnts</th>\n",
       "      <th>0</th>\n",
       "      <th>mae</th>\n",
       "      <th>rmse</th>\n",
       "      <th>alpha</th>\n",
       "      <th>beta</th>\n",
       "      <th>gamma</th>\n",
       "    </tr>\n",
       "  </thead>\n",
       "  <tbody>\n",
       "    <tr>\n",
       "      <th>0</th>\n",
       "      <td>3</td>\n",
       "      <td>32768</td>\n",
       "      <td>0.000000</td>\n",
       "      <td>0.000000</td>\n",
       "      <td>7.502378</td>\n",
       "      <td>-0.761153</td>\n",
       "      <td>0.068410</td>\n",
       "    </tr>\n",
       "    <tr>\n",
       "      <th>1</th>\n",
       "      <td>4</td>\n",
       "      <td>16384</td>\n",
       "      <td>0.000004</td>\n",
       "      <td>0.000004</td>\n",
       "      <td>3.995500</td>\n",
       "      <td>-0.694716</td>\n",
       "      <td>0.068233</td>\n",
       "    </tr>\n",
       "    <tr>\n",
       "      <th>4</th>\n",
       "      <td>7</td>\n",
       "      <td>2048</td>\n",
       "      <td>0.000028</td>\n",
       "      <td>0.000035</td>\n",
       "      <td>1.215714</td>\n",
       "      <td>-0.561688</td>\n",
       "      <td>0.067655</td>\n",
       "    </tr>\n",
       "    <tr>\n",
       "      <th>3</th>\n",
       "      <td>6</td>\n",
       "      <td>4096</td>\n",
       "      <td>0.000032</td>\n",
       "      <td>0.000039</td>\n",
       "      <td>1.222644</td>\n",
       "      <td>-0.562375</td>\n",
       "      <td>0.067659</td>\n",
       "    </tr>\n",
       "    <tr>\n",
       "      <th>2</th>\n",
       "      <td>5</td>\n",
       "      <td>8192</td>\n",
       "      <td>0.000037</td>\n",
       "      <td>0.000044</td>\n",
       "      <td>1.409120</td>\n",
       "      <td>-0.578946</td>\n",
       "      <td>0.067755</td>\n",
       "    </tr>\n",
       "    <tr>\n",
       "      <th>5</th>\n",
       "      <td>8</td>\n",
       "      <td>1024</td>\n",
       "      <td>0.000040</td>\n",
       "      <td>0.000048</td>\n",
       "      <td>1.170658</td>\n",
       "      <td>-0.556962</td>\n",
       "      <td>0.067620</td>\n",
       "    </tr>\n",
       "    <tr>\n",
       "      <th>6</th>\n",
       "      <td>9</td>\n",
       "      <td>512</td>\n",
       "      <td>0.000272</td>\n",
       "      <td>0.000475</td>\n",
       "      <td>0.950154</td>\n",
       "      <td>-0.529889</td>\n",
       "      <td>0.067386</td>\n",
       "    </tr>\n",
       "    <tr>\n",
       "      <th>7</th>\n",
       "      <td>10</td>\n",
       "      <td>256</td>\n",
       "      <td>0.000712</td>\n",
       "      <td>0.001344</td>\n",
       "      <td>0.722689</td>\n",
       "      <td>-0.493045</td>\n",
       "      <td>0.066998</td>\n",
       "    </tr>\n",
       "    <tr>\n",
       "      <th>8</th>\n",
       "      <td>11</td>\n",
       "      <td>128</td>\n",
       "      <td>0.001413</td>\n",
       "      <td>0.002864</td>\n",
       "      <td>0.546631</td>\n",
       "      <td>-0.454076</td>\n",
       "      <td>0.066489</td>\n",
       "    </tr>\n",
       "    <tr>\n",
       "      <th>9</th>\n",
       "      <td>12</td>\n",
       "      <td>64</td>\n",
       "      <td>0.002589</td>\n",
       "      <td>0.005055</td>\n",
       "      <td>0.428375</td>\n",
       "      <td>-0.418873</td>\n",
       "      <td>0.065922</td>\n",
       "    </tr>\n",
       "    <tr>\n",
       "      <th>10</th>\n",
       "      <td>13</td>\n",
       "      <td>32</td>\n",
       "      <td>0.004033</td>\n",
       "      <td>0.008323</td>\n",
       "      <td>0.346991</td>\n",
       "      <td>-0.387457</td>\n",
       "      <td>0.065309</td>\n",
       "    </tr>\n",
       "    <tr>\n",
       "      <th>11</th>\n",
       "      <td>14</td>\n",
       "      <td>16</td>\n",
       "      <td>0.006390</td>\n",
       "      <td>0.013218</td>\n",
       "      <td>0.287985</td>\n",
       "      <td>-0.358802</td>\n",
       "      <td>0.064641</td>\n",
       "    </tr>\n",
       "    <tr>\n",
       "      <th>12</th>\n",
       "      <td>15</td>\n",
       "      <td>8</td>\n",
       "      <td>0.009198</td>\n",
       "      <td>0.019030</td>\n",
       "      <td>0.248993</td>\n",
       "      <td>-0.335762</td>\n",
       "      <td>0.064010</td>\n",
       "    </tr>\n",
       "  </tbody>\n",
       "</table>\n",
       "</div>"
      ],
      "text/plain": [
       "    n_pnts      0       mae      rmse     alpha      beta     gamma\n",
       "0        3  32768  0.000000  0.000000  7.502378 -0.761153  0.068410\n",
       "1        4  16384  0.000004  0.000004  3.995500 -0.694716  0.068233\n",
       "4        7   2048  0.000028  0.000035  1.215714 -0.561688  0.067655\n",
       "3        6   4096  0.000032  0.000039  1.222644 -0.562375  0.067659\n",
       "2        5   8192  0.000037  0.000044  1.409120 -0.578946  0.067755\n",
       "5        8   1024  0.000040  0.000048  1.170658 -0.556962  0.067620\n",
       "6        9    512  0.000272  0.000475  0.950154 -0.529889  0.067386\n",
       "7       10    256  0.000712  0.001344  0.722689 -0.493045  0.066998\n",
       "8       11    128  0.001413  0.002864  0.546631 -0.454076  0.066489\n",
       "9       12     64  0.002589  0.005055  0.428375 -0.418873  0.065922\n",
       "10      13     32  0.004033  0.008323  0.346991 -0.387457  0.065309\n",
       "11      14     16  0.006390  0.013218  0.287985 -0.358802  0.064641\n",
       "12      15      8  0.009198  0.019030  0.248993 -0.335762  0.064010"
      ]
     },
     "metadata": {},
     "output_type": "display_data"
    }
   ],
   "source": [
    "prm_df = pd.DataFrame(prm_arr)\n",
    "gof_df = pd.DataFrame(gof_arr)\n",
    "xmin_df = pd.DataFrame(xmin)\n",
    "n_pnts_df = pd.DataFrame({'n_pnts': p_arr})\n",
    "dd = pd.concat([n_pnts_df, xmin_df, gof_df, prm_df], axis=1)\n",
    "dd = dd.sort_values('mae')\n",
    "display(dd)\n",
    "\n",
    "dd.to_csv(base_dir/f'{src}_{model}_fit_mae_vs_nfit_pnts.csv', index=False)"
   ]
  },
  {
   "cell_type": "code",
   "execution_count": 21,
   "metadata": {},
   "outputs": [
    {
     "name": "stdout",
     "output_type": "stream",
     "text": [
      "X axis range: (2.4, 15.6)\n"
     ]
    },
    {
     "data": {
      "image/png": "[encoded data removed]",
      "text/plain": [
       "<Figure size 432x288 with 2 Axes>"
      ]
     },
     "metadata": {
      "needs_background": "light"
     },
     "output_type": "display_data"
    }
   ],
   "source": [
    "# plot_beta = False\n",
    "plot_beta = True\n",
    "\n",
    "fig, ax1 = plt.subplots()\n",
    "\n",
    "# Plot metrics\n",
    "alpha = 0.6\n",
    "linewidth = 1\n",
    "fontsize = 12\n",
    "lns1 = ax1.plot(dd.n_pnts, dd.mae, marker='o', ls='', color='teal', label='Fit MAE');\n",
    "ax1.set_xlabel('Number of Curve Fitting Points', fontsize=fontsize)\n",
    "ax1.set_ylabel('Fit MAE', fontsize=fontsize)\n",
    "ax1.tick_params('y', colors='k')\n",
    "\n",
    "if plot_beta:\n",
    "    ax2 = ax1.twinx()\n",
    "    lns2 = ax2.plot(dd.n_pnts, dd.beta, color='m', marker='*', ls='', label='Fit Parameter $b$')\n",
    "    # ax2.set_ylabel('Fit Parameter $b$ in $am^{b} + c$', color='k', fontsize=fontsize)\n",
    "    ax2.set_ylabel('Fit Parameter $b$ in $am^{b}$', color='k', fontsize=fontsize)\n",
    "    ax2.tick_params('y', colors='k')\n",
    "    leg = lns1 + lns2\n",
    "    # print(ax2.get_ylim())\n",
    "else:\n",
    "    leg = lns1\n",
    "        \n",
    "ax1.grid(True)\n",
    "# print(ax1.get_ylim())\n",
    "\n",
    "labs = [l.get_label() for l in leg]\n",
    "# legend = ax2.legend(leg, labs, frameon=True, fontsize=11, loc='best')\n",
    "legend = ax1.legend(leg, labs, frameon=True, fontsize=11, loc='best')\n",
    "frame = legend.get_frame()\n",
    "frame.set_facecolor('0.95')\n",
    "print('X axis range:', ax1.get_xlim())\n",
    "\n",
    "# ax.set_ylim([0.060, 0.150])\n",
    "ax1.grid(False)\n",
    "plt.tight_layout()\n",
    "plt.savefig(base_dir/(f'{src}_{model}_fit_mae_vs_nfit_pnts.png'), dpi=200)"
   ]
  },
  {
   "cell_type": "code",
   "execution_count": null,
   "metadata": {},
   "outputs": [],
   "source": []
  },
  {
   "cell_type": "markdown",
   "metadata": {},
   "source": [
    "# Extrapolation"
   ]
  },
  {
   "cell_type": "code",
   "execution_count": 58,
   "metadata": {},
   "outputs": [],
   "source": [
    "def plot_lc_fit(x, y, xf, yf, yfit, xext=None, yext=None, xtick_scale='log2', ytick_scale='log2', figsize=(6, 4.5), ax=None,\n",
    "               fit_line_color='b', extrp_point_color='r', fit_line_ls='--', extrp_point_marker='o', ):\n",
    "    plot_args = {'metric_name': metric_name, 'xtick_scale': xtick_scale, 'ytick_scale': ytick_scale, 'figsize': figsize}\n",
    "    plot_args['metric_name'] = metric_name\n",
    "    \n",
    "    # ax = None\n",
    "\n",
    "    # Plot all points\n",
    "    ax = lrn_crv_plot.plot_lrn_crv_new(\n",
    "            x = x, y = y, # yerr = scr['std'],\n",
    "            ax=ax, ls='', marker='.', alpha=0.8, color='k',\n",
    "            **plot_args, label='Excluded points')\n",
    "\n",
    "    # Plot fitting points\n",
    "    ax = lrn_crv_plot.plot_lrn_crv_new(\n",
    "            x = xf, y = yf,\n",
    "            ax=ax, ls='', marker='v', alpha=0.8, color='b',\n",
    "            **plot_args, label='Fitting points')\n",
    "\n",
    "    # Plot fit curve\n",
    "    ax = lrn_crv_plot.plot_lrn_crv_new(\n",
    "            x = xf, y = yfit,\n",
    "            ax=ax, ls=fit_line_ls, marker='', alpha=0.8, color=fit_line_color,\n",
    "            **plot_args, label='Fitted curve')\n",
    "\n",
    "    # Plot extrapolation point\n",
    "    if (xext is not None) and (yext is not None):\n",
    "        ax.plot(xext, yext, extrp_point_marker, color=extrp_point_color, markeredgecolor='k', alpha=1, label='Extrap. point');\n",
    "\n",
    "    # Extrapolate beyond available size\n",
    "    # ax = lrn_crv_plot.plot_lrn_crv_new(\n",
    "    #         x = xext_far, y = yext_far, # yerr = scr.loc[fit_min:fit_max, 'std'],\n",
    "    #         ax=ax, ls='--', marker='', alpha=0.8, color='b',\n",
    "    #         **plot_args, label='Extrapolation (far)')\n",
    "\n",
    "    # ---------------------\n",
    "    ax.tick_params(axis='both', labelsize=11)\n",
    "    xlim = ax.get_xlim()\n",
    "    ax = set_yticks_ap(ax) # Set Y axis\n",
    "\n",
    "    ax.legend(frameon=True, fontsize=11, loc='best')\n",
    "    plt.tight_layout()\n",
    "    ax.grid(False)\n",
    "    return ax\n",
    "\n",
    "# plt.savefig(base_dir/('{}_extrap_{}.png'.format(src, ytick_scale)), dpi=200)"
   ]
  },
  {
   "cell_type": "code",
   "execution_count": 59,
   "metadata": {},
   "outputs": [],
   "source": [
    "def fit_extrp_lc(x, y, xfit_start_id, xfit_end_id, xext_id=None, verbose=False):\n",
    "    # Define fitting range\n",
    "    tot_pnts = len(x)\n",
    "    # xfit_start_id = 5\n",
    "    # xfit_start_id = 10\n",
    "    # xfit_end_id = tot_pnts - 2\n",
    "    # xfit_end_id = 13 # Good extrp: after linear region\n",
    "    # xfit_end_id = 11 # Failed extrp: linear region\n",
    "\n",
    "    xf = x[xfit_start_id : xfit_end_id+1]\n",
    "    yf = y[xfit_start_id : xfit_end_id+1]\n",
    "        \n",
    "    # Fit\n",
    "    prms = fit_params(xf, yf)\n",
    "    yfit = biased_powerlaw(xf, **prms)\n",
    "\n",
    "    # Fit GOF\n",
    "    fit_gof = calc_gof(yf, yfit)\n",
    "    \n",
    "    # Extrapolate\n",
    "    if xext_id is None:\n",
    "        xext_id = tot_pnts - 1\n",
    "    # xext_id = 14\n",
    "    xext = x[xext_id]\n",
    "    yext = biased_powerlaw(xext, **prms)\n",
    "\n",
    "    # Extrap GOF\n",
    "    extrp_gof = calc_gof( [y[xext_id]], [yext] )\n",
    "\n",
    "    # Extrapolate beyond available size\n",
    "    xext_far = np.array([int(i) for i in 2 ** np.array(np.arange(25))[1:]])\n",
    "    idx_min = np.argmin( np.abs( xext_far - xf[0] ) )\n",
    "    xext_far = xext_far[idx_min:]\n",
    "    yext_far = biased_powerlaw(xext_far, **prms)\n",
    "    \n",
    "    # Summarize results\n",
    "    rslt = {}\n",
    "    rslt['x'] = x\n",
    "    rslt['y'] = y\n",
    "    rslt['xf'] = xf\n",
    "    rslt['yf'] = yf\n",
    "    rslt['yfit'] = yfit\n",
    "    rslt['xext'] = xext\n",
    "    rslt['yext'] = yext    \n",
    "    rslt['prms'] = prms\n",
    "    rslt['fit_gof'] = fit_gof\n",
    "    rslt['extrp_gof'] = extrp_gof\n",
    "    \n",
    "    if verbose:\n",
    "        print(xf)\n",
    "        print('xfit_start_id={}, m={}'.format(xfit_start_id, x[xfit_start_id]))\n",
    "        print('xfit_end_id={}, m={}'.format(xfit_end_id, x[xfit_end_id]))\n",
    "        print('Fig prms:', prms)\n",
    "        print('Fit GOF:', fit_gof)\n",
    "        print('xext_id={}, m={}'.format(xext_id, xext))\n",
    "        print('Extrp GOF:', extrp_gof)    \n",
    "    \n",
    "    return rslt\n",
    "    # return prms, xf, yf, xext, yext"
   ]
  },
  {
   "cell_type": "code",
   "execution_count": 62,
   "metadata": {},
   "outputs": [
    {
     "data": {
      "image/png": "[encoded data removed]",
      "text/plain": [
       "<Figure size 432x324 with 1 Axes>"
      ]
     },
     "metadata": {
      "needs_background": "light"
     },
     "output_type": "display_data"
    }
   ],
   "source": [
    "# This one is only for GBDC with GDSC\n",
    "xtick_scale='log2'; ytick_scale='log2'\n",
    "# xtick_scale='linear'; ytick_scale='linear'\n",
    "scr = scores_te.copy()\n",
    "x = scr['tr_size'].values\n",
    "y = scr['median'].values\n",
    "\n",
    "# Bad extrp (subset points)\n",
    "xfit_start_id_good=7;  xfit_end_id_good=11 # Bad points\n",
    "rslt = fit_extrp_lc(x, y, xfit_start_id=xfit_start_id_good, xfit_end_id=xfit_end_id_good, xext_id=xfit_end_id_good+1)\n",
    "ax = plot_lc_fit(x=rslt['x'], y=rslt['y'], xf=rslt['xf'], yf=rslt['yf'], yfit=rslt['yfit'], xext=rslt['xext'], yext=rslt['yext'],\n",
    "                 xtick_scale=xtick_scale, ytick_scale=ytick_scale,\n",
    "                 fit_line_color='b', fit_line_ls='--', extrp_point_color='darkorange', extrp_point_marker='s')\n",
    "plt.savefig(base_dir/f'{src}_{model}_extrp_good2_{ytick_scale}.png', dpi=200)"
   ]
  },
  {
   "cell_type": "code",
   "execution_count": 65,
   "metadata": {},
   "outputs": [
    {
     "data": {
      "image/png": "[encoded data removed]",
      "text/plain": [
       "<Figure size 432x324 with 1 Axes>"
      ]
     },
     "metadata": {
      "needs_background": "light"
     },
     "output_type": "display_data"
    },
    {
     "data": {
      "image/png": "[encoded data removed]",
      "text/plain": [
       "<Figure size 432x324 with 1 Axes>"
      ]
     },
     "metadata": {
      "needs_background": "light"
     },
     "output_type": "display_data"
    }
   ],
   "source": [
    "xtick_scale='log2'; ytick_scale='log2'\n",
    "# xtick_scale='linear'; ytick_scale='linear'\n",
    "scr = scores_te.copy()\n",
    "x = scr['tr_size'].values\n",
    "y = scr['median'].values\n",
    "\n",
    "# GDSC (GBDT)\n",
    "if src=='gdsc':\n",
    "    xfit_start_id_good=7; xfit_end_id_good=13 # Good points\n",
    "    xfit_start_id_bad=7;  xfit_end_id_bad=11 # Bad points\n",
    "elif src=='top6':\n",
    "    xfit_start_id_good=8; xfit_end_id_good=14 # Good points\n",
    "    xfit_start_id_bad=8;  xfit_end_id_bad=12 # Bad points\n",
    "\n",
    "# Good extrp (subset points)\n",
    "rslt = fit_extrp_lc(x, y, xfit_start_id=xfit_start_id_good, xfit_end_id=xfit_end_id_good)\n",
    "ax = plot_lc_fit(x=rslt['x'], y=rslt['y'], xf=rslt['xf'], yf=rslt['yf'], yfit=rslt['yfit'], xext=rslt['xext'], yext=rslt['yext'],\n",
    "                 xtick_scale=xtick_scale, ytick_scale=ytick_scale,\n",
    "                 fit_line_color='indigo', fit_line_ls='dashdot', extrp_point_color='r', extrp_point_marker='o');\n",
    "rslt_good = rslt\n",
    "plt.savefig(base_dir/f'{src}_{model}_extrp_good_{ytick_scale}.png', dpi=200)\n",
    "\n",
    "# Bad extrp (subset points)\n",
    "rslt = fit_extrp_lc(x, y, xfit_start_id=xfit_start_id_bad, xfit_end_id=xfit_end_id_bad) \n",
    "ax = plot_lc_fit(x=rslt['x'], y=rslt['y'], xf=rslt['xf'], yf=rslt['yf'], yfit=rslt['yfit'], xext=rslt['xext'], yext=rslt['yext'],\n",
    "                 xtick_scale=xtick_scale, ytick_scale=ytick_scale,\n",
    "                 fit_line_color='b', fit_line_ls='--', extrp_point_color='r', extrp_point_marker='o');\n",
    "rslt_bad = rslt\n",
    "plt.savefig(base_dir/f'{src}_{model}_extrp_bad_{ytick_scale}.png', dpi=200)"
   ]
  },
  {
   "cell_type": "code",
   "execution_count": 52,
   "metadata": {},
   "outputs": [
    {
     "name": "stdout",
     "output_type": "stream",
     "text": [
      "{'x': array([    2,     4,     8,    16,    32,    64,   128,   256,   512,\n",
      "        1024,  2048,  4096,  8192, 16384, 32768, 65536, 88416]), 'y': array([0.13429243, 0.13064303, 0.12569458, 0.12681216, 0.12851251,\n",
      "       0.12474124, 0.11799193, 0.11006977, 0.10102101, 0.09218545,\n",
      "       0.08443451, 0.07899845, 0.07535211, 0.07294897, 0.07115311,\n",
      "       0.07002848, 0.06969859]), 'xf': array([  256,   512,  1024,  2048,  4096,  8192, 16384]), 'yf': array([0.11006977, 0.10102101, 0.09218545, 0.08443451, 0.07899845,\n",
      "       0.07535211, 0.07294897]), 'yfit': array([0.11240277, 0.10014527, 0.09105157, 0.08430505, 0.07929988,\n",
      "       0.0755866 , 0.07283176]), 'xext': 88416, 'yext': 0.06874432463143983, 'prms': {'alpha': 0.5174686185479147, 'beta': -0.4307247720254479, 'gamma': 0.06491351439610799}, 'fit_gof': {'rmse': 0.0010468921058484502, 'mae': 0.000732174747841632}, 'extrp_gof': {'rmse': 0.0009542647836123519, 'mae': 0.0009542647836123519}}\n",
      "{'x': array([    2,     4,     8,    16,    32,    64,   128,   256,   512,\n",
      "        1024,  2048,  4096,  8192, 16384, 32768, 65536, 88416]), 'y': array([0.13429243, 0.13064303, 0.12569458, 0.12681216, 0.12851251,\n",
      "       0.12474124, 0.11799193, 0.11006977, 0.10102101, 0.09218545,\n",
      "       0.08443451, 0.07899845, 0.07535211, 0.07294897, 0.07115311,\n",
      "       0.07002848, 0.06969859]), 'xf': array([ 256,  512, 1024, 2048, 4096]), 'yf': array([0.11006977, 0.10102101, 0.09218545, 0.08443451, 0.07899845]), 'yfit': array([0.11078494, 0.10045263, 0.09189064, 0.08479564, 0.0789163 ]), 'xext': 88416, 'yext': 0.06284367234769977, 'prms': {'alpha': 0.27122228914964813, 'beta': -0.2711452560478774, 'gamma': 0.05048143721602378}, 'fit_gof': {'rmse': 0.0004601344045813694, 'mae': 0.0004043311750991013}, 'extrp_gof': {'rmse': 0.0068549170673524035, 'mae': 0.0068549170673524035}}\n"
     ]
    }
   ],
   "source": [
    "print(rslt_good)\n",
    "print(rslt_bad)"
   ]
  },
  {
   "cell_type": "code",
   "execution_count": 54,
   "metadata": {},
   "outputs": [
    {
     "data": {
      "text/plain": [
       "5.396484375"
      ]
     },
     "execution_count": 54,
     "metadata": {},
     "output_type": "execute_result"
    }
   ],
   "source": [
    "88416/16384"
   ]
  },
  {
   "cell_type": "code",
   "execution_count": 55,
   "metadata": {},
   "outputs": [
    {
     "data": {
      "text/plain": [
       "21.5859375"
      ]
     },
     "execution_count": 55,
     "metadata": {},
     "output_type": "execute_result"
    }
   ],
   "source": [
    "88416/4096"
   ]
  },
  {
   "cell_type": "code",
   "execution_count": null,
   "metadata": {},
   "outputs": [],
   "source": []
  },
  {
   "cell_type": "code",
   "execution_count": null,
   "metadata": {},
   "outputs": [],
   "source": []
  },
  {
   "cell_type": "code",
   "execution_count": 51,
   "metadata": {},
   "outputs": [
    {
     "name": "stdout",
     "output_type": "stream",
     "text": [
      "tot_pnts 17\n"
     ]
    }
   ],
   "source": [
    "scr = scores_te.copy()\n",
    "x = scr['tr_size'].values\n",
    "y = scr['median'].values\n",
    "\n",
    "tot_pnts = len(x)\n",
    "print('tot_pnts', tot_pnts)\n",
    "\n",
    "if src=='gdsc':\n",
    "    xfit_start_min_id = 5\n",
    "    xfit_start_max_id = 11\n",
    "    xfit_start_id_arr = np.array(range(xfit_start_min_id, xfit_start_max_id+1))\n",
    "    xfit_end_id = 13\n",
    "\n",
    "if src=='top6':\n",
    "    xfit_start_min_id = 5\n",
    "    xfit_start_max_id = 15\n",
    "    xfit_start_id_arr = np.array(range(xfit_start_min_id, xfit_start_max_id+1))\n",
    "    xfit_end_id = 17\n",
    "\n",
    "p_arr = []\n",
    "fit_gof_arr = []\n",
    "extrp_gof_arr = []\n",
    "prm_arr = []\n",
    "\n",
    "for xfit_start_id in xfit_start_id_arr:\n",
    "    rslt = fit_extrp_lc(x, y, xfit_start_id=xfit_start_id, xfit_end_id=xfit_end_id)\n",
    "    p_arr.append(len(rslt['xf']))\n",
    "    fit_gof_arr.append(rslt['fit_gof'])\n",
    "    extrp_gof_arr.append(rslt['extrp_gof'])\n",
    "    prm_arr.append(rslt['prms'])\n",
    "    \n",
    "#     xf = x[xfit_start_id : xfit_end_id+1]\n",
    "#     yf = y[xfit_start_id : xfit_end_id+1]\n",
    "#     p_arr.append(len(xf))\n",
    "\n",
    "#     # Fit\n",
    "#     prms = fit_params(xf, yf)\n",
    "#     yfit = biased_powerlaw(xf, **prms)\n",
    "#     prm_arr.append(prms)\n",
    "\n",
    "#     # Fit GOF\n",
    "#     fit_gof = calc_gof(yf, yfit)\n",
    "#     fit_gof_arr.append(fit_gof)\n",
    "\n",
    "#     # Extrapolate\n",
    "#     xext_id = tot_pnts - 1\n",
    "#     xext = x[xext_id]\n",
    "#     yext = biased_powerlaw(xext, **prms)\n",
    "\n",
    "#     # Extrap GOF\n",
    "#     extrp_gof = calc_gof( [y[xext_id]], [yext] )\n",
    "#     extrp_gof_arr.append(extrp_gof)\n",
    "\n",
    "#     # Extrapolate beyond available size\n",
    "#     xext_far = np.array([int(i) for i in 2 ** np.array(np.arange(25))[1:]])\n",
    "#     idx_min = np.argmin( np.abs( xext_far - xf[0] ) )\n",
    "#     xext_far = xext_far[idx_min:]\n",
    "#     yext_far = biased_powerlaw(xext_far, **prms)"
   ]
  },
  {
   "cell_type": "code",
   "execution_count": null,
   "metadata": {},
   "outputs": [],
   "source": [
    "prm_df = pd.DataFrame(prm_arr)\n",
    "fit_gof_df = pd.DataFrame(fit_gof_arr)\n",
    "extrp_gof_df = pd.DataFrame(extrp_gof_arr)\n",
    "fit_gof_df.rename(columns={'mae': 'fit_mae', 'rmse': 'fit_rmse'}, inplace=True)\n",
    "extrp_gof_df.rename(columns={'mae': 'extrp_mae', 'rmse': 'extrp_rmse'}, inplace=True)\n",
    "n_pnts_df = pd.DataFrame({'n_pnts': p_arr})\n",
    "dd = pd.concat([n_pnts_df, fit_gof_df, extrp_gof_df, prm_df], axis=1)\n",
    "dd = dd.sort_values('extrp_mae')\n",
    "display(dd)\n",
    "\n",
    "dd.to_csv(base_dir/f'{src}_{model}_extrp_mae_vs_nfit_pnts.csv', index=False)"
   ]
  },
  {
   "cell_type": "code",
   "execution_count": null,
   "metadata": {},
   "outputs": [],
   "source": [
    "# plot_beta = False\n",
    "plot_beta = True\n",
    "\n",
    "fig, ax1 = plt.subplots()\n",
    "\n",
    "# Plot metrics\n",
    "alpha = 0.6\n",
    "linewidth = 1\n",
    "fontsize = 12\n",
    "lns1 = ax1.plot(dd.n_pnts, dd.extrp_mae, marker='o', ls='', color='teal', label='Fit MAE');\n",
    "ax1.set_xlabel('Number of Curve Fitting Points', fontsize=fontsize)\n",
    "ax1.set_ylabel('Extrapolation MAE', fontsize=fontsize)\n",
    "ax1.tick_params('y', colors='k')\n",
    "\n",
    "if plot_beta:\n",
    "    ax2 = ax1.twinx()\n",
    "    lns2 = ax2.plot(dd.n_pnts, dd.beta, color='m', marker='*', ls='', label='Fit Parameter $b$')\n",
    "    # ax2.set_ylabel('Fit Parameter $b$ in $am^{b} + c$', color='k', fontsize=fontsize)\n",
    "    ax2.set_ylabel('Fit Parameter $b$ in $am^{b}$', color='k', fontsize=fontsize)\n",
    "    ax2.tick_params('y', colors='k')\n",
    "    leg = lns1 + lns2\n",
    "    # print(ax2.get_ylim())\n",
    "else:\n",
    "    leg = lns1\n",
    "        \n",
    "ax1.grid(True)\n",
    "# print(ax1.get_ylim())\n",
    "\n",
    "labs = [l.get_label() for l in leg]\n",
    "legend = ax1.legend(leg, labs, loc=0)\n",
    "frame = legend.get_frame()\n",
    "frame.set_facecolor('0.95')\n",
    "\n",
    "print('X axis range:', ax1.get_xlim())\n",
    "\n",
    "# ax.set_ylim([0.060, 0.150])\n",
    "ax1.grid(False)\n",
    "plt.tight_layout()\n",
    "plt.savefig(base_dir/(f'{src}_{model}_extrp_mae_vs_nfit_pnts.png'), dpi=200)"
   ]
  },
  {
   "cell_type": "code",
   "execution_count": null,
   "metadata": {},
   "outputs": [],
   "source": []
  },
  {
   "cell_type": "code",
   "execution_count": null,
   "metadata": {},
   "outputs": [],
   "source": []
  },
  {
   "cell_type": "code",
   "execution_count": null,
   "metadata": {},
   "outputs": [],
   "source": [
    "# scr = scores_te.copy()\n",
    "# x = scr['tr_size'].values\n",
    "# y = scr['median'].values\n",
    "\n",
    "# # Define fitting range\n",
    "# tot_pnts = len(x)\n",
    "# # xfit_start_id = 5\n",
    "# xfit_start_id = 10\n",
    "# # xfit_end_id = tot_pnts - 2\n",
    "# xfit_end_id = 13 # Good extrp: after linear region\n",
    "# # xfit_end_id = 11 # Failed extrp: linear region\n",
    "\n",
    "# xf = x[xfit_start_id : xfit_end_id+1]\n",
    "# yf = y[xfit_start_id : xfit_end_id+1]\n",
    "# print(xf)\n",
    "# print('xfit_start_id={}, m={}'.format(xfit_start_id, x[xfit_start_id]))\n",
    "# print('xfit_end_id={}, m={}'.format(xfit_end_id, x[xfit_end_id]))\n",
    "\n",
    "# # Fit\n",
    "# prms = fit_params(xf, yf)\n",
    "# yfit = biased_powerlaw(xf, **prms)\n",
    "# print('Fig prms:', prms)\n",
    "\n",
    "# # Fit GOF\n",
    "# fit_gof = calc_gof(yf, yfit)\n",
    "# print('Fit GOF:', fit_gof)\n",
    "\n",
    "# # Extrapolate\n",
    "# xext_id = tot_pnts - 1\n",
    "# # xext_id = 14\n",
    "# xext = x[xext_id]\n",
    "# yext = biased_powerlaw(xext, **prms)\n",
    "# print('xext_id={}, m={}'.format(xext_id, xext))\n",
    "\n",
    "# # Extrap GOF\n",
    "# extrp_gof = calc_gof( [y[xext_id]], [yext] )\n",
    "# print('Extrp GOF:', extrp_gof)\n",
    "\n",
    "# # Extrapolate beyond available size\n",
    "# xext_far = np.array([int(i) for i in 2 ** np.array(np.arange(25))[1:]])\n",
    "# idx_min = np.argmin( np.abs( xext_far - xf[0] ) )\n",
    "# xext_far = xext_far[idx_min:]\n",
    "# yext_far = biased_powerlaw(xext_far, **prms)\n",
    "\n",
    "# plot_lc_fit(x, y, xf, yf, xext, yext, xtick_scale='log2', ytick_scale='log2', figsize=(6, 4.5));"
   ]
  },
  {
   "cell_type": "code",
   "execution_count": 45,
   "metadata": {},
   "outputs": [],
   "source": [
    "# plot_args['xtick_scale'], plot_args['ytick_scale'] = 'linear', 'linear'\n",
    "# # plot_args['xtick_scale'], plot_args['ytick_scale'] = 'log2', 'log2'\n",
    "\n",
    "# ax = None\n",
    "\n",
    "# # Plot all points\n",
    "# ax = lrn_crv_plot.plot_lrn_crv_new(\n",
    "#         x = x, y = y, # yerr = scr['std'],\n",
    "#         ax=ax, ls='', marker='.', alpha=0.8, color='k',\n",
    "#         **plot_args, label='Excluded points')\n",
    "\n",
    "# # Plot fitting points\n",
    "# ax = lrn_crv_plot.plot_lrn_crv_new(\n",
    "#         x = xf, y = yf, # yerr = scr.loc[fit_min:fit_max, 'std'],\n",
    "#         ax=ax, ls='', marker='v', alpha=0.7, color='b',\n",
    "#         **plot_args, label='Fitting points')\n",
    "\n",
    "# # Plot fit curve\n",
    "# ax = lrn_crv_plot.plot_lrn_crv_new(\n",
    "#         x = xf, y = yfit, # yerr = scr.loc[fit_min:fit_max, 'std'],\n",
    "#         ax=ax, ls='--', marker='', alpha=0.7, color='b',\n",
    "#         **plot_args, label='Fitted curve')\n",
    "\n",
    "# # Plot extrapolation point\n",
    "# ax.plot(xext, yext, 'o', color='r', markeredgecolor='k', alpha=1, label='Extrap. point');\n",
    "\n",
    "# # Extrapolate beyond available size\n",
    "# # ax = lrn_crv_plot.plot_lrn_crv_new(\n",
    "# #         x = xext_far, y = yext_far, # yerr = scr.loc[fit_min:fit_max, 'std'],\n",
    "# #         ax=ax, ls='--', marker='', alpha=0.8, color='b',\n",
    "# #         **plot_args, label='Extrapolation (far)')\n",
    "\n",
    "# # ---------------------\n",
    "# # General axes prms\n",
    "# # https://matplotlib.org/3.1.1/api/_as_gen/matplotlib.axes.Axes.tick_params.html\n",
    "# ax.tick_params(axis='both', labelsize=11)\n",
    "\n",
    "# # Set X axis\n",
    "# xlim = ax.get_xlim()\n",
    "\n",
    "# # Set Y axis\n",
    "# ax = set_yticks_ap(ax)\n",
    "\n",
    "# ax.legend(frameon=True, fontsize=11, loc='best')\n",
    "# plt.tight_layout()\n",
    "# ax.grid(False)\n",
    "\n",
    "# plt.savefig(base_dir/('{}_extrap_{}.png'.format(src, plot_args['ytick_scale'])), dpi=200)"
   ]
  },
  {
   "cell_type": "code",
   "execution_count": null,
   "metadata": {},
   "outputs": [],
   "source": []
  },
  {
   "cell_type": "code",
   "execution_count": null,
   "metadata": {},
   "outputs": [],
   "source": []
  },
  {
   "cell_type": "markdown",
   "metadata": {},
   "source": [
    "# Extrapolation analysis: how many and which points to use"
   ]
  },
  {
   "cell_type": "code",
   "execution_count": 72,
   "metadata": {},
   "outputs": [
    {
     "name": "stdout",
     "output_type": "stream",
     "text": [
      "[  256   512  1024  2048  4096  8192 16384]\n",
      "xfit_min_id=7, m=256\n",
      "xfit_max_id=13, m=16384\n",
      "Fit GOF: {'rmse': 0.0010468921058484502, 'mae': 0.000732174747841632}\n",
      "xext_id=16, m=88416\n",
      "Extrp GOF: {'rmse': 0.0009542647836123519, 'mae': 0.0009542647836123519}\n"
     ]
    }
   ],
   "source": [
    "scr = scores_te.copy()\n",
    "x = scr['tr_size'].values\n",
    "y = scr['median'].values\n",
    "\n",
    "# Define fitting range\n",
    "tot_pnts = len(x)\n",
    "# xfit_min_id = 6\n",
    "xfit_min_id = 7\n",
    "# xfit_min_id = 8\n",
    "# xfit_min_id = 9\n",
    "# xfit_min_id = 10\n",
    "# xfit_min_id = 11\n",
    "# xfit_max_id = tot_pnts - 2\n",
    "xfit_max_id = 13\n",
    "\n",
    "xf = x[xfit_min_id : xfit_max_id+1]\n",
    "yf = y[xfit_min_id : xfit_max_id+1]\n",
    "print(xf)\n",
    "print('xfit_min_id={}, m={}'.format(xfit_min_id, x[xfit_min_id]))\n",
    "print('xfit_max_id={}, m={}'.format(xfit_max_id, x[xfit_max_id]))\n",
    "\n",
    "# Fit\n",
    "prms = fit_params(xf, yf)\n",
    "yfit = biased_powerlaw(xf, **prms)\n",
    "\n",
    "# Fit GOF\n",
    "fit_gof = calc_gof(yf, yfit)\n",
    "print('Fit GOF:', fit_gof)\n",
    "\n",
    "# Extrapolate\n",
    "xext_id = tot_pnts - 1\n",
    "xext = x[xext_id]\n",
    "yext = biased_powerlaw(xext, **prms)\n",
    "print('xext_id={}, m={}'.format(xext_id, xext))\n",
    "\n",
    "# Extrap GOF\n",
    "extrp_gof = calc_gof( [y[xext_id]], [yext] )\n",
    "print('Extrp GOF:', extrp_gof)\n",
    "\n",
    "# Extrapolate beyond available size\n",
    "xext_far = np.array([int(i) for i in 2 ** np.array(np.arange(25))[1:]])\n",
    "idx_min = np.argmin( np.abs( xext_far - xf[0] ) )\n",
    "xext_far = xext_far[idx_min:]\n",
    "yext_far = biased_powerlaw(xext_far, **prms)"
   ]
  },
  {
   "cell_type": "code",
   "execution_count": 1,
   "metadata": {},
   "outputs": [
    {
     "ename": "NameError",
     "evalue": "name 'plot_args' is not defined",
     "output_type": "error",
     "traceback": [
      "\u001b[0;31m---------------------------------------------------------------------------\u001b[0m",
      "\u001b[0;31mNameError\u001b[0m                                 Traceback (most recent call last)",
      "\u001b[0;32m<ipython-input-1-91649109f5ce>\u001b[0m in \u001b[0;36m<module>\u001b[0;34m\u001b[0m\n\u001b[1;32m      1\u001b[0m \u001b[0;31m# plot_args['xtick_scale'], plot_args['ytick_scale'] = 'linear', 'linear'\u001b[0m\u001b[0;34m\u001b[0m\u001b[0;34m\u001b[0m\u001b[0;34m\u001b[0m\u001b[0m\n\u001b[0;32m----> 2\u001b[0;31m \u001b[0mplot_args\u001b[0m\u001b[0;34m[\u001b[0m\u001b[0;34m'xtick_scale'\u001b[0m\u001b[0;34m]\u001b[0m\u001b[0;34m,\u001b[0m \u001b[0mplot_args\u001b[0m\u001b[0;34m[\u001b[0m\u001b[0;34m'ytick_scale'\u001b[0m\u001b[0;34m]\u001b[0m \u001b[0;34m=\u001b[0m \u001b[0;34m'log2'\u001b[0m\u001b[0;34m,\u001b[0m \u001b[0;34m'log2'\u001b[0m\u001b[0;34m\u001b[0m\u001b[0;34m\u001b[0m\u001b[0m\n\u001b[0m\u001b[1;32m      3\u001b[0m \u001b[0;34m\u001b[0m\u001b[0m\n\u001b[1;32m      4\u001b[0m \u001b[0max\u001b[0m \u001b[0;34m=\u001b[0m \u001b[0;32mNone\u001b[0m\u001b[0;34m\u001b[0m\u001b[0;34m\u001b[0m\u001b[0m\n\u001b[1;32m      5\u001b[0m \u001b[0;34m\u001b[0m\u001b[0m\n",
      "\u001b[0;31mNameError\u001b[0m: name 'plot_args' is not defined"
     ]
    }
   ],
   "source": [
    "# plot_args['xtick_scale'], plot_args['ytick_scale'] = 'linear', 'linear'\n",
    "plot_args['xtick_scale'], plot_args['ytick_scale'] = 'log2', 'log2'\n",
    "\n",
    "ax = None\n",
    "\n",
    "# Plot all points\n",
    "ax = lrn_crv_plot.plot_lrn_crv_new(\n",
    "        x = x, y = y, # yerr = scr['std'],\n",
    "        ax=ax, ls='', marker='.', alpha=0.8, color='k',\n",
    "        **plot_args, label='Excluded Points')\n",
    "\n",
    "# Plot fitting points\n",
    "ax = lrn_crv_plot.plot_lrn_crv_new(\n",
    "        x = xf, y = yf, # yerr = scr.loc[fit_min:fit_max, 'std'],\n",
    "        ax=ax, ls='', marker='v', alpha=0.7, color='b',\n",
    "        **plot_args, label='Fitting Points')\n",
    "\n",
    "# Plot fit curve\n",
    "ax = lrn_crv_plot.plot_lrn_crv_new(\n",
    "        x = xf, y = yfit, # yerr = scr.loc[fit_min:fit_max, 'std'],\n",
    "        ax=ax, ls='--', marker='', alpha=0.7, color='b',\n",
    "        **plot_args, label='Fitted curve')\n",
    "\n",
    "# Plot extrapolation point\n",
    "ax.plot(xext, yext, 'o', color='r', markeredgecolor='k', alpha=1, label='Extrap. point');\n",
    "\n",
    "# Extrapolate beyond available size\n",
    "# ax = lrn_crv_plot.plot_lrn_crv_new(\n",
    "#         x = xext_far, y = yext_far, # yerr = scr.loc[fit_min:fit_max, 'std'],\n",
    "#         ax=ax, ls='--', marker='', alpha=0.8, color='b',\n",
    "#         **plot_args, label='Extrapolation (far)')\n",
    "\n",
    "# ---------------------\n",
    "ax.tick_params(axis='both', labelsize=11)\n",
    "\n",
    "# Set X axis\n",
    "xlim = ax.get_xlim()\n",
    "\n",
    "# Set Y axis\n",
    "ax = set_yticks_ap(ax)\n",
    "\n",
    "ax.legend(frameon=True, fontsize=11, loc='best')\n",
    "plt.tight_layout()\n",
    "ax.grid(False)\n",
    "\n",
    "# plt.savefig(base_dir/('{}_extrap_{}.png'.format(src, plot_args['ytick_scale'])), dpi=200)\n",
    "print('GOF:', gof)"
   ]
  },
  {
   "cell_type": "code",
   "execution_count": null,
   "metadata": {},
   "outputs": [],
   "source": []
  },
  {
   "cell_type": "code",
   "execution_count": null,
   "metadata": {},
   "outputs": [],
   "source": []
  },
  {
   "cell_type": "code",
   "execution_count": null,
   "metadata": {},
   "outputs": [],
   "source": []
  },
  {
   "cell_type": "code",
   "execution_count": null,
   "metadata": {},
   "outputs": [],
   "source": []
  },
  {
   "cell_type": "code",
   "execution_count": null,
   "metadata": {},
   "outputs": [],
   "source": []
  },
  {
   "cell_type": "code",
   "execution_count": null,
   "metadata": {},
   "outputs": [],
   "source": []
  },
  {
   "cell_type": "code",
   "execution_count": null,
   "metadata": {},
   "outputs": [],
   "source": []
  }
 ],
 "metadata": {
  "kernelspec": {
   "display_name": "Python 3",
   "language": "python",
   "name": "python3"
  },
  "language_info": {
   "codemirror_mode": {
    "name": "ipython",
    "version": 3
   },
   "file_extension": ".py",
   "mimetype": "text/x-python",
   "name": "python",
   "nbconvert_exporter": "python",
   "pygments_lexer": "ipython3",
   "version": "3.6.8"
  }
 },
 "nbformat": 4,
 "nbformat_minor": 2
}
