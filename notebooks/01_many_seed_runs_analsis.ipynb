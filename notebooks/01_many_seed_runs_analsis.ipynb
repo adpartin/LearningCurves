{
 "cells": [
  {
   "cell_type": "markdown",
   "metadata": {},
   "source": [
    "# Analysis of how much data shuffling affects learning curves"
   ]
  },
  {
   "cell_type": "code",
   "execution_count": 1,
   "metadata": {},
   "outputs": [
    {
     "name": "stdout",
     "output_type": "stream",
     "text": [
      "/vol/ml/apartin/projects/LearningCurves/notebooks\n"
     ]
    }
   ],
   "source": [
    "%load_ext autoreload\n",
    "%autoreload 2\n",
    "%matplotlib inline\n",
    "\n",
    "import warnings\n",
    "warnings.filterwarnings('ignore')\n",
    "\n",
    "import os\n",
    "import sys\n",
    "from pathlib import Path\n",
    "\n",
    "import sklearn\n",
    "import numpy as np\n",
    "import pandas as pd\n",
    "from scipy.stats import iqr\n",
    "from glob import glob\n",
    "\n",
    "from sklearn import metrics\n",
    "from math import sqrt\n",
    "\n",
    "import matplotlib\n",
    "import matplotlib.pyplot as plt\n",
    "# plt.style.use('ggplot')\n",
    "\n",
    "# Make all python scripts available in the path\n",
    "sys.path.append('../')\n",
    "\n",
    "import pp_utils\n",
    "import lrn_crv_plot\n",
    "%matplotlib inline\n",
    "\n",
    "filepath = Path(os.getcwd())\n",
    "print(filepath)"
   ]
  },
  {
   "cell_type": "code",
   "execution_count": 2,
   "metadata": {},
   "outputs": [],
   "source": [
    "from fit import * # weighted_power_law, fit_weighted_pwr_law\n",
    "import rpy2.robjects as robjects"
   ]
  },
  {
   "cell_type": "code",
   "execution_count": 3,
   "metadata": {},
   "outputs": [],
   "source": [
    "def calc_gof(y, yfit):\n",
    "    gof = {}\n",
    "    rmse = sqrt( metrics.mean_squared_error(y, yfit) )\n",
    "    mae = metrics.mean_absolute_error(y, yfit)\n",
    "    gof['rmse'] = rmse\n",
    "    gof['mae'] = mae\n",
    "    return gof"
   ]
  },
  {
   "cell_type": "code",
   "execution_count": 4,
   "metadata": {},
   "outputs": [],
   "source": [
    "# Set Y axis\n",
    "def set_yticks_ap(ax, ylim=None):\n",
    "    ax.get_yaxis().set_major_formatter(matplotlib.ticker.ScalarFormatter())\n",
    "    if (ylim is None):\n",
    "        ylim = ax.get_ylim()\n",
    "    ylim_log = np.log2(ylim)\n",
    "    ylabels_log = np.logspace(ylim_log[0], ylim_log[1], num=5, base=2)\n",
    "    ylabels_log = np.around(ylabels_log, decimals=3)\n",
    "    ax.set_yticks(ylabels_log)\n",
    "    return ax"
   ]
  },
  {
   "cell_type": "code",
   "execution_count": null,
   "metadata": {},
   "outputs": [],
   "source": []
  },
  {
   "cell_type": "markdown",
   "metadata": {},
   "source": [
    "### Load results from runs"
   ]
  },
  {
   "cell_type": "code",
   "execution_count": 5,
   "metadata": {},
   "outputs": [],
   "source": [
    "# src = 'gdsc'\n",
    "src = 'top6'\n",
    "\n",
    "# GDSC\n",
    "if src == 'gdsc':\n",
    "    base_dir = Path('/vol/ml/apartin/projects/LearningCurves/trn.gdsc/split_on_cell/multi_seed_lgbm_100_trees')\n",
    "    # base_dir = Path('/vol/ml/apartin/projects/LearningCurves/trn.gdsc/split_on_cell/multi_seed_rf_100_trees')\n",
    "\n",
    "elif src == 'top6':\n",
    "    base_dir = Path('/vol/ml/apartin/projects/LearningCurves/trn.top6/split_on_none/multi_seed_lgbm_100_trees')\n",
    "    # base_dir = Path('/vol/ml/apartin/projects/LearningCurves/trn.top6/split_on_none/multi_seed_rf_100_trees')\n",
    "    # base_dir = Path('/vol/ml/apartin/projects/LearningCurves/trn.top6/split_on_none/nn_reg0')\n",
    "    \n",
    "elif src == 'ctrp':\n",
    "    pass\n",
    "    # base_dir = Path('/vol/ml/apartin/projects/LearningCurves/trn.ctrp/split_on_cell/multi_seed_lgbm_100_trees')\n",
    "    # base_dir = Path('/vol/ml/apartin/projects/LearningCurves/trn.ctrp/split_on_cell/multi_seed_rf_100_trees')\n",
    "    \n",
    "elif src == 'top21':\n",
    "    pass\n",
    "    # base_dir = Path('/vol/ml/apartin/projects/LearningCurves/trn.top21/multi_seed_lgbm_100_trees/trn.top21/split_on_cell/')\n",
    "    # base_dir = Path('/vol/ml/apartin/projects/LearningCurves/trn.ctrp/split_on_cell/multi_seed_lgbm_100_trees')\n",
    "    \n",
    "runs = glob(str(base_dir/'*'))"
   ]
  },
  {
   "cell_type": "code",
   "execution_count": 6,
   "metadata": {},
   "outputs": [
    {
     "name": "stdout",
     "output_type": "stream",
     "text": [
      "18\n",
      "Training set sizes: [     2      4      8     16     32     64    128    256    512   1024\n",
      "   2048   4096   8192  16384  32768  65536 131072 213015]\n"
     ]
    }
   ],
   "source": [
    "scores = []\n",
    "# prf = 'id'\n",
    "prf = 'run'\n",
    "\n",
    "for i, r in enumerate(runs):\n",
    "    # scr_tmp = pd.read_csv( Path(r)/'lrn_crv_scores.csv' )\n",
    "    dpath = Path(r)/'lrn_crv_scores.csv'\n",
    "    if not dpath.exists():\n",
    "        continue\n",
    "        \n",
    "    scr_tmp = pd.read_csv( dpath )\n",
    "    scr_tmp.rename(columns={'fold0': prf+str(i)}, inplace=True)\n",
    "    if len(scores)==0:\n",
    "        scores = scr_tmp\n",
    "    else:\n",
    "        scores = scores.merge(scr_tmp, on=['metric', 'tr_size', 'set'])\n",
    "        \n",
    "run_col_names = [c for c in scores.columns if prf in c]\n",
    "\n",
    "scores_mean   = scores[run_col_names].mean(axis=1)\n",
    "scores_median = scores[run_col_names].median(axis=1)\n",
    "scores_std    = scores[run_col_names].std(axis=1)\n",
    "# scores_iqr    = iqr(scores.iloc[:, 6:].values, axis=0)\n",
    "\n",
    "scores.insert(loc=3, column='mean', value=scores_mean)\n",
    "scores.insert(loc=3, column='median', value=scores_median)\n",
    "scores.insert(loc=3, column='std', value=scores_std)\n",
    "print(len(np.unique(scores.tr_size)))\n",
    "\n",
    "# display(scores[:2])\n",
    "print('Training set sizes:', np.unique(scores.tr_size))\n",
    "\n",
    "# scores_te = scores[(scores.metric=='mean_absolute_error') & (scores.set=='te')].reset_index(drop=True).iloc[:, :6]\n",
    "scores_te = scores[(scores.metric=='mean_absolute_error') & (scores.set=='te')].reset_index(drop=True)\n",
    "\n",
    "save = True\n",
    "if save:\n",
    "    scores.to_csv(base_dir/'all_seed_runs_scores.csv', index=False)\n",
    "    scores_te.to_csv(base_dir/'scores.csv', index=False)"
   ]
  },
  {
   "cell_type": "code",
   "execution_count": null,
   "metadata": {},
   "outputs": [],
   "source": []
  },
  {
   "cell_type": "markdown",
   "metadata": {},
   "source": [
    "# LC all lin-lin"
   ]
  },
  {
   "cell_type": "code",
   "execution_count": 8,
   "metadata": {},
   "outputs": [],
   "source": [
    "figsize = (6, 4.5)\n",
    "metric_name = 'mean_absolute_error'\n",
    "tr_set = 'te'\n",
    "\n",
    "shift_idx=0\n",
    "# shift_idx=1\n",
    "# shift_idx=2\n",
    "# shift_idx=3"
   ]
  },
  {
   "cell_type": "code",
   "execution_count": 9,
   "metadata": {},
   "outputs": [
    {
     "data": {
      "image/png": "[encoded data removed]",
      "text/plain": [
       "<Figure size 432x324 with 1 Axes>"
      ]
     },
     "metadata": {
      "needs_background": "light"
     },
     "output_type": "display_data"
    }
   ],
   "source": [
    "plot_args = {'tr_set': tr_set, 'metric_name': metric_name, 'figsize': figsize, 'xtick_scale': 'linear', 'ytick_scale': 'linear'}\n",
    "\n",
    "ax = pp_utils.plot_lc_multi_runs( runs, shard_min_idx=shift_idx, **plot_args );\n",
    "\n",
    "ax.tick_params(axis='both', labelsize=11)\n",
    "ax.grid(False)\n",
    "\n",
    "plt.tight_layout()\n",
    "plt.savefig(base_dir/(f'{src}_all_runs_linlin.png'), dpi=200)"
   ]
  },
  {
   "cell_type": "code",
   "execution_count": null,
   "metadata": {},
   "outputs": [],
   "source": []
  },
  {
   "cell_type": "markdown",
   "metadata": {},
   "source": [
    "# LC all log-log"
   ]
  },
  {
   "cell_type": "code",
   "execution_count": null,
   "metadata": {},
   "outputs": [],
   "source": []
  },
  {
   "cell_type": "code",
   "execution_count": 10,
   "metadata": {},
   "outputs": [
    {
     "data": {
      "image/png": "[encoded data removed]",
      "text/plain": [
       "<Figure size 432x324 with 1 Axes>"
      ]
     },
     "metadata": {
      "needs_background": "light"
     },
     "output_type": "display_data"
    }
   ],
   "source": [
    "plot_args = {'tr_set': tr_set, 'metric_name': metric_name, 'figsize': figsize, 'xtick_scale': 'log2', 'ytick_scale': 'log2'}\n",
    "\n",
    "ax = pp_utils.plot_lc_multi_runs( runs, shard_min_idx=shift_idx, **plot_args );\n",
    "\n",
    "# print(ax.xaxis.get_major_locator())\n",
    "# print(ax.yaxis.get_major_locator())\n",
    "# print(ax.xaxis.get_major_formatter())\n",
    "# print(ax.yaxis.get_major_formatter())\n",
    "\n",
    "# General axes prms\n",
    "# https://matplotlib.org/3.1.1/api/_as_gen/matplotlib.axes.Axes.tick_params.html\n",
    "ax.tick_params(axis='both', labelsize=11)\n",
    "\n",
    "# Set X axis\n",
    "xlim = ax.get_xlim()\n",
    "# ax.set_xticks([2**i for i in range(2, 17)])\n",
    "\n",
    "# Set Y axis\n",
    "ax = set_yticks_ap(ax)\n",
    "\n",
    "ax.grid(False)\n",
    "plt.tight_layout()\n",
    "plt.savefig(base_dir/(f'{src}_all_runs_loglog.png'), dpi=200)"
   ]
  },
  {
   "cell_type": "code",
   "execution_count": 11,
   "metadata": {},
   "outputs": [],
   "source": [
    "# Fit data\n",
    "# pp_utils.fit_lc_multi_runs(runs, metric_name=metric_name, tr_set='te',\n",
    "#                              shard_min_idx=shard_min_idx, cv_folds=1,\n",
    "#                              xtick_scale=xtick_scale, ytick_scale=ytick_scale)"
   ]
  },
  {
   "cell_type": "code",
   "execution_count": 12,
   "metadata": {},
   "outputs": [],
   "source": [
    "# x, y = get_xy(Path(runs[2]), metric_name='mean_absolute_error', tr_set='te', shard_min_idx=0, cv_folds=1)\n",
    "# ax = lrn_crv_plot.plot_lrn_crv_power_law(x=x, y=y, marker='.', alpha=0.7)"
   ]
  },
  {
   "cell_type": "code",
   "execution_count": null,
   "metadata": {},
   "outputs": [],
   "source": []
  },
  {
   "cell_type": "markdown",
   "metadata": {},
   "source": [
    "# LC of Median and STD across shuffles"
   ]
  },
  {
   "cell_type": "code",
   "execution_count": 13,
   "metadata": {},
   "outputs": [],
   "source": [
    "plot_args = {'metric_name': metric_name, 'xtick_scale': 'log2', 'ytick_scale': 'log2', 'figsize': figsize}\n",
    "\n",
    "# The previous two figures should help decide which shards to use\n",
    "scr = scores_te[shift_idx:].reset_index(drop=True)\n",
    "y_col_name = 'median'"
   ]
  },
  {
   "cell_type": "code",
   "execution_count": 14,
   "metadata": {},
   "outputs": [
    {
     "data": {
      "image/png": "[encoded data removed]",
      "text/plain": [
       "<Figure size 432x324 with 1 Axes>"
      ]
     },
     "metadata": {
      "needs_background": "light"
     },
     "output_type": "display_data"
    }
   ],
   "source": [
    "x = scr['tr_size']\n",
    "y = scr[y_col_name]\n",
    "yerr = scr['std']\n",
    "\n",
    "shard_min_idx = 0\n",
    "xf = x[shard_min_idx:]\n",
    "yf = y[shard_min_idx:]\n",
    "\n",
    "ax = None\n",
    "\n",
    "ax = lrn_crv_plot.plot_lrn_crv_new(x=x, y=y, yerr=yerr,\n",
    "                                   ax=ax, ls='', marker='v', alpha=1,\n",
    "                                   **plot_args, color='b', label='Median and STD');\n",
    "# ---------------------\n",
    "# General axes prms\n",
    "# https://matplotlib.org/3.1.1/api/_as_gen/matplotlib.axes.Axes.tick_params.html\n",
    "ax.tick_params(axis='both', labelsize=11)\n",
    "\n",
    "# Set X axis\n",
    "xlim = ax.get_xlim()\n",
    "# ax.set_xticks([2**i for i in range(2, 17)])\n",
    "\n",
    "# Set Y axis\n",
    "ax = set_yticks_ap(ax)\n",
    "\n",
    "ax.legend(frameon=True, fontsize=10, loc='best');\n",
    "ax.grid(False)\n",
    "plt.tight_layout()\n",
    "plt.savefig(base_dir/(f'{src}_avg_median_std.png'), dpi=200)"
   ]
  },
  {
   "cell_type": "code",
   "execution_count": null,
   "metadata": {},
   "outputs": [],
   "source": []
  },
  {
   "cell_type": "markdown",
   "metadata": {},
   "source": [
    "# Fit using all shards"
   ]
  },
  {
   "cell_type": "code",
   "execution_count": 15,
   "metadata": {},
   "outputs": [
    {
     "name": "stdout",
     "output_type": "stream",
     "text": [
      "GOF: {'rmse': 0.03889335227898843, 'mae': 0.019276747724496626}\n"
     ]
    },
    {
     "data": {
      "image/png": "[encoded data removed]",
      "text/plain": [
       "<Figure size 432x324 with 1 Axes>"
      ]
     },
     "metadata": {
      "needs_background": "light"
     },
     "output_type": "display_data"
    }
   ],
   "source": [
    "x = scr['tr_size']\n",
    "y = scr[y_col_name]\n",
    "yerr = scr['std']\n",
    "\n",
    "shard_min_idx = 0\n",
    "xf = x[shard_min_idx:]\n",
    "yf = y[shard_min_idx:]\n",
    "prms = fit_params(xf, yf)\n",
    "yfit = biased_powerlaw(xf, **prms)\n",
    "\n",
    "ax = None\n",
    "\n",
    "ax = lrn_crv_plot.plot_lrn_crv_new(x=x, y=y, yerr=yerr,\n",
    "                                   ax=ax, ls='', marker='v', alpha=1,\n",
    "                                   **plot_args, color='b', label='Median and STD')\n",
    "\n",
    "ax = lrn_crv_plot.plot_lrn_crv_new(x=xf, y=yfit,\n",
    "                                   ax=ax, ls='--', marker='', alpha=1,\n",
    "                                   **plot_args, color='firebrick', label='Fit')\n",
    "gof = calc_gof(yf, yfit)\n",
    "print('GOF:', gof)\n",
    "\n",
    "# ---------------------\n",
    "# General axes prms\n",
    "# https://matplotlib.org/3.1.1/api/_as_gen/matplotlib.axes.Axes.tick_params.html\n",
    "ax.tick_params(axis='both', labelsize=11)\n",
    "\n",
    "# Set X axis\n",
    "xlim = ax.get_xlim()\n",
    "# ax.set_xticks([2**i for i in range(2, 17)])\n",
    "\n",
    "# Set Y axis\n",
    "ax = set_yticks_ap(ax)\n",
    "\n",
    "ax.legend(frameon=True, fontsize=11, loc='best');\n",
    "ax.grid(False)\n",
    "plt.tight_layout()\n",
    "plt.savefig(base_dir/(f'{src}_fit_using_all_shards.png'), dpi=200)"
   ]
  },
  {
   "cell_type": "code",
   "execution_count": null,
   "metadata": {},
   "outputs": [],
   "source": []
  },
  {
   "cell_type": "markdown",
   "metadata": {},
   "source": [
    "# Fit using subset of shards"
   ]
  },
  {
   "cell_type": "code",
   "execution_count": 16,
   "metadata": {},
   "outputs": [
    {
     "name": "stdout",
     "output_type": "stream",
     "text": [
      "GOF: {'rmse': 0.0004446066747408091, 'mae': 0.00027204718996853296}\n"
     ]
    },
    {
     "data": {
      "image/png": "[encoded data removed]",
      "text/plain": [
       "<Figure size 432x324 with 1 Axes>"
      ]
     },
     "metadata": {
      "needs_background": "light"
     },
     "output_type": "display_data"
    }
   ],
   "source": [
    "tot_pnts = len(x)\n",
    "n_pnts_fit = 9 # Number of points to use for curve fitting starting from the largest size\n",
    "\n",
    "x = scr['tr_size']\n",
    "y = scr[y_col_name]\n",
    "yerr = scr['std']\n",
    "\n",
    "shard_min_idx = 0 if tot_pnts < n_pnts_fit else tot_pnts - n_pnts_fit\n",
    "\n",
    "xf = x[shard_min_idx:]\n",
    "yf = y[shard_min_idx:]\n",
    "prms = fit_params(xf, yf)\n",
    "yfit = biased_powerlaw(xf, **prms)\n",
    "\n",
    "ax = None\n",
    "\n",
    "ax = lrn_crv_plot.plot_lrn_crv_new(x=x, y=y, yerr=yerr,\n",
    "                                   ax=ax, ls='', marker='v', alpha=1,\n",
    "                                   **plot_args, color='b', label='Median and STD')\n",
    "\n",
    "ax = lrn_crv_plot.plot_lrn_crv_new(x=xf, y=yfit,\n",
    "                                   ax=ax, ls='--', marker='', alpha=1,\n",
    "                                   **plot_args, color='firebrick', label='Fit')\n",
    "gof = calc_gof(yf, yfit)\n",
    "print('GOF:', gof)\n",
    "\n",
    "# ---------------------\n",
    "# General axes prms\n",
    "# https://matplotlib.org/3.1.1/api/_as_gen/matplotlib.axes.Axes.tick_params.html\n",
    "ax.tick_params(axis='both', labelsize=11)\n",
    "\n",
    "# Set X axis\n",
    "xlim = ax.get_xlim()\n",
    "# ax.set_xticks([2**i for i in range(2, 17)])\n",
    "\n",
    "# Set Y axis\n",
    "ax = set_yticks_ap(ax)\n",
    "\n",
    "ax.legend(frameon=True, fontsize=11, loc='best');\n",
    "ax.grid(False)\n",
    "plt.tight_layout()\n",
    "plt.savefig(base_dir/(f'{src}_fit_using_subset_shards.png'), dpi=200)"
   ]
  },
  {
   "cell_type": "code",
   "execution_count": null,
   "metadata": {},
   "outputs": [],
   "source": []
  },
  {
   "cell_type": "markdown",
   "metadata": {},
   "source": [
    "# MAE vs Number of LC fit points\n",
    "\n",
    "The workflow is to go backwards. We fit a power-law after every time we compute score for consecutive (smaller) shard. Stop when quality of fit decreases."
   ]
  },
  {
   "cell_type": "code",
   "execution_count": 17,
   "metadata": {},
   "outputs": [
    {
     "name": "stdout",
     "output_type": "stream",
     "text": [
      "tot_pnts 18\n"
     ]
    },
    {
     "data": {
      "image/png": "[encoded data removed]",
      "text/plain": [
       "<Figure size 432x324 with 1 Axes>"
      ]
     },
     "metadata": {
      "needs_background": "light"
     },
     "output_type": "display_data"
    }
   ],
   "source": [
    "x = scr['tr_size']\n",
    "y = scr[y_col_name]\n",
    "yerr = scr['std']\n",
    "\n",
    "tot_pnts = len(x)\n",
    "print('tot_pnts', tot_pnts)\n",
    "# min_points = 3  # 3 points doesn't work\n",
    "min_pnts_fit = 4  # Min points to fit \n",
    "# max_pnts_fit = 9  # Min points to fit\n",
    "max_pnts_fit = tot_pnts\n",
    "\n",
    "p_arr = []\n",
    "gof_arr = []\n",
    "prm_arr = []\n",
    "\n",
    "ax = None\n",
    "ax = lrn_crv_plot.plot_lrn_crv_new(x=x, y=y, yerr=yerr,\n",
    "                                   ax=ax, ls='', marker='v', alpha=1,\n",
    "                                   **plot_args, color='b', label='Median and STD');\n",
    "\n",
    "for n_pnts_fit in range(min_pnts_fit, max_pnts_fit+1):\n",
    "    shard_min_idx = tot_pnts - n_pnts_fit\n",
    "    \n",
    "    xf = x[shard_min_idx:]\n",
    "    yf = y[shard_min_idx:]\n",
    "    prms = fit_params(xf, yf)\n",
    "    yfit = biased_powerlaw(xf, **prms)\n",
    "    \n",
    "    gof = calc_gof(yf, yfit)\n",
    "    \n",
    "    ax = lrn_crv_plot.plot_lrn_crv_new(x=xf, y=yfit,\n",
    "                                       ax=ax, ls='--', marker='', alpha=1,\n",
    "                                       **plot_args, label='Fit');\n",
    "    \n",
    "    prm_arr.append(prms)\n",
    "    gof_arr.append(gof)\n",
    "    p_arr.append(n_pnts_fit)"
   ]
  },
  {
   "cell_type": "code",
   "execution_count": 19,
   "metadata": {},
   "outputs": [
    {
     "data": {
      "text/html": [
       "<div>\n",
       "<style scoped>\n",
       "    .dataframe tbody tr th:only-of-type {\n",
       "        vertical-align: middle;\n",
       "    }\n",
       "\n",
       "    .dataframe tbody tr th {\n",
       "        vertical-align: top;\n",
       "    }\n",
       "\n",
       "    .dataframe thead th {\n",
       "        text-align: right;\n",
       "    }\n",
       "</style>\n",
       "<table border=\"1\" class=\"dataframe\">\n",
       "  <thead>\n",
       "    <tr style=\"text-align: right;\">\n",
       "      <th></th>\n",
       "      <th>n_pnts</th>\n",
       "      <th>mae</th>\n",
       "      <th>rmse</th>\n",
       "      <th>alpha</th>\n",
       "      <th>beta</th>\n",
       "      <th>gamma</th>\n",
       "    </tr>\n",
       "  </thead>\n",
       "  <tbody>\n",
       "    <tr>\n",
       "      <th>0</th>\n",
       "      <td>4</td>\n",
       "      <td>0.000014</td>\n",
       "      <td>0.000015</td>\n",
       "      <td>4.690974</td>\n",
       "      <td>-0.698988</td>\n",
       "      <td>0.052097</td>\n",
       "    </tr>\n",
       "    <tr>\n",
       "      <th>1</th>\n",
       "      <td>5</td>\n",
       "      <td>0.000020</td>\n",
       "      <td>0.000024</td>\n",
       "      <td>2.941437</td>\n",
       "      <td>-0.651752</td>\n",
       "      <td>0.051987</td>\n",
       "    </tr>\n",
       "    <tr>\n",
       "      <th>2</th>\n",
       "      <td>6</td>\n",
       "      <td>0.000020</td>\n",
       "      <td>0.000024</td>\n",
       "      <td>3.115968</td>\n",
       "      <td>-0.657798</td>\n",
       "      <td>0.052004</td>\n",
       "    </tr>\n",
       "  </tbody>\n",
       "</table>\n",
       "</div>"
      ],
      "text/plain": [
       "   n_pnts       mae      rmse     alpha      beta     gamma\n",
       "0       4  0.000014  0.000015  4.690974 -0.698988  0.052097\n",
       "1       5  0.000020  0.000024  2.941437 -0.651752  0.051987\n",
       "2       6  0.000020  0.000024  3.115968 -0.657798  0.052004"
      ]
     },
     "metadata": {},
     "output_type": "display_data"
    }
   ],
   "source": [
    "prm_df = pd.DataFrame(prm_arr)\n",
    "gof_df = pd.DataFrame(gof_arr)\n",
    "n_pnts_df = pd.DataFrame({'n_pnts': p_arr})\n",
    "dd = pd.concat([n_pnts_df, gof_df, prm_df], axis=1)\n",
    "dd = dd.sort_values('mae')\n",
    "display(dd[:3])\n",
    "\n",
    "dd.to_csv(base_dir/'gof_vs_n_fit_pnts.csv', index=False)"
   ]
  },
  {
   "cell_type": "code",
   "execution_count": 74,
   "metadata": {},
   "outputs": [
    {
     "data": {
      "image/png": "[encoded data removed]",
      "text/plain": [
       "<Figure size 432x288 with 1 Axes>"
      ]
     },
     "metadata": {
      "needs_background": "light"
     },
     "output_type": "display_data"
    }
   ],
   "source": [
    "plot_beta = False\n",
    "# plot_beta = True\n",
    "\n",
    "fig, ax1 = plt.subplots()\n",
    "\n",
    "# Plot metrics\n",
    "alpha = 0.6\n",
    "linewidth = 1\n",
    "fontsize = 12\n",
    "lns1 = ax1.plot(dd.n_pnts, dd.mae, marker='o', ls='', color='teal', label='Fit MAE');\n",
    "ax1.set_xlabel('Number of Curve Fitting Points', fontsize=fontsize)\n",
    "# ax1.set_xlabel('Number of points used to fit power-law model', fontsize=fontsize)\n",
    "ax1.set_ylabel('Fit MAE', fontsize=fontsize)\n",
    "ax1.tick_params('y', colors='k')\n",
    "\n",
    "leg = lns1\n",
    "\n",
    "if plot_beta:\n",
    "    ax2 = ax1.twinx()\n",
    "    lns2 = ax2.plot(dd.n_pnts, dd.beta, color='m', marker='*', ls='', label='Fit Parameter $b$')\n",
    "    ax2.set_ylabel('Fit Parameter $b$ in $am^{b} + c$', color='k', fontsize=fontsize)\n",
    "    ax2.tick_params('y', colors='k')\n",
    "    leg.append(lns2)\n",
    "    leg = lns1 + lns2\n",
    "        \n",
    "ax1.grid(True)\n",
    "\n",
    "labs = [l.get_label() for l in leg]\n",
    "legend = ax1.legend(leg, labs, loc=0)\n",
    "frame = legend.get_frame()\n",
    "frame.set_facecolor('0.95')\n",
    "\n",
    "# ax.set_ylim([0.060, 0.150])\n",
    "ax1.grid(False)\n",
    "plt.tight_layout()\n",
    "plt.savefig(base_dir/(f'{src}_mae_prm_b_num_points.png'), dpi=200)"
   ]
  },
  {
   "cell_type": "code",
   "execution_count": null,
   "metadata": {},
   "outputs": [],
   "source": []
  },
  {
   "cell_type": "code",
   "execution_count": 225,
   "metadata": {},
   "outputs": [
    {
     "name": "stdout",
     "output_type": "stream",
     "text": [
      "[  2048   4096   8192  16384  32768  65536 131072]\n",
      "xfit_min_id=4, m=2048\n",
      "xfit_max_id=10, m=131072\n",
      "Fit GOF: {'rmse': 0.0004665339410877287, 'mae': 0.000332285237586466}\n",
      "xext_id=11, m=213015\n",
      "Extrp GOF: {'rmse': 0.00017623826419560507, 'mae': 0.00017623826419560507}\n"
     ]
    }
   ],
   "source": [
    "scr = scores_te.copy()\n",
    "x = scr['tr_size'].values\n",
    "y = scr['median'].values\n",
    "\n",
    "# Define fitting range\n",
    "tot_pnts = len(x)\n",
    "xfit_min_id = 4\n",
    "xfit_max_id = tot_pnts - 2\n",
    "\n",
    "xf = x[xfit_min_id : xfit_max_id+1]\n",
    "yf = y[xfit_min_id : xfit_max_id+1]\n",
    "print(xf)\n",
    "print('xfit_min_id={}, m={}'.format(xfit_min_id, x[xfit_min_id]))\n",
    "print('xfit_max_id={}, m={}'.format(xfit_max_id, x[xfit_max_id]))\n",
    "\n",
    "# Fit\n",
    "prms = fit_params(xf, yf)\n",
    "yfit = biased_powerlaw(xf, **prms)\n",
    "\n",
    "# Fit GOF\n",
    "fit_gof = calc_gof(yf, yfit)\n",
    "print('Fit GOF:', fit_gof)\n",
    "\n",
    "# Extrapolate\n",
    "xext_id = tot_pnts - 1\n",
    "xext = x[xext_id]\n",
    "yext = biased_powerlaw(xext, **prms)\n",
    "print('xext_id={}, m={}'.format(xext_id, xext))\n",
    "\n",
    "# Extrap GOF\n",
    "extrp_gof = calc_gof( [y[xext_id]], [yext] )\n",
    "print('Extrp GOF:', extrp_gof)\n",
    "\n",
    "# Extrapolate beyond available size\n",
    "xext_far = np.array([int(i) for i in 2 ** np.array(np.arange(25))[1:]])\n",
    "idx_min = np.argmin( np.abs( xext_far - xf[0] ) )\n",
    "xext_far = xext_far[idx_min:]\n",
    "yext_far = biased_powerlaw(xext_far, **prms)"
   ]
  },
  {
   "cell_type": "code",
   "execution_count": 226,
   "metadata": {},
   "outputs": [
    {
     "name": "stdout",
     "output_type": "stream",
     "text": [
      "GOF: {'rmse': 0.004373180294086962, 'mae': 0.002395415843374948}\n"
     ]
    },
    {
     "data": {
      "image/png": "[encoded data removed]",
      "text/plain": [
       "<Figure size 432x324 with 1 Axes>"
      ]
     },
     "metadata": {
      "needs_background": "light"
     },
     "output_type": "display_data"
    }
   ],
   "source": [
    "# plot_args['xtick_scale'], plot_args['ytick_scale'] = 'linear', 'linear'\n",
    "plot_args['xtick_scale'], plot_args['ytick_scale'] = 'log2', 'log2'\n",
    "\n",
    "ax = None\n",
    "\n",
    "# Plot all points\n",
    "ax = lrn_crv_plot.plot_lrn_crv_new(\n",
    "        x = x, y = y, # yerr = scr['std'],\n",
    "        ax=ax, ls='', marker='.', alpha=0.8, color='k',\n",
    "        **plot_args, label='Excluded Points')\n",
    "\n",
    "# Plot fitting points\n",
    "ax = lrn_crv_plot.plot_lrn_crv_new(\n",
    "        x = xf, y = yf, # yerr = scr.loc[fit_min:fit_max, 'std'],\n",
    "        ax=ax, ls='', marker='v', alpha=0.7, color='b',\n",
    "        **plot_args, label='Fitting Points')\n",
    "\n",
    "# Plot fit curve\n",
    "ax = lrn_crv_plot.plot_lrn_crv_new(\n",
    "        x = xf, y = yfit, # yerr = scr.loc[fit_min:fit_max, 'std'],\n",
    "        ax=ax, ls='--', marker='', alpha=0.7, color='b',\n",
    "        **plot_args, label='Fit')\n",
    "\n",
    "# Plot extrapolation point\n",
    "ax.plot(xext, yext, 'o', color='r', markeredgecolor='k', alpha=1, label='Extrapolation point');\n",
    "\n",
    "# Extrapolate beyond available size\n",
    "ax = lrn_crv_plot.plot_lrn_crv_new(\n",
    "        x = xext_far, y = yext_far, # yerr = scr.loc[fit_min:fit_max, 'std'],\n",
    "        ax=ax, ls='--', marker='', alpha=0.8, color='b',\n",
    "        **plot_args, label='Extrapolation (far)')\n",
    "\n",
    "# ---------------------\n",
    "# General axes prms\n",
    "# https://matplotlib.org/3.1.1/api/_as_gen/matplotlib.axes.Axes.tick_params.html\n",
    "ax.tick_params(axis='both', labelsize=11)\n",
    "\n",
    "# Set X axis\n",
    "xlim = ax.get_xlim()\n",
    "\n",
    "# Set Y axis\n",
    "ax = set_yticks_ap(ax)\n",
    "\n",
    "ax.legend(frameon=True, fontsize=11, loc='best')\n",
    "plt.tight_layout()\n",
    "ax.grid(False)\n",
    "\n",
    "plt.savefig(base_dir/('{}_extrap_{}.png'.format(src, plot_args['ytick_scale'])), dpi=200)\n",
    "print('GOF:', gof)"
   ]
  },
  {
   "cell_type": "code",
   "execution_count": null,
   "metadata": {},
   "outputs": [],
   "source": []
  },
  {
   "cell_type": "code",
   "execution_count": null,
   "metadata": {},
   "outputs": [],
   "source": []
  },
  {
   "cell_type": "code",
   "execution_count": null,
   "metadata": {},
   "outputs": [],
   "source": []
  },
  {
   "cell_type": "code",
   "execution_count": null,
   "metadata": {},
   "outputs": [],
   "source": []
  },
  {
   "cell_type": "code",
   "execution_count": null,
   "metadata": {},
   "outputs": [],
   "source": []
  },
  {
   "cell_type": "code",
   "execution_count": null,
   "metadata": {},
   "outputs": [],
   "source": []
  },
  {
   "cell_type": "code",
   "execution_count": null,
   "metadata": {},
   "outputs": [],
   "source": []
  },
  {
   "cell_type": "code",
   "execution_count": null,
   "metadata": {},
   "outputs": [],
   "source": []
  },
  {
   "cell_type": "code",
   "execution_count": null,
   "metadata": {},
   "outputs": [],
   "source": []
  },
  {
   "cell_type": "code",
   "execution_count": null,
   "metadata": {},
   "outputs": [],
   "source": []
  },
  {
   "cell_type": "code",
   "execution_count": null,
   "metadata": {},
   "outputs": [],
   "source": []
  },
  {
   "cell_type": "code",
   "execution_count": null,
   "metadata": {},
   "outputs": [],
   "source": []
  },
  {
   "cell_type": "code",
   "execution_count": null,
   "metadata": {},
   "outputs": [],
   "source": []
  }
 ],
 "metadata": {
  "kernelspec": {
   "display_name": "Python 3",
   "language": "python",
   "name": "python3"
  },
  "language_info": {
   "codemirror_mode": {
    "name": "ipython",
    "version": 3
   },
   "file_extension": ".py",
   "mimetype": "text/x-python",
   "name": "python",
   "nbconvert_exporter": "python",
   "pygments_lexer": "ipython3",
   "version": "3.6.8"
  }
 },
 "nbformat": 4,
 "nbformat_minor": 2
}
