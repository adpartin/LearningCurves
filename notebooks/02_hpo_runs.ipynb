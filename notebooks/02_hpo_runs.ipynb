{
 "cells": [
  {
   "cell_type": "markdown",
   "metadata": {},
   "source": [
    "# Analysis of serial HPO for LGBM\n",
    "\n",
    "The goal is to understand how much HPO affect drug response prediction and LC plots.<br>\n",
    "We executed per-subset HPO (PS-HPO). We then extracted largest-subset HPO (LS-HPO) from the PS-HPO results.\n",
    "\n",
    "Conclusion:\n",
    "1. HPO indeed affects drug response prediction with LightGBM. Thus, it's important to perform HPO when comparing models with baselines!\n",
    "2. So far, we analyzed LC data from CCLE and GDSC. Some shards (and most importantly the last one) use edge HPs. The fits are not that good! Repeat HPO for the final shard with higher range of HPs!\n",
    "3. "
   ]
  },
  {
   "cell_type": "code",
   "execution_count": 105,
   "metadata": {},
   "outputs": [
    {
     "name": "stdout",
     "output_type": "stream",
     "text": [
      "The autoreload extension is already loaded. To reload it, use:\n",
      "  %reload_ext autoreload\n",
      "/vol/ml/apartin/projects/LearningCurves/notebooks\n"
     ]
    }
   ],
   "source": [
    "%load_ext autoreload\n",
    "%autoreload 2\n",
    "%matplotlib inline\n",
    "\n",
    "import warnings\n",
    "warnings.filterwarnings('ignore')\n",
    "\n",
    "import os\n",
    "import sys\n",
    "from pathlib import Path\n",
    "\n",
    "import sklearn\n",
    "import numpy as np\n",
    "import pandas as pd\n",
    "from glob import glob\n",
    "\n",
    "import matplotlib\n",
    "import matplotlib.pyplot as plt\n",
    "\n",
    "# Make all python scripts available in the path\n",
    "sys.path.append('../')\n",
    "\n",
    "import lrn_crv_plot\n",
    "%matplotlib inline\n",
    "\n",
    "filepath = Path(os.getcwd())\n",
    "print(filepath)"
   ]
  },
  {
   "cell_type": "markdown",
   "metadata": {},
   "source": [
    "### Utils"
   ]
  },
  {
   "cell_type": "code",
   "execution_count": 106,
   "metadata": {},
   "outputs": [],
   "source": [
    "def top_n_runs(df, tr_size=None, n=10, sort_by_metric='mean_absolute_error', plot=False):\n",
    "    \"\"\" Return top runs based on sort_by_metric. \"\"\"\n",
    "    if tr_size is not None:\n",
    "        df = df[df['tr_size']==tr_size].reset_index(drop=True)\n",
    "    if sort_by_metric == 'r2':\n",
    "        df = df.sort_values(sort_by_metric, ascending=False).iloc[:n, :]\n",
    "    else:\n",
    "        df = df.sort_values(sort_by_metric, ascending=True).iloc[:n, :]\n",
    "    \n",
    "    if plot: display(df.transpose())\n",
    "    return df.reset_index(drop=True)"
   ]
  },
  {
   "cell_type": "code",
   "execution_count": 107,
   "metadata": {},
   "outputs": [],
   "source": [
    "def plot_all_from_hp_df(hp, metric_name='mean_absolute_error', marker='.', color=None, alpha=0.5, title=None,\n",
    "                        label='Data', figsize=(6, 4.5), xtick_scale='log2', ytick_scale='log2'):\n",
    "    \"\"\" Plot all data points from PS-HPO run. \"\"\"\n",
    "    fontsize = 12\n",
    "    legend_fontsize = fontsize - 2\n",
    "    fig, ax = plt.subplots(figsize=figsize)\n",
    "    plt.plot(hp['tr_size'], hp[metric_name], '.', marker=marker, alpha=alpha, color=color, label=label+f' ({hp.shape[0]})');\n",
    "    \n",
    "    basex, xlabel_scale = lrn_crv_plot.scale_ticks_params(tick_scale=xtick_scale)\n",
    "    basey, ylabel_scale = lrn_crv_plot.scale_ticks_params(tick_scale=ytick_scale)\n",
    "    \n",
    "    ax.set_xlabel(f'Training Dataset Size ({xlabel_scale})', fontsize=fontsize)\n",
    "    if 'log' in xlabel_scale.lower(): ax.set_xscale('log', basex=basex)    \n",
    "    \n",
    "    ylabel = lrn_crv_plot.capitalize_metric(metric_name)\n",
    "    ax.set_ylabel(f'{ylabel} ({ylabel_scale})', fontsize=fontsize)\n",
    "    if 'log' in ylabel_scale.lower(): ax.set_yscale('log', basey=basey)       \n",
    "    \n",
    "    if title:\n",
    "        ax.set_title(title)\n",
    "    else:\n",
    "        ax.set_title('Results from all HP runs (total: {})'.format(hp.shape[0]))\n",
    "        \n",
    "    ax.legend(frameon=True, fontsize=legend_fontsize, bbox_to_anchor=(1.02, 1), loc='upper left')\n",
    "    ax.grid(True)        \n",
    "    return ax"
   ]
  },
  {
   "cell_type": "code",
   "execution_count": 108,
   "metadata": {},
   "outputs": [],
   "source": [
    "def my_lambda(df_row, hps_dct):\n",
    "    \"\"\" Return True if a run used hps that appear in hps_dct. \"\"\"\n",
    "    cols = list( set(df_row.index).intersection(hps_dct.keys()) )\n",
    "    return np.array( [df_row[c]==hps_dct[c] for c in cols] ).all()\n",
    "\n",
    "def extract_runs_by_specific_hps(hp_df, hps_dct):\n",
    "    \"\"\" Take df where each row contains parameters of a single run, and extract all runs (rows)\n",
    "    that share the same parameters specified by hps_dct.\n",
    "    \"\"\"\n",
    "    hp_df = hp_df[ hp_df.apply(lambda df_row: my_lambda(df_row, hps_dct), axis=1 ) ].sort_values('tr_size').reset_index(drop=True)\n",
    "    return hp_df"
   ]
  },
  {
   "cell_type": "markdown",
   "metadata": {},
   "source": [
    "## Load results from runs"
   ]
  },
  {
   "cell_type": "code",
   "execution_count": 109,
   "metadata": {},
   "outputs": [],
   "source": [
    "# HPO runs base dir (HPC)\n",
    "# base_dir = Path('/vol/ml/apartin/projects/LearningCurves/hpo_runs/lc_ctrp_nn_reg0_hpo')\n",
    "# base_dir = Path('/vol/ml/apartin/projects/LearningCurves/hpo_runs/lc_gdsc_nn_reg0_hpo')\n",
    "# base_dir = Path('/vol/ml/apartin/projects/LearningCurves/hpo_runs/lc_top6_nn_reg0_hpo')"
   ]
  },
  {
   "cell_type": "code",
   "execution_count": 110,
   "metadata": {},
   "outputs": [],
   "source": [
    "# HPO runs base dir (Serial)\n",
    "# base_dir = Path('/vol/ml/apartin/projects/LearningCurves/trn.ccle/hpo_lgbm/trn.ccle/split_on_none')\n",
    "# base_dir = Path('/vol/ml/apartin/projects/LearningCurves/trn.gdsc/hpo_lgbm/trn.gdsc/split_on_none')\n",
    "base_dir = Path('/vol/ml/apartin/projects/LearningCurves/trn.ctrp/hpo_lgbm/trn.ctrp/split_on_none')"
   ]
  },
  {
   "cell_type": "code",
   "execution_count": 111,
   "metadata": {},
   "outputs": [],
   "source": [
    "# Get scr from base_dir\n",
    "src = [s for s in ['ccle', 'ctrp', 'gdsc', 'nci60', 'top6'] if s in str(base_dir)][0]\n",
    "# model = [s for s in ['nn', 'lgbm'] if s in str(base_dir)][0]"
   ]
  },
  {
   "cell_type": "code",
   "execution_count": 112,
   "metadata": {},
   "outputs": [],
   "source": [
    "# Load\n",
    "hp = pd.read_csv( base_dir/'hpo_all.csv' )"
   ]
  },
  {
   "cell_type": "code",
   "execution_count": 113,
   "metadata": {},
   "outputs": [],
   "source": [
    "# Subset of columns\n",
    "common_cols = ['tr_size', 'mean_absolute_error', 'mean_squared_error', 'median_absolute_error', 'r2', 'run_id']\n",
    "if 'nn' in str(base_dir):\n",
    "    col_subset = ['batch_size', 'lr', 'opt', 'dr_rate', 'batchnorm', # HPs\n",
    "                  'epoch_stop', 'epochs']\n",
    "else:\n",
    "    col_subset = ['gbm_leaves', 'gbm_lr', 'gbm_max_depth', 'gbm_trees'] # HPs\n",
    "col_subset = col_subset + common_cols"
   ]
  },
  {
   "cell_type": "code",
   "execution_count": 114,
   "metadata": {},
   "outputs": [
    {
     "name": "stdout",
     "output_type": "stream",
     "text": [
      "hp dataframe: (1728, 8)\n"
     ]
    }
   ],
   "source": [
    "# Cols subset\n",
    "hp = hp[[c for c in col_subset if c in hp.columns]]\n",
    "print('hp dataframe:', hp.shape)\n",
    "# hp[:2]"
   ]
  },
  {
   "cell_type": "markdown",
   "metadata": {},
   "source": [
    "### Check data"
   ]
  },
  {
   "cell_type": "code",
   "execution_count": 115,
   "metadata": {},
   "outputs": [
    {
     "data": {
      "text/html": [
       "<div>\n",
       "<style scoped>\n",
       "    .dataframe tbody tr th:only-of-type {\n",
       "        vertical-align: middle;\n",
       "    }\n",
       "\n",
       "    .dataframe tbody tr th {\n",
       "        vertical-align: top;\n",
       "    }\n",
       "\n",
       "    .dataframe thead th {\n",
       "        text-align: right;\n",
       "    }\n",
       "</style>\n",
       "<table border=\"1\" class=\"dataframe\">\n",
       "  <thead>\n",
       "    <tr style=\"text-align: right;\">\n",
       "      <th></th>\n",
       "      <th>subset</th>\n",
       "      <th>tr_size</th>\n",
       "    </tr>\n",
       "  </thead>\n",
       "  <tbody>\n",
       "    <tr>\n",
       "      <th>0</th>\n",
       "      <td>128</td>\n",
       "      <td>144</td>\n",
       "    </tr>\n",
       "    <tr>\n",
       "      <th>1</th>\n",
       "      <td>256</td>\n",
       "      <td>144</td>\n",
       "    </tr>\n",
       "    <tr>\n",
       "      <th>2</th>\n",
       "      <td>512</td>\n",
       "      <td>144</td>\n",
       "    </tr>\n",
       "    <tr>\n",
       "      <th>3</th>\n",
       "      <td>1024</td>\n",
       "      <td>144</td>\n",
       "    </tr>\n",
       "    <tr>\n",
       "      <th>4</th>\n",
       "      <td>2048</td>\n",
       "      <td>144</td>\n",
       "    </tr>\n",
       "    <tr>\n",
       "      <th>5</th>\n",
       "      <td>4096</td>\n",
       "      <td>144</td>\n",
       "    </tr>\n",
       "    <tr>\n",
       "      <th>6</th>\n",
       "      <td>8192</td>\n",
       "      <td>144</td>\n",
       "    </tr>\n",
       "    <tr>\n",
       "      <th>7</th>\n",
       "      <td>16384</td>\n",
       "      <td>144</td>\n",
       "    </tr>\n",
       "    <tr>\n",
       "      <th>8</th>\n",
       "      <td>32768</td>\n",
       "      <td>144</td>\n",
       "    </tr>\n",
       "    <tr>\n",
       "      <th>9</th>\n",
       "      <td>65536</td>\n",
       "      <td>144</td>\n",
       "    </tr>\n",
       "    <tr>\n",
       "      <th>10</th>\n",
       "      <td>131072</td>\n",
       "      <td>144</td>\n",
       "    </tr>\n",
       "    <tr>\n",
       "      <th>11</th>\n",
       "      <td>230441</td>\n",
       "      <td>144</td>\n",
       "    </tr>\n",
       "  </tbody>\n",
       "</table>\n",
       "</div>"
      ],
      "text/plain": [
       "    subset  tr_size\n",
       "0      128      144\n",
       "1      256      144\n",
       "2      512      144\n",
       "3     1024      144\n",
       "4     2048      144\n",
       "5     4096      144\n",
       "6     8192      144\n",
       "7    16384      144\n",
       "8    32768      144\n",
       "9    65536      144\n",
       "10  131072      144\n",
       "11  230441      144"
      ]
     },
     "execution_count": 115,
     "metadata": {},
     "output_type": "execute_result"
    }
   ],
   "source": [
    "# Certain runs were not completed --> check\n",
    "hp['tr_size'].value_counts().reset_index().rename(columns={'index': 'subset'}).sort_values('subset').reset_index(drop=True)"
   ]
  },
  {
   "cell_type": "code",
   "execution_count": 116,
   "metadata": {},
   "outputs": [],
   "source": [
    "# certain runs were not completed (a more detailed look)\n",
    "if 'nn' in str(base_dir):\n",
    "    display(hp.groupby(['tr_size', 'batch_size']).agg({'r2': 'size'}).reset_index().rename(columns={'r2': 'count'})[:10])"
   ]
  },
  {
   "cell_type": "code",
   "execution_count": 117,
   "metadata": {},
   "outputs": [
    {
     "data": {
      "text/html": [
       "<div>\n",
       "<style scoped>\n",
       "    .dataframe tbody tr th:only-of-type {\n",
       "        vertical-align: middle;\n",
       "    }\n",
       "\n",
       "    .dataframe tbody tr th {\n",
       "        vertical-align: top;\n",
       "    }\n",
       "\n",
       "    .dataframe thead th {\n",
       "        text-align: right;\n",
       "    }\n",
       "</style>\n",
       "<table border=\"1\" class=\"dataframe\">\n",
       "  <thead>\n",
       "    <tr style=\"text-align: right;\">\n",
       "      <th></th>\n",
       "      <th>tr_size</th>\n",
       "      <th>gbm_leaves</th>\n",
       "      <th>gbm_lr</th>\n",
       "      <th>gbm_max_depth</th>\n",
       "      <th>gbm_trees</th>\n",
       "      <th>mean_absolute_error</th>\n",
       "      <th>r2</th>\n",
       "    </tr>\n",
       "  </thead>\n",
       "  <tbody>\n",
       "    <tr>\n",
       "      <th>0</th>\n",
       "      <td>128</td>\n",
       "      <td>[31, 10, 50, 100]</td>\n",
       "      <td>[0.1, 0.01, 0.001]</td>\n",
       "      <td>[-1, 5, 10, 20]</td>\n",
       "      <td>[100, 1000, 2000]</td>\n",
       "      <td>0.107853</td>\n",
       "      <td>0.068309</td>\n",
       "    </tr>\n",
       "    <tr>\n",
       "      <th>1</th>\n",
       "      <td>256</td>\n",
       "      <td>[31, 10, 50, 100]</td>\n",
       "      <td>[0.1, 0.01, 0.001]</td>\n",
       "      <td>[-1, 5, 10, 20]</td>\n",
       "      <td>[100, 1000, 2000]</td>\n",
       "      <td>0.101219</td>\n",
       "      <td>0.140904</td>\n",
       "    </tr>\n",
       "    <tr>\n",
       "      <th>2</th>\n",
       "      <td>512</td>\n",
       "      <td>[31, 10, 50, 100]</td>\n",
       "      <td>[0.1, 0.01, 0.001]</td>\n",
       "      <td>[-1, 5, 10, 20]</td>\n",
       "      <td>[100, 1000, 2000]</td>\n",
       "      <td>0.093330</td>\n",
       "      <td>0.224846</td>\n",
       "    </tr>\n",
       "    <tr>\n",
       "      <th>3</th>\n",
       "      <td>1024</td>\n",
       "      <td>[31, 10, 50, 100]</td>\n",
       "      <td>[0.1, 0.01, 0.001]</td>\n",
       "      <td>[-1, 5, 10, 20]</td>\n",
       "      <td>[100, 1000, 2000]</td>\n",
       "      <td>0.077618</td>\n",
       "      <td>0.463384</td>\n",
       "    </tr>\n",
       "    <tr>\n",
       "      <th>4</th>\n",
       "      <td>2048</td>\n",
       "      <td>[31, 10, 50, 100]</td>\n",
       "      <td>[0.1, 0.01, 0.001]</td>\n",
       "      <td>[-1, 5, 10, 20]</td>\n",
       "      <td>[100, 1000, 2000]</td>\n",
       "      <td>0.068957</td>\n",
       "      <td>0.565960</td>\n",
       "    </tr>\n",
       "    <tr>\n",
       "      <th>5</th>\n",
       "      <td>4096</td>\n",
       "      <td>[31, 10, 50, 100]</td>\n",
       "      <td>[0.1, 0.01, 0.001]</td>\n",
       "      <td>[-1, 5, 10, 20]</td>\n",
       "      <td>[100, 1000, 2000]</td>\n",
       "      <td>0.060487</td>\n",
       "      <td>0.657421</td>\n",
       "    </tr>\n",
       "    <tr>\n",
       "      <th>6</th>\n",
       "      <td>8192</td>\n",
       "      <td>[31, 10, 50, 100]</td>\n",
       "      <td>[0.1, 0.01, 0.001]</td>\n",
       "      <td>[-1, 5, 10, 20]</td>\n",
       "      <td>[100, 1000, 2000]</td>\n",
       "      <td>0.054837</td>\n",
       "      <td>0.710205</td>\n",
       "    </tr>\n",
       "    <tr>\n",
       "      <th>7</th>\n",
       "      <td>16384</td>\n",
       "      <td>[31, 10, 50, 100]</td>\n",
       "      <td>[0.1, 0.01, 0.001]</td>\n",
       "      <td>[-1, 5, 10, 20]</td>\n",
       "      <td>[100, 1000, 2000]</td>\n",
       "      <td>0.051387</td>\n",
       "      <td>0.741045</td>\n",
       "    </tr>\n",
       "    <tr>\n",
       "      <th>8</th>\n",
       "      <td>32768</td>\n",
       "      <td>[31, 10, 50, 100]</td>\n",
       "      <td>[0.1, 0.01, 0.001]</td>\n",
       "      <td>[-1, 5, 10, 20]</td>\n",
       "      <td>[100, 1000, 2000]</td>\n",
       "      <td>0.048879</td>\n",
       "      <td>0.763545</td>\n",
       "    </tr>\n",
       "    <tr>\n",
       "      <th>9</th>\n",
       "      <td>65536</td>\n",
       "      <td>[31, 10, 50, 100]</td>\n",
       "      <td>[0.1, 0.01, 0.001]</td>\n",
       "      <td>[-1, 5, 10, 20]</td>\n",
       "      <td>[100, 1000, 2000]</td>\n",
       "      <td>0.047306</td>\n",
       "      <td>0.777702</td>\n",
       "    </tr>\n",
       "    <tr>\n",
       "      <th>10</th>\n",
       "      <td>131072</td>\n",
       "      <td>[31, 10, 50, 100]</td>\n",
       "      <td>[0.1, 0.01, 0.001]</td>\n",
       "      <td>[-1, 5, 10, 20]</td>\n",
       "      <td>[100, 1000, 2000]</td>\n",
       "      <td>0.045610</td>\n",
       "      <td>0.794145</td>\n",
       "    </tr>\n",
       "    <tr>\n",
       "      <th>11</th>\n",
       "      <td>230441</td>\n",
       "      <td>[31, 10, 50, 100]</td>\n",
       "      <td>[0.1, 0.01, 0.001]</td>\n",
       "      <td>[-1, 5, 10, 20]</td>\n",
       "      <td>[100, 1000, 2000]</td>\n",
       "      <td>0.043069</td>\n",
       "      <td>0.817472</td>\n",
       "    </tr>\n",
       "  </tbody>\n",
       "</table>\n",
       "</div>"
      ],
      "text/plain": [
       "    tr_size         gbm_leaves              gbm_lr    gbm_max_depth  \\\n",
       "0       128  [31, 10, 50, 100]  [0.1, 0.01, 0.001]  [-1, 5, 10, 20]   \n",
       "1       256  [31, 10, 50, 100]  [0.1, 0.01, 0.001]  [-1, 5, 10, 20]   \n",
       "2       512  [31, 10, 50, 100]  [0.1, 0.01, 0.001]  [-1, 5, 10, 20]   \n",
       "3      1024  [31, 10, 50, 100]  [0.1, 0.01, 0.001]  [-1, 5, 10, 20]   \n",
       "4      2048  [31, 10, 50, 100]  [0.1, 0.01, 0.001]  [-1, 5, 10, 20]   \n",
       "5      4096  [31, 10, 50, 100]  [0.1, 0.01, 0.001]  [-1, 5, 10, 20]   \n",
       "6      8192  [31, 10, 50, 100]  [0.1, 0.01, 0.001]  [-1, 5, 10, 20]   \n",
       "7     16384  [31, 10, 50, 100]  [0.1, 0.01, 0.001]  [-1, 5, 10, 20]   \n",
       "8     32768  [31, 10, 50, 100]  [0.1, 0.01, 0.001]  [-1, 5, 10, 20]   \n",
       "9     65536  [31, 10, 50, 100]  [0.1, 0.01, 0.001]  [-1, 5, 10, 20]   \n",
       "10   131072  [31, 10, 50, 100]  [0.1, 0.01, 0.001]  [-1, 5, 10, 20]   \n",
       "11   230441  [31, 10, 50, 100]  [0.1, 0.01, 0.001]  [-1, 5, 10, 20]   \n",
       "\n",
       "            gbm_trees  mean_absolute_error        r2  \n",
       "0   [100, 1000, 2000]             0.107853  0.068309  \n",
       "1   [100, 1000, 2000]             0.101219  0.140904  \n",
       "2   [100, 1000, 2000]             0.093330  0.224846  \n",
       "3   [100, 1000, 2000]             0.077618  0.463384  \n",
       "4   [100, 1000, 2000]             0.068957  0.565960  \n",
       "5   [100, 1000, 2000]             0.060487  0.657421  \n",
       "6   [100, 1000, 2000]             0.054837  0.710205  \n",
       "7   [100, 1000, 2000]             0.051387  0.741045  \n",
       "8   [100, 1000, 2000]             0.048879  0.763545  \n",
       "9   [100, 1000, 2000]             0.047306  0.777702  \n",
       "10  [100, 1000, 2000]             0.045610  0.794145  \n",
       "11  [100, 1000, 2000]             0.043069  0.817472  "
      ]
     },
     "metadata": {},
     "output_type": "display_data"
    }
   ],
   "source": [
    "# All HP per subset size\n",
    "if 'nn' in str(base_dir):\n",
    "    display(hp.groupby('tr_size').agg({'batch_size': 'unique', 'dr_rate': 'unique', 'opt': 'unique', 'lr': 'unique',\n",
    "                               'mean_absolute_error': 'min', 'r2': 'max'}).reset_index())\n",
    "elif 'lgbm' in str(base_dir):\n",
    "    display(hp.groupby('tr_size').agg({'gbm_leaves': 'unique', 'gbm_lr': 'unique', 'gbm_max_depth': 'unique', 'gbm_trees': 'unique',\n",
    "                               'mean_absolute_error': 'min', 'r2': 'max'}).reset_index())"
   ]
  },
  {
   "cell_type": "code",
   "execution_count": 118,
   "metadata": {},
   "outputs": [],
   "source": [
    "# Certain runs were did not converge (early stop was not activated)\n",
    "if 'nn' in str(base_dir):\n",
    "    not_cnv = hp[ hp['epoch_stop']==hp['epochs'] ]\n",
    "    print('Early stop was not activated for {} runs out of {}'.format( not_cnv.shape[0], hp.shape[0] ))"
   ]
  },
  {
   "cell_type": "code",
   "execution_count": null,
   "metadata": {},
   "outputs": [],
   "source": []
  },
  {
   "cell_type": "markdown",
   "metadata": {},
   "source": [
    "### Plot all LD data points across HPO runs"
   ]
  },
  {
   "cell_type": "code",
   "execution_count": 119,
   "metadata": {},
   "outputs": [],
   "source": [
    "met = 'mean_absolute_error'\n",
    "figsize = (6, 4.5)\n",
    "# xtick_scale, ytick_scale = 'linear', 'linear'\n",
    "xtick_scale, ytick_scale = 'log2', 'log2'\n",
    "\n",
    "plot_all_kwargs = {'metric_name': met, 'xtick_scale': xtick_scale, 'ytick_scale': xtick_scale, 'figsize': figsize}"
   ]
  },
  {
   "cell_type": "code",
   "execution_count": 120,
   "metadata": {},
   "outputs": [
    {
     "data": {
      "image/png": "[encoded data removed]",
      "text/plain": [
       "<Figure size 432x324 with 1 Axes>"
      ]
     },
     "metadata": {
      "needs_background": "light"
     },
     "output_type": "display_data"
    }
   ],
   "source": [
    "plot_all_from_hp_df(hp, **plot_all_kwargs, label='All runs');"
   ]
  },
  {
   "cell_type": "code",
   "execution_count": null,
   "metadata": {},
   "outputs": [],
   "source": []
  },
  {
   "cell_type": "markdown",
   "metadata": {},
   "source": [
    "## Compare PS-HPO and LS-HPO"
   ]
  },
  {
   "cell_type": "code",
   "execution_count": 121,
   "metadata": {},
   "outputs": [],
   "source": [
    "plot_fit_kwargs = {'plot_fit': True, 'metric_name': met, 'xtick_scale': xtick_scale, 'ytick_scale': xtick_scale, 'figsize': figsize}\n",
    "\n",
    "if 'nn' in str(base_dir):\n",
    "    dflt_hp_dct = {'batch_size':32, 'batchnorm': True, 'dr_rate': 0.2, 'lr': 0.0001, 'opt': 'sgd'}\n",
    "elif 'lgbm' in str(base_dir):\n",
    "    dflt_hp_dct = {'gbm_leaves': 31, 'gbm_lr': 0.1, 'gbm_max_depth': -1, 'gbm_trees': 100}"
   ]
  },
  {
   "cell_type": "markdown",
   "metadata": {},
   "source": [
    "### PS-HPO\n",
    "Extract the best performance score for every shard (for each metric)"
   ]
  },
  {
   "cell_type": "code",
   "execution_count": 122,
   "metadata": {},
   "outputs": [
    {
     "data": {
      "text/html": [
       "<div>\n",
       "<style scoped>\n",
       "    .dataframe tbody tr th:only-of-type {\n",
       "        vertical-align: middle;\n",
       "    }\n",
       "\n",
       "    .dataframe tbody tr th {\n",
       "        vertical-align: top;\n",
       "    }\n",
       "\n",
       "    .dataframe thead th {\n",
       "        text-align: right;\n",
       "    }\n",
       "</style>\n",
       "<table border=\"1\" class=\"dataframe\">\n",
       "  <thead>\n",
       "    <tr style=\"text-align: right;\">\n",
       "      <th></th>\n",
       "      <th>gbm_leaves</th>\n",
       "      <th>gbm_lr</th>\n",
       "      <th>gbm_max_depth</th>\n",
       "      <th>gbm_trees</th>\n",
       "      <th>tr_size</th>\n",
       "      <th>mean_absolute_error</th>\n",
       "      <th>median_absolute_error</th>\n",
       "      <th>r2</th>\n",
       "    </tr>\n",
       "  </thead>\n",
       "  <tbody>\n",
       "    <tr>\n",
       "      <th>0</th>\n",
       "      <td>100</td>\n",
       "      <td>0.01</td>\n",
       "      <td>-1</td>\n",
       "      <td>1000</td>\n",
       "      <td>128</td>\n",
       "      <td>0.107853</td>\n",
       "      <td>0.091761</td>\n",
       "      <td>0.068309</td>\n",
       "    </tr>\n",
       "    <tr>\n",
       "      <th>1</th>\n",
       "      <td>31</td>\n",
       "      <td>0.10</td>\n",
       "      <td>5</td>\n",
       "      <td>2000</td>\n",
       "      <td>256</td>\n",
       "      <td>0.101219</td>\n",
       "      <td>0.081071</td>\n",
       "      <td>0.140904</td>\n",
       "    </tr>\n",
       "    <tr>\n",
       "      <th>2</th>\n",
       "      <td>31</td>\n",
       "      <td>0.01</td>\n",
       "      <td>-1</td>\n",
       "      <td>2000</td>\n",
       "      <td>512</td>\n",
       "      <td>0.093330</td>\n",
       "      <td>0.071234</td>\n",
       "      <td>0.224569</td>\n",
       "    </tr>\n",
       "    <tr>\n",
       "      <th>3</th>\n",
       "      <td>10</td>\n",
       "      <td>0.01</td>\n",
       "      <td>10</td>\n",
       "      <td>2000</td>\n",
       "      <td>1024</td>\n",
       "      <td>0.077618</td>\n",
       "      <td>0.057756</td>\n",
       "      <td>0.463384</td>\n",
       "    </tr>\n",
       "    <tr>\n",
       "      <th>4</th>\n",
       "      <td>31</td>\n",
       "      <td>0.01</td>\n",
       "      <td>10</td>\n",
       "      <td>2000</td>\n",
       "      <td>2048</td>\n",
       "      <td>0.068957</td>\n",
       "      <td>0.049825</td>\n",
       "      <td>0.563311</td>\n",
       "    </tr>\n",
       "    <tr>\n",
       "      <th>5</th>\n",
       "      <td>50</td>\n",
       "      <td>0.01</td>\n",
       "      <td>-1</td>\n",
       "      <td>2000</td>\n",
       "      <td>4096</td>\n",
       "      <td>0.060487</td>\n",
       "      <td>0.043329</td>\n",
       "      <td>0.656461</td>\n",
       "    </tr>\n",
       "    <tr>\n",
       "      <th>6</th>\n",
       "      <td>100</td>\n",
       "      <td>0.01</td>\n",
       "      <td>-1</td>\n",
       "      <td>2000</td>\n",
       "      <td>8192</td>\n",
       "      <td>0.054837</td>\n",
       "      <td>0.038660</td>\n",
       "      <td>0.709462</td>\n",
       "    </tr>\n",
       "    <tr>\n",
       "      <th>7</th>\n",
       "      <td>100</td>\n",
       "      <td>0.01</td>\n",
       "      <td>-1</td>\n",
       "      <td>2000</td>\n",
       "      <td>16384</td>\n",
       "      <td>0.051387</td>\n",
       "      <td>0.035766</td>\n",
       "      <td>0.741045</td>\n",
       "    </tr>\n",
       "    <tr>\n",
       "      <th>8</th>\n",
       "      <td>100</td>\n",
       "      <td>0.01</td>\n",
       "      <td>10</td>\n",
       "      <td>2000</td>\n",
       "      <td>32768</td>\n",
       "      <td>0.048879</td>\n",
       "      <td>0.034062</td>\n",
       "      <td>0.763166</td>\n",
       "    </tr>\n",
       "    <tr>\n",
       "      <th>9</th>\n",
       "      <td>100</td>\n",
       "      <td>0.01</td>\n",
       "      <td>-1</td>\n",
       "      <td>2000</td>\n",
       "      <td>65536</td>\n",
       "      <td>0.047306</td>\n",
       "      <td>0.032852</td>\n",
       "      <td>0.777702</td>\n",
       "    </tr>\n",
       "    <tr>\n",
       "      <th>10</th>\n",
       "      <td>100</td>\n",
       "      <td>0.10</td>\n",
       "      <td>20</td>\n",
       "      <td>1000</td>\n",
       "      <td>131072</td>\n",
       "      <td>0.045610</td>\n",
       "      <td>0.031894</td>\n",
       "      <td>0.794145</td>\n",
       "    </tr>\n",
       "    <tr>\n",
       "      <th>11</th>\n",
       "      <td>100</td>\n",
       "      <td>0.10</td>\n",
       "      <td>-1</td>\n",
       "      <td>2000</td>\n",
       "      <td>230441</td>\n",
       "      <td>0.043069</td>\n",
       "      <td>0.030065</td>\n",
       "      <td>0.817472</td>\n",
       "    </tr>\n",
       "  </tbody>\n",
       "</table>\n",
       "</div>"
      ],
      "text/plain": [
       "    gbm_leaves  gbm_lr  gbm_max_depth  gbm_trees  tr_size  \\\n",
       "0          100    0.01             -1       1000      128   \n",
       "1           31    0.10              5       2000      256   \n",
       "2           31    0.01             -1       2000      512   \n",
       "3           10    0.01             10       2000     1024   \n",
       "4           31    0.01             10       2000     2048   \n",
       "5           50    0.01             -1       2000     4096   \n",
       "6          100    0.01             -1       2000     8192   \n",
       "7          100    0.01             -1       2000    16384   \n",
       "8          100    0.01             10       2000    32768   \n",
       "9          100    0.01             -1       2000    65536   \n",
       "10         100    0.10             20       1000   131072   \n",
       "11         100    0.10             -1       2000   230441   \n",
       "\n",
       "    mean_absolute_error  median_absolute_error        r2  \n",
       "0              0.107853               0.091761  0.068309  \n",
       "1              0.101219               0.081071  0.140904  \n",
       "2              0.093330               0.071234  0.224569  \n",
       "3              0.077618               0.057756  0.463384  \n",
       "4              0.068957               0.049825  0.563311  \n",
       "5              0.060487               0.043329  0.656461  \n",
       "6              0.054837               0.038660  0.709462  \n",
       "7              0.051387               0.035766  0.741045  \n",
       "8              0.048879               0.034062  0.763166  \n",
       "9              0.047306               0.032852  0.777702  \n",
       "10             0.045610               0.031894  0.794145  \n",
       "11             0.043069               0.030065  0.817472  "
      ]
     },
     "execution_count": 122,
     "metadata": {},
     "output_type": "execute_result"
    }
   ],
   "source": [
    "ps_best = hp.sort_values(met, ascending=True).drop_duplicates(['tr_size']).sort_values('tr_size').reset_index(drop=True)\n",
    "ps_best"
   ]
  },
  {
   "cell_type": "code",
   "execution_count": 123,
   "metadata": {},
   "outputs": [
    {
     "data": {
      "image/png": "[encoded data removed]",
      "text/plain": [
       "<Figure size 432x324 with 1 Axes>"
      ]
     },
     "metadata": {
      "needs_background": "light"
     },
     "output_type": "display_data"
    }
   ],
   "source": [
    "lrn_crv_plot.plot_lrn_crv_power_law( x = ps_best['tr_size'], y = ps_best[met], title='Per-Subset HPO', **plot_fit_kwargs );"
   ]
  },
  {
   "cell_type": "markdown",
   "metadata": {},
   "source": [
    "### LS-HPO\n",
    "Extract the best performance score for the largest shard (for each metric)"
   ]
  },
  {
   "cell_type": "code",
   "execution_count": 124,
   "metadata": {},
   "outputs": [
    {
     "data": {
      "text/html": [
       "<div>\n",
       "<style scoped>\n",
       "    .dataframe tbody tr th:only-of-type {\n",
       "        vertical-align: middle;\n",
       "    }\n",
       "\n",
       "    .dataframe tbody tr th {\n",
       "        vertical-align: top;\n",
       "    }\n",
       "\n",
       "    .dataframe thead th {\n",
       "        text-align: right;\n",
       "    }\n",
       "</style>\n",
       "<table border=\"1\" class=\"dataframe\">\n",
       "  <thead>\n",
       "    <tr style=\"text-align: right;\">\n",
       "      <th></th>\n",
       "      <th>gbm_leaves</th>\n",
       "      <th>gbm_lr</th>\n",
       "      <th>gbm_max_depth</th>\n",
       "      <th>gbm_trees</th>\n",
       "      <th>tr_size</th>\n",
       "      <th>mean_absolute_error</th>\n",
       "      <th>median_absolute_error</th>\n",
       "      <th>r2</th>\n",
       "    </tr>\n",
       "  </thead>\n",
       "  <tbody>\n",
       "    <tr>\n",
       "      <th>0</th>\n",
       "      <td>100</td>\n",
       "      <td>0.1</td>\n",
       "      <td>-1</td>\n",
       "      <td>2000</td>\n",
       "      <td>230441</td>\n",
       "      <td>0.043069</td>\n",
       "      <td>0.030065</td>\n",
       "      <td>0.817472</td>\n",
       "    </tr>\n",
       "  </tbody>\n",
       "</table>\n",
       "</div>"
      ],
      "text/plain": [
       "   gbm_leaves  gbm_lr  gbm_max_depth  gbm_trees  tr_size  mean_absolute_error  \\\n",
       "0         100     0.1             -1       2000   230441             0.043069   \n",
       "\n",
       "   median_absolute_error        r2  \n",
       "0               0.030065  0.817472  "
      ]
     },
     "metadata": {},
     "output_type": "display_data"
    }
   ],
   "source": [
    "best = top_n_runs(hp, tr_size=hp['tr_size'].max(), n=1, sort_by_metric=met, plot=False)\n",
    "display(best)"
   ]
  },
  {
   "cell_type": "code",
   "execution_count": 125,
   "metadata": {},
   "outputs": [],
   "source": [
    "if 'nn' in str(base_dir):\n",
    "    prm_names = ['dr_rate', 'opt', 'lr', 'batchnorm', 'batch_size']\n",
    "elif 'lgbm' in str(base_dir):\n",
    "    prm_names = ['gbm_trees', 'gbm_max_depth', 'gbm_lr', 'gbm_leaves']"
   ]
  },
  {
   "cell_type": "code",
   "execution_count": 126,
   "metadata": {},
   "outputs": [
    {
     "data": {
      "text/html": [
       "<div>\n",
       "<style scoped>\n",
       "    .dataframe tbody tr th:only-of-type {\n",
       "        vertical-align: middle;\n",
       "    }\n",
       "\n",
       "    .dataframe tbody tr th {\n",
       "        vertical-align: top;\n",
       "    }\n",
       "\n",
       "    .dataframe thead th {\n",
       "        text-align: right;\n",
       "    }\n",
       "</style>\n",
       "<table border=\"1\" class=\"dataframe\">\n",
       "  <thead>\n",
       "    <tr style=\"text-align: right;\">\n",
       "      <th></th>\n",
       "      <th>gbm_leaves</th>\n",
       "      <th>gbm_lr</th>\n",
       "      <th>gbm_max_depth</th>\n",
       "      <th>gbm_trees</th>\n",
       "      <th>tr_size</th>\n",
       "      <th>mean_absolute_error</th>\n",
       "      <th>median_absolute_error</th>\n",
       "      <th>r2</th>\n",
       "    </tr>\n",
       "  </thead>\n",
       "  <tbody>\n",
       "    <tr>\n",
       "      <th>0</th>\n",
       "      <td>100</td>\n",
       "      <td>0.1</td>\n",
       "      <td>-1</td>\n",
       "      <td>2000</td>\n",
       "      <td>128</td>\n",
       "      <td>0.108182</td>\n",
       "      <td>0.092402</td>\n",
       "      <td>0.066382</td>\n",
       "    </tr>\n",
       "    <tr>\n",
       "      <th>1</th>\n",
       "      <td>100</td>\n",
       "      <td>0.1</td>\n",
       "      <td>-1</td>\n",
       "      <td>2000</td>\n",
       "      <td>256</td>\n",
       "      <td>0.101871</td>\n",
       "      <td>0.082251</td>\n",
       "      <td>0.134349</td>\n",
       "    </tr>\n",
       "    <tr>\n",
       "      <th>2</th>\n",
       "      <td>100</td>\n",
       "      <td>0.1</td>\n",
       "      <td>-1</td>\n",
       "      <td>2000</td>\n",
       "      <td>512</td>\n",
       "      <td>0.094300</td>\n",
       "      <td>0.071182</td>\n",
       "      <td>0.202265</td>\n",
       "    </tr>\n",
       "    <tr>\n",
       "      <th>3</th>\n",
       "      <td>100</td>\n",
       "      <td>0.1</td>\n",
       "      <td>-1</td>\n",
       "      <td>2000</td>\n",
       "      <td>1024</td>\n",
       "      <td>0.081241</td>\n",
       "      <td>0.060637</td>\n",
       "      <td>0.413493</td>\n",
       "    </tr>\n",
       "    <tr>\n",
       "      <th>4</th>\n",
       "      <td>100</td>\n",
       "      <td>0.1</td>\n",
       "      <td>-1</td>\n",
       "      <td>2000</td>\n",
       "      <td>2048</td>\n",
       "      <td>0.070422</td>\n",
       "      <td>0.050829</td>\n",
       "      <td>0.543028</td>\n",
       "    </tr>\n",
       "    <tr>\n",
       "      <th>5</th>\n",
       "      <td>100</td>\n",
       "      <td>0.1</td>\n",
       "      <td>-1</td>\n",
       "      <td>2000</td>\n",
       "      <td>4096</td>\n",
       "      <td>0.062453</td>\n",
       "      <td>0.044219</td>\n",
       "      <td>0.634225</td>\n",
       "    </tr>\n",
       "    <tr>\n",
       "      <th>6</th>\n",
       "      <td>100</td>\n",
       "      <td>0.1</td>\n",
       "      <td>-1</td>\n",
       "      <td>2000</td>\n",
       "      <td>8192</td>\n",
       "      <td>0.056167</td>\n",
       "      <td>0.040080</td>\n",
       "      <td>0.699191</td>\n",
       "    </tr>\n",
       "    <tr>\n",
       "      <th>7</th>\n",
       "      <td>100</td>\n",
       "      <td>0.1</td>\n",
       "      <td>-1</td>\n",
       "      <td>2000</td>\n",
       "      <td>16384</td>\n",
       "      <td>0.052662</td>\n",
       "      <td>0.036963</td>\n",
       "      <td>0.731794</td>\n",
       "    </tr>\n",
       "    <tr>\n",
       "      <th>8</th>\n",
       "      <td>100</td>\n",
       "      <td>0.1</td>\n",
       "      <td>-1</td>\n",
       "      <td>2000</td>\n",
       "      <td>32768</td>\n",
       "      <td>0.049754</td>\n",
       "      <td>0.034858</td>\n",
       "      <td>0.756350</td>\n",
       "    </tr>\n",
       "    <tr>\n",
       "      <th>9</th>\n",
       "      <td>100</td>\n",
       "      <td>0.1</td>\n",
       "      <td>-1</td>\n",
       "      <td>2000</td>\n",
       "      <td>65536</td>\n",
       "      <td>0.047964</td>\n",
       "      <td>0.033538</td>\n",
       "      <td>0.772793</td>\n",
       "    </tr>\n",
       "    <tr>\n",
       "      <th>10</th>\n",
       "      <td>100</td>\n",
       "      <td>0.1</td>\n",
       "      <td>-1</td>\n",
       "      <td>2000</td>\n",
       "      <td>131072</td>\n",
       "      <td>0.045720</td>\n",
       "      <td>0.032087</td>\n",
       "      <td>0.793984</td>\n",
       "    </tr>\n",
       "    <tr>\n",
       "      <th>11</th>\n",
       "      <td>100</td>\n",
       "      <td>0.1</td>\n",
       "      <td>-1</td>\n",
       "      <td>2000</td>\n",
       "      <td>230441</td>\n",
       "      <td>0.043069</td>\n",
       "      <td>0.030065</td>\n",
       "      <td>0.817472</td>\n",
       "    </tr>\n",
       "  </tbody>\n",
       "</table>\n",
       "</div>"
      ],
      "text/plain": [
       "    gbm_leaves  gbm_lr  gbm_max_depth  gbm_trees  tr_size  \\\n",
       "0          100     0.1             -1       2000      128   \n",
       "1          100     0.1             -1       2000      256   \n",
       "2          100     0.1             -1       2000      512   \n",
       "3          100     0.1             -1       2000     1024   \n",
       "4          100     0.1             -1       2000     2048   \n",
       "5          100     0.1             -1       2000     4096   \n",
       "6          100     0.1             -1       2000     8192   \n",
       "7          100     0.1             -1       2000    16384   \n",
       "8          100     0.1             -1       2000    32768   \n",
       "9          100     0.1             -1       2000    65536   \n",
       "10         100     0.1             -1       2000   131072   \n",
       "11         100     0.1             -1       2000   230441   \n",
       "\n",
       "    mean_absolute_error  median_absolute_error        r2  \n",
       "0              0.108182               0.092402  0.066382  \n",
       "1              0.101871               0.082251  0.134349  \n",
       "2              0.094300               0.071182  0.202265  \n",
       "3              0.081241               0.060637  0.413493  \n",
       "4              0.070422               0.050829  0.543028  \n",
       "5              0.062453               0.044219  0.634225  \n",
       "6              0.056167               0.040080  0.699191  \n",
       "7              0.052662               0.036963  0.731794  \n",
       "8              0.049754               0.034858  0.756350  \n",
       "9              0.047964               0.033538  0.772793  \n",
       "10             0.045720               0.032087  0.793984  \n",
       "11             0.043069               0.030065  0.817472  "
      ]
     },
     "metadata": {},
     "output_type": "display_data"
    }
   ],
   "source": [
    "# idx = pd.Series(True, index=range(hp.shape[0]))\n",
    "# for c in prm_names:  idx = idx & ( hp[c] == best[c][0] )\n",
    "# ls_best = hp[ idx ].sort_values('tr_size').reset_index(drop=True)\n",
    "\n",
    "hp_cols = [c for c in dflt_hp_dct.keys()]\n",
    "ls_hp_best_dct = {c: best[c].values[0] for c in hp_cols}\n",
    "ls_best = extract_runs_by_specific_hps(hp, ls_hp_best_dct) # hp_ls_best\n",
    "\n",
    "ls_best.to_csv(base_dir/'hpo_ls_best.csv', index=False)\n",
    "display(ls_best)\n"
   ]
  },
  {
   "cell_type": "code",
   "execution_count": 127,
   "metadata": {},
   "outputs": [
    {
     "data": {
      "image/png": "[encoded data removed]",
      "text/plain": [
       "<Figure size 432x324 with 1 Axes>"
      ]
     },
     "metadata": {
      "needs_background": "light"
     },
     "output_type": "display_data"
    }
   ],
   "source": [
    "lrn_crv_plot.plot_lrn_crv_power_law( x = ls_best['tr_size'], y = ls_best[met], title='Largest-Subset HPO', **plot_fit_kwargs );"
   ]
  },
  {
   "cell_type": "code",
   "execution_count": null,
   "metadata": {},
   "outputs": [],
   "source": []
  },
  {
   "cell_type": "markdown",
   "metadata": {},
   "source": [
    "### Plot all data points"
   ]
  },
  {
   "cell_type": "code",
   "execution_count": 128,
   "metadata": {},
   "outputs": [
    {
     "data": {
      "text/html": [
       "<div>\n",
       "<style scoped>\n",
       "    .dataframe tbody tr th:only-of-type {\n",
       "        vertical-align: middle;\n",
       "    }\n",
       "\n",
       "    .dataframe tbody tr th {\n",
       "        vertical-align: top;\n",
       "    }\n",
       "\n",
       "    .dataframe thead th {\n",
       "        text-align: right;\n",
       "    }\n",
       "</style>\n",
       "<table border=\"1\" class=\"dataframe\">\n",
       "  <thead>\n",
       "    <tr style=\"text-align: right;\">\n",
       "      <th></th>\n",
       "      <th>gbm_leaves</th>\n",
       "      <th>gbm_lr</th>\n",
       "      <th>gbm_max_depth</th>\n",
       "      <th>gbm_trees</th>\n",
       "      <th>tr_size</th>\n",
       "      <th>mean_absolute_error</th>\n",
       "      <th>median_absolute_error</th>\n",
       "      <th>r2</th>\n",
       "    </tr>\n",
       "  </thead>\n",
       "  <tbody>\n",
       "    <tr>\n",
       "      <th>0</th>\n",
       "      <td>31</td>\n",
       "      <td>0.1</td>\n",
       "      <td>-1</td>\n",
       "      <td>100</td>\n",
       "      <td>128</td>\n",
       "      <td>0.108182</td>\n",
       "      <td>0.092402</td>\n",
       "      <td>0.066382</td>\n",
       "    </tr>\n",
       "    <tr>\n",
       "      <th>1</th>\n",
       "      <td>31</td>\n",
       "      <td>0.1</td>\n",
       "      <td>-1</td>\n",
       "      <td>100</td>\n",
       "      <td>256</td>\n",
       "      <td>0.101871</td>\n",
       "      <td>0.082251</td>\n",
       "      <td>0.134349</td>\n",
       "    </tr>\n",
       "    <tr>\n",
       "      <th>2</th>\n",
       "      <td>31</td>\n",
       "      <td>0.1</td>\n",
       "      <td>-1</td>\n",
       "      <td>100</td>\n",
       "      <td>512</td>\n",
       "      <td>0.094300</td>\n",
       "      <td>0.071182</td>\n",
       "      <td>0.202265</td>\n",
       "    </tr>\n",
       "    <tr>\n",
       "      <th>3</th>\n",
       "      <td>31</td>\n",
       "      <td>0.1</td>\n",
       "      <td>-1</td>\n",
       "      <td>100</td>\n",
       "      <td>1024</td>\n",
       "      <td>0.080684</td>\n",
       "      <td>0.060358</td>\n",
       "      <td>0.416658</td>\n",
       "    </tr>\n",
       "    <tr>\n",
       "      <th>4</th>\n",
       "      <td>31</td>\n",
       "      <td>0.1</td>\n",
       "      <td>-1</td>\n",
       "      <td>100</td>\n",
       "      <td>2048</td>\n",
       "      <td>0.069589</td>\n",
       "      <td>0.050038</td>\n",
       "      <td>0.552855</td>\n",
       "    </tr>\n",
       "    <tr>\n",
       "      <th>5</th>\n",
       "      <td>31</td>\n",
       "      <td>0.1</td>\n",
       "      <td>-1</td>\n",
       "      <td>100</td>\n",
       "      <td>4096</td>\n",
       "      <td>0.062528</td>\n",
       "      <td>0.045835</td>\n",
       "      <td>0.640409</td>\n",
       "    </tr>\n",
       "    <tr>\n",
       "      <th>6</th>\n",
       "      <td>31</td>\n",
       "      <td>0.1</td>\n",
       "      <td>-1</td>\n",
       "      <td>100</td>\n",
       "      <td>8192</td>\n",
       "      <td>0.057397</td>\n",
       "      <td>0.041596</td>\n",
       "      <td>0.690571</td>\n",
       "    </tr>\n",
       "    <tr>\n",
       "      <th>7</th>\n",
       "      <td>31</td>\n",
       "      <td>0.1</td>\n",
       "      <td>-1</td>\n",
       "      <td>100</td>\n",
       "      <td>16384</td>\n",
       "      <td>0.054251</td>\n",
       "      <td>0.038652</td>\n",
       "      <td>0.719293</td>\n",
       "    </tr>\n",
       "    <tr>\n",
       "      <th>8</th>\n",
       "      <td>31</td>\n",
       "      <td>0.1</td>\n",
       "      <td>-1</td>\n",
       "      <td>100</td>\n",
       "      <td>32768</td>\n",
       "      <td>0.051967</td>\n",
       "      <td>0.036875</td>\n",
       "      <td>0.738987</td>\n",
       "    </tr>\n",
       "    <tr>\n",
       "      <th>9</th>\n",
       "      <td>31</td>\n",
       "      <td>0.1</td>\n",
       "      <td>-1</td>\n",
       "      <td>100</td>\n",
       "      <td>65536</td>\n",
       "      <td>0.050867</td>\n",
       "      <td>0.035780</td>\n",
       "      <td>0.747913</td>\n",
       "    </tr>\n",
       "    <tr>\n",
       "      <th>10</th>\n",
       "      <td>31</td>\n",
       "      <td>0.1</td>\n",
       "      <td>-1</td>\n",
       "      <td>100</td>\n",
       "      <td>131072</td>\n",
       "      <td>0.050275</td>\n",
       "      <td>0.035312</td>\n",
       "      <td>0.753798</td>\n",
       "    </tr>\n",
       "    <tr>\n",
       "      <th>11</th>\n",
       "      <td>31</td>\n",
       "      <td>0.1</td>\n",
       "      <td>-1</td>\n",
       "      <td>100</td>\n",
       "      <td>230441</td>\n",
       "      <td>0.050143</td>\n",
       "      <td>0.035330</td>\n",
       "      <td>0.755180</td>\n",
       "    </tr>\n",
       "  </tbody>\n",
       "</table>\n",
       "</div>"
      ],
      "text/plain": [
       "    gbm_leaves  gbm_lr  gbm_max_depth  gbm_trees  tr_size  \\\n",
       "0           31     0.1             -1        100      128   \n",
       "1           31     0.1             -1        100      256   \n",
       "2           31     0.1             -1        100      512   \n",
       "3           31     0.1             -1        100     1024   \n",
       "4           31     0.1             -1        100     2048   \n",
       "5           31     0.1             -1        100     4096   \n",
       "6           31     0.1             -1        100     8192   \n",
       "7           31     0.1             -1        100    16384   \n",
       "8           31     0.1             -1        100    32768   \n",
       "9           31     0.1             -1        100    65536   \n",
       "10          31     0.1             -1        100   131072   \n",
       "11          31     0.1             -1        100   230441   \n",
       "\n",
       "    mean_absolute_error  median_absolute_error        r2  \n",
       "0              0.108182               0.092402  0.066382  \n",
       "1              0.101871               0.082251  0.134349  \n",
       "2              0.094300               0.071182  0.202265  \n",
       "3              0.080684               0.060358  0.416658  \n",
       "4              0.069589               0.050038  0.552855  \n",
       "5              0.062528               0.045835  0.640409  \n",
       "6              0.057397               0.041596  0.690571  \n",
       "7              0.054251               0.038652  0.719293  \n",
       "8              0.051967               0.036875  0.738987  \n",
       "9              0.050867               0.035780  0.747913  \n",
       "10             0.050275               0.035312  0.753798  \n",
       "11             0.050143               0.035330  0.755180  "
      ]
     },
     "metadata": {},
     "output_type": "display_data"
    }
   ],
   "source": [
    "hp_dflt = extract_runs_by_specific_hps(hp, dflt_hp_dct)\n",
    "display(hp_dflt)\n"
   ]
  },
  {
   "cell_type": "code",
   "execution_count": 129,
   "metadata": {},
   "outputs": [
    {
     "data": {
      "image/png": "[encoded data removed]",
      "text/plain": [
       "<Figure size 432x324 with 1 Axes>"
      ]
     },
     "metadata": {
      "needs_background": "light"
     },
     "output_type": "display_data"
    }
   ],
   "source": [
    "# matplotlib.org/3.1.0/api/markers_api.html#module-matplotlib.markers\n",
    "\n",
    "# Plot all runs\n",
    "ax = plot_all_from_hp_df(hp, **plot_all_kwargs, marker='.', alpha=0.3, title=f'{src.upper()}', label='All HP runs');\n",
    "\n",
    "# Plot runs from default model HPs\n",
    "ax.plot(hp_dflt['tr_size'], hp_dflt[met], ls='--', alpha=0.8, marker='v', label='LGBM default HPs');\n",
    "\n",
    "# Plot runs from best LS-HPs applied to all shards\n",
    "ax.plot(ls_best['tr_size'], ls_best[met], ls='--', color='r', alpha=0.8, marker='*', label='LGBM LS best HPs');\n",
    "\n",
    "ax.legend(frameon=True, fontsize=10, bbox_to_anchor=(1.02, 1), loc='upper left');"
   ]
  },
  {
   "cell_type": "markdown",
   "metadata": {},
   "source": [
    "### Percent improvement"
   ]
  },
  {
   "cell_type": "code",
   "execution_count": 130,
   "metadata": {},
   "outputs": [],
   "source": [
    "# display(hp_dflt)\n",
    "# display(ps_best)"
   ]
  },
  {
   "cell_type": "code",
   "execution_count": 131,
   "metadata": {},
   "outputs": [
    {
     "data": {
      "image/png": "[encoded data removed]",
      "text/plain": [
       "<Figure size 432x288 with 1 Axes>"
      ]
     },
     "metadata": {
      "needs_background": "light"
     },
     "output_type": "display_data"
    }
   ],
   "source": [
    "sizes = list(set(hp_dflt['tr_size']).intersection(set(ps_best['tr_size'])))\n",
    "V0 = hp_dflt[ hp_dflt['tr_size'].isin(sizes) ]\n",
    "V1 = ps_best[ ps_best['tr_size'].isin(sizes) ]\n",
    "\n",
    "v0 = V0.loc[:,'mean_absolute_error']\n",
    "v1 = V1.loc[:,'mean_absolute_error']\n",
    "imp = (v0-v1)/v0*100\n",
    "\n",
    "plt.plot(V0['tr_size'], imp, '.'); plt.grid(True);\n",
    "plt.ylabel('Percentage Improvement')\n",
    "plt.xlabel('Training Set Size');"
   ]
  },
  {
   "cell_type": "code",
   "execution_count": null,
   "metadata": {},
   "outputs": [],
   "source": []
  },
  {
   "cell_type": "markdown",
   "metadata": {},
   "source": [
    "### PS-HPO vs LS-HPO fit"
   ]
  },
  {
   "cell_type": "code",
   "execution_count": 132,
   "metadata": {},
   "outputs": [
    {
     "data": {
      "image/png": "[encoded data removed]",
      "text/plain": [
       "<Figure size 432x324 with 1 Axes>"
      ]
     },
     "metadata": {
      "needs_background": "light"
     },
     "output_type": "display_data"
    }
   ],
   "source": [
    "marker='o'; alpha=0.5\n",
    "\n",
    "ax, fit_prms, rmse = lrn_crv_plot.plot_lrn_crv_power_law(x=ps_best['tr_size'], y=ps_best[met],\n",
    "                                                         marker=marker, alpha=alpha, label='PS-HPO',\n",
    "                                                         ax=None, **plot_fit_kwargs)\n",
    "\n",
    "ax, fit_prms, rmse = lrn_crv_plot.plot_lrn_crv_power_law(x=ls_best['tr_size'], y=ls_best[met],\n",
    "                                                         marker=marker, alpha=alpha, label='LS-HPO', \n",
    "                                                         ax=ax, **plot_fit_kwargs,\n",
    "                                                         title='Per-Subset HPO vs. Largest-Subset HPO')"
   ]
  },
  {
   "cell_type": "markdown",
   "metadata": {},
   "source": [
    "## PS-HPO vs LS-HPO extrapolate"
   ]
  },
  {
   "cell_type": "code",
   "execution_count": 133,
   "metadata": {},
   "outputs": [],
   "source": [
    "m0 = 7"
   ]
  },
  {
   "cell_type": "code",
   "execution_count": 134,
   "metadata": {},
   "outputs": [
    {
     "data": {
      "text/plain": [
       "(<matplotlib.axes._subplots.AxesSubplot at 0x7f3925682898>,\n",
       " {'alpha': 1.6237977297761375,\n",
       "  'beta': -0.008721955468566307,\n",
       "  'gamma': -1.4465587948241945})"
      ]
     },
     "execution_count": 134,
     "metadata": {},
     "output_type": "execute_result"
    },
    {
     "data": {
      "image/png": "[encoded data removed]",
      "text/plain": [
       "<Figure size 432x324 with 1 Axes>"
      ]
     },
     "metadata": {
      "needs_background": "light"
     },
     "output_type": "display_data"
    }
   ],
   "source": [
    "lrn_crv_plot.lrn_crv_power_law_extrapolate(x=ls_best['tr_size'], y=ls_best[met],\n",
    "                                           m0=m0, **plot_fit_kwargs, title='Largest-Subset HPO')"
   ]
  },
  {
   "cell_type": "code",
   "execution_count": 135,
   "metadata": {},
   "outputs": [
    {
     "data": {
      "text/plain": [
       "(<matplotlib.axes._subplots.AxesSubplot at 0x7f39255ed4a8>,\n",
       " {'alpha': 0.37512802043377136,\n",
       "  'beta': -0.052148338785040056,\n",
       "  'gamma': -0.1814039045886107})"
      ]
     },
     "execution_count": 135,
     "metadata": {},
     "output_type": "execute_result"
    },
    {
     "data": {
      "image/png": "[encoded data removed]",
      "text/plain": [
       "<Figure size 432x324 with 1 Axes>"
      ]
     },
     "metadata": {
      "needs_background": "light"
     },
     "output_type": "display_data"
    }
   ],
   "source": [
    "lrn_crv_plot.lrn_crv_power_law_extrapolate(x=ps_best['tr_size'], y=ps_best[met],\n",
    "                                           m0=m0, **plot_fit_kwargs, title='Per-Subset HPO')"
   ]
  },
  {
   "cell_type": "code",
   "execution_count": null,
   "metadata": {},
   "outputs": [],
   "source": []
  }
 ],
 "metadata": {
  "kernelspec": {
   "display_name": "Python 3",
   "language": "python",
   "name": "python3"
  },
  "language_info": {
   "codemirror_mode": {
    "name": "ipython",
    "version": 3
   },
   "file_extension": ".py",
   "mimetype": "text/x-python",
   "name": "python",
   "nbconvert_exporter": "python",
   "pygments_lexer": "ipython3",
   "version": "3.6.8"
  }
 },
 "nbformat": 4,
 "nbformat_minor": 2
}
