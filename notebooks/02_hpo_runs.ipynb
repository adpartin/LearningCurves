{
 "cells": [
  {
   "cell_type": "markdown",
   "metadata": {},
   "source": [
    "# Analysis of serial HPO for LGBM\n",
    "\n",
    "The goal is to understand how much HPO affect drug response prediction and LC plots.<br>\n",
    "We executed per-subset HPO (PS-HPO). We then extracted largest-subset HPO (LS-HPO) from the PS-HPO results.\n",
    "\n",
    "Conclusion:\n",
    "1. HPO indeed affects drug response prediction with LightGBM. Thus, it's important to perform HPO when comparing models with baselines!\n",
    "2. So far, we analyzed LC data from CCLE and GDSC. Some shards (and most importantly the last one) use edge HPs. The fits are not that good! Repeat HPO for the final shard with higher range of HPs!\n",
    "3. "
   ]
  },
  {
   "cell_type": "code",
   "execution_count": 1,
   "metadata": {},
   "outputs": [
    {
     "name": "stdout",
     "output_type": "stream",
     "text": [
      "/vol/ml/apartin/projects/LearningCurves/notebooks\n"
     ]
    }
   ],
   "source": [
    "%load_ext autoreload\n",
    "%autoreload 2\n",
    "%matplotlib inline\n",
    "\n",
    "import warnings\n",
    "warnings.filterwarnings('ignore')\n",
    "\n",
    "import os\n",
    "import sys\n",
    "from pathlib import Path\n",
    "\n",
    "import sklearn\n",
    "import numpy as np\n",
    "import pandas as pd\n",
    "from glob import glob\n",
    "\n",
    "import matplotlib\n",
    "import matplotlib.pyplot as plt\n",
    "\n",
    "# Make all python scripts available in the path\n",
    "sys.path.append('../')\n",
    "\n",
    "import pp_utils\n",
    "import lrn_crv_plot\n",
    "%matplotlib inline\n",
    "\n",
    "filepath = Path(os.getcwd())\n",
    "print(filepath)"
   ]
  },
  {
   "cell_type": "markdown",
   "metadata": {},
   "source": [
    "### Utils"
   ]
  },
  {
   "cell_type": "code",
   "execution_count": 2,
   "metadata": {},
   "outputs": [],
   "source": [
    "def top_n_runs(df, tr_size=None, n=10, sort_by_metric='mean_absolute_error', plot=False):\n",
    "    \"\"\" Return top runs based on sort_by_metric. \"\"\"\n",
    "    if tr_size is not None:\n",
    "        df = df[df['tr_size']==tr_size].reset_index(drop=True)\n",
    "    if sort_by_metric == 'r2':\n",
    "        df = df.sort_values(sort_by_metric, ascending=False).iloc[:n, :]\n",
    "    else:\n",
    "        df = df.sort_values(sort_by_metric, ascending=True).iloc[:n, :]\n",
    "    \n",
    "    if plot: display(df.transpose())\n",
    "    return df.reset_index(drop=True)"
   ]
  },
  {
   "cell_type": "code",
   "execution_count": 3,
   "metadata": {},
   "outputs": [],
   "source": [
    "def my_lambda(df_row, hps_dct):\n",
    "    \"\"\" Return True if a run used hps that appear in hps_dct. \"\"\"\n",
    "    cols = list( set(df_row.index).intersection(hps_dct.keys()) )\n",
    "    return np.array( [df_row[c]==hps_dct[c] for c in cols] ).all()\n",
    "\n",
    "def extract_runs_by_specific_hps(hp_df, hps_dct):\n",
    "    \"\"\" Take df where each row contains parameters of a single run, and extract all runs (rows)\n",
    "    that share the same parameters specified by hps_dct.\n",
    "    \"\"\"\n",
    "    hp_df = hp_df[ hp_df.apply(lambda df_row: my_lambda(df_row, hps_dct), axis=1 ) ].sort_values('tr_size').reset_index(drop=True)\n",
    "    return hp_df"
   ]
  },
  {
   "cell_type": "markdown",
   "metadata": {},
   "source": [
    "## Load results from runs"
   ]
  },
  {
   "cell_type": "code",
   "execution_count": 91,
   "metadata": {},
   "outputs": [],
   "source": [
    "# HPO runs base dir (HPC)\n",
    "# base_dir = Path('/vol/ml/apartin/projects/LearningCurves/hpo_runs/lc_ctrp_nn_reg0_hpo')\n",
    "# base_dir = Path('/vol/ml/apartin/projects/LearningCurves/hpo_runs/lc_gdsc_nn_reg0_hpo')\n",
    "# base_dir = Path('/vol/ml/apartin/projects/LearningCurves/hpo_runs/lc_top6_nn_reg0_hpo')"
   ]
  },
  {
   "cell_type": "code",
   "execution_count": 92,
   "metadata": {},
   "outputs": [],
   "source": [
    "# HPO runs base dir (Serial)\n",
    "# base_dir = Path('/vol/ml/apartin/projects/LearningCurves/trn.ccle/hpo_lgbm/trn.ccle/split_on_none')\n",
    "\n",
    "# GDSC\n",
    "base_dir = Path('/vol/ml/apartin/projects/LearningCurves/trn.gdsc/hpo_lgbm_split_on_none/trn.gdsc/split_on_none')\n",
    "# base_dir = Path('/vol/ml/apartin/projects/LearningCurves/hpo_runs/lc_gdsc_lgbm_hpo/')\n",
    "\n",
    "# CTRP\n",
    "# base_dir = Path('/vol/ml/apartin/projects/LearningCurves/trn.ctrp/hpo_lgbm/trn.ctrp/split_on_none')\n",
    "# base_dir = Path('/vol/ml/apartin/projects/LearningCurves/hpo_runs/lc_ctrp_lgbm_hpo/')"
   ]
  },
  {
   "cell_type": "code",
   "execution_count": 93,
   "metadata": {},
   "outputs": [],
   "source": [
    "# Split on cell\n",
    "\n",
    "# GDSC\n",
    "# base_dir = Path('/vol/ml/apartin/projects/LearningCurves/trn.gdsc/grid_hpo_gdsc_lgbm_on_cell/grid_hpo_gdsc_lgbm_on_cell_p1/runs_p1')\n",
    "# base_dir = Path('/vol/ml/apartin/projects/LearningCurves/trn.gdsc/grid_hpo_gdsc_lgbm_on_cell/grid_hpo_gdsc_lgbm_on_cell_p2/runs_p2')\n",
    "\n",
    "# CTRP\n",
    "# base_dir = ..."
   ]
  },
  {
   "cell_type": "code",
   "execution_count": 94,
   "metadata": {},
   "outputs": [],
   "source": [
    "# Get scr from base_dir\n",
    "src = [s for s in ['ccle', 'ctrp', 'gdsc', 'nci60', 'top6'] if s in str(base_dir)][0]\n",
    "model = [s for s in ['nn', 'lgbm'] if s in str(base_dir)][0]"
   ]
  },
  {
   "cell_type": "code",
   "execution_count": 95,
   "metadata": {},
   "outputs": [],
   "source": [
    "# Load\n",
    "hp = pd.read_csv( base_dir/'hpo_all.csv' )"
   ]
  },
  {
   "cell_type": "code",
   "execution_count": 96,
   "metadata": {},
   "outputs": [],
   "source": [
    "# Subset of columns\n",
    "common_cols = ['tr_size', 'mean_absolute_error', 'mean_squared_error', 'median_absolute_error', 'r2', 'run_id']\n",
    "if 'nn' in str(base_dir):\n",
    "    col_subset = ['batch_size', 'lr', 'opt', 'dr_rate', 'batchnorm', # HPs\n",
    "                  'epoch_stop', 'epochs']\n",
    "else:\n",
    "    col_subset = ['gbm_leaves', 'gbm_lr', 'gbm_max_depth', 'gbm_trees'] # HPs\n",
    "col_subset = col_subset + common_cols"
   ]
  },
  {
   "cell_type": "code",
   "execution_count": 97,
   "metadata": {},
   "outputs": [
    {
     "name": "stdout",
     "output_type": "stream",
     "text": [
      "hp dataframe: (1584, 8)\n"
     ]
    }
   ],
   "source": [
    "# Cols subset\n",
    "hp = hp[[c for c in col_subset if c in hp.columns]]\n",
    "print('hp dataframe:', hp.shape)\n",
    "# hp[:2]"
   ]
  },
  {
   "cell_type": "markdown",
   "metadata": {},
   "source": [
    "### Check data"
   ]
  },
  {
   "cell_type": "code",
   "execution_count": 98,
   "metadata": {},
   "outputs": [
    {
     "data": {
      "text/html": [
       "<div>\n",
       "<style scoped>\n",
       "    .dataframe tbody tr th:only-of-type {\n",
       "        vertical-align: middle;\n",
       "    }\n",
       "\n",
       "    .dataframe tbody tr th {\n",
       "        vertical-align: top;\n",
       "    }\n",
       "\n",
       "    .dataframe thead th {\n",
       "        text-align: right;\n",
       "    }\n",
       "</style>\n",
       "<table border=\"1\" class=\"dataframe\">\n",
       "  <thead>\n",
       "    <tr style=\"text-align: right;\">\n",
       "      <th></th>\n",
       "      <th>subset</th>\n",
       "      <th>tr_size</th>\n",
       "    </tr>\n",
       "  </thead>\n",
       "  <tbody>\n",
       "    <tr>\n",
       "      <th>0</th>\n",
       "      <td>128</td>\n",
       "      <td>144</td>\n",
       "    </tr>\n",
       "    <tr>\n",
       "      <th>1</th>\n",
       "      <td>256</td>\n",
       "      <td>144</td>\n",
       "    </tr>\n",
       "    <tr>\n",
       "      <th>2</th>\n",
       "      <td>512</td>\n",
       "      <td>144</td>\n",
       "    </tr>\n",
       "    <tr>\n",
       "      <th>3</th>\n",
       "      <td>1024</td>\n",
       "      <td>144</td>\n",
       "    </tr>\n",
       "    <tr>\n",
       "      <th>4</th>\n",
       "      <td>2048</td>\n",
       "      <td>144</td>\n",
       "    </tr>\n",
       "    <tr>\n",
       "      <th>5</th>\n",
       "      <td>4096</td>\n",
       "      <td>144</td>\n",
       "    </tr>\n",
       "    <tr>\n",
       "      <th>6</th>\n",
       "      <td>8192</td>\n",
       "      <td>144</td>\n",
       "    </tr>\n",
       "    <tr>\n",
       "      <th>7</th>\n",
       "      <td>16384</td>\n",
       "      <td>144</td>\n",
       "    </tr>\n",
       "    <tr>\n",
       "      <th>8</th>\n",
       "      <td>32768</td>\n",
       "      <td>144</td>\n",
       "    </tr>\n",
       "    <tr>\n",
       "      <th>9</th>\n",
       "      <td>65536</td>\n",
       "      <td>144</td>\n",
       "    </tr>\n",
       "    <tr>\n",
       "      <th>10</th>\n",
       "      <td>88416</td>\n",
       "      <td>144</td>\n",
       "    </tr>\n",
       "  </tbody>\n",
       "</table>\n",
       "</div>"
      ],
      "text/plain": [
       "    subset  tr_size\n",
       "0      128      144\n",
       "1      256      144\n",
       "2      512      144\n",
       "3     1024      144\n",
       "4     2048      144\n",
       "5     4096      144\n",
       "6     8192      144\n",
       "7    16384      144\n",
       "8    32768      144\n",
       "9    65536      144\n",
       "10   88416      144"
      ]
     },
     "execution_count": 98,
     "metadata": {},
     "output_type": "execute_result"
    }
   ],
   "source": [
    "# Certain runs were not completed --> check\n",
    "hp['tr_size'].value_counts().reset_index().rename(columns={'index': 'subset'}).sort_values('subset').reset_index(drop=True)"
   ]
  },
  {
   "cell_type": "code",
   "execution_count": 99,
   "metadata": {},
   "outputs": [],
   "source": [
    "# certain runs were not completed (a more detailed look)\n",
    "if 'nn' in str(base_dir):\n",
    "    display(hp.groupby(['tr_size', 'batch_size']).agg({'r2': 'size'}).reset_index().rename(columns={'r2': 'count'})[:10])"
   ]
  },
  {
   "cell_type": "code",
   "execution_count": 100,
   "metadata": {},
   "outputs": [],
   "source": [
    "# Certain runs were did not converge (early stop was not activated)\n",
    "if 'nn' in str(base_dir):\n",
    "    not_cnv = hp[ hp['epoch_stop']==hp['epochs'] ]\n",
    "    print('Early stop was not activated for {} runs out of {}'.format( not_cnv.shape[0], hp.shape[0] ))"
   ]
  },
  {
   "cell_type": "code",
   "execution_count": 101,
   "metadata": {},
   "outputs": [
    {
     "data": {
      "text/html": [
       "<div>\n",
       "<style scoped>\n",
       "    .dataframe tbody tr th:only-of-type {\n",
       "        vertical-align: middle;\n",
       "    }\n",
       "\n",
       "    .dataframe tbody tr th {\n",
       "        vertical-align: top;\n",
       "    }\n",
       "\n",
       "    .dataframe thead th {\n",
       "        text-align: right;\n",
       "    }\n",
       "</style>\n",
       "<table border=\"1\" class=\"dataframe\">\n",
       "  <thead>\n",
       "    <tr style=\"text-align: right;\">\n",
       "      <th></th>\n",
       "      <th>gbm_leaves</th>\n",
       "      <th>gbm_lr</th>\n",
       "      <th>gbm_max_depth</th>\n",
       "      <th>gbm_trees</th>\n",
       "      <th>tr_size</th>\n",
       "      <th>mean_absolute_error</th>\n",
       "      <th>median_absolute_error</th>\n",
       "      <th>r2</th>\n",
       "    </tr>\n",
       "  </thead>\n",
       "  <tbody>\n",
       "    <tr>\n",
       "      <th>0</th>\n",
       "      <td>31</td>\n",
       "      <td>0.001</td>\n",
       "      <td>5</td>\n",
       "      <td>1000</td>\n",
       "      <td>1024</td>\n",
       "      <td>0.101402</td>\n",
       "      <td>0.087369</td>\n",
       "      <td>0.351723</td>\n",
       "    </tr>\n",
       "    <tr>\n",
       "      <th>1</th>\n",
       "      <td>31</td>\n",
       "      <td>0.001</td>\n",
       "      <td>5</td>\n",
       "      <td>1000</td>\n",
       "      <td>128</td>\n",
       "      <td>0.121037</td>\n",
       "      <td>0.101422</td>\n",
       "      <td>0.054376</td>\n",
       "    </tr>\n",
       "    <tr>\n",
       "      <th>2</th>\n",
       "      <td>31</td>\n",
       "      <td>0.001</td>\n",
       "      <td>5</td>\n",
       "      <td>1000</td>\n",
       "      <td>16384</td>\n",
       "      <td>0.098736</td>\n",
       "      <td>0.086021</td>\n",
       "      <td>0.398130</td>\n",
       "    </tr>\n",
       "    <tr>\n",
       "      <th>3</th>\n",
       "      <td>31</td>\n",
       "      <td>0.001</td>\n",
       "      <td>5</td>\n",
       "      <td>1000</td>\n",
       "      <td>2048</td>\n",
       "      <td>0.101137</td>\n",
       "      <td>0.087921</td>\n",
       "      <td>0.376922</td>\n",
       "    </tr>\n",
       "    <tr>\n",
       "      <th>4</th>\n",
       "      <td>31</td>\n",
       "      <td>0.001</td>\n",
       "      <td>5</td>\n",
       "      <td>1000</td>\n",
       "      <td>256</td>\n",
       "      <td>0.113920</td>\n",
       "      <td>0.094521</td>\n",
       "      <td>0.147160</td>\n",
       "    </tr>\n",
       "  </tbody>\n",
       "</table>\n",
       "</div>"
      ],
      "text/plain": [
       "   gbm_leaves  gbm_lr  gbm_max_depth  gbm_trees  tr_size  mean_absolute_error  \\\n",
       "0          31   0.001              5       1000     1024             0.101402   \n",
       "1          31   0.001              5       1000      128             0.121037   \n",
       "2          31   0.001              5       1000    16384             0.098736   \n",
       "3          31   0.001              5       1000     2048             0.101137   \n",
       "4          31   0.001              5       1000      256             0.113920   \n",
       "\n",
       "   median_absolute_error        r2  \n",
       "0               0.087369  0.351723  \n",
       "1               0.101422  0.054376  \n",
       "2               0.086021  0.398130  \n",
       "3               0.087921  0.376922  \n",
       "4               0.094521  0.147160  "
      ]
     },
     "execution_count": 101,
     "metadata": {},
     "output_type": "execute_result"
    }
   ],
   "source": [
    "hp.head()"
   ]
  },
  {
   "cell_type": "code",
   "execution_count": 102,
   "metadata": {},
   "outputs": [
    {
     "data": {
      "text/html": [
       "<div>\n",
       "<style scoped>\n",
       "    .dataframe tbody tr th:only-of-type {\n",
       "        vertical-align: middle;\n",
       "    }\n",
       "\n",
       "    .dataframe tbody tr th {\n",
       "        vertical-align: top;\n",
       "    }\n",
       "\n",
       "    .dataframe thead th {\n",
       "        text-align: right;\n",
       "    }\n",
       "</style>\n",
       "<table border=\"1\" class=\"dataframe\">\n",
       "  <thead>\n",
       "    <tr style=\"text-align: right;\">\n",
       "      <th></th>\n",
       "      <th>tr_size</th>\n",
       "      <th>gbm_leaves</th>\n",
       "      <th>gbm_lr</th>\n",
       "      <th>gbm_max_depth</th>\n",
       "      <th>gbm_trees</th>\n",
       "      <th>mean_absolute_error</th>\n",
       "      <th>r2</th>\n",
       "    </tr>\n",
       "  </thead>\n",
       "  <tbody>\n",
       "    <tr>\n",
       "      <th>0</th>\n",
       "      <td>128</td>\n",
       "      <td>[31, 10, 50, 100]</td>\n",
       "      <td>[0.001, 0.1, 0.01]</td>\n",
       "      <td>[5, 10, 20, -1]</td>\n",
       "      <td>[1000, 2000, 100]</td>\n",
       "      <td>0.118538</td>\n",
       "      <td>0.096020</td>\n",
       "    </tr>\n",
       "    <tr>\n",
       "      <th>1</th>\n",
       "      <td>256</td>\n",
       "      <td>[31, 10, 50, 100]</td>\n",
       "      <td>[0.001, 0.1, 0.01]</td>\n",
       "      <td>[5, 10, 20, -1]</td>\n",
       "      <td>[1000, 2000, 100]</td>\n",
       "      <td>0.108738</td>\n",
       "      <td>0.222398</td>\n",
       "    </tr>\n",
       "    <tr>\n",
       "      <th>2</th>\n",
       "      <td>512</td>\n",
       "      <td>[31, 10, 50, 100]</td>\n",
       "      <td>[0.001, 0.1, 0.01]</td>\n",
       "      <td>[5, 10, 20, -1]</td>\n",
       "      <td>[1000, 2000, 100]</td>\n",
       "      <td>0.097134</td>\n",
       "      <td>0.389704</td>\n",
       "    </tr>\n",
       "    <tr>\n",
       "      <th>3</th>\n",
       "      <td>1024</td>\n",
       "      <td>[31, 10, 50, 100]</td>\n",
       "      <td>[0.001, 0.1, 0.01]</td>\n",
       "      <td>[5, 10, 20, -1]</td>\n",
       "      <td>[1000, 2000, 100]</td>\n",
       "      <td>0.088008</td>\n",
       "      <td>0.486045</td>\n",
       "    </tr>\n",
       "    <tr>\n",
       "      <th>4</th>\n",
       "      <td>2048</td>\n",
       "      <td>[31, 10, 50, 100]</td>\n",
       "      <td>[0.001, 0.1, 0.01]</td>\n",
       "      <td>[5, 10, 20, -1]</td>\n",
       "      <td>[1000, 2000, 100]</td>\n",
       "      <td>0.082695</td>\n",
       "      <td>0.542298</td>\n",
       "    </tr>\n",
       "    <tr>\n",
       "      <th>5</th>\n",
       "      <td>4096</td>\n",
       "      <td>[31, 10, 50, 100]</td>\n",
       "      <td>[0.001, 0.1, 0.01]</td>\n",
       "      <td>[5, 10, 20, -1]</td>\n",
       "      <td>[1000, 2000, 100]</td>\n",
       "      <td>0.077674</td>\n",
       "      <td>0.584321</td>\n",
       "    </tr>\n",
       "    <tr>\n",
       "      <th>6</th>\n",
       "      <td>8192</td>\n",
       "      <td>[31, 10, 50, 100]</td>\n",
       "      <td>[0.001, 0.1, 0.01]</td>\n",
       "      <td>[5, 10, 20, -1]</td>\n",
       "      <td>[1000, 2000, 100]</td>\n",
       "      <td>0.074199</td>\n",
       "      <td>0.618559</td>\n",
       "    </tr>\n",
       "    <tr>\n",
       "      <th>7</th>\n",
       "      <td>16384</td>\n",
       "      <td>[31, 10, 50, 100]</td>\n",
       "      <td>[0.001, 0.1, 0.01]</td>\n",
       "      <td>[5, 10, 20, -1]</td>\n",
       "      <td>[1000, 2000, 100]</td>\n",
       "      <td>0.071394</td>\n",
       "      <td>0.641692</td>\n",
       "    </tr>\n",
       "    <tr>\n",
       "      <th>8</th>\n",
       "      <td>32768</td>\n",
       "      <td>[31, 10, 50, 100]</td>\n",
       "      <td>[0.001, 0.1, 0.01]</td>\n",
       "      <td>[5, 10, 20, -1]</td>\n",
       "      <td>[1000, 2000, 100]</td>\n",
       "      <td>0.068805</td>\n",
       "      <td>0.664147</td>\n",
       "    </tr>\n",
       "    <tr>\n",
       "      <th>9</th>\n",
       "      <td>65536</td>\n",
       "      <td>[31, 10, 50, 100]</td>\n",
       "      <td>[0.001, 0.1, 0.01]</td>\n",
       "      <td>[5, 10, 20, -1]</td>\n",
       "      <td>[1000, 2000, 100]</td>\n",
       "      <td>0.066228</td>\n",
       "      <td>0.688307</td>\n",
       "    </tr>\n",
       "    <tr>\n",
       "      <th>10</th>\n",
       "      <td>88416</td>\n",
       "      <td>[31, 10, 50, 100]</td>\n",
       "      <td>[0.001, 0.1, 0.01]</td>\n",
       "      <td>[5, 10, 20, -1]</td>\n",
       "      <td>[1000, 2000, 100]</td>\n",
       "      <td>0.065549</td>\n",
       "      <td>0.694342</td>\n",
       "    </tr>\n",
       "  </tbody>\n",
       "</table>\n",
       "</div>"
      ],
      "text/plain": [
       "    tr_size         gbm_leaves              gbm_lr    gbm_max_depth  \\\n",
       "0       128  [31, 10, 50, 100]  [0.001, 0.1, 0.01]  [5, 10, 20, -1]   \n",
       "1       256  [31, 10, 50, 100]  [0.001, 0.1, 0.01]  [5, 10, 20, -1]   \n",
       "2       512  [31, 10, 50, 100]  [0.001, 0.1, 0.01]  [5, 10, 20, -1]   \n",
       "3      1024  [31, 10, 50, 100]  [0.001, 0.1, 0.01]  [5, 10, 20, -1]   \n",
       "4      2048  [31, 10, 50, 100]  [0.001, 0.1, 0.01]  [5, 10, 20, -1]   \n",
       "5      4096  [31, 10, 50, 100]  [0.001, 0.1, 0.01]  [5, 10, 20, -1]   \n",
       "6      8192  [31, 10, 50, 100]  [0.001, 0.1, 0.01]  [5, 10, 20, -1]   \n",
       "7     16384  [31, 10, 50, 100]  [0.001, 0.1, 0.01]  [5, 10, 20, -1]   \n",
       "8     32768  [31, 10, 50, 100]  [0.001, 0.1, 0.01]  [5, 10, 20, -1]   \n",
       "9     65536  [31, 10, 50, 100]  [0.001, 0.1, 0.01]  [5, 10, 20, -1]   \n",
       "10    88416  [31, 10, 50, 100]  [0.001, 0.1, 0.01]  [5, 10, 20, -1]   \n",
       "\n",
       "            gbm_trees  mean_absolute_error        r2  \n",
       "0   [1000, 2000, 100]             0.118538  0.096020  \n",
       "1   [1000, 2000, 100]             0.108738  0.222398  \n",
       "2   [1000, 2000, 100]             0.097134  0.389704  \n",
       "3   [1000, 2000, 100]             0.088008  0.486045  \n",
       "4   [1000, 2000, 100]             0.082695  0.542298  \n",
       "5   [1000, 2000, 100]             0.077674  0.584321  \n",
       "6   [1000, 2000, 100]             0.074199  0.618559  \n",
       "7   [1000, 2000, 100]             0.071394  0.641692  \n",
       "8   [1000, 2000, 100]             0.068805  0.664147  \n",
       "9   [1000, 2000, 100]             0.066228  0.688307  \n",
       "10  [1000, 2000, 100]             0.065549  0.694342  "
      ]
     },
     "metadata": {},
     "output_type": "display_data"
    }
   ],
   "source": [
    "# All HP per subset size\n",
    "if 'nn' in str(base_dir):\n",
    "    display(hp.groupby('tr_size').agg({'batch_size': 'unique', 'dr_rate': 'unique', 'opt': 'unique', 'lr': 'unique',\n",
    "                               'mean_absolute_error': 'min', 'r2': 'max'}).reset_index())\n",
    "elif 'lgbm' in str(base_dir):\n",
    "    display(hp.groupby('tr_size').agg({'gbm_leaves': 'unique', 'gbm_lr': 'unique', 'gbm_max_depth': 'unique', 'gbm_trees': 'unique',\n",
    "                               'mean_absolute_error': 'min', 'r2': 'max'}).reset_index())\n",
    "# elif 'lgbm' in str(base_dir):\n",
    "#     display(hp.groupby('tr_size').agg({'num_leaves': 'unique', 'learning_rate': 'unique', 'max_depth': 'unique', 'n_estimators': 'unique',\n",
    "#                                'mean_absolute_error': 'min', 'r2': 'max'}).reset_index())    "
   ]
  },
  {
   "cell_type": "code",
   "execution_count": null,
   "metadata": {},
   "outputs": [],
   "source": []
  },
  {
   "cell_type": "markdown",
   "metadata": {},
   "source": [
    "### Compare PS-HPO and LS-HPO"
   ]
  },
  {
   "cell_type": "code",
   "execution_count": 103,
   "metadata": {},
   "outputs": [],
   "source": [
    "met = 'mean_absolute_error'\n",
    "figsize = (6, 4.5)\n",
    "# xtick_scale, ytick_scale = 'linear', 'linear'\n",
    "xtick_scale, ytick_scale = 'log2', 'log2'"
   ]
  },
  {
   "cell_type": "code",
   "execution_count": 104,
   "metadata": {},
   "outputs": [],
   "source": [
    "plot_fit_kwargs = {'plot_fit': True, 'metric_name': met, 'xtick_scale': xtick_scale, 'ytick_scale': xtick_scale, 'figsize': figsize}\n",
    "\n",
    "if 'nn' in str(base_dir):\n",
    "    dflt_hp_dct = {'batch_size': 32, 'batchnorm': True, 'dr_rate': 0.2, 'lr': 0.0001, 'opt': 'sgd'}\n",
    "elif 'lgbm' in str(base_dir):\n",
    "    dflt_hp_dct = {'gbm_leaves': 31, 'gbm_lr': 0.1, 'gbm_max_depth': -1, 'gbm_trees': 100}"
   ]
  },
  {
   "cell_type": "markdown",
   "metadata": {},
   "source": [
    "### PS-HPO\n",
    "Extract the best performance score for every shard (for each metric)"
   ]
  },
  {
   "cell_type": "code",
   "execution_count": 105,
   "metadata": {},
   "outputs": [
    {
     "data": {
      "text/html": [
       "<div>\n",
       "<style scoped>\n",
       "    .dataframe tbody tr th:only-of-type {\n",
       "        vertical-align: middle;\n",
       "    }\n",
       "\n",
       "    .dataframe tbody tr th {\n",
       "        vertical-align: top;\n",
       "    }\n",
       "\n",
       "    .dataframe thead th {\n",
       "        text-align: right;\n",
       "    }\n",
       "</style>\n",
       "<table border=\"1\" class=\"dataframe\">\n",
       "  <thead>\n",
       "    <tr style=\"text-align: right;\">\n",
       "      <th></th>\n",
       "      <th>gbm_leaves</th>\n",
       "      <th>gbm_lr</th>\n",
       "      <th>gbm_max_depth</th>\n",
       "      <th>gbm_trees</th>\n",
       "      <th>tr_size</th>\n",
       "      <th>mean_absolute_error</th>\n",
       "      <th>median_absolute_error</th>\n",
       "      <th>r2</th>\n",
       "    </tr>\n",
       "  </thead>\n",
       "  <tbody>\n",
       "    <tr>\n",
       "      <th>0</th>\n",
       "      <td>10</td>\n",
       "      <td>0.01</td>\n",
       "      <td>-1</td>\n",
       "      <td>1000</td>\n",
       "      <td>128</td>\n",
       "      <td>0.118538</td>\n",
       "      <td>0.096518</td>\n",
       "      <td>0.096020</td>\n",
       "    </tr>\n",
       "    <tr>\n",
       "      <th>1</th>\n",
       "      <td>10</td>\n",
       "      <td>0.10</td>\n",
       "      <td>5</td>\n",
       "      <td>100</td>\n",
       "      <td>256</td>\n",
       "      <td>0.108738</td>\n",
       "      <td>0.085659</td>\n",
       "      <td>0.222398</td>\n",
       "    </tr>\n",
       "    <tr>\n",
       "      <th>2</th>\n",
       "      <td>10</td>\n",
       "      <td>0.01</td>\n",
       "      <td>-1</td>\n",
       "      <td>2000</td>\n",
       "      <td>512</td>\n",
       "      <td>0.097134</td>\n",
       "      <td>0.078610</td>\n",
       "      <td>0.389704</td>\n",
       "    </tr>\n",
       "    <tr>\n",
       "      <th>3</th>\n",
       "      <td>50</td>\n",
       "      <td>0.01</td>\n",
       "      <td>5</td>\n",
       "      <td>1000</td>\n",
       "      <td>1024</td>\n",
       "      <td>0.088008</td>\n",
       "      <td>0.069278</td>\n",
       "      <td>0.486045</td>\n",
       "    </tr>\n",
       "    <tr>\n",
       "      <th>4</th>\n",
       "      <td>10</td>\n",
       "      <td>0.01</td>\n",
       "      <td>5</td>\n",
       "      <td>2000</td>\n",
       "      <td>2048</td>\n",
       "      <td>0.082695</td>\n",
       "      <td>0.063609</td>\n",
       "      <td>0.540888</td>\n",
       "    </tr>\n",
       "    <tr>\n",
       "      <th>5</th>\n",
       "      <td>31</td>\n",
       "      <td>0.01</td>\n",
       "      <td>10</td>\n",
       "      <td>1000</td>\n",
       "      <td>4096</td>\n",
       "      <td>0.077674</td>\n",
       "      <td>0.058409</td>\n",
       "      <td>0.584321</td>\n",
       "    </tr>\n",
       "    <tr>\n",
       "      <th>6</th>\n",
       "      <td>50</td>\n",
       "      <td>0.01</td>\n",
       "      <td>20</td>\n",
       "      <td>2000</td>\n",
       "      <td>8192</td>\n",
       "      <td>0.074199</td>\n",
       "      <td>0.054697</td>\n",
       "      <td>0.616537</td>\n",
       "    </tr>\n",
       "    <tr>\n",
       "      <th>7</th>\n",
       "      <td>50</td>\n",
       "      <td>0.01</td>\n",
       "      <td>20</td>\n",
       "      <td>2000</td>\n",
       "      <td>16384</td>\n",
       "      <td>0.071394</td>\n",
       "      <td>0.053078</td>\n",
       "      <td>0.641692</td>\n",
       "    </tr>\n",
       "    <tr>\n",
       "      <th>8</th>\n",
       "      <td>100</td>\n",
       "      <td>0.01</td>\n",
       "      <td>20</td>\n",
       "      <td>2000</td>\n",
       "      <td>32768</td>\n",
       "      <td>0.068805</td>\n",
       "      <td>0.051175</td>\n",
       "      <td>0.664147</td>\n",
       "    </tr>\n",
       "    <tr>\n",
       "      <th>9</th>\n",
       "      <td>100</td>\n",
       "      <td>0.01</td>\n",
       "      <td>10</td>\n",
       "      <td>2000</td>\n",
       "      <td>65536</td>\n",
       "      <td>0.066228</td>\n",
       "      <td>0.049554</td>\n",
       "      <td>0.688307</td>\n",
       "    </tr>\n",
       "    <tr>\n",
       "      <th>10</th>\n",
       "      <td>100</td>\n",
       "      <td>0.10</td>\n",
       "      <td>10</td>\n",
       "      <td>2000</td>\n",
       "      <td>88416</td>\n",
       "      <td>0.065549</td>\n",
       "      <td>0.048461</td>\n",
       "      <td>0.694342</td>\n",
       "    </tr>\n",
       "  </tbody>\n",
       "</table>\n",
       "</div>"
      ],
      "text/plain": [
       "    gbm_leaves  gbm_lr  gbm_max_depth  gbm_trees  tr_size  \\\n",
       "0           10    0.01             -1       1000      128   \n",
       "1           10    0.10              5        100      256   \n",
       "2           10    0.01             -1       2000      512   \n",
       "3           50    0.01              5       1000     1024   \n",
       "4           10    0.01              5       2000     2048   \n",
       "5           31    0.01             10       1000     4096   \n",
       "6           50    0.01             20       2000     8192   \n",
       "7           50    0.01             20       2000    16384   \n",
       "8          100    0.01             20       2000    32768   \n",
       "9          100    0.01             10       2000    65536   \n",
       "10         100    0.10             10       2000    88416   \n",
       "\n",
       "    mean_absolute_error  median_absolute_error        r2  \n",
       "0              0.118538               0.096518  0.096020  \n",
       "1              0.108738               0.085659  0.222398  \n",
       "2              0.097134               0.078610  0.389704  \n",
       "3              0.088008               0.069278  0.486045  \n",
       "4              0.082695               0.063609  0.540888  \n",
       "5              0.077674               0.058409  0.584321  \n",
       "6              0.074199               0.054697  0.616537  \n",
       "7              0.071394               0.053078  0.641692  \n",
       "8              0.068805               0.051175  0.664147  \n",
       "9              0.066228               0.049554  0.688307  \n",
       "10             0.065549               0.048461  0.694342  "
      ]
     },
     "execution_count": 105,
     "metadata": {},
     "output_type": "execute_result"
    }
   ],
   "source": [
    "ps_best = hp.sort_values(met, ascending=True).drop_duplicates(['tr_size']).sort_values('tr_size').reset_index(drop=True)\n",
    "ps_best"
   ]
  },
  {
   "cell_type": "code",
   "execution_count": 106,
   "metadata": {},
   "outputs": [
    {
     "data": {
      "image/png": "[encoded data removed]",
      "text/plain": [
       "<Figure size 432x324 with 1 Axes>"
      ]
     },
     "metadata": {
      "needs_background": "light"
     },
     "output_type": "display_data"
    }
   ],
   "source": [
    "lrn_crv_plot.plot_lrn_crv_power_law( x = ps_best['tr_size'], y = ps_best[met], title='Per-Subset HPO', **plot_fit_kwargs );"
   ]
  },
  {
   "cell_type": "markdown",
   "metadata": {},
   "source": [
    "### LS-HPO\n",
    "Extract the best performance score for the largest shard (for each metric)"
   ]
  },
  {
   "cell_type": "code",
   "execution_count": 107,
   "metadata": {},
   "outputs": [
    {
     "data": {
      "text/html": [
       "<div>\n",
       "<style scoped>\n",
       "    .dataframe tbody tr th:only-of-type {\n",
       "        vertical-align: middle;\n",
       "    }\n",
       "\n",
       "    .dataframe tbody tr th {\n",
       "        vertical-align: top;\n",
       "    }\n",
       "\n",
       "    .dataframe thead th {\n",
       "        text-align: right;\n",
       "    }\n",
       "</style>\n",
       "<table border=\"1\" class=\"dataframe\">\n",
       "  <thead>\n",
       "    <tr style=\"text-align: right;\">\n",
       "      <th></th>\n",
       "      <th>gbm_leaves</th>\n",
       "      <th>gbm_lr</th>\n",
       "      <th>gbm_max_depth</th>\n",
       "      <th>gbm_trees</th>\n",
       "      <th>tr_size</th>\n",
       "      <th>mean_absolute_error</th>\n",
       "      <th>median_absolute_error</th>\n",
       "      <th>r2</th>\n",
       "    </tr>\n",
       "  </thead>\n",
       "  <tbody>\n",
       "    <tr>\n",
       "      <th>0</th>\n",
       "      <td>100</td>\n",
       "      <td>0.1</td>\n",
       "      <td>10</td>\n",
       "      <td>2000</td>\n",
       "      <td>88416</td>\n",
       "      <td>0.065549</td>\n",
       "      <td>0.048461</td>\n",
       "      <td>0.694342</td>\n",
       "    </tr>\n",
       "  </tbody>\n",
       "</table>\n",
       "</div>"
      ],
      "text/plain": [
       "   gbm_leaves  gbm_lr  gbm_max_depth  gbm_trees  tr_size  mean_absolute_error  \\\n",
       "0         100     0.1             10       2000    88416             0.065549   \n",
       "\n",
       "   median_absolute_error        r2  \n",
       "0               0.048461  0.694342  "
      ]
     },
     "metadata": {},
     "output_type": "display_data"
    }
   ],
   "source": [
    "best = top_n_runs(hp, tr_size=hp['tr_size'].max(), n=1, sort_by_metric=met, plot=False)\n",
    "display(best)"
   ]
  },
  {
   "cell_type": "code",
   "execution_count": 108,
   "metadata": {},
   "outputs": [],
   "source": [
    "if 'nn' in str(base_dir):\n",
    "    prm_names = ['dr_rate', 'opt', 'lr', 'batchnorm', 'batch_size']\n",
    "elif 'lgbm' in str(base_dir):\n",
    "    prm_names = ['gbm_trees', 'gbm_max_depth', 'gbm_lr', 'gbm_leaves']"
   ]
  },
  {
   "cell_type": "code",
   "execution_count": 109,
   "metadata": {},
   "outputs": [
    {
     "data": {
      "text/html": [
       "<div>\n",
       "<style scoped>\n",
       "    .dataframe tbody tr th:only-of-type {\n",
       "        vertical-align: middle;\n",
       "    }\n",
       "\n",
       "    .dataframe tbody tr th {\n",
       "        vertical-align: top;\n",
       "    }\n",
       "\n",
       "    .dataframe thead th {\n",
       "        text-align: right;\n",
       "    }\n",
       "</style>\n",
       "<table border=\"1\" class=\"dataframe\">\n",
       "  <thead>\n",
       "    <tr style=\"text-align: right;\">\n",
       "      <th></th>\n",
       "      <th>gbm_leaves</th>\n",
       "      <th>gbm_lr</th>\n",
       "      <th>gbm_max_depth</th>\n",
       "      <th>gbm_trees</th>\n",
       "      <th>tr_size</th>\n",
       "      <th>mean_absolute_error</th>\n",
       "      <th>median_absolute_error</th>\n",
       "      <th>r2</th>\n",
       "    </tr>\n",
       "  </thead>\n",
       "  <tbody>\n",
       "    <tr>\n",
       "      <th>0</th>\n",
       "      <td>100</td>\n",
       "      <td>0.1</td>\n",
       "      <td>10</td>\n",
       "      <td>2000</td>\n",
       "      <td>128</td>\n",
       "      <td>0.118960</td>\n",
       "      <td>0.096329</td>\n",
       "      <td>0.091060</td>\n",
       "    </tr>\n",
       "    <tr>\n",
       "      <th>1</th>\n",
       "      <td>100</td>\n",
       "      <td>0.1</td>\n",
       "      <td>10</td>\n",
       "      <td>2000</td>\n",
       "      <td>256</td>\n",
       "      <td>0.110698</td>\n",
       "      <td>0.088532</td>\n",
       "      <td>0.201245</td>\n",
       "    </tr>\n",
       "    <tr>\n",
       "      <th>2</th>\n",
       "      <td>100</td>\n",
       "      <td>0.1</td>\n",
       "      <td>10</td>\n",
       "      <td>2000</td>\n",
       "      <td>512</td>\n",
       "      <td>0.099012</td>\n",
       "      <td>0.079419</td>\n",
       "      <td>0.366302</td>\n",
       "    </tr>\n",
       "    <tr>\n",
       "      <th>3</th>\n",
       "      <td>100</td>\n",
       "      <td>0.1</td>\n",
       "      <td>10</td>\n",
       "      <td>2000</td>\n",
       "      <td>1024</td>\n",
       "      <td>0.090373</td>\n",
       "      <td>0.071386</td>\n",
       "      <td>0.463530</td>\n",
       "    </tr>\n",
       "    <tr>\n",
       "      <th>4</th>\n",
       "      <td>100</td>\n",
       "      <td>0.1</td>\n",
       "      <td>10</td>\n",
       "      <td>2000</td>\n",
       "      <td>2048</td>\n",
       "      <td>0.084155</td>\n",
       "      <td>0.064783</td>\n",
       "      <td>0.522603</td>\n",
       "    </tr>\n",
       "    <tr>\n",
       "      <th>5</th>\n",
       "      <td>100</td>\n",
       "      <td>0.1</td>\n",
       "      <td>10</td>\n",
       "      <td>2000</td>\n",
       "      <td>4096</td>\n",
       "      <td>0.079279</td>\n",
       "      <td>0.059977</td>\n",
       "      <td>0.568301</td>\n",
       "    </tr>\n",
       "    <tr>\n",
       "      <th>6</th>\n",
       "      <td>100</td>\n",
       "      <td>0.1</td>\n",
       "      <td>10</td>\n",
       "      <td>2000</td>\n",
       "      <td>8192</td>\n",
       "      <td>0.075375</td>\n",
       "      <td>0.056431</td>\n",
       "      <td>0.603177</td>\n",
       "    </tr>\n",
       "    <tr>\n",
       "      <th>7</th>\n",
       "      <td>100</td>\n",
       "      <td>0.1</td>\n",
       "      <td>10</td>\n",
       "      <td>2000</td>\n",
       "      <td>16384</td>\n",
       "      <td>0.072845</td>\n",
       "      <td>0.054277</td>\n",
       "      <td>0.625574</td>\n",
       "    </tr>\n",
       "    <tr>\n",
       "      <th>8</th>\n",
       "      <td>100</td>\n",
       "      <td>0.1</td>\n",
       "      <td>10</td>\n",
       "      <td>2000</td>\n",
       "      <td>32768</td>\n",
       "      <td>0.069507</td>\n",
       "      <td>0.051574</td>\n",
       "      <td>0.656220</td>\n",
       "    </tr>\n",
       "    <tr>\n",
       "      <th>9</th>\n",
       "      <td>100</td>\n",
       "      <td>0.1</td>\n",
       "      <td>10</td>\n",
       "      <td>2000</td>\n",
       "      <td>65536</td>\n",
       "      <td>0.066736</td>\n",
       "      <td>0.049440</td>\n",
       "      <td>0.682915</td>\n",
       "    </tr>\n",
       "    <tr>\n",
       "      <th>10</th>\n",
       "      <td>100</td>\n",
       "      <td>0.1</td>\n",
       "      <td>10</td>\n",
       "      <td>2000</td>\n",
       "      <td>88416</td>\n",
       "      <td>0.065549</td>\n",
       "      <td>0.048461</td>\n",
       "      <td>0.694342</td>\n",
       "    </tr>\n",
       "  </tbody>\n",
       "</table>\n",
       "</div>"
      ],
      "text/plain": [
       "    gbm_leaves  gbm_lr  gbm_max_depth  gbm_trees  tr_size  \\\n",
       "0          100     0.1             10       2000      128   \n",
       "1          100     0.1             10       2000      256   \n",
       "2          100     0.1             10       2000      512   \n",
       "3          100     0.1             10       2000     1024   \n",
       "4          100     0.1             10       2000     2048   \n",
       "5          100     0.1             10       2000     4096   \n",
       "6          100     0.1             10       2000     8192   \n",
       "7          100     0.1             10       2000    16384   \n",
       "8          100     0.1             10       2000    32768   \n",
       "9          100     0.1             10       2000    65536   \n",
       "10         100     0.1             10       2000    88416   \n",
       "\n",
       "    mean_absolute_error  median_absolute_error        r2  \n",
       "0              0.118960               0.096329  0.091060  \n",
       "1              0.110698               0.088532  0.201245  \n",
       "2              0.099012               0.079419  0.366302  \n",
       "3              0.090373               0.071386  0.463530  \n",
       "4              0.084155               0.064783  0.522603  \n",
       "5              0.079279               0.059977  0.568301  \n",
       "6              0.075375               0.056431  0.603177  \n",
       "7              0.072845               0.054277  0.625574  \n",
       "8              0.069507               0.051574  0.656220  \n",
       "9              0.066736               0.049440  0.682915  \n",
       "10             0.065549               0.048461  0.694342  "
      ]
     },
     "metadata": {},
     "output_type": "display_data"
    }
   ],
   "source": [
    "# idx = pd.Series(True, index=range(hp.shape[0]))\n",
    "# for c in prm_names:  idx = idx & ( hp[c] == best[c][0] )\n",
    "# ls_best = hp[ idx ].sort_values('tr_size').reset_index(drop=True)\n",
    "\n",
    "hp_cols = [c for c in dflt_hp_dct.keys()]\n",
    "ls_hp_best_dct = {c: best[c].values[0] for c in hp_cols}\n",
    "ls_best = extract_runs_by_specific_hps(hp, ls_hp_best_dct) # hp_ls_best\n",
    "\n",
    "ls_best.to_csv(base_dir/'hpo_ls_best.csv', index=False)\n",
    "display(ls_best)\n"
   ]
  },
  {
   "cell_type": "code",
   "execution_count": 110,
   "metadata": {},
   "outputs": [
    {
     "data": {
      "image/png": "[encoded data removed]",
      "text/plain": [
       "<Figure size 432x324 with 1 Axes>"
      ]
     },
     "metadata": {
      "needs_background": "light"
     },
     "output_type": "display_data"
    }
   ],
   "source": [
    "lrn_crv_plot.plot_lrn_crv_power_law( x = ls_best['tr_size'], y = ls_best[met], title='Largest-Subset HPO', **plot_fit_kwargs );"
   ]
  },
  {
   "cell_type": "code",
   "execution_count": null,
   "metadata": {},
   "outputs": [],
   "source": []
  },
  {
   "cell_type": "markdown",
   "metadata": {},
   "source": [
    "### Plot all data points"
   ]
  },
  {
   "cell_type": "code",
   "execution_count": 111,
   "metadata": {},
   "outputs": [
    {
     "data": {
      "text/plain": [
       "{'gbm_leaves': 31, 'gbm_lr': 0.1, 'gbm_max_depth': -1, 'gbm_trees': 100}"
      ]
     },
     "execution_count": 111,
     "metadata": {},
     "output_type": "execute_result"
    }
   ],
   "source": [
    "dflt_hp_dct"
   ]
  },
  {
   "cell_type": "code",
   "execution_count": 112,
   "metadata": {},
   "outputs": [
    {
     "data": {
      "text/html": [
       "<div>\n",
       "<style scoped>\n",
       "    .dataframe tbody tr th:only-of-type {\n",
       "        vertical-align: middle;\n",
       "    }\n",
       "\n",
       "    .dataframe tbody tr th {\n",
       "        vertical-align: top;\n",
       "    }\n",
       "\n",
       "    .dataframe thead th {\n",
       "        text-align: right;\n",
       "    }\n",
       "</style>\n",
       "<table border=\"1\" class=\"dataframe\">\n",
       "  <thead>\n",
       "    <tr style=\"text-align: right;\">\n",
       "      <th></th>\n",
       "      <th>gbm_leaves</th>\n",
       "      <th>gbm_lr</th>\n",
       "      <th>gbm_max_depth</th>\n",
       "      <th>gbm_trees</th>\n",
       "      <th>tr_size</th>\n",
       "      <th>mean_absolute_error</th>\n",
       "      <th>median_absolute_error</th>\n",
       "      <th>r2</th>\n",
       "    </tr>\n",
       "  </thead>\n",
       "  <tbody>\n",
       "    <tr>\n",
       "      <th>0</th>\n",
       "      <td>31</td>\n",
       "      <td>0.1</td>\n",
       "      <td>-1</td>\n",
       "      <td>100</td>\n",
       "      <td>128</td>\n",
       "      <td>0.118960</td>\n",
       "      <td>0.096329</td>\n",
       "      <td>0.091060</td>\n",
       "    </tr>\n",
       "    <tr>\n",
       "      <th>1</th>\n",
       "      <td>31</td>\n",
       "      <td>0.1</td>\n",
       "      <td>-1</td>\n",
       "      <td>100</td>\n",
       "      <td>256</td>\n",
       "      <td>0.110698</td>\n",
       "      <td>0.088532</td>\n",
       "      <td>0.201245</td>\n",
       "    </tr>\n",
       "    <tr>\n",
       "      <th>2</th>\n",
       "      <td>31</td>\n",
       "      <td>0.1</td>\n",
       "      <td>-1</td>\n",
       "      <td>100</td>\n",
       "      <td>512</td>\n",
       "      <td>0.098044</td>\n",
       "      <td>0.079099</td>\n",
       "      <td>0.373389</td>\n",
       "    </tr>\n",
       "    <tr>\n",
       "      <th>3</th>\n",
       "      <td>31</td>\n",
       "      <td>0.1</td>\n",
       "      <td>-1</td>\n",
       "      <td>100</td>\n",
       "      <td>1024</td>\n",
       "      <td>0.090278</td>\n",
       "      <td>0.070891</td>\n",
       "      <td>0.463536</td>\n",
       "    </tr>\n",
       "    <tr>\n",
       "      <th>4</th>\n",
       "      <td>31</td>\n",
       "      <td>0.1</td>\n",
       "      <td>-1</td>\n",
       "      <td>100</td>\n",
       "      <td>2048</td>\n",
       "      <td>0.083454</td>\n",
       "      <td>0.064341</td>\n",
       "      <td>0.529446</td>\n",
       "    </tr>\n",
       "    <tr>\n",
       "      <th>5</th>\n",
       "      <td>31</td>\n",
       "      <td>0.1</td>\n",
       "      <td>-1</td>\n",
       "      <td>100</td>\n",
       "      <td>4096</td>\n",
       "      <td>0.078718</td>\n",
       "      <td>0.059107</td>\n",
       "      <td>0.575394</td>\n",
       "    </tr>\n",
       "    <tr>\n",
       "      <th>6</th>\n",
       "      <td>31</td>\n",
       "      <td>0.1</td>\n",
       "      <td>-1</td>\n",
       "      <td>100</td>\n",
       "      <td>8192</td>\n",
       "      <td>0.075107</td>\n",
       "      <td>0.056302</td>\n",
       "      <td>0.609297</td>\n",
       "    </tr>\n",
       "    <tr>\n",
       "      <th>7</th>\n",
       "      <td>31</td>\n",
       "      <td>0.1</td>\n",
       "      <td>-1</td>\n",
       "      <td>100</td>\n",
       "      <td>16384</td>\n",
       "      <td>0.072855</td>\n",
       "      <td>0.054440</td>\n",
       "      <td>0.629709</td>\n",
       "    </tr>\n",
       "    <tr>\n",
       "      <th>8</th>\n",
       "      <td>31</td>\n",
       "      <td>0.1</td>\n",
       "      <td>-1</td>\n",
       "      <td>100</td>\n",
       "      <td>32768</td>\n",
       "      <td>0.070866</td>\n",
       "      <td>0.053107</td>\n",
       "      <td>0.649119</td>\n",
       "    </tr>\n",
       "    <tr>\n",
       "      <th>9</th>\n",
       "      <td>31</td>\n",
       "      <td>0.1</td>\n",
       "      <td>-1</td>\n",
       "      <td>100</td>\n",
       "      <td>65536</td>\n",
       "      <td>0.069436</td>\n",
       "      <td>0.052330</td>\n",
       "      <td>0.662110</td>\n",
       "    </tr>\n",
       "    <tr>\n",
       "      <th>10</th>\n",
       "      <td>31</td>\n",
       "      <td>0.1</td>\n",
       "      <td>-1</td>\n",
       "      <td>100</td>\n",
       "      <td>88416</td>\n",
       "      <td>0.069304</td>\n",
       "      <td>0.051999</td>\n",
       "      <td>0.663226</td>\n",
       "    </tr>\n",
       "  </tbody>\n",
       "</table>\n",
       "</div>"
      ],
      "text/plain": [
       "    gbm_leaves  gbm_lr  gbm_max_depth  gbm_trees  tr_size  \\\n",
       "0           31     0.1             -1        100      128   \n",
       "1           31     0.1             -1        100      256   \n",
       "2           31     0.1             -1        100      512   \n",
       "3           31     0.1             -1        100     1024   \n",
       "4           31     0.1             -1        100     2048   \n",
       "5           31     0.1             -1        100     4096   \n",
       "6           31     0.1             -1        100     8192   \n",
       "7           31     0.1             -1        100    16384   \n",
       "8           31     0.1             -1        100    32768   \n",
       "9           31     0.1             -1        100    65536   \n",
       "10          31     0.1             -1        100    88416   \n",
       "\n",
       "    mean_absolute_error  median_absolute_error        r2  \n",
       "0              0.118960               0.096329  0.091060  \n",
       "1              0.110698               0.088532  0.201245  \n",
       "2              0.098044               0.079099  0.373389  \n",
       "3              0.090278               0.070891  0.463536  \n",
       "4              0.083454               0.064341  0.529446  \n",
       "5              0.078718               0.059107  0.575394  \n",
       "6              0.075107               0.056302  0.609297  \n",
       "7              0.072855               0.054440  0.629709  \n",
       "8              0.070866               0.053107  0.649119  \n",
       "9              0.069436               0.052330  0.662110  \n",
       "10             0.069304               0.051999  0.663226  "
      ]
     },
     "metadata": {},
     "output_type": "display_data"
    }
   ],
   "source": [
    "hp_dflt = extract_runs_by_specific_hps(hp, dflt_hp_dct)\n",
    "display(hp_dflt)\n"
   ]
  },
  {
   "cell_type": "code",
   "execution_count": 116,
   "metadata": {},
   "outputs": [
    {
     "data": {
      "image/png": "[encoded data removed]",
      "text/plain": [
       "<Figure size 432x324 with 1 Axes>"
      ]
     },
     "metadata": {
      "needs_background": "light"
     },
     "output_type": "display_data"
    }
   ],
   "source": [
    "# matplotlib.org/3.1.0/api/markers_api.html#module-matplotlib.markers\n",
    "plot_all_kwargs = {'metric_name': met, 'xtick_scale': xtick_scale, 'ytick_scale': xtick_scale, 'figsize': figsize}\n",
    "\n",
    "# Plot all runs\n",
    "ax = pp_utils.plot_all_from_hp_df(hp, **plot_all_kwargs, marker='.', alpha=0.3, title=f'{src.upper()}, {model.upper()}', label='All HP runs');\n",
    "\n",
    "# Plot runs from default model HPs\n",
    "ax.plot(hp_dflt['tr_size'], hp_dflt[met], ls='--', alpha=0.8, marker='v', label='LGBM default HPs');\n",
    "\n",
    "# Plot runs from best PS-HPs applied to all shards\n",
    "# ax.plot(ls_best['tr_size'], ls_best[met], ls='--', color='r', alpha=0.8, marker='*', label='LGBM LS best HPs');\n",
    "ax.plot(ps_best['tr_size'], ps_best[met], ls='--', color='r', alpha=0.8, marker='*', label='LGBM PS best HPs');\n",
    "\n",
    "# Plot runs from best LS-HPs applied to all shards\n",
    "ax.plot(ls_best['tr_size'], ls_best[met], ls='--', color='g', alpha=0.8, marker='*', label='LGBM LS best HPs');\n",
    "# ax.plot(ps_best['tr_size'], ps_best[met], ls='--', color='r', alpha=0.8, marker='*', label='LGBM PS best HPs');\n",
    "\n",
    "ax.legend(frameon=True, fontsize=10, bbox_to_anchor=(1.02, 1), loc='upper left');"
   ]
  },
  {
   "cell_type": "markdown",
   "metadata": {},
   "source": [
    "### Percent Improvement as compared to default model params"
   ]
  },
  {
   "cell_type": "code",
   "execution_count": 117,
   "metadata": {},
   "outputs": [],
   "source": [
    "# display(hp_dflt)\n",
    "# display(ps_best)"
   ]
  },
  {
   "cell_type": "code",
   "execution_count": 118,
   "metadata": {},
   "outputs": [
    {
     "data": {
      "image/png": "[encoded data removed]",
      "text/plain": [
       "<Figure size 432x324 with 1 Axes>"
      ]
     },
     "metadata": {
      "needs_background": "light"
     },
     "output_type": "display_data"
    }
   ],
   "source": [
    "sizes = list(set(hp_dflt['tr_size']).intersection(set(ps_best['tr_size'])))\n",
    "V0 = hp_dflt[ hp_dflt['tr_size'].isin(sizes) ]\n",
    "# V1 = ps_best[ ps_best['tr_size'].isin(sizes) ] # PS-HPs\n",
    "V1 = ls_best[ ls_best['tr_size'].isin(sizes) ] # LS-HPs\n",
    "\n",
    "v0 = V0.loc[:,'mean_absolute_error']\n",
    "v1 = V1.loc[:,'mean_absolute_error']\n",
    "imp = (v0-v1)/v0*100\n",
    "# imp = (v0-v1)\n",
    "\n",
    "base, scale = lrn_crv_plot.scale_ticks_params(tick_scale='log2')\n",
    "\n",
    "fig, ax = plt.subplots(figsize=figsize)\n",
    "ax.plot(V0['tr_size'], imp, '.--'); plt.grid(True);\n",
    "ax.set_title(f'{src.upper()}, {model.upper()}')\n",
    "ax.set_ylabel('Percent Improvement')\n",
    "ax.set_xlabel('Training Set Size');\n",
    "# ax.set_xscale('log', basex=base)\n",
    "# ax.set_yscale('log', basey=base)"
   ]
  },
  {
   "cell_type": "code",
   "execution_count": null,
   "metadata": {},
   "outputs": [],
   "source": []
  },
  {
   "cell_type": "markdown",
   "metadata": {},
   "source": [
    "### PS-HPO vs LS-HPO fit"
   ]
  },
  {
   "cell_type": "code",
   "execution_count": 119,
   "metadata": {},
   "outputs": [
    {
     "data": {
      "image/png": "[encoded data removed]",
      "text/plain": [
       "<Figure size 432x324 with 1 Axes>"
      ]
     },
     "metadata": {
      "needs_background": "light"
     },
     "output_type": "display_data"
    }
   ],
   "source": [
    "marker='o'; alpha=0.5\n",
    "\n",
    "# The number of points used in the fit affects which fit is better\n",
    "shard_min_idx = 0\n",
    "# shard_min_idx = 2\n",
    "\n",
    "ax, fit_prms, rmse = lrn_crv_plot.plot_lrn_crv_power_law(x=hp_dflt['tr_size'][shard_min_idx:], y=hp_dflt[met][shard_min_idx:],\n",
    "                                                         marker=marker, alpha=alpha, label='Default HPs',\n",
    "                                                         ax=None, **plot_fit_kwargs)\n",
    "\n",
    "ax, fit_prms, rmse = lrn_crv_plot.plot_lrn_crv_power_law(x=ls_best['tr_size'][shard_min_idx:], y=ls_best[met][shard_min_idx:],\n",
    "                                                         marker=marker, alpha=alpha, label='LS-HPO', \n",
    "                                                         ax=ax, **plot_fit_kwargs)\n",
    "\n",
    "ax, fit_prms, rmse = lrn_crv_plot.plot_lrn_crv_power_law(x=ps_best['tr_size'][shard_min_idx:], y=ps_best[met][shard_min_idx:],\n",
    "                                                         marker=marker, alpha=alpha, label='PS-HPO',\n",
    "                                                         ax=ax, **plot_fit_kwargs,\n",
    "                                                         title=f'Per-Subset HPO vs. Largest-Subset HPO ({src.upper()}, {model.upper()})')"
   ]
  },
  {
   "cell_type": "markdown",
   "metadata": {},
   "source": [
    "## PS-HPO vs LS-HPO extrapolate"
   ]
  },
  {
   "cell_type": "code",
   "execution_count": 120,
   "metadata": {},
   "outputs": [],
   "source": [
    "m0 = 11"
   ]
  },
  {
   "cell_type": "code",
   "execution_count": 121,
   "metadata": {},
   "outputs": [
    {
     "name": "stdout",
     "output_type": "stream",
     "text": [
      "here\n"
     ]
    },
    {
     "data": {
      "image/png": "[encoded data removed]",
      "text/plain": [
       "<Figure size 432x324 with 1 Axes>"
      ]
     },
     "metadata": {
      "needs_background": "light"
     },
     "output_type": "display_data"
    }
   ],
   "source": [
    "# lrn_crv_plot.lrn_crv_power_law_extrapolate(x=hp_dflt['tr_size'], y=hp_dflt[met],\n",
    "#                                            m0=m0, **plot_fit_kwargs, title=f'Largest-Subset HPO ({src.upper()}, {model.upper()})');\n",
    "\n",
    "lrn_crv_plot.lrn_crv_power_law_extrapolate(x=hp_dflt['tr_size'], y=hp_dflt[met],\n",
    "                                           p_et=1, **plot_fit_kwargs, title=f'Largest-Subset HPO ({src.upper()}, {model.upper()})');"
   ]
  },
  {
   "cell_type": "code",
   "execution_count": 122,
   "metadata": {},
   "outputs": [
    {
     "name": "stdout",
     "output_type": "stream",
     "text": [
      "here\n"
     ]
    },
    {
     "data": {
      "image/png": "[encoded data removed]",
      "text/plain": [
       "<Figure size 432x324 with 1 Axes>"
      ]
     },
     "metadata": {
      "needs_background": "light"
     },
     "output_type": "display_data"
    }
   ],
   "source": [
    "# lrn_crv_plot.lrn_crv_power_law_extrapolate(x=ls_best['tr_size'], y=ls_best[met],\n",
    "#                                            m0=m0, **plot_fit_kwargs, title=f'Largest-Subset HPO ({src.upper()}, {model.upper()})');\n",
    "\n",
    "lrn_crv_plot.lrn_crv_power_law_extrapolate(x=ls_best['tr_size'], y=ls_best[met],\n",
    "                                           p_et=1, **plot_fit_kwargs, title=f'Largest-Subset HPO ({src.upper()}, {model.upper()})');"
   ]
  },
  {
   "cell_type": "code",
   "execution_count": 123,
   "metadata": {},
   "outputs": [
    {
     "name": "stdout",
     "output_type": "stream",
     "text": [
      "here\n"
     ]
    },
    {
     "data": {
      "image/png": "[encoded data removed]",
      "text/plain": [
       "<Figure size 432x324 with 1 Axes>"
      ]
     },
     "metadata": {
      "needs_background": "light"
     },
     "output_type": "display_data"
    }
   ],
   "source": [
    "# lrn_crv_plot.lrn_crv_power_law_extrapolate(x=ps_best['tr_size'], y=ps_best[met],\n",
    "#                                            m0=m0, **plot_fit_kwargs, title=f'Per-Subset HPO ({src.upper()}, {model.upper()})');\n",
    "\n",
    "lrn_crv_plot.lrn_crv_power_law_extrapolate(x=ps_best['tr_size'], y=ps_best[met],\n",
    "                                           p_et=1, **plot_fit_kwargs, title=f'Per-Subset HPO ({src.upper()}, {model.upper()})');"
   ]
  },
  {
   "cell_type": "code",
   "execution_count": null,
   "metadata": {},
   "outputs": [],
   "source": []
  }
 ],
 "metadata": {
  "kernelspec": {
   "display_name": "Python 3",
   "language": "python",
   "name": "python3"
  },
  "language_info": {
   "codemirror_mode": {
    "name": "ipython",
    "version": 3
   },
   "file_extension": ".py",
   "mimetype": "text/x-python",
   "name": "python",
   "nbconvert_exporter": "python",
   "pygments_lexer": "ipython3",
   "version": "3.6.8"
  }
 },
 "nbformat": 4,
 "nbformat_minor": 2
}
