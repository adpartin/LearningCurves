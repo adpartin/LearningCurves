{
 "cells": [
  {
   "cell_type": "markdown",
   "metadata": {},
   "source": [
    "Draw a surface plot of power-law where the independent parameters are alpha and beta, and data size (m) is fixed. This might be somehow similar to the error surfaces in the NPTEL course. Draw this surface of various values of m, and then draw contour or trajectory line for specific alpha and beta and growing m. Creating a web application might be nice where you can query a learning curve for given alpha and beta."
   ]
  },
  {
   "cell_type": "code",
   "execution_count": 119,
   "metadata": {},
   "outputs": [
    {
     "name": "stdout",
     "output_type": "stream",
     "text": [
      "The autoreload extension is already loaded. To reload it, use:\n",
      "  %reload_ext autoreload\n"
     ]
    }
   ],
   "source": [
    "%load_ext autoreload\n",
    "%autoreload 2\n",
    "%matplotlib inline\n",
    "\n",
    "import warnings\n",
    "warnings.filterwarnings('ignore')\n",
    "\n",
    "import os\n",
    "import sys\n",
    "from pathlib import Path\n",
    "from glob import glob\n",
    "\n",
    "import sklearn\n",
    "import numpy as np\n",
    "import pandas as pd\n",
    "from glob import glob\n",
    "\n",
    "from keras.models import load_model\n",
    "\n",
    "import matplotlib\n",
    "import matplotlib.pyplot as plt\n",
    "\n",
    "fontsize = 13"
   ]
  },
  {
   "cell_type": "code",
   "execution_count": 51,
   "metadata": {},
   "outputs": [],
   "source": [
    "# Make all python scripts available in the path\n",
    "import sys\n",
    "sys.path.append('../')"
   ]
  },
  {
   "cell_type": "code",
   "execution_count": 52,
   "metadata": {},
   "outputs": [],
   "source": [
    "import lrn_crv"
   ]
  },
  {
   "cell_type": "code",
   "execution_count": 53,
   "metadata": {},
   "outputs": [
    {
     "data": {
      "text/plain": [
       "PosixPath('/vol/ml/apartin/projects/LearningCurves/notebooks')"
      ]
     },
     "execution_count": 53,
     "metadata": {},
     "output_type": "execute_result"
    }
   ],
   "source": [
    "filepath = Path(os.getcwd())\n",
    "filepath"
   ]
  },
  {
   "cell_type": "code",
   "execution_count": null,
   "metadata": {},
   "outputs": [],
   "source": []
  },
  {
   "cell_type": "code",
   "execution_count": 54,
   "metadata": {},
   "outputs": [],
   "source": [
    "def pwr_law(m, a, b, c):\n",
    "    return a * np.power(m, b) + c"
   ]
  },
  {
   "cell_type": "code",
   "execution_count": 139,
   "metadata": {},
   "outputs": [
    {
     "data": {
      "text/plain": [
       "array([  32.        ,   79.66032573,  198.30523421,  493.65811095,\n",
       "       1228.90518485, 3059.21835347, 7615.57282823])"
      ]
     },
     "execution_count": 139,
     "metadata": {},
     "output_type": "execute_result"
    }
   ],
   "source": [
    "# m = np.linspace()\n",
    "m = np.logspace(5, 30, num=20, base=2)\n",
    "m[:7]"
   ]
  },
  {
   "cell_type": "code",
   "execution_count": 140,
   "metadata": {},
   "outputs": [],
   "source": [
    "# prms1 = {'a': 20, 'b': -0.3, 'c': 0.5}\n",
    "# prms2 = {'a': 40, 'b': -0.3, 'c': 0.5}\n",
    "\n",
    "# prms1 = {'a': 40, 'b': -0.3, 'c': 0.5}\n",
    "# prms2 = {'a': 40, 'b': -0.6, 'c': 0.5}\n",
    "\n",
    "# prms1 = {'a': 40, 'b': -0.3, 'c': 0.3}\n",
    "# prms2 = {'a': 40, 'b': -0.3, 'c': 0.7}\n",
    "\n",
    "# prms1 = {'a': 20, 'b': -0.5, 'c': 0.06}  # lgb\n",
    "# prms2 = {'a': 40, 'b': -0.5, 'c': 0.05} # nn\n",
    "\n",
    "# somewhat works!\n",
    "# prms1 = {'a': 40, 'b': -0.5, 'c': 0}  # lgb\n",
    "# prms2 = {'a': 100, 'b': -0.5, 'c': 0.3} # nn\n",
    "\n",
    "# somewhat works!\n",
    "# prms1 = {'a': 40, 'b': -0.5, 'c': 0.5}  # lgb\n",
    "# prms2 = {'a': 100, 'b': -0.5, 'c': 0.3} # nn\n",
    "\n",
    "\n",
    "# Empirical\n",
    "# prms1 = {'a': 0.154643201156493,   'b': -0.19361366409318226, 'c': 0.036497614590607026} # lgb 100 trees\n",
    "# prms2 = {'a': 0.15808120251500138, 'b': -0.12598751726065188, 'c': 0.011060903095983206} # lgb 1000 trees\n",
    "# prms1 = {'a': 0.154643201156493,   'b': -0.19, 'c': 0} # \n",
    "# prms2 = {'a': 0.15808120251500138, 'b': -0.12, 'c': 0} # \n",
    "\n",
    "# Empirical (old run)\n",
    "# prms1 = {'a': 0.154643201156493,   'b': -0.19361366409318226, 'c': 0.036497614590607026} # lgb 100 trees\n",
    "# prms2 = {'a': 0.15808120251500138, 'b': -0.12598751726065188, 'c': 0.011060903095983206} # lgb 1000 trees\n",
    "\n",
    "# Important!\n",
    "# It is interesting to notice that we extend the fit, both networks exhibit similar convergence point\n",
    "# We should try: fit using smaller dataset size, and see if we correctly predict the curve! This will make this tool stronger!\n",
    "prms1 = {'a': 3.973741686896933,  'b': -0.6559490671827385, 'c': 0.07040232910681914} # , 'label': 'LGBM Reg'}\n",
    "prms2 = {'a': 1.4911935259671287, 'b': -0.3807094206959989, 'c': 0.05639455597713077} # , 'label': 'NN model0'}\n",
    "prms3 = {'a': 40.75465393519189,  'b': -0.6790245670555618, 'c': 0.05864712951655012} # , 'label': 'NN model1'}\n",
    "\n",
    "y1 = pwr_law(m=m, **prms1)\n",
    "y2 = pwr_law(m=m, **prms2)\n",
    "y3 = pwr_law(m=m, **prms3)\n",
    "# y1[:5]"
   ]
  },
  {
   "cell_type": "code",
   "execution_count": 141,
   "metadata": {},
   "outputs": [],
   "source": [
    "xtick_scale = 'linear'\n",
    "ytick_scale = 'linear'\n",
    "\n",
    "# Set axes scale and labels\n",
    "basex, xlabel_scale = lrn_crv.scale_ticks_params(tick_scale=xtick_scale)\n",
    "basey, ylabel_scale = lrn_crv.scale_ticks_params(tick_scale=ytick_scale)"
   ]
  },
  {
   "cell_type": "code",
   "execution_count": 142,
   "metadata": {},
   "outputs": [
    {
     "data": {
      "image/png": "[encoded data removed]",
      "text/plain": [
       "<Figure size 576x432 with 1 Axes>"
      ]
     },
     "metadata": {
      "needs_background": "light"
     },
     "output_type": "display_data"
    }
   ],
   "source": [
    "_, ax = plt.subplots(figsize=(8,6))\n",
    "ax.plot(m, y1, label='prms1')\n",
    "ax.plot(m, y2, label='prms2')\n",
    "ax.plot(m, y3, label='prms3')\n",
    "\n",
    "ax.set_xlabel(f'Train Dataset Size ({xlabel_scale})')\n",
    "if 'log' in xlabel_scale.lower(): ax.set_xscale('log', basex=basex)\n",
    "\n",
    "ax.set_ylabel(f'Score ({ylabel_scale})')\n",
    "if 'log' in ylabel_scale.lower(): ax.set_yscale('log', basey=basey)\n",
    "    \n",
    "ax.legend(frameon=True, fontsize=fontsize, bbox_to_anchor=(1.04, 1), loc='upper left')    \n",
    "ax.grid(True)"
   ]
  },
  {
   "cell_type": "code",
   "execution_count": 143,
   "metadata": {},
   "outputs": [],
   "source": [
    "xtick_scale = 'log2'\n",
    "ytick_scale = 'log2'\n",
    "\n",
    "# xtick_scale = 'log10'\n",
    "# ytick_scale = 'log10'\n",
    "\n",
    "# Set axes scale and labels\n",
    "basex, xlabel_scale = lrn_crv.scale_ticks_params(tick_scale=xtick_scale)\n",
    "basey, ylabel_scale = lrn_crv.scale_ticks_params(tick_scale=ytick_scale)"
   ]
  },
  {
   "cell_type": "code",
   "execution_count": 144,
   "metadata": {},
   "outputs": [
    {
     "data": {
      "image/png": "[encoded data removed]",
      "text/plain": [
       "<Figure size 576x432 with 1 Axes>"
      ]
     },
     "metadata": {
      "needs_background": "light"
     },
     "output_type": "display_data"
    }
   ],
   "source": [
    "_, ax = plt.subplots(figsize=(8,6))\n",
    "ax.plot(m, y1, '.--', label='prms1')\n",
    "ax.plot(m, y2, '.--', label='prms2')\n",
    "ax.plot(m, y3, '.--', label='prms3')\n",
    "\n",
    "ax.set_xlabel(f'Train Dataset Size ({xlabel_scale})')\n",
    "if 'log' in xlabel_scale.lower(): ax.set_xscale('log', basex=basex)\n",
    "\n",
    "ax.set_ylabel(f'Score ({ylabel_scale})')\n",
    "if 'log' in ylabel_scale.lower(): ax.set_yscale('log', basey=basey)\n",
    "    \n",
    "ax.legend(frameon=True, fontsize=fontsize, bbox_to_anchor=(1.04, 1), loc='upper left')    \n",
    "ax.grid(True)"
   ]
  },
  {
   "cell_type": "code",
   "execution_count": null,
   "metadata": {},
   "outputs": [],
   "source": []
  },
  {
   "cell_type": "code",
   "execution_count": null,
   "metadata": {},
   "outputs": [],
   "source": []
  }
 ],
 "metadata": {
  "kernelspec": {
   "display_name": "Python 3",
   "language": "python",
   "name": "python3"
  },
  "language_info": {
   "codemirror_mode": {
    "name": "ipython",
    "version": 3
   },
   "file_extension": ".py",
   "mimetype": "text/x-python",
   "name": "python",
   "nbconvert_exporter": "python",
   "pygments_lexer": "ipython3",
   "version": "3.6.8"
  }
 },
 "nbformat": 4,
 "nbformat_minor": 2
}
