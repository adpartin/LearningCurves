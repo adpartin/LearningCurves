{
 "cells": [
  {
   "cell_type": "markdown",
   "metadata": {},
   "source": [
    "# Results Section: Comparisons"
   ]
  },
  {
   "cell_type": "markdown",
   "metadata": {},
   "source": [
    "Colors:<br>\n",
    "https://matplotlib.org/examples/color/named_colors.html"
   ]
  },
  {
   "cell_type": "code",
   "execution_count": 1,
   "metadata": {},
   "outputs": [
    {
     "name": "stdout",
     "output_type": "stream",
     "text": [
      "/vol/ml/apartin/projects/LearningCurves/notebooks\n"
     ]
    }
   ],
   "source": [
    "%load_ext autoreload\n",
    "%autoreload 2\n",
    "%matplotlib inline\n",
    "\n",
    "import warnings\n",
    "warnings.filterwarnings('ignore')\n",
    "\n",
    "import os\n",
    "import sys\n",
    "from pathlib import Path\n",
    "\n",
    "import sklearn\n",
    "import numpy as np\n",
    "import pandas as pd\n",
    "from scipy.stats import iqr\n",
    "from glob import glob\n",
    "\n",
    "from sklearn import metrics\n",
    "from math import sqrt\n",
    "\n",
    "import matplotlib\n",
    "import matplotlib.pyplot as plt\n",
    "# plt.style.use('ggplot')\n",
    "\n",
    "# Make all python scripts available in the path\n",
    "sys.path.append('../')\n",
    "\n",
    "import pp_utils\n",
    "import lrn_crv_plot\n",
    "%matplotlib inline\n",
    "\n",
    "filepath = Path(os.getcwd())\n",
    "print(filepath)"
   ]
  },
  {
   "cell_type": "code",
   "execution_count": 2,
   "metadata": {},
   "outputs": [],
   "source": [
    "from fit import *\n",
    "import rpy2.robjects as robjects"
   ]
  },
  {
   "cell_type": "code",
   "execution_count": 3,
   "metadata": {},
   "outputs": [],
   "source": [
    "save_fig_path = filepath/'figs/compare'\n",
    "os.makedirs(save_fig_path, exist_ok=True)\n",
    "\n",
    "def save_fig(save_fig_path, fname):    \n",
    "    # plt.savefig(save_fig_path/(fname + '.eps'), format='eps')\n",
    "    plt.savefig(save_fig_path/(fname + '.png'), dpi=200)"
   ]
  },
  {
   "cell_type": "code",
   "execution_count": 4,
   "metadata": {},
   "outputs": [],
   "source": [
    "def calc_gof(y, yfit):\n",
    "    gof = {}\n",
    "    rmse = sqrt( metrics.mean_squared_error(y, yfit) )\n",
    "    mae = metrics.mean_absolute_error(y, yfit)\n",
    "    gof['rmse'] = rmse\n",
    "    gof['mae'] = mae\n",
    "    return gof"
   ]
  },
  {
   "cell_type": "code",
   "execution_count": 5,
   "metadata": {},
   "outputs": [],
   "source": [
    "# Set Y axis\n",
    "def set_yticks_ap(ax, ylim=None):\n",
    "    ax.get_yaxis().set_major_formatter(matplotlib.ticker.ScalarFormatter())\n",
    "    if (ylim is None):\n",
    "        ylim = ax.get_ylim()\n",
    "    ylim_log = np.log2(ylim)\n",
    "    ylabels_log = np.logspace(ylim_log[0], ylim_log[1], num=5, base=2)\n",
    "    ylabels_log = np.around(ylabels_log, decimals=3)\n",
    "    ax.set_yticks(ylabels_log)\n",
    "    return ax"
   ]
  },
  {
   "cell_type": "code",
   "execution_count": 6,
   "metadata": {},
   "outputs": [],
   "source": [
    "def avg_runs(base_dir):\n",
    "    runs = glob(str(base_dir/'*'))\n",
    "    scores = []\n",
    "    prf = 'id'\n",
    "    for i, r in enumerate(runs):\n",
    "        # scr_tmp = pd.read_csv( Path(r)/'lrn_crv_scores.csv' )\n",
    "        dpath = Path(r)/'lrn_crv_scores.csv'\n",
    "        if not dpath.exists():\n",
    "            continue\n",
    "\n",
    "        scr_tmp = pd.read_csv( dpath )\n",
    "        scr_tmp.rename(columns={'fold0': prf+str(i)}, inplace=True)\n",
    "        if len(scores)==0:\n",
    "            scores = scr_tmp\n",
    "        else:\n",
    "            scores = scores.merge(scr_tmp, on=['metric', 'tr_size', 'set'])\n",
    "\n",
    "    run_col_names = [c for c in scores.columns if prf in c]\n",
    "\n",
    "    scores_mean   = scores[run_col_names].mean(axis=1)\n",
    "    scores_median = scores[run_col_names].median(axis=1)\n",
    "    scores_std    = scores[run_col_names].std(axis=1)\n",
    "    # scores_iqr    = iqr(scores.iloc[:, 6:].values, axis=0)\n",
    "\n",
    "    scores.insert(loc=3, column='mean', value=scores_mean)\n",
    "    scores.insert(loc=3, column='median', value=scores_median)\n",
    "    scores.insert(loc=3, column='std', value=scores_std)\n",
    "    print(len(np.unique(scores.tr_size)))\n",
    "\n",
    "    # display(scores[:2])\n",
    "    print('Training set sizes:', np.unique(scores.tr_size))\n",
    "\n",
    "    # scores_te = scores[(scores.metric=='mean_absolute_error') & (scores.set=='te')].reset_index(drop=True).iloc[:, :6]\n",
    "    scores_te = scores[(scores.metric=='mean_absolute_error') & (scores.set=='te')].reset_index(drop=True)\n",
    "\n",
    "    save = True\n",
    "    if save:\n",
    "        scores.to_csv(base_dir/'all_seed_runs_scores.csv', index=False)\n",
    "        scores_te.to_csv(base_dir/'scores.csv', index=False)\n",
    "        \n",
    "    return scores_te"
   ]
  },
  {
   "cell_type": "code",
   "execution_count": null,
   "metadata": {},
   "outputs": [],
   "source": []
  },
  {
   "cell_type": "markdown",
   "metadata": {},
   "source": [
    "### Some general settings"
   ]
  },
  {
   "cell_type": "code",
   "execution_count": 7,
   "metadata": {},
   "outputs": [],
   "source": [
    "figsize = (6, 4.5)\n",
    "metric_name = 'mean_absolute_error'\n",
    "tr_set = 'te'\n",
    "\n",
    "plot_args = {'metric_name': metric_name, 'xtick_scale': 'log2', 'ytick_scale': 'log2', 'figsize': figsize}"
   ]
  },
  {
   "cell_type": "code",
   "execution_count": null,
   "metadata": {},
   "outputs": [],
   "source": []
  },
  {
   "cell_type": "markdown",
   "metadata": {},
   "source": [
    "# Load GDSC"
   ]
  },
  {
   "cell_type": "markdown",
   "metadata": {},
   "source": [
    "### GDSC GBDT"
   ]
  },
  {
   "cell_type": "code",
   "execution_count": 8,
   "metadata": {},
   "outputs": [],
   "source": [
    "# lgb_gdsc = avg_runs(base_dir=Path('/vol/ml/apartin/projects/LearningCurves/trn.gdsc/split_on_none/multi_seed_lgbm_100_trees'))\n",
    "lgb_gdsc = pd.read_csv(Path('/vol/ml/apartin/projects/LearningCurves/trn.gdsc/split_on_none/multi_seed_lgbm_100_trees/scores.csv'))"
   ]
  },
  {
   "cell_type": "markdown",
   "metadata": {},
   "source": [
    "### GDSC NN"
   ]
  },
  {
   "cell_type": "markdown",
   "metadata": {},
   "source": [
    "**Final multi-run**"
   ]
  },
  {
   "cell_type": "code",
   "execution_count": 9,
   "metadata": {},
   "outputs": [],
   "source": [
    "nn_gdsc = pd.read_csv(Path('/vol/ml/apartin/projects/LearningCurves/trn.gdsc/split_on_none/nn_reg0/scores.csv'))"
   ]
  },
  {
   "cell_type": "code",
   "execution_count": 10,
   "metadata": {},
   "outputs": [],
   "source": [
    "# From a few recent runs\n",
    "# nn_gdsc = avg_runs(base_dir=Path('/vol/ml/apartin/projects/LearningCurves/trn.gdsc/split_on_none/nn_reg_ls_best'))"
   ]
  },
  {
   "cell_type": "markdown",
   "metadata": {},
   "source": [
    "**Run with 2nd best HPs --> good enough**"
   ]
  },
  {
   "cell_type": "code",
   "execution_count": 11,
   "metadata": {},
   "outputs": [],
   "source": [
    "# nn_gdsc = pd.read_csv(Path('/vol/ml/apartin/projects/LearningCurves/trn.gdsc/split_on_none/gdsc.adam.nn_reg0.ge.dd.auc_2019-11-20_ls_best_run1/lrn_crv_scores.csv'))\n",
    "# nn_gdsc = nn_gdsc[(nn_gdsc.metric=='mean_absolute_error') & (nn_gdsc.set=='te')].sort_values('tr_size').reset_index(drop=True)\n",
    "# nn_gdsc = nn_gdsc.rename(columns={'fold0': 'mean_absolute_error'})"
   ]
  },
  {
   "cell_type": "markdown",
   "metadata": {},
   "source": [
    "**Run intergrated from 2nd best HPs and best of 16384 --> the best**"
   ]
  },
  {
   "cell_type": "code",
   "execution_count": 12,
   "metadata": {},
   "outputs": [],
   "source": [
    "# nn_gdsc = pd.read_csv(Path('/vol/ml/apartin/projects/LearningCurves/trn.gdsc/split_on_none/hack_nn_reg0_ls_best/lrn_crv_scores.csv'))\n",
    "# # nn_gdsc = nn_gdsc[(nn_gdsc.metric=='mean_absolute_error') & (nn_gdsc.set=='te')].sort_values('tr_size').reset_index(drop=True)\n",
    "# # nn_gdsc = nn_gdsc.rename(columns={'fold0': 'mean_absolute_error'})\n",
    "\n",
    "# nn_gdsc = nn_gdsc[(nn_gdsc.metric=='mean_absolute_error') & (nn_gdsc.set=='te')].sort_values('tr_size').reset_index(drop=True)\n",
    "# nn_gdsc = nn_gdsc.rename(columns={'fold0': 'mean_absolute_error'})"
   ]
  },
  {
   "cell_type": "markdown",
   "metadata": {},
   "source": [
    "**Data from HPO run on Summit**"
   ]
  },
  {
   "cell_type": "code",
   "execution_count": 13,
   "metadata": {},
   "outputs": [],
   "source": [
    "# def top_n_runs(df, tr_size=None, n=10, sort_by_metric='mean_absolute_error', plot=False):\n",
    "#     \"\"\" Return top runs based on sort_by_metric. \"\"\"\n",
    "#     if tr_size is not None:\n",
    "#         df = df[df['tr_size']==tr_size].reset_index(drop=True)\n",
    "#     if sort_by_metric == 'r2':\n",
    "#         df = df.sort_values(sort_by_metric, ascending=False).iloc[:n, :]\n",
    "#     else:\n",
    "#         df = df.sort_values(sort_by_metric, ascending=True).iloc[:n, :]\n",
    "    \n",
    "#     if plot: display(df.transpose())\n",
    "#     return df.reset_index(drop=True)\n",
    "\n",
    "# def my_lambda(df_row, hps_dct):\n",
    "#     \"\"\" Return True if a run used hps that appear in hps_dct. \"\"\"\n",
    "#     cols = list( set(df_row.index).intersection(hps_dct.keys()) )\n",
    "#     return np.array( [df_row[c]==hps_dct[c] for c in cols] ).all()\n",
    "\n",
    "# def extract_runs_by_specific_hps(hp_df, hps_dct):\n",
    "#     \"\"\" Take df where each row contains parameters of a single run, and extract all runs (rows)\n",
    "#     that share the same parameters specified by hps_dct.\n",
    "#     \"\"\"\n",
    "#     hp_df = hp_df[ hp_df.apply(lambda df_row: my_lambda(df_row, hps_dct), axis=1 ) ].sort_values('tr_size').reset_index(drop=True)\n",
    "#     return hp_df\n",
    "\n",
    "# base_dir = Path('/vol/ml/apartin/projects/LearningCurves/hpo_runs/lc_gdsc_nn_reg0_hpo')\n",
    "# hp = pd.read_csv( base_dir/'hpo_all.csv' )\n",
    "\n",
    "# common_cols = ['tr_size', 'mean_absolute_error', 'mean_squared_error', 'median_absolute_error', 'r2', 'run_id']\n",
    "# col_subset = ['batch_size', 'lr', 'opt', 'dr_rate', 'batchnorm', # HPs\n",
    "#                   'epoch_stop', 'epochs']\n",
    "# col_subset = col_subset + common_cols\n",
    "\n",
    "# common_cols = ['tr_size', 'mean_absolute_error', 'mean_squared_error', 'median_absolute_error', 'r2', 'run_id']\n",
    "# hp = hp[[c for c in col_subset if c in hp.columns]]\n",
    "# print('hp dataframe:', hp.shape)\n",
    "\n",
    "# best = top_n_runs(hp, tr_size=hp['tr_size'].max(), n=1, sort_by_metric='mean_absolute_error', plot=False)\n",
    "# display(best)\n",
    "\n",
    "# prm_names = ['dr_rate', 'opt', 'lr', 'batchnorm', 'batch_size']\n",
    "# dflt_hp_dct = {'batch_size': 32, 'batchnorm': True, 'dr_rate': 0.2, 'lr': 0.0001, 'opt': 'sgd'}\n",
    "\n",
    "# hp_cols = [c for c in dflt_hp_dct.keys()]\n",
    "# ls_hp_best_dct = {c: best[c].values[0] for c in hp_cols}\n",
    "# ls_best = extract_runs_by_specific_hps(hp, ls_hp_best_dct) # hp_ls_best\n",
    "\n",
    "# nn_gdsc = ls_best.copy()"
   ]
  },
  {
   "cell_type": "code",
   "execution_count": null,
   "metadata": {},
   "outputs": [],
   "source": []
  },
  {
   "cell_type": "markdown",
   "metadata": {},
   "source": [
    "# Load Top6"
   ]
  },
  {
   "cell_type": "markdown",
   "metadata": {},
   "source": [
    "### Top6 GBDT"
   ]
  },
  {
   "cell_type": "code",
   "execution_count": 10,
   "metadata": {},
   "outputs": [],
   "source": [
    "# lgb_top6 = avg_runs(base_dir=Path('/vol/ml/apartin/projects/LearningCurves/trn.top6/split_on_none/multi_seed_lgbm_100_trees'))\n",
    "lgb_top6 = pd.read_csv(Path('/vol/ml/apartin/projects/LearningCurves/trn.top6/split_on_none/multi_seed_lgbm_100_trees/scores.csv'))"
   ]
  },
  {
   "cell_type": "markdown",
   "metadata": {},
   "source": [
    "### Top6 NN"
   ]
  },
  {
   "cell_type": "markdown",
   "metadata": {},
   "source": [
    "**Final multi-run**"
   ]
  },
  {
   "cell_type": "code",
   "execution_count": 11,
   "metadata": {},
   "outputs": [],
   "source": [
    "nn_top6 = pd.read_csv(Path('/vol/ml/apartin/projects/LearningCurves/trn.top6/split_on_none/nn_reg0/scores.csv'))"
   ]
  },
  {
   "cell_type": "markdown",
   "metadata": {},
   "source": [
    "**Single run with best HPs**"
   ]
  },
  {
   "cell_type": "code",
   "execution_count": 16,
   "metadata": {},
   "outputs": [],
   "source": [
    "# nn_top6 = pd.read_csv(Path('/vol/ml/apartin/projects/LearningCurves/trn.top6/split_on_none/top6.adam.nn_reg0.ge.dd.auc_2019-11-23_ls_best/lrn_crv_scores.csv'))\n",
    "# # nn_top6 = pd.read_csv(Path('/vol/ml/apartin/projects/LearningCurves/trn.top6/split_on_none/nn_reg0/run_02/lrn_crv_scores.csv'))\n",
    "# nn_top6 = nn_top6[(nn_top6.metric=='mean_absolute_error') & (nn_top6.set=='te')].sort_values('tr_size').reset_index(drop=True)\n",
    "# nn_top6 = nn_top6.rename(columns={'fold0': 'mean_absolute_error'})"
   ]
  },
  {
   "cell_type": "markdown",
   "metadata": {},
   "source": [
    "**Multi-run with best HPs --> very good**"
   ]
  },
  {
   "cell_type": "code",
   "execution_count": 17,
   "metadata": {},
   "outputs": [],
   "source": [
    "# nn_top6 = pd.read_csv(Path('/vol/ml/apartin/projects/LearningCurves/trn.top6/split_on_none/nn_reg0/scores.csv'))\n",
    "# nn_top6 = nn_top6.rename(columns={'median': 'mean_absolute_error'})"
   ]
  },
  {
   "cell_type": "code",
   "execution_count": null,
   "metadata": {},
   "outputs": [],
   "source": []
  },
  {
   "cell_type": "code",
   "execution_count": null,
   "metadata": {},
   "outputs": [],
   "source": []
  },
  {
   "cell_type": "markdown",
   "metadata": {},
   "source": [
    "# GDSC (GBDT vs NN)"
   ]
  },
  {
   "cell_type": "code",
   "execution_count": 12,
   "metadata": {},
   "outputs": [],
   "source": [
    "data_name = 'gdsc'"
   ]
  },
  {
   "cell_type": "code",
   "execution_count": 13,
   "metadata": {},
   "outputs": [],
   "source": [
    "# lgb_shift_id = 0\n",
    "# lgb_shift_id = 7\n",
    "lgb_shift_id = 9\n",
    "lgb = lgb_gdsc[lgb_shift_id:].reset_index(drop=True)\n",
    "\n",
    "nn_shift_id = lgb_shift_id - 6\n",
    "nn = nn_gdsc[nn_shift_id:].reset_index(drop=True)"
   ]
  },
  {
   "cell_type": "code",
   "execution_count": 14,
   "metadata": {},
   "outputs": [
    {
     "data": {
      "image/png": "[encoded data removed]",
      "text/plain": [
       "<Figure size 432x324 with 1 Axes>"
      ]
     },
     "metadata": {
      "needs_background": "light"
     },
     "output_type": "display_data"
    }
   ],
   "source": [
    "ax = None\n",
    "\n",
    "# GBDT\n",
    "x = lgb['tr_size'].values\n",
    "y = lgb['median'].values\n",
    "yerr = lgb['std'].values\n",
    "ax = lrn_crv_plot.plot_lrn_crv_new(x=x, y=y, yerr=yerr,\n",
    "                                   ax=ax, ls='', marker='v', alpha=0.7,\n",
    "                                   **plot_args, color='b', label='GBDT + GDSC')\n",
    "# NN\n",
    "x = nn['tr_size'].values\n",
    "# y = nn['mean_absolute_error'].values\n",
    "y = nn['median'].values\n",
    "yerr = nn['std'].values\n",
    "ax = lrn_crv_plot.plot_lrn_crv_new(x=x, y=y, yerr=yerr,\n",
    "                                   ax=ax, ls='', marker='o', alpha=0.7,\n",
    "                                   **plot_args, color='g', label='NN + GDSC')\n",
    "ax.set_title('GDSC')\n",
    "ax.legend(frameon=True, fontsize=10, loc='best')\n",
    "ax.grid(False)"
   ]
  },
  {
   "cell_type": "code",
   "execution_count": 15,
   "metadata": {},
   "outputs": [],
   "source": [
    "def plot_lc_fit(x, y, xf, yf, yfit, xext=None, yext=None, xtick_scale='log2', ytick_scale='log2', figsize=(6, 4.5), ax=None,\n",
    "               fit_line_color='b', extrp_point_color='r', fit_line_ls='--', extrp_point_marker='o'):\n",
    "    plot_args = {'metric_name': metric_name, 'xtick_scale': xtick_scale, 'ytick_scale': ytick_scale, 'figsize': figsize}\n",
    "    plot_args['metric_name'] = metric_name\n",
    "    \n",
    "    # ax = None\n",
    "\n",
    "    # Plot all points\n",
    "    ax = lrn_crv_plot.plot_lrn_crv_new(\n",
    "            x = x, y = y, # yerr = scr['std'],\n",
    "            ax=ax, ls='', marker='.', alpha=0.8, color='k',\n",
    "            **plot_args, label='Excluded points')\n",
    "\n",
    "    # Plot fitting points\n",
    "    ax = lrn_crv_plot.plot_lrn_crv_new(\n",
    "            x = xf, y = yf,\n",
    "            ax=ax, ls='', marker='v', alpha=0.8, color='b',\n",
    "            **plot_args, label='Fitting points')\n",
    "\n",
    "    # Plot fit curve\n",
    "    ax = lrn_crv_plot.plot_lrn_crv_new(\n",
    "            x = xf, y = yfit,\n",
    "            ax=ax, ls=fit_line_ls, marker='', alpha=0.8, color=fit_line_color,\n",
    "            **plot_args, label='Fitted curve')\n",
    "\n",
    "    # Plot extrapolation point\n",
    "    if (xext is not None) and (yext is not None):\n",
    "        ax.plot(xext, yext, extrp_point_marker, color=extrp_point_color, markeredgecolor='k', alpha=1, label='Extrap. point');\n",
    "\n",
    "    # Extrapolate beyond available size\n",
    "    # ax = lrn_crv_plot.plot_lrn_crv_new(\n",
    "    #         x = xext_far, y = yext_far, # yerr = scr.loc[fit_min:fit_max, 'std'],\n",
    "    #         ax=ax, ls='--', marker='', alpha=0.8, color='b',\n",
    "    #         **plot_args, label='Extrapolation (far)')\n",
    "\n",
    "    # ---------------------\n",
    "    ax.tick_params(axis='both', labelsize=11)\n",
    "    xlim = ax.get_xlim()\n",
    "    ax = set_yticks_ap(ax) # Set Y axis\n",
    "\n",
    "    ax.legend(frameon=True, fontsize=11, loc='best')\n",
    "    plt.tight_layout()\n",
    "    ax.grid(False)\n",
    "    return ax\n",
    "\n",
    "# plt.savefig(base_dir/('{}_extrap_{}.png'.format(src, ytick_scale)), dpi=200)"
   ]
  },
  {
   "cell_type": "code",
   "execution_count": 16,
   "metadata": {},
   "outputs": [
    {
     "name": "stdout",
     "output_type": "stream",
     "text": [
      "GBDT GOF: {'rmse': 4.7580052786849905e-05, 'mae': 3.959250889588352e-05}\n",
      "NN GOF: {'rmse': 0.0021971217001032577, 'mae': 0.0014822063231583645}\n",
      "GBDT prms: {'alpha': 1.1706583311698957, 'beta': -0.556962177956806, 'gamma': 0.06761965078084099}\n",
      "NN prms  : {'alpha': 0.4984371225801971, 'beta': -0.31319869590037724, 'gamma': 0.04877958143991483}\n"
     ]
    },
    {
     "data": {
      "image/png": "[encoded data removed]",
      "text/plain": [
       "<Figure size 432x324 with 1 Axes>"
      ]
     },
     "metadata": {
      "needs_background": "light"
     },
     "output_type": "display_data"
    }
   ],
   "source": [
    "ax = None\n",
    "\n",
    "# ----------------------------------------------------\n",
    "# GBDT Data\n",
    "x = lgb['tr_size'].values\n",
    "y = lgb['median'].values\n",
    "yerr = lgb['std'].values\n",
    "\n",
    "# GBDT Fit\n",
    "shard_min_id = 0\n",
    "xf = x[shard_min_id:]\n",
    "yf = y[shard_min_id:]\n",
    "prms_lgb = fit_params(xf, yf)\n",
    "yfit = biased_powerlaw(xf, **prms_lgb)\n",
    "\n",
    "# Calc Fit beyond available size\n",
    "xext_far = np.array([int(i) for i in 2 ** np.array(np.arange(25))[1:]])\n",
    "idx_min = np.argmin( np.abs( xext_far - xf[0] ) )\n",
    "xext_far = xext_far[idx_min:]\n",
    "yext_far = biased_powerlaw(xext_far, **prms_lgb)\n",
    "\n",
    "# GBDT GOF\n",
    "gof = calc_gof(yf, yfit)\n",
    "print('GBDT GOF:', gof)\n",
    "\n",
    "# GBDT Data Plot\n",
    "ax = lrn_crv_plot.plot_lrn_crv_new(x=x, y=y, yerr=yerr,\n",
    "                                   ax=ax, ls='', marker='v', alpha=0.7,\n",
    "                                   **plot_args, color='b', label='GBDT + GDSC')\n",
    "\n",
    "# GBDT Fit Plot\n",
    "# ax = lrn_crv_plot.plot_lrn_crv_new(x=xf, y=yfit,\n",
    "#                                    ax=ax, ls='--', marker='', alpha=1,\n",
    "#                                    **plot_args, color='b', label='GBDT Fit + GDSC')\n",
    "\n",
    "# GBDT Extrapolate Plot\n",
    "ax = lrn_crv_plot.plot_lrn_crv_new(x=xext_far, y=yext_far,\n",
    "                                   ax=ax, ls='--', marker='', alpha=1,\n",
    "                                   **plot_args, color='b', label='GBDT Extended Fit + GDSC')\n",
    "\n",
    "# ----------------------------------------------------\n",
    "# NN Data\n",
    "x = nn['tr_size'].values\n",
    "y = nn['median'].values\n",
    "# y = nn['mean_absolute_error']\n",
    "yerr = nn['std'].values\n",
    "\n",
    "# NN Fit\n",
    "shard_min_id = 0\n",
    "xf = x[shard_min_id:]\n",
    "yf = y[shard_min_id:]\n",
    "prms_nn = fit_params(xf, yf)\n",
    "yfit = biased_powerlaw(xf, **prms_nn)\n",
    "\n",
    "# Calc Fit beyond available size\n",
    "xext_far = np.array([int(i) for i in 2 ** np.array(np.arange(25))[1:]])\n",
    "idx_min = np.argmin( np.abs( xext_far - xf[0] ) )\n",
    "xext_far = xext_far[idx_min:]\n",
    "yext_far = biased_powerlaw(xext_far, **prms_nn)\n",
    "\n",
    "# NN GOF\n",
    "gof = calc_gof(yf, yfit)\n",
    "print('NN GOF:', gof)\n",
    "\n",
    "# NN Data Plot\n",
    "ax = lrn_crv_plot.plot_lrn_crv_new(x=x, y=y, yerr=yerr,\n",
    "                                   ax=ax, ls='', marker='o', alpha=0.7,\n",
    "                                   **plot_args, color='g', label='NN + GDSC')\n",
    "\n",
    "# NN Fit Plot\n",
    "# ax = lrn_crv_plot.plot_lrn_crv_new(x=xf, y=yfit,\n",
    "#                                    ax=ax, ls='--', marker='', alpha=1,\n",
    "#                                    **plot_args, color='g', label='NN Fit + GDSC')\n",
    "\n",
    "# GBDT Extrapolate Plot\n",
    "ax = lrn_crv_plot.plot_lrn_crv_new(x=xext_far, y=yext_far,\n",
    "                                   ax=ax, ls='--', marker='', alpha=1,\n",
    "                                   **plot_args, color='g', label='NN Extented Fit + GDSC')\n",
    "\n",
    "# ----------------------------------------------------\n",
    "# General axes prms\n",
    "# https://matplotlib.org/3.1.1/api/_as_gen/matplotlib.axes.Axes.tick_params.html\n",
    "ax.tick_params(axis='both', labelsize=11)\n",
    "\n",
    "# Set X axis\n",
    "xlim = ax.get_xlim()\n",
    "# ax.set_xticks([2**i for i in range(8, 18)])\n",
    "# ax.set_xlim([xlim[0], 2**18]) \n",
    "\n",
    "# Set Y axis\n",
    "ax = set_yticks_ap(ax)\n",
    "\n",
    "ax.set_title('GDSC')\n",
    "ax.legend(frameon=True, fontsize=11, loc='best');\n",
    "ax.grid(False)\n",
    "plt.tight_layout()\n",
    "plt.savefig(save_fig_path/'gbdt_vs_nn_on_{}.png'.format(data_name), dpi=200)\n",
    "\n",
    "print('GBDT prms:', prms_lgb)\n",
    "print('NN prms  :', prms_nn)"
   ]
  },
  {
   "cell_type": "code",
   "execution_count": 33,
   "metadata": {},
   "outputs": [
    {
     "data": {
      "text/plain": [
       "3.959250889588352e-05"
      ]
     },
     "execution_count": 33,
     "metadata": {},
     "output_type": "execute_result"
    }
   ],
   "source": [
    "3.959250889588352e-05"
   ]
  },
  {
   "cell_type": "code",
   "execution_count": null,
   "metadata": {},
   "outputs": [],
   "source": []
  },
  {
   "cell_type": "markdown",
   "metadata": {},
   "source": [
    "# Top6 (GBDT vs NN)"
   ]
  },
  {
   "cell_type": "code",
   "execution_count": 17,
   "metadata": {},
   "outputs": [],
   "source": [
    "data_name = 'top6'"
   ]
  },
  {
   "cell_type": "code",
   "execution_count": 18,
   "metadata": {},
   "outputs": [],
   "source": [
    "lgb_shift_id = 0\n",
    "# lgb_shift_id = 8\n",
    "lgb_shift_id = 9\n",
    "lgb = lgb_top6[lgb_shift_id:].reset_index(drop=True)\n",
    "\n",
    "nn_shift_id = lgb_shift_id - 6\n",
    "nn = nn_top6[nn_shift_id:].reset_index(drop=True)"
   ]
  },
  {
   "cell_type": "code",
   "execution_count": 20,
   "metadata": {},
   "outputs": [
    {
     "data": {
      "image/png": "[encoded data removed]",
      "text/plain": [
       "<Figure size 432x324 with 1 Axes>"
      ]
     },
     "metadata": {
      "needs_background": "light"
     },
     "output_type": "display_data"
    }
   ],
   "source": [
    "ax = None\n",
    "\n",
    "# GBDT\n",
    "x = lgb['tr_size'].values\n",
    "y = lgb['median'].values\n",
    "yerr = lgb['std'].values\n",
    "ax = lrn_crv_plot.plot_lrn_crv_new(x=x, y=y, yerr=yerr,\n",
    "                                   ax=ax, ls='', marker='s', alpha=0.7,\n",
    "                                   **plot_args, color='r', label='GBDT + Top6')\n",
    "# NN\n",
    "x = nn['tr_size'].values\n",
    "# y = nn['mean_absolute_error'].values\n",
    "y = nn['median'].values\n",
    "yerr = nn['std'].values\n",
    "ax = lrn_crv_plot.plot_lrn_crv_new(x=x, y=y, yerr=yerr,\n",
    "                                   ax=ax, ls='', marker='D', alpha=0.7,\n",
    "                                   **plot_args, color='k', label='NN + Top6')\n",
    "ax.set_title('Top6')\n",
    "ax.legend(frameon=True, fontsize=10, loc='best')\n",
    "ax.grid(False)"
   ]
  },
  {
   "cell_type": "code",
   "execution_count": 22,
   "metadata": {},
   "outputs": [
    {
     "name": "stdout",
     "output_type": "stream",
     "text": [
      "GOF: {'rmse': 0.0004446066747408171, 'mae': 0.00027204718996853453}\n",
      "GOF: {'rmse': 0.0010605317580562998, 'mae': 0.0005777380772490286}\n",
      "GBDT prms: {'alpha': 1.6951677493590434, 'beta': -0.5888520332321653, 'gamma': 0.05171323899094677}\n",
      "NN prms  : {'alpha': 0.5065706322318237, 'beta': -0.34390661400161615, 'gamma': 0.037511081914682096}\n"
     ]
    },
    {
     "data": {
      "image/png": "[encoded data removed]",
      "text/plain": [
       "<Figure size 432x324 with 1 Axes>"
      ]
     },
     "metadata": {
      "needs_background": "light"
     },
     "output_type": "display_data"
    }
   ],
   "source": [
    "ax = None\n",
    "\n",
    "# ----------------------------------------------------\n",
    "# GBDT Data\n",
    "x = lgb['tr_size'].values\n",
    "y = lgb['median'].values\n",
    "yerr = lgb['std'].values\n",
    "\n",
    "# GBDT Fit\n",
    "shard_min_id = 0\n",
    "xf = x[shard_min_id:]\n",
    "yf = y[shard_min_id:]\n",
    "prms_lgb = fit_params(xf, yf)\n",
    "yfit = biased_powerlaw(xf, **prms_lgb)\n",
    "\n",
    "# Calc Fit beyond available size\n",
    "xext_far = np.array([int(i) for i in 2 ** np.array(np.arange(25))[1:]])\n",
    "idx_min = np.argmin( np.abs( xext_far - xf[0] ) )\n",
    "xext_far = xext_far[idx_min:]\n",
    "yext_far = biased_powerlaw(xext_far, **prms_lgb)\n",
    "\n",
    "# GBDT GOF\n",
    "gof = calc_gof(yf, yfit)\n",
    "print('GOF:', gof)\n",
    "\n",
    "# GBDT Data Plot\n",
    "ax = lrn_crv_plot.plot_lrn_crv_new(x=x, y=y, yerr=yerr,\n",
    "                                   ax=ax, ls='', marker='s', alpha=0.7,\n",
    "                                   **plot_args, color='r', label='GBDT + Top6')\n",
    "\n",
    "# GBDT Fit Plot\n",
    "# ax = lrn_crv_plot.plot_lrn_crv_new(x=xf, y=yfit,\n",
    "#                                    ax=ax, ls='--', marker='', alpha=0.7,\n",
    "#                                    **plot_args, color='b', label='GBDT Fit + Top6')\n",
    "\n",
    "# GBDT Extrapolate Plot\n",
    "ax = lrn_crv_plot.plot_lrn_crv_new(x=xext_far, y=yext_far,\n",
    "                                   ax=ax, ls='--', marker='', alpha=0.7,\n",
    "                                   **plot_args, color='r', label='GBDT Extented Fit + Top6')\n",
    "\n",
    "# ----------------------------------------------------\n",
    "# NN Data\n",
    "x = nn['tr_size'].values\n",
    "y = nn['median'].values\n",
    "# y = nn['mean_absolute_error']\n",
    "yerr = nn['std'].values\n",
    "\n",
    "# NN Fit\n",
    "shard_min_id = 0\n",
    "xf = x[shard_min_id:]\n",
    "yf = y[shard_min_id:]\n",
    "prms_nn = fit_params(xf, yf)\n",
    "yfit = biased_powerlaw(xf, **prms_nn)\n",
    "\n",
    "# Calc Fit beyond available size\n",
    "xext_far = np.array([int(i) for i in 2 ** np.array(np.arange(25))[1:]])\n",
    "idx_min = np.argmin( np.abs( xext_far - xf[0] ) )\n",
    "xext_far = xext_far[idx_min:]\n",
    "yext_far = biased_powerlaw(xext_far, **prms_nn)\n",
    "\n",
    "# NN GOF\n",
    "gof = calc_gof(yf, yfit)\n",
    "print('GOF:', gof)\n",
    "\n",
    "# NN Data Plot\n",
    "ax = lrn_crv_plot.plot_lrn_crv_new(x=x, y=y, yerr=yerr,\n",
    "                                   ax=ax, ls='', marker='D', alpha=0.7,\n",
    "                                   **plot_args, color='k', label='NN + Top6')\n",
    "\n",
    "# NN Fit Plot\n",
    "# ax = lrn_crv_plot.plot_lrn_crv_new(x=xf, y=yfit,\n",
    "#                                    ax=ax, ls='--', marker='', alpha=0.7,\n",
    "#                                    **plot_args, color='g', label='NN Fit + Top6')\n",
    "\n",
    "# NN Extrapolate Plot\n",
    "ax = lrn_crv_plot.plot_lrn_crv_new(x=xext_far, y=yext_far,\n",
    "                                   ax=ax, ls='--', marker='', alpha=0.7,\n",
    "                                   **plot_args, color='k', label='NN Extented Fit + Top6')\n",
    "\n",
    "# ----------------------------------------------------\n",
    "# General axes prms\n",
    "# https://matplotlib.org/3.1.1/api/_as_gen/matplotlib.axes.Axes.tick_params.html\n",
    "ax.tick_params(axis='both', labelsize=11)\n",
    "\n",
    "# Set X axis\n",
    "xlim = ax.get_xlim()\n",
    "# ax.set_xticks([2**i for i in range(8, 18)])\n",
    "# ax.set_xlim([xlim[0], 2**18]) \n",
    "\n",
    "# Set Y axis\n",
    "ax = set_yticks_ap(ax)\n",
    "\n",
    "ax.set_title('Top6')\n",
    "ax.legend(frameon=True, fontsize=11, loc='best');\n",
    "ax.grid(False)\n",
    "plt.tight_layout()\n",
    "plt.savefig(save_fig_path/'gbdt_vs_nn_on_{}.png'.format(data_name), dpi=200)\n",
    "\n",
    "print('GBDT prms:', prms_lgb)\n",
    "print('NN prms  :', prms_nn)"
   ]
  },
  {
   "cell_type": "code",
   "execution_count": null,
   "metadata": {},
   "outputs": [],
   "source": []
  },
  {
   "cell_type": "code",
   "execution_count": null,
   "metadata": {},
   "outputs": [],
   "source": []
  },
  {
   "cell_type": "markdown",
   "metadata": {},
   "source": [
    "# Same model (GBDT); different dataset\n",
    "\n",
    "The LC plots show the same parameter beta for both datasets."
   ]
  },
  {
   "cell_type": "code",
   "execution_count": 23,
   "metadata": {},
   "outputs": [],
   "source": [
    "model_name = 'lgb'"
   ]
  },
  {
   "cell_type": "code",
   "execution_count": 24,
   "metadata": {},
   "outputs": [],
   "source": [
    "lgb_shift_id = 0\n",
    "lgb_shift_id = 9\n",
    "\n",
    "lgb_gdsc_ = lgb_gdsc[lgb_shift_id:].reset_index(drop=True)\n",
    "\n",
    "lgb_top6_ = lgb_top6[lgb_shift_id:].reset_index(drop=True)"
   ]
  },
  {
   "cell_type": "code",
   "execution_count": 25,
   "metadata": {},
   "outputs": [
    {
     "data": {
      "image/png": "[encoded data removed]",
      "text/plain": [
       "<Figure size 432x324 with 1 Axes>"
      ]
     },
     "metadata": {
      "needs_background": "light"
     },
     "output_type": "display_data"
    }
   ],
   "source": [
    "ax = None\n",
    "\n",
    "# GDSC\n",
    "x = lgb_gdsc_['tr_size'].values\n",
    "y = lgb_gdsc_['median'].values\n",
    "yerr = lgb_gdsc_['std'].values\n",
    "ax = lrn_crv_plot.plot_lrn_crv_new(x=x, y=y, yerr=yerr,\n",
    "                                   ax=ax, ls='', marker='v', alpha=0.7,\n",
    "                                   **plot_args, color='b', label='GBDT + GDSC')\n",
    "# Top6\n",
    "x = lgb_top6_['tr_size'].values\n",
    "y = lgb_top6_['median'].values\n",
    "yerr = lgb_top6_['std'].values\n",
    "ax = lrn_crv_plot.plot_lrn_crv_new(x=x, y=y, yerr=yerr,\n",
    "                                   ax=ax, ls='', marker='s', alpha=0.7,\n",
    "                                   **plot_args, color='r', label='GBDT + Top6')\n",
    "ax.set_title('GBDT')\n",
    "ax.legend(frameon=True, fontsize=10, loc='best')\n",
    "ax.grid(False)"
   ]
  },
  {
   "cell_type": "code",
   "execution_count": 26,
   "metadata": {},
   "outputs": [
    {
     "name": "stdout",
     "output_type": "stream",
     "text": [
      "GBDT GDSC GOF: {'rmse': 4.7580052786849905e-05, 'mae': 3.959250889588352e-05}\n",
      "GBDT Top6 GOF: {'rmse': 0.0004446066747408171, 'mae': 0.00027204718996853453}\n",
      "GDSC {'alpha': 1.1706583311698957, 'beta': -0.556962177956806, 'gamma': 0.06761965078084099}\n",
      "Top6 {'alpha': 1.6951677493590434, 'beta': -0.5888520332321653, 'gamma': 0.05171323899094677}\n"
     ]
    },
    {
     "data": {
      "image/png": "[encoded data removed]",
      "text/plain": [
       "<Figure size 432x324 with 1 Axes>"
      ]
     },
     "metadata": {
      "needs_background": "light"
     },
     "output_type": "display_data"
    }
   ],
   "source": [
    "ax = None\n",
    "\n",
    "# ----------------------------------------------------\n",
    "# GDSC Data\n",
    "x = lgb_gdsc_['tr_size'].values\n",
    "y = lgb_gdsc_['median'].values\n",
    "yerr = lgb_gdsc_['std'].values\n",
    "\n",
    "# GDSC Fit\n",
    "shard_min_id = 0\n",
    "xf = x[shard_min_id:]\n",
    "yf = y[shard_min_id:]\n",
    "prms_lgb_gdsc = fit_params(xf, yf)\n",
    "yfit = biased_powerlaw(xf, **prms_lgb_gdsc)\n",
    "\n",
    "# Calc Fit beyond available size\n",
    "xext_far = np.array([int(i) for i in 2 ** np.array(np.arange(25))[1:]])\n",
    "idx_min = np.argmin( np.abs( xext_far - xf[0] ) )\n",
    "xext_far = xext_far[idx_min:]\n",
    "yext_far = biased_powerlaw(xext_far, **prms_lgb_gdsc)\n",
    "\n",
    "# GDSC GOF\n",
    "gof = calc_gof(yf, yfit)\n",
    "print('GBDT GDSC GOF:', gof)\n",
    "\n",
    "# GDSC Data Plot\n",
    "ax = lrn_crv_plot.plot_lrn_crv_new(x=x, y=y, yerr=yerr,\n",
    "                                   ax=ax, ls='', marker='v', alpha=0.7,\n",
    "                                   **plot_args, color='b', label='GBDT + GDSC')\n",
    "\n",
    "# GDSC Fit Plot\n",
    "# ax = lrn_crv_plot.plot_lrn_crv_new(x=xf, y=yfit,\n",
    "#                                    ax=ax, ls='--', marker='', alpha=0.7,\n",
    "#                                    **plot_args, color='b', label='GDSC Fit')\n",
    "\n",
    "# GDSC Extrapolate Plot\n",
    "ax = lrn_crv_plot.plot_lrn_crv_new(x=xext_far, y=yext_far,\n",
    "                                   ax=ax, ls='--', marker='', alpha=0.7,\n",
    "                                   **plot_args, color='b', label='GBDT Extented Fit + GDSC')\n",
    "\n",
    "# ----------------------------------------------------\n",
    "# Top6 Data\n",
    "x = lgb_top6_['tr_size'].values\n",
    "y = lgb_top6_['median'].values\n",
    "# y = nn['mean_absolute_error']\n",
    "yerr = lgb_top6_['std'].values\n",
    "\n",
    "# Top6 Fit\n",
    "shard_min_id = 0\n",
    "xf = x[shard_min_id:]\n",
    "yf = y[shard_min_id:]\n",
    "prms_lgb_top6 = fit_params(xf, yf)\n",
    "yfit = biased_powerlaw(xf, **prms_lgb_top6)\n",
    "\n",
    "# Calc Fit beyond available size\n",
    "xext_far = np.array([int(i) for i in 2 ** np.array(np.arange(25))[1:]])\n",
    "idx_min = np.argmin( np.abs( xext_far - xf[0] ) )\n",
    "xext_far = xext_far[idx_min:]\n",
    "yext_far = biased_powerlaw(xext_far, **prms_lgb_top6)\n",
    "\n",
    "# Top6 GOF\n",
    "gof = calc_gof(yf, yfit)\n",
    "print('GBDT Top6 GOF:', gof)\n",
    "\n",
    "# Top6 Data Plot\n",
    "ax = lrn_crv_plot.plot_lrn_crv_new(x=x, y=y, yerr=yerr,\n",
    "                                   ax=ax, ls='', marker='s', alpha=0.7,\n",
    "                                   **plot_args, color='r', label='GBDT + Top6')\n",
    "\n",
    "# Top6 Fit Plot\n",
    "# ax = lrn_crv_plot.plot_lrn_crv_new(x=xf, y=yfit,\n",
    "#                                    ax=ax, ls='--', marker='', alpha=0.7,\n",
    "#                                    **plot_args, color='g', label='GBDT Fit + Top6')\n",
    "\n",
    "# Top6 Extrapolate Plot\n",
    "ax = lrn_crv_plot.plot_lrn_crv_new(x=xext_far, y=yext_far,\n",
    "                                   ax=ax, ls='--', marker='', alpha=0.7,\n",
    "                                   **plot_args, color='r', label='GBDT Extended Fit + Top6')\n",
    "\n",
    "# ----------------------------------------------------\n",
    "# General axes prms\n",
    "# https://matplotlib.org/3.1.1/api/_as_gen/matplotlib.axes.Axes.tick_params.html\n",
    "ax.tick_params(axis='both', labelsize=11)\n",
    "\n",
    "# Set X axis\n",
    "xlim = ax.get_xlim()\n",
    "# ax.set_xticks([2**i for i in range(8, 18)])\n",
    "# ax.set_xlim([xlim[0], 2**18]) \n",
    "\n",
    "# Set Y axis\n",
    "ax = set_yticks_ap(ax)\n",
    "\n",
    "ax.set_title('GBDT')\n",
    "ax.legend(frameon=True, fontsize=11, loc='best');\n",
    "ax.grid(False)\n",
    "plt.tight_layout()\n",
    "plt.savefig(save_fig_path/'gdsc_vs_top6_using_{}.png'.format(model_name), dpi=200)\n",
    "\n",
    "print('GDSC', prms_lgb_gdsc)\n",
    "print('Top6', prms_lgb_top6)"
   ]
  },
  {
   "cell_type": "code",
   "execution_count": null,
   "metadata": {},
   "outputs": [],
   "source": []
  },
  {
   "cell_type": "code",
   "execution_count": null,
   "metadata": {},
   "outputs": [],
   "source": []
  },
  {
   "cell_type": "markdown",
   "metadata": {},
   "source": [
    "# Same model (NN); different dataset --> note! this is not the same model!\n",
    "\n",
    "The LC plots show the same parameter beta for datasets."
   ]
  },
  {
   "cell_type": "code",
   "execution_count": 29,
   "metadata": {},
   "outputs": [],
   "source": [
    "model_name = 'nn'"
   ]
  },
  {
   "cell_type": "code",
   "execution_count": 30,
   "metadata": {},
   "outputs": [],
   "source": [
    "# nn_shift_id = 0\n",
    "nn_shift_id = 3\n",
    "\n",
    "nn_gdsc_ = nn_gdsc[nn_shift_id:].reset_index(drop=True)\n",
    "\n",
    "nn_top6_ = nn_top6[nn_shift_id:].reset_index(drop=True)"
   ]
  },
  {
   "cell_type": "code",
   "execution_count": 31,
   "metadata": {},
   "outputs": [
    {
     "data": {
      "image/png": "[encoded data removed]",
      "text/plain": [
       "<Figure size 432x324 with 1 Axes>"
      ]
     },
     "metadata": {
      "needs_background": "light"
     },
     "output_type": "display_data"
    }
   ],
   "source": [
    "ax = None\n",
    "\n",
    "x = nn_gdsc_['tr_size'].values\n",
    "y = nn_gdsc_['median'].values\n",
    "yerr = nn_gdsc_['std'].values\n",
    "ax = lrn_crv_plot.plot_lrn_crv_new(x=x, y=y, yerr=yerr,\n",
    "                                   ax=ax, ls='', marker='o', alpha=0.7,\n",
    "                                   **plot_args, color='g', label='NN + GDSC')\n",
    "x = nn_top6_['tr_size'].values\n",
    "y = nn_top6_['median'].values\n",
    "yerr = nn_top6_['std'].values\n",
    "ax = lrn_crv_plot.plot_lrn_crv_new(x=x, y=y, yerr=yerr,\n",
    "                                   ax=ax, ls='', marker='D', alpha=0.7,\n",
    "                                   **plot_args, color='k', label='NN + Top6')\n",
    "ax.set_title('NN')\n",
    "ax.legend(frameon=True, fontsize=10, loc='best')\n",
    "ax.grid(False)"
   ]
  },
  {
   "cell_type": "code",
   "execution_count": 32,
   "metadata": {},
   "outputs": [
    {
     "name": "stdout",
     "output_type": "stream",
     "text": [
      "GBDT GDSC GOF: {'rmse': 0.0021971217001032577, 'mae': 0.0014822063231583645}\n",
      "GBDT Top6 GOF: {'rmse': 0.0010605317580562998, 'mae': 0.0005777380772490286}\n",
      "{'alpha': 0.4984371225801971, 'beta': -0.31319869590037724, 'gamma': 0.04877958143991483}\n",
      "{'alpha': 0.5065706322318237, 'beta': -0.34390661400161615, 'gamma': 0.037511081914682096}\n"
     ]
    },
    {
     "data": {
      "image/png": "[encoded data removed]",
      "text/plain": [
       "<Figure size 432x324 with 1 Axes>"
      ]
     },
     "metadata": {
      "needs_background": "light"
     },
     "output_type": "display_data"
    }
   ],
   "source": [
    "ax = None\n",
    "\n",
    "# ----------------------------------------------------\n",
    "# GDSC Data\n",
    "x = nn_gdsc_['tr_size'].values\n",
    "y = nn_gdsc_['median'].values\n",
    "yerr = nn_gdsc_['std'].values\n",
    "\n",
    "# GDSC Fit\n",
    "shard_min_id = 0\n",
    "xf = x[shard_min_id:]\n",
    "yf = y[shard_min_id:]\n",
    "prms_nn_gdsc = fit_params(xf, yf)\n",
    "yfit = biased_powerlaw(xf, **prms_nn_gdsc)\n",
    "\n",
    "# Calc Fit beyond available size\n",
    "xext_far = np.array([int(i) for i in 2 ** np.array(np.arange(25))[1:]])\n",
    "idx_min = np.argmin( np.abs( xext_far - xf[0] ) )\n",
    "xext_far = xext_far[idx_min:]\n",
    "yext_far = biased_powerlaw(xext_far, **prms_nn_gdsc)\n",
    "\n",
    "# GDSC GOF\n",
    "gof = calc_gof(yf, yfit)\n",
    "print('GBDT GDSC GOF:', gof)\n",
    "\n",
    "# GDSC Data Plot\n",
    "ax = lrn_crv_plot.plot_lrn_crv_new(x=x, y=y, yerr=yerr,\n",
    "                                   ax=ax, ls='', marker='o', alpha=0.7,\n",
    "                                   **plot_args, color='g', label='NN + GDSC')\n",
    "\n",
    "# GDSC Fit Plot\n",
    "# ax = lrn_crv_plot.plot_lrn_crv_new(x=xf, y=yfit,\n",
    "#                                    ax=ax, ls='--', marker='', alpha=0.7,\n",
    "#                                    **plot_args, color='b', label='GDSC Fit')\n",
    "\n",
    "# GDSC Extrapolate Plot\n",
    "ax = lrn_crv_plot.plot_lrn_crv_new(x=xext_far, y=yext_far,\n",
    "                                   ax=ax, ls='--', marker='', alpha=0.7,\n",
    "                                   **plot_args, color='g', label='NN Extended Fit + GDSC')\n",
    "\n",
    "# ----------------------------------------------------\n",
    "# Top6 Data\n",
    "x = nn_top6_['tr_size'].values\n",
    "y = nn_top6_['median'].values\n",
    "# y = nn['mean_absolute_error']\n",
    "yerr = nn_top6_['std'].values\n",
    "\n",
    "# Top6 Fit\n",
    "shard_min_id = 0\n",
    "xf = x[shard_min_id:]\n",
    "yf = y[shard_min_id:]\n",
    "prms_nn_top6 = fit_params(xf, yf)\n",
    "yfit = biased_powerlaw(xf, **prms_nn_top6)\n",
    "\n",
    "# Calc Fit beyond available size\n",
    "xext_far = np.array([int(i) for i in 2 ** np.array(np.arange(25))[1:]])\n",
    "idx_min = np.argmin( np.abs( xext_far - xf[0] ) )\n",
    "xext_far = xext_far[idx_min:]\n",
    "yext_far = biased_powerlaw(xext_far, **prms_nn_top6)\n",
    "\n",
    "# Top6 GOF\n",
    "gof = calc_gof(yf, yfit)\n",
    "print('GBDT Top6 GOF:', gof)\n",
    "\n",
    "# Top6 Data Plot\n",
    "ax = lrn_crv_plot.plot_lrn_crv_new(x=x, y=y, yerr=yerr,\n",
    "                                   ax=ax, ls='', marker='D', alpha=0.7,\n",
    "                                   **plot_args, color='k', label='NN + Top6')\n",
    "\n",
    "# Top6 Fit Plot\n",
    "# ax = lrn_crv_plot.plot_lrn_crv_new(x=xf, y=yfit,\n",
    "#                                    ax=ax, ls='--', marker='', alpha=0.7,\n",
    "#                                    **plot_args, color='g', label='Top6 Fit')\n",
    "\n",
    "# Top6 Extrapolate Plot\n",
    "ax = lrn_crv_plot.plot_lrn_crv_new(x=xext_far, y=yext_far,\n",
    "                                   ax=ax, ls='--', marker='', alpha=0.7,\n",
    "                                   **plot_args, color='k', label='NN Extended Fit + Top6')\n",
    "\n",
    "# ----------------------------------------------------\n",
    "# General axes prms\n",
    "# https://matplotlib.org/3.1.1/api/_as_gen/matplotlib.axes.Axes.tick_params.html\n",
    "ax.tick_params(axis='both', labelsize=11)\n",
    "\n",
    "# Set X axis\n",
    "xlim = ax.get_xlim()\n",
    "# ax.set_xticks([2**i for i in range(8, 18)])\n",
    "# ax.set_xlim([xlim[0], 2**18]) \n",
    "\n",
    "# Set Y axis\n",
    "ax = set_yticks_ap(ax)\n",
    "\n",
    "ax.set_title('NN')\n",
    "ax.legend(frameon=True, fontsize=11, loc='best');\n",
    "ax.grid(False)\n",
    "plt.tight_layout()\n",
    "plt.savefig(save_fig_path/'gdsc_vs_top6_using_{}.png'.format(model_name), dpi=200)\n",
    "\n",
    "print(prms_nn_gdsc)\n",
    "print(prms_nn_top6)"
   ]
  },
  {
   "cell_type": "code",
   "execution_count": null,
   "metadata": {},
   "outputs": [],
   "source": []
  }
 ],
 "metadata": {
  "kernelspec": {
   "display_name": "Python 3",
   "language": "python",
   "name": "python3"
  },
  "language_info": {
   "codemirror_mode": {
    "name": "ipython",
    "version": 3
   },
   "file_extension": ".py",
   "mimetype": "text/x-python",
   "name": "python",
   "nbconvert_exporter": "python",
   "pygments_lexer": "ipython3",
   "version": "3.6.8"
  }
 },
 "nbformat": 4,
 "nbformat_minor": 2
}
