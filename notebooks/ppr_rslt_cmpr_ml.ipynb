{
 "cells": [
  {
   "cell_type": "markdown",
   "metadata": {},
   "source": [
    "# Results Section: Comparisons"
   ]
  },
  {
   "cell_type": "markdown",
   "metadata": {},
   "source": [
    "Colors:<br>\n",
    "https://matplotlib.org/examples/color/named_colors.html"
   ]
  },
  {
   "cell_type": "code",
   "execution_count": 2,
   "metadata": {},
   "outputs": [
    {
     "name": "stdout",
     "output_type": "stream",
     "text": [
      "/vol/ml/apartin/projects/LearningCurves/notebooks\n"
     ]
    }
   ],
   "source": [
    "%load_ext autoreload\n",
    "%autoreload 2\n",
    "%matplotlib inline\n",
    "\n",
    "import warnings\n",
    "warnings.filterwarnings('ignore')\n",
    "\n",
    "import os\n",
    "import sys\n",
    "from pathlib import Path\n",
    "\n",
    "import sklearn\n",
    "import numpy as np\n",
    "import pandas as pd\n",
    "from scipy.stats import iqr\n",
    "from glob import glob\n",
    "\n",
    "from sklearn import metrics\n",
    "from math import sqrt\n",
    "\n",
    "import matplotlib\n",
    "import matplotlib.pyplot as plt\n",
    "# plt.style.use('ggplot')\n",
    "\n",
    "# Make all python scripts available in the path\n",
    "sys.path.append('../')\n",
    "\n",
    "import pp_utils\n",
    "import lrn_crv_plot\n",
    "%matplotlib inline\n",
    "\n",
    "filepath = Path(os.getcwd())\n",
    "print(filepath)"
   ]
  },
  {
   "cell_type": "code",
   "execution_count": 3,
   "metadata": {},
   "outputs": [],
   "source": [
    "from fit import * # weighted_power_law, fit_weighted_pwr_law\n",
    "import rpy2.robjects as robjects"
   ]
  },
  {
   "cell_type": "code",
   "execution_count": 4,
   "metadata": {},
   "outputs": [],
   "source": [
    "save_fig_path = filepath/'figs/compare'\n",
    "os.makedirs(save_fig_path, exist_ok=True)\n",
    "\n",
    "def save_fig(save_fig_path, fname):    \n",
    "    # plt.savefig(save_fig_path/(fname + '.eps'), format='eps')\n",
    "    plt.savefig(save_fig_path/(fname + '.png'), dpi=200)"
   ]
  },
  {
   "cell_type": "code",
   "execution_count": 5,
   "metadata": {},
   "outputs": [],
   "source": [
    "def calc_gof(y, yfit):\n",
    "    gof = {}\n",
    "    rmse = sqrt( metrics.mean_squared_error(y, yfit) )\n",
    "    mae = metrics.mean_absolute_error(y, yfit)\n",
    "    gof['rmse'] = rmse\n",
    "    gof['mae'] = mae\n",
    "    return gof"
   ]
  },
  {
   "cell_type": "code",
   "execution_count": 6,
   "metadata": {},
   "outputs": [],
   "source": [
    "def avg_runs(base_dir):\n",
    "    runs = glob(str(base_dir/'*'))\n",
    "    scores = []\n",
    "    prf = 'id'\n",
    "    for i, r in enumerate(runs):\n",
    "        # scr_tmp = pd.read_csv( Path(r)/'lrn_crv_scores.csv' )\n",
    "        dpath = Path(r)/'lrn_crv_scores.csv'\n",
    "        if not dpath.exists():\n",
    "            continue\n",
    "\n",
    "        scr_tmp = pd.read_csv( dpath )\n",
    "        scr_tmp.rename(columns={'fold0': prf+str(i)}, inplace=True)\n",
    "        if len(scores)==0:\n",
    "            scores = scr_tmp\n",
    "        else:\n",
    "            scores = scores.merge(scr_tmp, on=['metric', 'tr_size', 'set'])\n",
    "\n",
    "    run_col_names = [c for c in scores.columns if prf in c]\n",
    "\n",
    "    scores_mean   = scores[run_col_names].mean(axis=1)\n",
    "    scores_median = scores[run_col_names].median(axis=1)\n",
    "    scores_std    = scores[run_col_names].std(axis=1)\n",
    "    # scores_iqr    = iqr(scores.iloc[:, 6:].values, axis=0)\n",
    "\n",
    "    scores.insert(loc=3, column='mean', value=scores_mean)\n",
    "    scores.insert(loc=3, column='median', value=scores_median)\n",
    "    scores.insert(loc=3, column='std', value=scores_std)\n",
    "    print(len(np.unique(scores.tr_size)))\n",
    "\n",
    "    # display(scores[:2])\n",
    "    print('Training set sizes:', np.unique(scores.tr_size))\n",
    "\n",
    "    # scores_te = scores[(scores.metric=='mean_absolute_error') & (scores.set=='te')].reset_index(drop=True).iloc[:, :6]\n",
    "    scores_te = scores[(scores.metric=='mean_absolute_error') & (scores.set=='te')].reset_index(drop=True)\n",
    "\n",
    "    save = True\n",
    "    if save:\n",
    "        scores.to_csv(base_dir/'all_seed_runs_scores.csv', index=False)\n",
    "        scores_te.to_csv(base_dir/'scores.csv', index=False)\n",
    "        \n",
    "    return scores_te"
   ]
  },
  {
   "cell_type": "code",
   "execution_count": null,
   "metadata": {},
   "outputs": [],
   "source": []
  },
  {
   "cell_type": "markdown",
   "metadata": {},
   "source": [
    "# Load GDSC results\n",
    "There are a number of runs with GDSC.<br>\n",
    "Need to choose the best!"
   ]
  },
  {
   "cell_type": "markdown",
   "metadata": {},
   "source": [
    "#### GBDT: good data!"
   ]
  },
  {
   "cell_type": "code",
   "execution_count": 6,
   "metadata": {},
   "outputs": [
    {
     "name": "stdout",
     "output_type": "stream",
     "text": [
      "17\n",
      "Training set sizes: [    2     4     8    16    32    64   128   256   512  1024  2048  4096\n",
      "  8192 16384 32768 65536 88416]\n"
     ]
    }
   ],
   "source": [
    "lgb_gdsc = avg_runs(base_dir=Path('/vol/ml/apartin/projects/LearningCurves/trn.gdsc/split_on_none/multi_seed_lgbm_100_trees'))"
   ]
  },
  {
   "cell_type": "markdown",
   "metadata": {},
   "source": [
    "#### NN: need to choose the best!"
   ]
  },
  {
   "cell_type": "code",
   "execution_count": 7,
   "metadata": {},
   "outputs": [],
   "source": [
    "# From a few recent runs\n",
    "\n",
    "# nn_gdsc = avg_runs(base_dir=Path('/vol/ml/apartin/projects/LearningCurves/trn.gdsc/split_on_none/nn_reg_ls_best'))"
   ]
  },
  {
   "cell_type": "markdown",
   "metadata": {},
   "source": [
    "**Final nn_reg run**"
   ]
  },
  {
   "cell_type": "code",
   "execution_count": null,
   "metadata": {},
   "outputs": [],
   "source": [
    "path = pd.read_csv(Path('/vol/ml/apartin/projects/LearningCurves/trn.gdsc/split_on_none/nn_reg_final/lrn_crv_scores.csv'))"
   ]
  },
  {
   "cell_type": "markdown",
   "metadata": {},
   "source": [
    "**Run with 2nd best HPs --> good enough**"
   ]
  },
  {
   "cell_type": "code",
   "execution_count": 8,
   "metadata": {},
   "outputs": [],
   "source": [
    "# nn_gdsc = pd.read_csv(Path('/vol/ml/apartin/projects/LearningCurves/trn.gdsc/split_on_none/gdsc.adam.nn_reg0.ge.dd.auc_2019-11-20_ls_best_run1/lrn_crv_scores.csv'))\n",
    "# nn_gdsc = nn_gdsc[(nn_gdsc.metric=='mean_absolute_error') & (nn_gdsc.set=='te')].sort_values('tr_size').reset_index(drop=True)\n",
    "# nn_gdsc = nn_gdsc.rename(columns={'fold0': 'mean_absolute_error'})"
   ]
  },
  {
   "cell_type": "markdown",
   "metadata": {},
   "source": [
    "**Run intergrated from 2nd best HPs and best of 16384 --> the best**"
   ]
  },
  {
   "cell_type": "code",
   "execution_count": 9,
   "metadata": {},
   "outputs": [],
   "source": [
    "nn_gdsc = pd.read_csv(Path('/vol/ml/apartin/projects/LearningCurves/trn.gdsc/split_on_none/hack_nn_reg0_ls_best/lrn_crv_scores.csv'))\n",
    "# nn_gdsc = nn_gdsc[(nn_gdsc.metric=='mean_absolute_error') & (nn_gdsc.set=='te')].sort_values('tr_size').reset_index(drop=True)\n",
    "# nn_gdsc = nn_gdsc.rename(columns={'fold0': 'mean_absolute_error'})\n",
    "\n",
    "nn_gdsc = nn_gdsc[(nn_gdsc.metric=='mean_absolute_error') & (nn_gdsc.set=='te')].sort_values('tr_size').reset_index(drop=True)\n",
    "nn_gdsc = nn_gdsc.rename(columns={'fold0': 'mean_absolute_error'})"
   ]
  },
  {
   "cell_type": "markdown",
   "metadata": {},
   "source": [
    "**Data from HPO run on Summit**"
   ]
  },
  {
   "cell_type": "code",
   "execution_count": 10,
   "metadata": {},
   "outputs": [],
   "source": [
    "# def top_n_runs(df, tr_size=None, n=10, sort_by_metric='mean_absolute_error', plot=False):\n",
    "#     \"\"\" Return top runs based on sort_by_metric. \"\"\"\n",
    "#     if tr_size is not None:\n",
    "#         df = df[df['tr_size']==tr_size].reset_index(drop=True)\n",
    "#     if sort_by_metric == 'r2':\n",
    "#         df = df.sort_values(sort_by_metric, ascending=False).iloc[:n, :]\n",
    "#     else:\n",
    "#         df = df.sort_values(sort_by_metric, ascending=True).iloc[:n, :]\n",
    "    \n",
    "#     if plot: display(df.transpose())\n",
    "#     return df.reset_index(drop=True)\n",
    "\n",
    "# def my_lambda(df_row, hps_dct):\n",
    "#     \"\"\" Return True if a run used hps that appear in hps_dct. \"\"\"\n",
    "#     cols = list( set(df_row.index).intersection(hps_dct.keys()) )\n",
    "#     return np.array( [df_row[c]==hps_dct[c] for c in cols] ).all()\n",
    "\n",
    "# def extract_runs_by_specific_hps(hp_df, hps_dct):\n",
    "#     \"\"\" Take df where each row contains parameters of a single run, and extract all runs (rows)\n",
    "#     that share the same parameters specified by hps_dct.\n",
    "#     \"\"\"\n",
    "#     hp_df = hp_df[ hp_df.apply(lambda df_row: my_lambda(df_row, hps_dct), axis=1 ) ].sort_values('tr_size').reset_index(drop=True)\n",
    "#     return hp_df\n",
    "\n",
    "# base_dir = Path('/vol/ml/apartin/projects/LearningCurves/hpo_runs/lc_gdsc_nn_reg0_hpo')\n",
    "# hp = pd.read_csv( base_dir/'hpo_all.csv' )\n",
    "\n",
    "# common_cols = ['tr_size', 'mean_absolute_error', 'mean_squared_error', 'median_absolute_error', 'r2', 'run_id']\n",
    "# col_subset = ['batch_size', 'lr', 'opt', 'dr_rate', 'batchnorm', # HPs\n",
    "#                   'epoch_stop', 'epochs']\n",
    "# col_subset = col_subset + common_cols\n",
    "\n",
    "# common_cols = ['tr_size', 'mean_absolute_error', 'mean_squared_error', 'median_absolute_error', 'r2', 'run_id']\n",
    "# hp = hp[[c for c in col_subset if c in hp.columns]]\n",
    "# print('hp dataframe:', hp.shape)\n",
    "\n",
    "# best = top_n_runs(hp, tr_size=hp['tr_size'].max(), n=1, sort_by_metric='mean_absolute_error', plot=False)\n",
    "# display(best)\n",
    "\n",
    "# prm_names = ['dr_rate', 'opt', 'lr', 'batchnorm', 'batch_size']\n",
    "# dflt_hp_dct = {'batch_size': 32, 'batchnorm': True, 'dr_rate': 0.2, 'lr': 0.0001, 'opt': 'sgd'}\n",
    "\n",
    "# hp_cols = [c for c in dflt_hp_dct.keys()]\n",
    "# ls_hp_best_dct = {c: best[c].values[0] for c in hp_cols}\n",
    "# ls_best = extract_runs_by_specific_hps(hp, ls_hp_best_dct) # hp_ls_best\n",
    "\n",
    "# nn_gdsc = ls_best.copy()"
   ]
  },
  {
   "cell_type": "markdown",
   "metadata": {},
   "source": [
    "## GDSC (GBDT vs NN)"
   ]
  },
  {
   "cell_type": "code",
   "execution_count": 11,
   "metadata": {},
   "outputs": [],
   "source": [
    "figsize = (6, 4.5)\n",
    "metric_name = 'mean_absolute_error'\n",
    "tr_set = 'te'\n",
    "\n",
    "plot_args = {'metric_name': metric_name, 'xtick_scale': 'log2', 'ytick_scale': 'linear', 'figsize': figsize}"
   ]
  },
  {
   "cell_type": "code",
   "execution_count": 12,
   "metadata": {},
   "outputs": [],
   "source": [
    "# The previous two figures should help decide which shards to use\n",
    "# lgb_shift_idx = 0\n",
    "lgb_shift_idx = 7\n",
    "# lgb_shift_idx = 9\n",
    "lgb = lgb_gdsc[lgb_shift_idx:].reset_index(drop=True)\n",
    "\n",
    "# nn_shift_idx = 0\n",
    "nn_shift_idx = 1\n",
    "# nn_shift_idx = 3\n",
    "nn = nn_gdsc[nn_shift_idx:].reset_index(drop=True)"
   ]
  },
  {
   "cell_type": "code",
   "execution_count": 13,
   "metadata": {},
   "outputs": [
    {
     "data": {
      "image/png": "[encoded data removed]",
      "text/plain": [
       "<Figure size 432x324 with 1 Axes>"
      ]
     },
     "metadata": {
      "needs_background": "light"
     },
     "output_type": "display_data"
    }
   ],
   "source": [
    "x = lgb['tr_size'] #[3:]\n",
    "y = lgb['median']  #[3:]\n",
    "ax = None\n",
    "ax = lrn_crv_plot.plot_lrn_crv_new(x=x, y=y, # yerr=yerr,\n",
    "                                   ax=ax, ls='', marker='v', alpha=0.7,\n",
    "                                   **plot_args, color='b', label='GBDT')\n",
    "x = nn['tr_size']  #[3:]\n",
    "y = nn['mean_absolute_error']  #[3:]\n",
    "ax = lrn_crv_plot.plot_lrn_crv_new(x=x, y=y, # yerr=yerr,\n",
    "                                   ax=ax, ls='', marker='o', alpha=0.7,\n",
    "                                   **plot_args, color='g', label='NN')\n",
    "\n",
    "ax.legend(frameon=True, fontsize=10, loc='best')\n",
    "plt.tight_layout()\n",
    "ax.grid(False)"
   ]
  },
  {
   "cell_type": "code",
   "execution_count": 14,
   "metadata": {},
   "outputs": [
    {
     "name": "stdout",
     "output_type": "stream",
     "text": [
      "{'alpha': 0.7226889856789331, 'beta': -0.49304481962168745, 'gamma': 0.06699775545074088}\n",
      "{'alpha': 1.4955657230488897, 'beta': -0.47667832722653536, 'gamma': 0.05691839523310707}\n"
     ]
    },
    {
     "data": {
      "image/png": "[encoded data removed]",
      "text/plain": [
       "<Figure size 432x324 with 1 Axes>"
      ]
     },
     "metadata": {
      "needs_background": "light"
     },
     "output_type": "display_data"
    }
   ],
   "source": [
    "ax = None\n",
    "\n",
    "x = lgb['tr_size']\n",
    "y = lgb['median']\n",
    "\n",
    "shard_min_idx = 0\n",
    "xf = x[shard_min_idx:]\n",
    "yf = y[shard_min_idx:]\n",
    "prms_lgb = fit_params(xf, yf)\n",
    "yfit = biased_powerlaw(xf, **prms_lgb)\n",
    "\n",
    "ax = lrn_crv_plot.plot_lrn_crv_new(x=x, y=y, # yerr=yerr,\n",
    "                                   ax=ax, ls='', marker='v', alpha=0.7,\n",
    "                                   **plot_args, color='b', label='GBDT')\n",
    "\n",
    "ax = lrn_crv_plot.plot_lrn_crv_new(x=xf, y=yfit,\n",
    "                                   ax=ax, ls='--', marker='', alpha=1,\n",
    "                                   **plot_args, color='b', label='GBDT Fit')\n",
    "\n",
    "x = nn['tr_size']\n",
    "# y = nn['median']\n",
    "y = nn['mean_absolute_error']\n",
    "\n",
    "shard_min_idx = 0\n",
    "xf = x[shard_min_idx:]\n",
    "yf = y[shard_min_idx:]\n",
    "prms_nn = fit_params(xf, yf)\n",
    "yfit = biased_powerlaw(xf, **prms_nn)\n",
    "\n",
    "ax = lrn_crv_plot.plot_lrn_crv_new(x=x, y=y, # yerr=yerr,\n",
    "                                   ax=ax, ls='', marker='o', alpha=0.7,\n",
    "                                   **plot_args, color='g', label='NN')\n",
    "\n",
    "ax = lrn_crv_plot.plot_lrn_crv_new(x=xf, y=yfit,\n",
    "                                   ax=ax, ls='--', marker='', alpha=1,\n",
    "                                   **plot_args, color='g', label='NN Fit')\n",
    "\n",
    "ax.legend(frameon=True, fontsize=10, loc='best');\n",
    "plt.tight_layout()\n",
    "# ax.set_xlim([2**2, 2**17])\n",
    "# ax.set_ylim([2**-4, 2**-2])\n",
    "# ax.set_xlim([2**2, 2**17])\n",
    "# ax.set_ylim([0.055, 0.165])\n",
    "# ax.set_ylim([0.065, 0.165])\n",
    "ax.grid(False)\n",
    "# ax.set_xticks([2**i for i in range(2, 17)]) # GDSC\n",
    "# ax.set_xticks([2**i for i in range(2, 19)]) # Top6\n",
    "save_fig(save_fig_path, fname='gbdt_vs_nn_on_gdsc')\n",
    "\n",
    "print(prms_lgb)\n",
    "print(prms_nn)"
   ]
  },
  {
   "cell_type": "code",
   "execution_count": null,
   "metadata": {},
   "outputs": [],
   "source": []
  },
  {
   "cell_type": "markdown",
   "metadata": {},
   "source": [
    "# Load Top6"
   ]
  },
  {
   "cell_type": "code",
   "execution_count": 7,
   "metadata": {},
   "outputs": [
    {
     "name": "stdout",
     "output_type": "stream",
     "text": [
      "18\n",
      "Training set sizes: [     2      4      8     16     32     64    128    256    512   1024\n",
      "   2048   4096   8192  16384  32768  65536 131072 213015]\n"
     ]
    }
   ],
   "source": [
    "lgb_top6 = avg_runs(base_dir=Path('/vol/ml/apartin/projects/LearningCurves/trn.top6/split_on_none/multi_seed_lgbm_100_trees'))"
   ]
  },
  {
   "cell_type": "markdown",
   "metadata": {},
   "source": [
    "**Single run with best HPs**"
   ]
  },
  {
   "cell_type": "code",
   "execution_count": 15,
   "metadata": {},
   "outputs": [],
   "source": [
    "# nn_top6 = pd.read_csv(Path('/vol/ml/apartin/projects/LearningCurves/trn.top6/split_on_none/top6.adam.nn_reg0.ge.dd.auc_2019-11-23_ls_best/lrn_crv_scores.csv'))\n",
    "# # nn_top6 = pd.read_csv(Path('/vol/ml/apartin/projects/LearningCurves/trn.top6/split_on_none/nn_reg0/run_02/lrn_crv_scores.csv'))\n",
    "# nn_top6 = nn_top6[(nn_top6.metric=='mean_absolute_error') & (nn_top6.set=='te')].sort_values('tr_size').reset_index(drop=True)\n",
    "# nn_top6 = nn_top6.rename(columns={'fold0': 'mean_absolute_error'})"
   ]
  },
  {
   "cell_type": "markdown",
   "metadata": {},
   "source": [
    "**Multi-run with best HPs --> BEST!**"
   ]
  },
  {
   "cell_type": "code",
   "execution_count": 19,
   "metadata": {},
   "outputs": [],
   "source": [
    "nn_top6 = pd.read_csv(Path('/vol/ml/apartin/projects/LearningCurves/trn.top6/split_on_none/nn_reg0/scores.csv'))\n",
    "nn_top6 = nn_top6.rename(columns={'median': 'mean_absolute_error'})"
   ]
  },
  {
   "cell_type": "markdown",
   "metadata": {},
   "source": [
    "# Top6 (GBDT vs NN)"
   ]
  },
  {
   "cell_type": "code",
   "execution_count": 20,
   "metadata": {},
   "outputs": [],
   "source": [
    "figsize = (6, 4.5)\n",
    "metric_name = 'mean_absolute_error'\n",
    "tr_set = 'te'\n",
    "\n",
    "plot_args = {'metric_name': metric_name, 'xtick_scale': 'log2', 'ytick_scale': 'linear', 'figsize': figsize}"
   ]
  },
  {
   "cell_type": "code",
   "execution_count": 21,
   "metadata": {},
   "outputs": [],
   "source": [
    "# The previous two figures should help decide which shards to use\n",
    "lgb_shift_idx = 0\n",
    "lgb_shift_idx = 9\n",
    "lgb = lgb_top6[lgb_shift_idx:].reset_index(drop=True)\n",
    "\n",
    "# nn_shift_idx = 0\n",
    "# nn_shift_idx = 2\n",
    "nn_shift_idx = 3\n",
    "nn = nn_top6[nn_shift_idx:].reset_index(drop=True)"
   ]
  },
  {
   "cell_type": "code",
   "execution_count": 22,
   "metadata": {},
   "outputs": [
    {
     "data": {
      "image/png": "[encoded data removed]",
      "text/plain": [
       "<Figure size 432x324 with 1 Axes>"
      ]
     },
     "metadata": {
      "needs_background": "light"
     },
     "output_type": "display_data"
    }
   ],
   "source": [
    "x = lgb['tr_size']\n",
    "y = lgb['median']\n",
    "ax = None\n",
    "ax = lrn_crv_plot.plot_lrn_crv_new(x=x, y=y, # yerr=yerr,\n",
    "                                   ax=ax, ls='', marker='v', alpha=0.7,\n",
    "                                   **plot_args, color='b', label='GBDT')\n",
    "x = nn['tr_size']\n",
    "y = nn['mean_absolute_error']\n",
    "ax = lrn_crv_plot.plot_lrn_crv_new(x=x, y=y, # yerr=yerr,\n",
    "                                   ax=ax, ls='', marker='o', alpha=0.7,\n",
    "                                   **plot_args, color='g', label='NN')\n",
    "\n",
    "ax.legend(frameon=True, fontsize=10, loc='best')\n",
    "plt.tight_layout()\n",
    "ax.grid(False)"
   ]
  },
  {
   "cell_type": "code",
   "execution_count": 23,
   "metadata": {},
   "outputs": [
    {
     "name": "stdout",
     "output_type": "stream",
     "text": [
      "{'alpha': 1.6951677493590334, 'beta': -0.5888520332321645, 'gamma': 0.051713238990946764}\n",
      "{'alpha': 0.5065706322318237, 'beta': -0.34390661400161615, 'gamma': 0.037511081914682096}\n"
     ]
    },
    {
     "data": {
      "image/png": "[encoded data removed]",
      "text/plain": [
       "<Figure size 432x324 with 1 Axes>"
      ]
     },
     "metadata": {
      "needs_background": "light"
     },
     "output_type": "display_data"
    }
   ],
   "source": [
    "ax = None\n",
    "\n",
    "x = lgb['tr_size']\n",
    "y = lgb['median']\n",
    "\n",
    "shard_min_idx = 0\n",
    "xf = x[shard_min_idx:]\n",
    "yf = y[shard_min_idx:]\n",
    "prms_lgb = fit_params(xf, yf)\n",
    "yfit = biased_powerlaw(xf, **prms_lgb)\n",
    "\n",
    "ax = lrn_crv_plot.plot_lrn_crv_new(x=x, y=y, # yerr=yerr,\n",
    "                                   ax=ax, ls='', marker='v', alpha=0.7,\n",
    "                                   **plot_args, color='b', label='GBDT')\n",
    "\n",
    "ax = lrn_crv_plot.plot_lrn_crv_new(x=xf, y=yfit,\n",
    "                                   ax=ax, ls='--', marker='', alpha=1,\n",
    "                                   **plot_args, color='b', label='GBDT Fit')\n",
    "\n",
    "x = nn['tr_size']\n",
    "# y = nn['median']\n",
    "y = nn['mean_absolute_error']\n",
    "\n",
    "shard_min_idx = 0\n",
    "xf = x[shard_min_idx:]\n",
    "yf = y[shard_min_idx:]\n",
    "prms_nn = fit_params(xf, yf)\n",
    "yfit = biased_powerlaw(xf, **prms_nn)\n",
    "\n",
    "ax = lrn_crv_plot.plot_lrn_crv_new(x=x, y=y, # yerr=yerr,\n",
    "                                   ax=ax, ls='', marker='o', alpha=0.7,\n",
    "                                   **plot_args, color='g', label='NN')\n",
    "\n",
    "ax = lrn_crv_plot.plot_lrn_crv_new(x=xf, y=yfit,\n",
    "                                   ax=ax, ls='--', marker='', alpha=1,\n",
    "                                   **plot_args, color='g', label='NN Fit')\n",
    "\n",
    "ax.legend(frameon=True, fontsize=10, loc='best');\n",
    "plt.tight_layout()\n",
    "# ax.set_xlim([2**2, 2**17])\n",
    "# ax.set_ylim([2**-4, 2**-2])\n",
    "# ax.set_xlim([2**2, 2**17])\n",
    "# ax.set_ylim([0.055, 0.165])\n",
    "# ax.set_ylim([0.065, 0.165])\n",
    "ax.grid(False)\n",
    "# ax.set_xticks([2**i for i in range(2, 17)]) # GDSC\n",
    "# ax.set_xticks([2**i for i in range(2, 19)]) # Top6\n",
    "# save_fig(save_fig_path, fname='gbdt_vs_nn_on_top6')\n",
    "\n",
    "print(prms_lgb)\n",
    "print(prms_nn)"
   ]
  },
  {
   "cell_type": "code",
   "execution_count": null,
   "metadata": {},
   "outputs": [],
   "source": []
  },
  {
   "cell_type": "markdown",
   "metadata": {},
   "source": [
    "# Same model (GBDT); different dataset"
   ]
  },
  {
   "cell_type": "code",
   "execution_count": 21,
   "metadata": {},
   "outputs": [],
   "source": [
    "figsize = (6, 4.5)\n",
    "metric_name = 'mean_absolute_error'\n",
    "tr_set = 'te'\n",
    "\n",
    "plot_args = {'metric_name': metric_name, 'xtick_scale': 'log2', 'ytick_scale': 'linear', 'figsize': figsize}"
   ]
  },
  {
   "cell_type": "code",
   "execution_count": 22,
   "metadata": {},
   "outputs": [],
   "source": [
    "# The previous two figures should help decide which shards to use\n",
    "lgb_shift_idx = 0\n",
    "# lgb_shift_idx = 9\n",
    "lgb_gdsc_ = lgb_gdsc[lgb_shift_idx:].reset_index(drop=True)\n",
    "\n",
    "# The previous two figures should help decide which shards to use\n",
    "lgb_shift_idx = 0\n",
    "# lgb_shift_idx = 9\n",
    "lgb_top6_ = lgb_top6[lgb_shift_idx:].reset_index(drop=True)\n",
    "\n",
    "# # nn_shift_idx = 0\n",
    "# # nn_shift_idx = 2\n",
    "# nn_shift_idx = 3\n",
    "# nn = nn_top6[nn_shift_idx:].reset_index(drop=True)"
   ]
  },
  {
   "cell_type": "code",
   "execution_count": 23,
   "metadata": {},
   "outputs": [
    {
     "data": {
      "image/png": "[encoded data removed]",
      "text/plain": [
       "<Figure size 432x324 with 1 Axes>"
      ]
     },
     "metadata": {
      "needs_background": "light"
     },
     "output_type": "display_data"
    }
   ],
   "source": [
    "x = lgb_gdsc_['tr_size']\n",
    "y = lgb_gdsc_['median']\n",
    "ax = None\n",
    "ax = lrn_crv_plot.plot_lrn_crv_new(x=x, y=y, # yerr=yerr,\n",
    "                                   ax=ax, ls='', marker='v', alpha=0.7,\n",
    "                                   **plot_args, color='b', label='GBDT GDSC')\n",
    "x = lgb_top6_['tr_size']\n",
    "y = lgb_top6_['median']\n",
    "ax = lrn_crv_plot.plot_lrn_crv_new(x=x, y=y, # yerr=yerr,\n",
    "                                   ax=ax, ls='', marker='o', alpha=0.7,\n",
    "                                   **plot_args, color='g', label='GBDT Top6')\n",
    "\n",
    "ax.legend(frameon=True, fontsize=10, loc='best')\n",
    "plt.tight_layout()\n",
    "ax.grid(False)"
   ]
  },
  {
   "cell_type": "code",
   "execution_count": 45,
   "metadata": {},
   "outputs": [
    {
     "name": "stdout",
     "output_type": "stream",
     "text": [
      "{'alpha': 1.170658331169888, 'beta': -0.556962177956805, 'gamma': 0.06761965078084098}\n",
      "{'alpha': 1.6951677493590334, 'beta': -0.5888520332321645, 'gamma': 0.051713238990946764}\n"
     ]
    },
    {
     "data": {
      "image/png": "[encoded data removed]",
      "text/plain": [
       "<Figure size 432x324 with 1 Axes>"
      ]
     },
     "metadata": {
      "needs_background": "light"
     },
     "output_type": "display_data"
    }
   ],
   "source": [
    "ax = None\n",
    "\n",
    "x = lgb_gdsc_['tr_size']\n",
    "y = lgb_gdsc_['median']\n",
    "\n",
    "shard_min_idx = 9\n",
    "xf = x[shard_min_idx:]\n",
    "yf = y[shard_min_idx:]\n",
    "prms_gdsc = fit_params(xf, yf)\n",
    "yfit = biased_powerlaw(xf, **prms_gdsc)\n",
    "\n",
    "ax = lrn_crv_plot.plot_lrn_crv_new(x=x, y=y, # yerr=yerr,\n",
    "                                   ax=ax, ls='', marker='v', alpha=0.7,\n",
    "                                   **plot_args, color='b', label='GDSC')\n",
    "\n",
    "ax = lrn_crv_plot.plot_lrn_crv_new(x=xf, y=yfit,\n",
    "                                   ax=ax, ls='--', marker='', alpha=1,\n",
    "                                   **plot_args, color='b', label='GDSC Fit')\n",
    "\n",
    "x = lgb_top6_['tr_size']\n",
    "y = lgb_top6_['median']\n",
    "# y = lgb_top6_['mean_absolute_error']\n",
    "\n",
    "shard_min_idx = 9\n",
    "xf = x[shard_min_idx:]\n",
    "yf = y[shard_min_idx:]\n",
    "prms_top6 = fit_params(xf, yf)\n",
    "yfit = biased_powerlaw(xf, **prms_top6)\n",
    "\n",
    "ax = lrn_crv_plot.plot_lrn_crv_new(x=x, y=y, # yerr=yerr,\n",
    "                                   ax=ax, ls='', marker='o', alpha=0.7,\n",
    "                                   **plot_args, color='g', label='Top6')\n",
    "\n",
    "ax = lrn_crv_plot.plot_lrn_crv_new(x=xf, y=yfit,\n",
    "                                   ax=ax, ls='--', marker='', alpha=1,\n",
    "                                   **plot_args, color='g', label='Top6 Fit')\n",
    "\n",
    "ax.legend(frameon=True, fontsize=10, loc='best');\n",
    "plt.tight_layout()\n",
    "# ax.set_xlim([2**2, 2**17])\n",
    "# ax.set_ylim([2**-4, 2**-2])\n",
    "# ax.set_xlim([2**2, 2**17])\n",
    "# ax.set_ylim([0.055, 0.165])\n",
    "# ax.set_ylim([0.065, 0.165])\n",
    "ax.grid(False)\n",
    "# ax.set_xticks([2**i for i in range(2, 17)]) # GDSC\n",
    "# ax.set_xticks([2**i for i in range(2, 19)]) # Top6\n",
    "# save_fig(save_fig_path, fname=f'{src}_avg_median_std')\n",
    "\n",
    "print(prms_gdsc)\n",
    "print(prms_top6)"
   ]
  },
  {
   "cell_type": "code",
   "execution_count": null,
   "metadata": {},
   "outputs": [],
   "source": []
  },
  {
   "cell_type": "markdown",
   "metadata": {},
   "source": [
    "# Same model (NN) --> but this is not the same model!! ; different dataset"
   ]
  },
  {
   "cell_type": "code",
   "execution_count": 31,
   "metadata": {},
   "outputs": [],
   "source": [
    "figsize = (6, 4.5)\n",
    "metric_name = 'mean_absolute_error'\n",
    "tr_set = 'te'\n",
    "\n",
    "plot_args = {'metric_name': metric_name, 'xtick_scale': 'log2', 'ytick_scale': 'linear', 'figsize': figsize}"
   ]
  },
  {
   "cell_type": "code",
   "execution_count": 40,
   "metadata": {},
   "outputs": [],
   "source": [
    "# The previous two figures should help decide which shards to use\n",
    "nn_shift_idx = 0\n",
    "nn_shift_idx = 1\n",
    "nn_gdsc_ = nn_gdsc[nn_shift_idx:].reset_index(drop=True)\n",
    "\n",
    "# The previous two figures should help decide which shards to use\n",
    "nn_shift_idx = 0\n",
    "nn_shift_idx = 1\n",
    "nn_top6_ = nn_top6[nn_shift_idx:].reset_index(drop=True)\n",
    "\n",
    "# # nn_shift_idx = 0\n",
    "# # nn_shift_idx = 2\n",
    "# nn_shift_idx = 3\n",
    "# nn = nn_top6[nn_shift_idx:].reset_index(drop=True)"
   ]
  },
  {
   "cell_type": "code",
   "execution_count": 41,
   "metadata": {},
   "outputs": [
    {
     "data": {
      "image/png": "[encoded data removed]",
      "text/plain": [
       "<Figure size 432x324 with 1 Axes>"
      ]
     },
     "metadata": {
      "needs_background": "light"
     },
     "output_type": "display_data"
    }
   ],
   "source": [
    "x = nn_gdsc_['tr_size']\n",
    "y = nn_gdsc_['mean_absolute_error']\n",
    "ax = None\n",
    "ax = lrn_crv_plot.plot_lrn_crv_new(x=x, y=y, # yerr=yerr,\n",
    "                                   ax=ax, ls='', marker='v', alpha=0.7,\n",
    "                                   **plot_args, color='b', label='Top6 GDSC')\n",
    "x = nn_top6_['tr_size']\n",
    "y = nn_top6_['mean_absolute_error']\n",
    "ax = lrn_crv_plot.plot_lrn_crv_new(x=x, y=y, # yerr=yerr,\n",
    "                                   ax=ax, ls='', marker='o', alpha=0.7,\n",
    "                                   **plot_args, color='g', label='Top6 Top6')\n",
    "\n",
    "ax.legend(frameon=True, fontsize=10, loc='best')\n",
    "plt.tight_layout()\n",
    "ax.grid(False)"
   ]
  },
  {
   "cell_type": "code",
   "execution_count": 43,
   "metadata": {},
   "outputs": [
    {
     "name": "stdout",
     "output_type": "stream",
     "text": [
      "{'alpha': 0.20155540618554058, 'beta': -0.16868644371993824, 'gamma': 0.0335331576264325}\n",
      "{'alpha': 0.38995411214936887, 'beta': -0.2964184127453158, 'gamma': 0.03525887549974903}\n"
     ]
    },
    {
     "data": {
      "image/png": "[encoded data removed]",
      "text/plain": [
       "<Figure size 432x324 with 1 Axes>"
      ]
     },
     "metadata": {
      "needs_background": "light"
     },
     "output_type": "display_data"
    }
   ],
   "source": [
    "ax = None\n",
    "\n",
    "x = nn_gdsc_['tr_size']\n",
    "# y = nn_gdsc_['median']\n",
    "y = nn_gdsc_['mean_absolute_error']\n",
    "\n",
    "shard_min_idx = 3\n",
    "xf = x[shard_min_idx:]\n",
    "yf = y[shard_min_idx:]\n",
    "prms_gdsc = fit_params(xf, yf)\n",
    "yfit = biased_powerlaw(xf, **prms_gdsc)\n",
    "\n",
    "ax = lrn_crv_plot.plot_lrn_crv_new(x=x, y=y, # yerr=yerr,\n",
    "                                   ax=ax, ls='', marker='v', alpha=0.7,\n",
    "                                   **plot_args, color='b', label='GBDT')\n",
    "\n",
    "ax = lrn_crv_plot.plot_lrn_crv_new(x=xf, y=yfit,\n",
    "                                   ax=ax, ls='--', marker='', alpha=1,\n",
    "                                   **plot_args, color='b', label='GBDT Fit')\n",
    "\n",
    "x = nn_top6_['tr_size']\n",
    "# y = nn_top6_['median']\n",
    "y = nn_top6_['mean_absolute_error']\n",
    "\n",
    "shard_min_idx = 3\n",
    "xf = x[shard_min_idx:]\n",
    "yf = y[shard_min_idx:]\n",
    "prms_top6 = fit_params(xf, yf)\n",
    "yfit = biased_powerlaw(xf, **prms_top6)\n",
    "\n",
    "ax = lrn_crv_plot.plot_lrn_crv_new(x=x, y=y, # yerr=yerr,\n",
    "                                   ax=ax, ls='', marker='o', alpha=0.7,\n",
    "                                   **plot_args, color='g', label='NN')\n",
    "\n",
    "ax = lrn_crv_plot.plot_lrn_crv_new(x=xf, y=yfit,\n",
    "                                   ax=ax, ls='--', marker='', alpha=1,\n",
    "                                   **plot_args, color='g', label='NN Fit')\n",
    "\n",
    "ax.legend(frameon=True, fontsize=10, loc='best');\n",
    "plt.tight_layout()\n",
    "# ax.set_xlim([2**2, 2**17])\n",
    "# ax.set_ylim([2**-4, 2**-2])\n",
    "# ax.set_xlim([2**2, 2**17])\n",
    "# ax.set_ylim([0.055, 0.165])\n",
    "# ax.set_ylim([0.065, 0.165])\n",
    "ax.grid(False)\n",
    "# ax.set_xticks([2**i for i in range(2, 17)]) # GDSC\n",
    "# ax.set_xticks([2**i for i in range(2, 19)]) # Top6\n",
    "# save_fig(save_fig_path, fname=f'{src}_avg_median_std')\n",
    "\n",
    "print(prms_gdsc)\n",
    "print(prms_top6)"
   ]
  },
  {
   "cell_type": "code",
   "execution_count": null,
   "metadata": {},
   "outputs": [],
   "source": []
  }
 ],
 "metadata": {
  "kernelspec": {
   "display_name": "Python 3",
   "language": "python",
   "name": "python3"
  },
  "language_info": {
   "codemirror_mode": {
    "name": "ipython",
    "version": 3
   },
   "file_extension": ".py",
   "mimetype": "text/x-python",
   "name": "python",
   "nbconvert_exporter": "python",
   "pygments_lexer": "ipython3",
   "version": "3.6.8"
  }
 },
 "nbformat": 4,
 "nbformat_minor": 2
}
