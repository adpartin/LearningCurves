{
 "cells": [
  {
   "cell_type": "markdown",
   "metadata": {},
   "source": [
    "# Getting best results per-shard using CANDLE HPO"
   ]
  },
  {
   "cell_type": "code",
   "execution_count": 30,
   "metadata": {},
   "outputs": [
    {
     "name": "stdout",
     "output_type": "stream",
     "text": [
      "The autoreload extension is already loaded. To reload it, use:\n",
      "  %reload_ext autoreload\n"
     ]
    }
   ],
   "source": [
    "%load_ext autoreload\n",
    "%autoreload 2\n",
    "%matplotlib inline\n",
    "\n",
    "import warnings\n",
    "warnings.filterwarnings('ignore')\n",
    "\n",
    "import os\n",
    "import sys\n",
    "from pathlib import Path\n",
    "from glob import glob\n",
    "\n",
    "import sklearn\n",
    "import numpy as np\n",
    "import pandas as pd\n",
    "from glob import glob\n",
    "\n",
    "from keras.models import load_model\n",
    "\n",
    "import matplotlib\n",
    "import matplotlib.pyplot as plt"
   ]
  },
  {
   "cell_type": "code",
   "execution_count": 31,
   "metadata": {},
   "outputs": [],
   "source": [
    "# Make all python scripts available in the path\n",
    "import sys\n",
    "sys.path.append('../')"
   ]
  },
  {
   "cell_type": "code",
   "execution_count": 32,
   "metadata": {},
   "outputs": [],
   "source": [
    "import lrn_crv"
   ]
  },
  {
   "cell_type": "code",
   "execution_count": 33,
   "metadata": {},
   "outputs": [
    {
     "data": {
      "text/plain": [
       "PosixPath('/vol/ml/apartin/projects/LearningCurves/notebooks')"
      ]
     },
     "execution_count": 33,
     "metadata": {},
     "output_type": "execute_result"
    }
   ],
   "source": [
    "filepath = Path(os.getcwd())\n",
    "filepath"
   ]
  },
  {
   "cell_type": "code",
   "execution_count": null,
   "metadata": {},
   "outputs": [],
   "source": []
  },
  {
   "cell_type": "code",
   "execution_count": 34,
   "metadata": {},
   "outputs": [],
   "source": [
    "hpodir1 = Path('/vol/ml/apartin/projects/LearningCurves/from_harry/lc_hpo_e700')\n",
    "hpodir2 = Path('/vol/ml/apartin/projects/LearningCurves/from_harry/lc_hpo2_e700')"
   ]
  },
  {
   "cell_type": "code",
   "execution_count": 6,
   "metadata": {},
   "outputs": [],
   "source": [
    "# --------------------------\n",
    "#     UPF file\n",
    "# --------------------------\n",
    "# This file lists all the HPO runs (why id number is missing?)\n",
    "# upf = pd.read_csv(basedir/'upf-lc-hpo.txt', header=None)\n",
    "# upf.columns = ['id', 'epochs', 'dirpath', 'cv_folds', 'shards_arr', 'model_name', 'opt', 'lr', 'dr_rate', 'batch_size']\n",
    "\n",
    "# Update df values\n",
    "# upf['id'] = upf['id'].map(lambda x: x.split('\"id\": ')[-1].replace('\"', ''))\n",
    "# upf['epochs'] = upf['epochs'].map(lambda x: int(x.split('\"epochs\": ')[-1]))\n",
    "# upf['dirpath'] = upf['dirpath'].map(lambda x: x.split('\"dirpath\": ')[-1].replace('\"', ''))\n",
    "# upf['cv_folds'] = upf['cv_folds'].map(lambda x: int(x.split('\"cv_folds\": ')[-1]))\n",
    "# upf['shards_arr'] = upf['shards_arr'].map(lambda x: int(x.split('\"shards_arr\": ')[-1].replace('[', '').replace(']', '')) )\n",
    "# upf['model_name'] = upf['model_name'].map(lambda x: x.split('\"model_name\": ')[-1].replace('\"', ''))\n",
    "# upf['opt'] = upf['opt'].map(lambda x: x.split('\"opt\": ')[-1].replace('\"', ''))\n",
    "# upf['lr'] = upf['lr'].map(lambda x: float(x.split('\"lr\": ')[-1]))\n",
    "# upf['dr_rate'] = upf['dr_rate'].map(lambda x: float(x.split('\"dr_rate\": ')[-1]))\n",
    "# upf['batch_size'] = upf['batch_size'].map(lambda x: x.split('\"batch_size\": ')[-1].rstrip('\\}'))\n",
    "\n",
    "# upf[:5]"
   ]
  },
  {
   "cell_type": "code",
   "execution_count": null,
   "metadata": {},
   "outputs": [],
   "source": []
  },
  {
   "cell_type": "markdown",
   "metadata": {},
   "source": [
    "# Utils"
   ]
  },
  {
   "cell_type": "code",
   "execution_count": 7,
   "metadata": {},
   "outputs": [],
   "source": [
    "def df_from_upf_run(hpo_dir):\n",
    "    \"\"\" Aggregate results from all HPO runs into a dataframe. \"\"\"\n",
    "    hp = []\n",
    "    all_runs = sorted(glob(str(hpo_dir/'run'/'id_*'))) # each run starts with \"id_\"\n",
    "    print('Total runs {}'.format( len(all_runs) ))\n",
    "    \n",
    "    for i, r in enumerate(all_runs):\n",
    "        r = glob(str(Path(r)/'output'/'*'))[0]\n",
    "\n",
    "        # Load args from the current run into dict\n",
    "        with open(Path(r)/'args.txt', 'r') as f:\n",
    "            args = {}\n",
    "            for l in f:\n",
    "                k, v = l.rstrip('\\n').split(': ')\n",
    "                args[k] = v\n",
    "\n",
    "        # Load scores, parse, and add\n",
    "        if (Path(r)/'lrn_crv_scores.csv').exists():\n",
    "            # Note! lrn_crv_scores.csv doesn't exist if it's timed out\n",
    "            scr = pd.read_csv(Path(r)/'lrn_crv_scores.csv')\n",
    "            tr_size = int(args['shards_arr'].replace('[','').replace(']',''))\n",
    "            aa = scr.loc[(scr['tr_size']==tr_size) & (scr['tr_set']==False), ['metric', 'fold1']].reset_index(drop=True)  # Note! Gets only the first fold!\n",
    "            # aa = scr.loc[(scr['tr_size']==tr_size) & (scr['set']=='te'), ['metric', 'fold1']].reset_index(drop=True)\n",
    "            d = {aa.loc[i, 'metric']: aa.loc[i, 'fold1'] for i in range(aa.shape[0])}    \n",
    "\n",
    "        # Add epoch number of early stop\n",
    "        tr_dir = Path(glob(str(Path(r)/(f'cv*_sz'+str(tr_size))))[0])\n",
    "        if tr_dir.exists():\n",
    "            if (tr_dir/'krs_history.csv').exists():\n",
    "                h = pd.read_csv(tr_dir/'krs_history.csv')\n",
    "                d['epoch_stop'] = h['epoch'].max()\n",
    "\n",
    "        # Update dict\n",
    "        args.update(d)\n",
    "\n",
    "        # Agg info from all runs\n",
    "        hp.append(args)\n",
    "\n",
    "    hp = pd.DataFrame(hp)\n",
    "    print('hp.shape', hp.shape)\n",
    "\n",
    "    # Update values\n",
    "    hp['shards_arr'] = hp['shards_arr'].map(lambda x: int(x.replace('[', '').replace(']', '')))\n",
    "    \n",
    "    # Cast columns to specific types\n",
    "    hp = hp.astype({'shards_arr': int, 'batch_size': int, 'lr': float, 'opt': str, 'dr_rate': float,\n",
    "                    'mean_absolute_error': float, 'mean_squared_error': float, 'median_absolute_error': float, 'r2': float})\n",
    "    \n",
    "    return hp"
   ]
  },
  {
   "cell_type": "code",
   "execution_count": 8,
   "metadata": {},
   "outputs": [],
   "source": [
    "def top_n_runs(df, shard_size=None, n=10, sort_by_metric='r2', plot=False):\n",
    "    \"\"\" Return top runs based on sort_by_metric. \"\"\"\n",
    "    if shard_size is not None:\n",
    "        df = df[df['shards_arr']==shard_size].reset_index(drop=True)\n",
    "    if sort_by_metric == 'r2':\n",
    "        df = df.sort_values(sort_by_metric, ascending=False).iloc[:n, :]\n",
    "    else:\n",
    "        df = df.sort_values(sort_by_metric, ascending=True).iloc[:n, :]\n",
    "    \n",
    "    if plot: display(df.transpose())\n",
    "    return df.reset_index(drop=True)"
   ]
  },
  {
   "cell_type": "code",
   "execution_count": null,
   "metadata": {},
   "outputs": [],
   "source": []
  },
  {
   "cell_type": "markdown",
   "metadata": {},
   "source": [
    "# Load results from runs"
   ]
  },
  {
   "cell_type": "code",
   "execution_count": 9,
   "metadata": {},
   "outputs": [
    {
     "name": "stdout",
     "output_type": "stream",
     "text": [
      "Total runs 384\n",
      "hp.shape (384, 38)\n",
      "Total runs 768\n",
      "hp.shape (768, 38)\n"
     ]
    }
   ],
   "source": [
    "hp1 = df_from_upf_run(hpo_dir=hpodir1)\n",
    "hp2 = df_from_upf_run(hpo_dir=hpodir2)"
   ]
  },
  {
   "cell_type": "code",
   "execution_count": 10,
   "metadata": {},
   "outputs": [
    {
     "name": "stdout",
     "output_type": "stream",
     "text": [
      "['batch_size' 'batchnorm' 'cell_fea' 'clr_base_lr' 'clr_gamma'\n",
      " 'clr_max_lr' 'clr_mode' 'cv_folds' 'cv_folds_arr' 'cv_method' 'dirpath'\n",
      " 'dr_rate' 'drug_fea' 'epoch_stop' 'epochs' 'experiment_id' 'framework'\n",
      " 'id' 'instance_directory' 'lr' 'max_shard' 'mean_absolute_error'\n",
      " 'mean_squared_error' 'median_absolute_error' 'min_shard' 'model_name'\n",
      " 'n_jobs' 'n_shards' 'n_trees' 'opt' 'r2' 'run_id' 'save' 'scaler'\n",
      " 'shard_step_scale' 'shards_arr' 'target_name' 'timeout']\n"
     ]
    },
    {
     "data": {
      "text/html": [
       "<div>\n",
       "<style scoped>\n",
       "    .dataframe tbody tr th:only-of-type {\n",
       "        vertical-align: middle;\n",
       "    }\n",
       "\n",
       "    .dataframe tbody tr th {\n",
       "        vertical-align: top;\n",
       "    }\n",
       "\n",
       "    .dataframe thead th {\n",
       "        text-align: right;\n",
       "    }\n",
       "</style>\n",
       "<table border=\"1\" class=\"dataframe\">\n",
       "  <thead>\n",
       "    <tr style=\"text-align: right;\">\n",
       "      <th></th>\n",
       "      <th>shards_arr</th>\n",
       "      <th>batch_size</th>\n",
       "      <th>lr</th>\n",
       "      <th>opt</th>\n",
       "      <th>dr_rate</th>\n",
       "      <th>mean_absolute_error</th>\n",
       "      <th>mean_squared_error</th>\n",
       "      <th>median_absolute_error</th>\n",
       "      <th>r2</th>\n",
       "    </tr>\n",
       "  </thead>\n",
       "  <tbody>\n",
       "    <tr>\n",
       "      <th>0</th>\n",
       "      <td>1024</td>\n",
       "      <td>32</td>\n",
       "      <td>0.00001</td>\n",
       "      <td>adam</td>\n",
       "      <td>0.0</td>\n",
       "      <td>0.144673</td>\n",
       "      <td>0.041725</td>\n",
       "      <td>0.110560</td>\n",
       "      <td>-0.971707</td>\n",
       "    </tr>\n",
       "    <tr>\n",
       "      <th>1</th>\n",
       "      <td>1024</td>\n",
       "      <td>64</td>\n",
       "      <td>0.00001</td>\n",
       "      <td>adam</td>\n",
       "      <td>0.0</td>\n",
       "      <td>0.192789</td>\n",
       "      <td>0.072768</td>\n",
       "      <td>0.148873</td>\n",
       "      <td>-2.438680</td>\n",
       "    </tr>\n",
       "    <tr>\n",
       "      <th>2</th>\n",
       "      <td>1024</td>\n",
       "      <td>128</td>\n",
       "      <td>0.00001</td>\n",
       "      <td>adam</td>\n",
       "      <td>0.0</td>\n",
       "      <td>0.230673</td>\n",
       "      <td>0.097832</td>\n",
       "      <td>0.182238</td>\n",
       "      <td>-3.623052</td>\n",
       "    </tr>\n",
       "    <tr>\n",
       "      <th>3</th>\n",
       "      <td>1024</td>\n",
       "      <td>256</td>\n",
       "      <td>0.00001</td>\n",
       "      <td>adam</td>\n",
       "      <td>0.0</td>\n",
       "      <td>0.229750</td>\n",
       "      <td>0.106603</td>\n",
       "      <td>0.173592</td>\n",
       "      <td>-4.037513</td>\n",
       "    </tr>\n",
       "    <tr>\n",
       "      <th>4</th>\n",
       "      <td>1024</td>\n",
       "      <td>32</td>\n",
       "      <td>0.00001</td>\n",
       "      <td>adam</td>\n",
       "      <td>0.1</td>\n",
       "      <td>0.231362</td>\n",
       "      <td>0.067947</td>\n",
       "      <td>0.232960</td>\n",
       "      <td>-2.210832</td>\n",
       "    </tr>\n",
       "  </tbody>\n",
       "</table>\n",
       "</div>"
      ],
      "text/plain": [
       "   shards_arr  batch_size       lr   opt  dr_rate  mean_absolute_error  \\\n",
       "0        1024          32  0.00001  adam      0.0             0.144673   \n",
       "1        1024          64  0.00001  adam      0.0             0.192789   \n",
       "2        1024         128  0.00001  adam      0.0             0.230673   \n",
       "3        1024         256  0.00001  adam      0.0             0.229750   \n",
       "4        1024          32  0.00001  adam      0.1             0.231362   \n",
       "\n",
       "   mean_squared_error  median_absolute_error        r2  \n",
       "0            0.041725               0.110560 -0.971707  \n",
       "1            0.072768               0.148873 -2.438680  \n",
       "2            0.097832               0.182238 -3.623052  \n",
       "3            0.106603               0.173592 -4.037513  \n",
       "4            0.067947               0.232960 -2.210832  "
      ]
     },
     "metadata": {},
     "output_type": "display_data"
    }
   ],
   "source": [
    "hp = pd.concat([hp2, hp1], axis=0)\n",
    "print(hp.columns.values)\n",
    "\n",
    "# Subset of columns\n",
    "col_subset = ['shards_arr',\n",
    "              'batch_size', 'lr', 'opt', 'dr_rate',  # HPs\n",
    "              # 'batchnorm', 'clr_mode', 'cv_method', 'scaler', 'epoch_stop',  # potential DL HPs\n",
    "              # 'n_trees',  # potential LGBM HPs\n",
    "              # 'cell_fea', 'drug_fea', 'target_name',  # features and response\n",
    "              # 'epochs', 'framework', 'model_name', 'cv_folds',  # ML settings\n",
    "              # 'run_id', 'shard_step_scale', # Other\n",
    "              'mean_absolute_error', 'mean_squared_error', 'median_absolute_error', 'r2', # scores\n",
    "             ]\n",
    "\n",
    "hp = hp[col_subset]\n",
    "display(hp.head())"
   ]
  },
  {
   "cell_type": "code",
   "execution_count": 11,
   "metadata": {},
   "outputs": [],
   "source": [
    "# hp.groupby('shards_arr')['batch_size'].value_counts()"
   ]
  },
  {
   "cell_type": "code",
   "execution_count": 12,
   "metadata": {},
   "outputs": [],
   "source": [
    "# hp.batch_size.value_counts()\n",
    "# hp.opt.value_counts()\n",
    "# hp.shards_arr.value_counts()\n",
    "# hp.lr.value_counts()\n",
    "# hp.sort_values('mean_absolute_error')"
   ]
  },
  {
   "cell_type": "code",
   "execution_count": 13,
   "metadata": {},
   "outputs": [
    {
     "data": {
      "text/html": [
       "<div>\n",
       "<style scoped>\n",
       "    .dataframe tbody tr th:only-of-type {\n",
       "        vertical-align: middle;\n",
       "    }\n",
       "\n",
       "    .dataframe tbody tr th {\n",
       "        vertical-align: top;\n",
       "    }\n",
       "\n",
       "    .dataframe thead th {\n",
       "        text-align: right;\n",
       "    }\n",
       "</style>\n",
       "<table border=\"1\" class=\"dataframe\">\n",
       "  <thead>\n",
       "    <tr style=\"text-align: right;\">\n",
       "      <th></th>\n",
       "      <th>shards_arr</th>\n",
       "      <th>batch_size</th>\n",
       "      <th>dr_rate</th>\n",
       "      <th>opt</th>\n",
       "      <th>lr</th>\n",
       "      <th>mean_absolute_error</th>\n",
       "      <th>mean_squared_error</th>\n",
       "      <th>r2</th>\n",
       "    </tr>\n",
       "  </thead>\n",
       "  <tbody>\n",
       "    <tr>\n",
       "      <th>0</th>\n",
       "      <td>1024</td>\n",
       "      <td>[32, 64, 128, 256]</td>\n",
       "      <td>[0.0, 0.1, 0.2, 0.3]</td>\n",
       "      <td>[adam, sgd]</td>\n",
       "      <td>[1e-05, 0.0001, 0.001, 0.01]</td>\n",
       "      <td>0.081609</td>\n",
       "      <td>0.012222</td>\n",
       "      <td>0.422446</td>\n",
       "    </tr>\n",
       "    <tr>\n",
       "      <th>1</th>\n",
       "      <td>2048</td>\n",
       "      <td>[32, 64, 128, 256]</td>\n",
       "      <td>[0.0, 0.1, 0.2, 0.3]</td>\n",
       "      <td>[adam, sgd]</td>\n",
       "      <td>[0.0001, 1e-05, 0.001, 0.01]</td>\n",
       "      <td>0.076894</td>\n",
       "      <td>0.011584</td>\n",
       "      <td>0.452597</td>\n",
       "    </tr>\n",
       "    <tr>\n",
       "      <th>2</th>\n",
       "      <td>4096</td>\n",
       "      <td>[32, 64, 128, 256]</td>\n",
       "      <td>[0.0, 0.1, 0.2, 0.3]</td>\n",
       "      <td>[adam, sgd]</td>\n",
       "      <td>[0.0001, 0.001, 1e-05, 0.01]</td>\n",
       "      <td>0.069809</td>\n",
       "      <td>0.009335</td>\n",
       "      <td>0.558893</td>\n",
       "    </tr>\n",
       "    <tr>\n",
       "      <th>3</th>\n",
       "      <td>8192</td>\n",
       "      <td>[32, 64, 128, 256]</td>\n",
       "      <td>[0.0, 0.1, 0.2, 0.3]</td>\n",
       "      <td>[adam, sgd]</td>\n",
       "      <td>[0.0001, 0.001, 0.01, 1e-05]</td>\n",
       "      <td>0.062945</td>\n",
       "      <td>0.007838</td>\n",
       "      <td>0.629628</td>\n",
       "    </tr>\n",
       "    <tr>\n",
       "      <th>4</th>\n",
       "      <td>16384</td>\n",
       "      <td>[32, 64, 128, 256]</td>\n",
       "      <td>[0.0, 0.1, 0.2, 0.3]</td>\n",
       "      <td>[adam, sgd]</td>\n",
       "      <td>[0.0001, 0.001, 0.01, 1e-05]</td>\n",
       "      <td>0.058083</td>\n",
       "      <td>0.006778</td>\n",
       "      <td>0.679727</td>\n",
       "    </tr>\n",
       "    <tr>\n",
       "      <th>5</th>\n",
       "      <td>32768</td>\n",
       "      <td>[32, 64, 128, 256]</td>\n",
       "      <td>[0.0, 0.1, 0.2, 0.3]</td>\n",
       "      <td>[adam, sgd]</td>\n",
       "      <td>[0.0001, 0.001, 0.01, 1e-05]</td>\n",
       "      <td>0.052608</td>\n",
       "      <td>0.006032</td>\n",
       "      <td>0.714942</td>\n",
       "    </tr>\n",
       "    <tr>\n",
       "      <th>6</th>\n",
       "      <td>65536</td>\n",
       "      <td>[32, 64, 128, 256]</td>\n",
       "      <td>[0.0, 0.1, 0.2, 0.3]</td>\n",
       "      <td>[adam, sgd]</td>\n",
       "      <td>[1e-05, 0.001, 0.01, 0.0001]</td>\n",
       "      <td>0.049140</td>\n",
       "      <td>0.005496</td>\n",
       "      <td>0.740268</td>\n",
       "    </tr>\n",
       "    <tr>\n",
       "      <th>7</th>\n",
       "      <td>131072</td>\n",
       "      <td>[32, 64, 128, 256]</td>\n",
       "      <td>[0.0, 0.1, 0.2, 0.3]</td>\n",
       "      <td>[adam, sgd]</td>\n",
       "      <td>[0.001, 1e-05, 0.01, 0.0001]</td>\n",
       "      <td>0.047997</td>\n",
       "      <td>0.005068</td>\n",
       "      <td>0.760502</td>\n",
       "    </tr>\n",
       "    <tr>\n",
       "      <th>8</th>\n",
       "      <td>262144</td>\n",
       "      <td>[32, 64, 128, 256]</td>\n",
       "      <td>[0.0, 0.1, 0.2, 0.3]</td>\n",
       "      <td>[adam, sgd]</td>\n",
       "      <td>[0.001, 0.01, 1e-05, 0.0001]</td>\n",
       "      <td>0.045759</td>\n",
       "      <td>0.004626</td>\n",
       "      <td>0.781399</td>\n",
       "    </tr>\n",
       "  </tbody>\n",
       "</table>\n",
       "</div>"
      ],
      "text/plain": [
       "   shards_arr          batch_size               dr_rate          opt  \\\n",
       "0        1024  [32, 64, 128, 256]  [0.0, 0.1, 0.2, 0.3]  [adam, sgd]   \n",
       "1        2048  [32, 64, 128, 256]  [0.0, 0.1, 0.2, 0.3]  [adam, sgd]   \n",
       "2        4096  [32, 64, 128, 256]  [0.0, 0.1, 0.2, 0.3]  [adam, sgd]   \n",
       "3        8192  [32, 64, 128, 256]  [0.0, 0.1, 0.2, 0.3]  [adam, sgd]   \n",
       "4       16384  [32, 64, 128, 256]  [0.0, 0.1, 0.2, 0.3]  [adam, sgd]   \n",
       "5       32768  [32, 64, 128, 256]  [0.0, 0.1, 0.2, 0.3]  [adam, sgd]   \n",
       "6       65536  [32, 64, 128, 256]  [0.0, 0.1, 0.2, 0.3]  [adam, sgd]   \n",
       "7      131072  [32, 64, 128, 256]  [0.0, 0.1, 0.2, 0.3]  [adam, sgd]   \n",
       "8      262144  [32, 64, 128, 256]  [0.0, 0.1, 0.2, 0.3]  [adam, sgd]   \n",
       "\n",
       "                             lr  mean_absolute_error  mean_squared_error  \\\n",
       "0  [1e-05, 0.0001, 0.001, 0.01]             0.081609            0.012222   \n",
       "1  [0.0001, 1e-05, 0.001, 0.01]             0.076894            0.011584   \n",
       "2  [0.0001, 0.001, 1e-05, 0.01]             0.069809            0.009335   \n",
       "3  [0.0001, 0.001, 0.01, 1e-05]             0.062945            0.007838   \n",
       "4  [0.0001, 0.001, 0.01, 1e-05]             0.058083            0.006778   \n",
       "5  [0.0001, 0.001, 0.01, 1e-05]             0.052608            0.006032   \n",
       "6  [1e-05, 0.001, 0.01, 0.0001]             0.049140            0.005496   \n",
       "7  [0.001, 1e-05, 0.01, 0.0001]             0.047997            0.005068   \n",
       "8  [0.001, 0.01, 1e-05, 0.0001]             0.045759            0.004626   \n",
       "\n",
       "         r2  \n",
       "0  0.422446  \n",
       "1  0.452597  \n",
       "2  0.558893  \n",
       "3  0.629628  \n",
       "4  0.679727  \n",
       "5  0.714942  \n",
       "6  0.740268  \n",
       "7  0.760502  \n",
       "8  0.781399  "
      ]
     },
     "execution_count": 13,
     "metadata": {},
     "output_type": "execute_result"
    }
   ],
   "source": [
    "a = hp.groupby('shards_arr').agg({'batch_size': 'unique', 'dr_rate': 'unique', 'opt': 'unique', 'lr': 'unique',\n",
    "                                  'mean_absolute_error': 'min', 'mean_squared_error': 'min', 'r2': 'max'}).reset_index()\n",
    "a"
   ]
  },
  {
   "cell_type": "code",
   "execution_count": null,
   "metadata": {},
   "outputs": [],
   "source": []
  },
  {
   "cell_type": "markdown",
   "metadata": {},
   "source": [
    "# Plot all runs per metric"
   ]
  },
  {
   "cell_type": "code",
   "execution_count": 57,
   "metadata": {},
   "outputs": [
    {
     "data": {
      "image/png": "[encoded data removed]",
      "text/plain": [
       "<Figure size 576x432 with 1 Axes>"
      ]
     },
     "metadata": {
      "needs_background": "light"
     },
     "output_type": "display_data"
    }
   ],
   "source": [
    "met = 'mean_absolute_error'\n",
    "fig, ax = plt.subplots(figsize=(8,6))\n",
    "plt.plot(hp['shards_arr'], hp[met], '.'); plt.grid(True); plt.xlabel('Train Size (Log2)'); plt.ylabel(lrn_crv.capitalize_metric(met) + ' (Log2)');\n",
    "ax.set_xscale('log', basex=2)\n",
    "ax.set_yscale('log', basey=2)"
   ]
  },
  {
   "cell_type": "code",
   "execution_count": null,
   "metadata": {},
   "outputs": [],
   "source": []
  },
  {
   "cell_type": "markdown",
   "metadata": {},
   "source": [
    "# Every-shard HPO\n",
    "Extract the best performance score for every shard (for each metric)"
   ]
  },
  {
   "cell_type": "code",
   "execution_count": 124,
   "metadata": {},
   "outputs": [],
   "source": [
    "# https://datascience.stackexchange.com/questions/26308/after-grouping-to-minimum-value-in-pandas-how-to-display-the-matching-row-resul\n",
    "hp_by_mae = hp.sort_values('mean_absolute_error', ascending=True).drop_duplicates(['shards_arr']).sort_values('shards_arr').reset_index(drop=True)\n",
    "# hp_by_mse = hp.sort_values('mean_squared_error', ascending=True).drop_duplicates(['shards_arr']).sort_values('shards_arr').reset_index(drop=True)\n",
    "# hp_by_r2  = hp.sort_values('r2', ascending=False).drop_duplicates(['shards_arr']).sort_values('shards_arr').reset_index(drop=True)"
   ]
  },
  {
   "cell_type": "code",
   "execution_count": 125,
   "metadata": {},
   "outputs": [
    {
     "data": {
      "text/html": [
       "<div>\n",
       "<style scoped>\n",
       "    .dataframe tbody tr th:only-of-type {\n",
       "        vertical-align: middle;\n",
       "    }\n",
       "\n",
       "    .dataframe tbody tr th {\n",
       "        vertical-align: top;\n",
       "    }\n",
       "\n",
       "    .dataframe thead th {\n",
       "        text-align: right;\n",
       "    }\n",
       "</style>\n",
       "<table border=\"1\" class=\"dataframe\">\n",
       "  <thead>\n",
       "    <tr style=\"text-align: right;\">\n",
       "      <th></th>\n",
       "      <th>shards_arr</th>\n",
       "      <th>batch_size</th>\n",
       "      <th>lr</th>\n",
       "      <th>opt</th>\n",
       "      <th>dr_rate</th>\n",
       "      <th>mean_absolute_error</th>\n",
       "      <th>mean_squared_error</th>\n",
       "      <th>median_absolute_error</th>\n",
       "      <th>r2</th>\n",
       "    </tr>\n",
       "  </thead>\n",
       "  <tbody>\n",
       "    <tr>\n",
       "      <th>0</th>\n",
       "      <td>1024</td>\n",
       "      <td>32</td>\n",
       "      <td>0.0001</td>\n",
       "      <td>adam</td>\n",
       "      <td>0.1</td>\n",
       "      <td>0.081609</td>\n",
       "      <td>0.012222</td>\n",
       "      <td>0.061056</td>\n",
       "      <td>0.422446</td>\n",
       "    </tr>\n",
       "    <tr>\n",
       "      <th>1</th>\n",
       "      <td>2048</td>\n",
       "      <td>32</td>\n",
       "      <td>0.0001</td>\n",
       "      <td>adam</td>\n",
       "      <td>0.2</td>\n",
       "      <td>0.076894</td>\n",
       "      <td>0.011601</td>\n",
       "      <td>0.053368</td>\n",
       "      <td>0.451814</td>\n",
       "    </tr>\n",
       "    <tr>\n",
       "      <th>2</th>\n",
       "      <td>4096</td>\n",
       "      <td>32</td>\n",
       "      <td>0.0001</td>\n",
       "      <td>adam</td>\n",
       "      <td>0.2</td>\n",
       "      <td>0.069809</td>\n",
       "      <td>0.009557</td>\n",
       "      <td>0.047999</td>\n",
       "      <td>0.548378</td>\n",
       "    </tr>\n",
       "    <tr>\n",
       "      <th>3</th>\n",
       "      <td>8192</td>\n",
       "      <td>32</td>\n",
       "      <td>0.0001</td>\n",
       "      <td>adam</td>\n",
       "      <td>0.1</td>\n",
       "      <td>0.062945</td>\n",
       "      <td>0.007838</td>\n",
       "      <td>0.044713</td>\n",
       "      <td>0.629628</td>\n",
       "    </tr>\n",
       "    <tr>\n",
       "      <th>4</th>\n",
       "      <td>16384</td>\n",
       "      <td>128</td>\n",
       "      <td>0.0001</td>\n",
       "      <td>adam</td>\n",
       "      <td>0.1</td>\n",
       "      <td>0.058083</td>\n",
       "      <td>0.006778</td>\n",
       "      <td>0.040076</td>\n",
       "      <td>0.679727</td>\n",
       "    </tr>\n",
       "    <tr>\n",
       "      <th>5</th>\n",
       "      <td>32768</td>\n",
       "      <td>32</td>\n",
       "      <td>0.0001</td>\n",
       "      <td>adam</td>\n",
       "      <td>0.0</td>\n",
       "      <td>0.052608</td>\n",
       "      <td>0.006032</td>\n",
       "      <td>0.034771</td>\n",
       "      <td>0.714942</td>\n",
       "    </tr>\n",
       "    <tr>\n",
       "      <th>6</th>\n",
       "      <td>65536</td>\n",
       "      <td>32</td>\n",
       "      <td>0.0001</td>\n",
       "      <td>adam</td>\n",
       "      <td>0.0</td>\n",
       "      <td>0.049140</td>\n",
       "      <td>0.005524</td>\n",
       "      <td>0.031449</td>\n",
       "      <td>0.738972</td>\n",
       "    </tr>\n",
       "    <tr>\n",
       "      <th>7</th>\n",
       "      <td>131072</td>\n",
       "      <td>128</td>\n",
       "      <td>0.0001</td>\n",
       "      <td>adam</td>\n",
       "      <td>0.0</td>\n",
       "      <td>0.047997</td>\n",
       "      <td>0.005280</td>\n",
       "      <td>0.030599</td>\n",
       "      <td>0.750503</td>\n",
       "    </tr>\n",
       "    <tr>\n",
       "      <th>8</th>\n",
       "      <td>262144</td>\n",
       "      <td>32</td>\n",
       "      <td>0.0001</td>\n",
       "      <td>adam</td>\n",
       "      <td>0.0</td>\n",
       "      <td>0.045759</td>\n",
       "      <td>0.004804</td>\n",
       "      <td>0.029237</td>\n",
       "      <td>0.772967</td>\n",
       "    </tr>\n",
       "  </tbody>\n",
       "</table>\n",
       "</div>"
      ],
      "text/plain": [
       "   shards_arr  batch_size      lr   opt  dr_rate  mean_absolute_error  \\\n",
       "0        1024          32  0.0001  adam      0.1             0.081609   \n",
       "1        2048          32  0.0001  adam      0.2             0.076894   \n",
       "2        4096          32  0.0001  adam      0.2             0.069809   \n",
       "3        8192          32  0.0001  adam      0.1             0.062945   \n",
       "4       16384         128  0.0001  adam      0.1             0.058083   \n",
       "5       32768          32  0.0001  adam      0.0             0.052608   \n",
       "6       65536          32  0.0001  adam      0.0             0.049140   \n",
       "7      131072         128  0.0001  adam      0.0             0.047997   \n",
       "8      262144          32  0.0001  adam      0.0             0.045759   \n",
       "\n",
       "   mean_squared_error  median_absolute_error        r2  \n",
       "0            0.012222               0.061056  0.422446  \n",
       "1            0.011601               0.053368  0.451814  \n",
       "2            0.009557               0.047999  0.548378  \n",
       "3            0.007838               0.044713  0.629628  \n",
       "4            0.006778               0.040076  0.679727  \n",
       "5            0.006032               0.034771  0.714942  \n",
       "6            0.005524               0.031449  0.738972  \n",
       "7            0.005280               0.030599  0.750503  \n",
       "8            0.004804               0.029237  0.772967  "
      ]
     },
     "metadata": {},
     "output_type": "display_data"
    }
   ],
   "source": [
    "rs1 = hp_by_mae\n",
    "display(rs1)"
   ]
  },
  {
   "cell_type": "code",
   "execution_count": 126,
   "metadata": {},
   "outputs": [],
   "source": [
    "# _, ax = plt.subplots(figsize=(8,6))\n",
    "# ax.plot(rs['shards_arr'], rs['mean_absolute_error'], '.'); plt.title('Every-shard HPO')\n",
    "# plt.ylabel('Mean Absolute Error'); plt.xlabel('Train Size'); plt.grid(True)"
   ]
  },
  {
   "cell_type": "code",
   "execution_count": 138,
   "metadata": {},
   "outputs": [
    {
     "data": {
      "text/plain": [
       "(<matplotlib.axes._subplots.AxesSubplot at 0x7fe8537f2358>,\n",
       " {'alpha': 0.2518561423765148,\n",
       "  'beta': -0.2222013127295832,\n",
       "  'gamma': 0.02902433647464288})"
      ]
     },
     "execution_count": 138,
     "metadata": {},
     "output_type": "execute_result"
    },
    {
     "data": {
      "image/png": "[encoded data removed]",
      "text/plain": [
       "<Figure size 576x432 with 1 Axes>"
      ]
     },
     "metadata": {
      "needs_background": "light"
     },
     "output_type": "display_data"
    }
   ],
   "source": [
    "lrn_crv.plot_lrn_crv_power_law(x=rs['shards_arr'], y=rs[met],\n",
    "                               plot_fit=True, metric_name=met,\n",
    "                               # xtick_scale='log2', ytick_scale='log2',\n",
    "                               xtick_scale='linear', ytick_scale='linear', \n",
    "                               title='Every-shard HPO', label='Data', ax=None, figsize=(8,6))"
   ]
  },
  {
   "cell_type": "code",
   "execution_count": 132,
   "metadata": {},
   "outputs": [
    {
     "data": {
      "text/plain": [
       "(<matplotlib.axes._subplots.AxesSubplot at 0x7fe8539b9ac8>,\n",
       " {'alpha': 0.22112937390669551,\n",
       "  'beta': -0.18606163484297739,\n",
       "  'gamma': 0.021899924533575033})"
      ]
     },
     "execution_count": 132,
     "metadata": {},
     "output_type": "execute_result"
    },
    {
     "data": {
      "image/png": "[encoded data removed]",
      "text/plain": [
       "<Figure size 576x432 with 1 Axes>"
      ]
     },
     "metadata": {
      "needs_background": "light"
     },
     "output_type": "display_data"
    }
   ],
   "source": [
    "lrn_crv.lrn_crv_power_law_extrapolate(x=rs['shards_arr'], y=rs[met],\n",
    "                                      m0 = 8,\n",
    "                                      plot_fit=True, metric_name=met,\n",
    "                                      # xtick_scale='log2', ytick_scale='log2',\n",
    "                                      xtick_scale='linear', ytick_scale='linear',\n",
    "                                      title='Every-shard HPO', label='Data', ax=None, figsize=(8,6))"
   ]
  },
  {
   "cell_type": "code",
   "execution_count": null,
   "metadata": {},
   "outputs": [],
   "source": []
  },
  {
   "cell_type": "markdown",
   "metadata": {},
   "source": [
    "# Largest-shard HPO\n",
    "Extract the best performance score for the largest shard (for each metric)"
   ]
  },
  {
   "cell_type": "code",
   "execution_count": 139,
   "metadata": {},
   "outputs": [
    {
     "data": {
      "text/html": [
       "<div>\n",
       "<style scoped>\n",
       "    .dataframe tbody tr th:only-of-type {\n",
       "        vertical-align: middle;\n",
       "    }\n",
       "\n",
       "    .dataframe tbody tr th {\n",
       "        vertical-align: top;\n",
       "    }\n",
       "\n",
       "    .dataframe thead th {\n",
       "        text-align: right;\n",
       "    }\n",
       "</style>\n",
       "<table border=\"1\" class=\"dataframe\">\n",
       "  <thead>\n",
       "    <tr style=\"text-align: right;\">\n",
       "      <th></th>\n",
       "      <th>shards_arr</th>\n",
       "      <th>batch_size</th>\n",
       "      <th>lr</th>\n",
       "      <th>opt</th>\n",
       "      <th>dr_rate</th>\n",
       "      <th>mean_absolute_error</th>\n",
       "      <th>mean_squared_error</th>\n",
       "      <th>median_absolute_error</th>\n",
       "      <th>r2</th>\n",
       "    </tr>\n",
       "  </thead>\n",
       "  <tbody>\n",
       "    <tr>\n",
       "      <th>0</th>\n",
       "      <td>262144</td>\n",
       "      <td>32</td>\n",
       "      <td>0.0001</td>\n",
       "      <td>adam</td>\n",
       "      <td>0.0</td>\n",
       "      <td>0.045759</td>\n",
       "      <td>0.004804</td>\n",
       "      <td>0.029237</td>\n",
       "      <td>0.772967</td>\n",
       "    </tr>\n",
       "  </tbody>\n",
       "</table>\n",
       "</div>"
      ],
      "text/plain": [
       "   shards_arr  batch_size      lr   opt  dr_rate  mean_absolute_error  \\\n",
       "0      262144          32  0.0001  adam      0.0             0.045759   \n",
       "\n",
       "   mean_squared_error  median_absolute_error        r2  \n",
       "0            0.004804               0.029237  0.772967  "
      ]
     },
     "metadata": {},
     "output_type": "display_data"
    }
   ],
   "source": [
    "rs2 = top_n_runs(hp, shard_size=262144, n=1, sort_by_metric='mean_absolute_error', plot=False)\n",
    "display(rs2)"
   ]
  },
  {
   "cell_type": "code",
   "execution_count": 140,
   "metadata": {},
   "outputs": [],
   "source": [
    "idx = (hp['opt']==rs2['opt'][0]) & (hp['lr']==rs2['lr'][0]) & (hp['dr_rate']==rs2['dr_rate'][0]) & (hp['batch_size']==rs2['batch_size'][0])\n",
    "df = hp[ idx ].sort_values('shards_arr').reset_index(drop=True)\n",
    "# display(df)"
   ]
  },
  {
   "cell_type": "code",
   "execution_count": 141,
   "metadata": {},
   "outputs": [],
   "source": [
    "# _, ax = plt.subplots(figsize=(8,6))\n",
    "# ax.plot(rs['shards_arr'], rs['mean_absolute_error'], '--.'); plt.title('Largest-shard HPO')\n",
    "# plt.ylabel('Mean Absolute Error'); plt.xlabel('Train Size'); plt.grid(True)"
   ]
  },
  {
   "cell_type": "code",
   "execution_count": 142,
   "metadata": {},
   "outputs": [
    {
     "data": {
      "text/plain": [
       "(<matplotlib.axes._subplots.AxesSubplot at 0x7fe85377b4e0>,\n",
       " {'alpha': 1.7897165758799793,\n",
       "  'beta': -0.49732670014789476,\n",
       "  'gamma': 0.04282902986831782})"
      ]
     },
     "execution_count": 142,
     "metadata": {},
     "output_type": "execute_result"
    },
    {
     "data": {
      "image/png": "[encoded data removed]",
      "text/plain": [
       "<Figure size 576x432 with 1 Axes>"
      ]
     },
     "metadata": {
      "needs_background": "light"
     },
     "output_type": "display_data"
    }
   ],
   "source": [
    "lrn_crv.plot_lrn_crv_power_law(x=df['shards_arr'], y=df[met],\n",
    "                               plot_fit=True, metric_name=met,\n",
    "                               # xtick_scale='log2', ytick_scale='log2', \n",
    "                               xtick_scale='linear', ytick_scale='linear',\n",
    "                               title='Largest-shard HPO', label='Data', ax=None, figsize=(8,6))"
   ]
  },
  {
   "cell_type": "code",
   "execution_count": 143,
   "metadata": {},
   "outputs": [
    {
     "data": {
      "text/plain": [
       "(<matplotlib.axes._subplots.AxesSubplot at 0x7fe85370d128>,\n",
       " {'alpha': 1.9933496377620377,\n",
       "  'beta': -0.5148353296330849,\n",
       "  'gamma': 0.04372877586022137})"
      ]
     },
     "execution_count": 143,
     "metadata": {},
     "output_type": "execute_result"
    },
    {
     "data": {
      "image/png": "[encoded data removed]",
      "text/plain": [
       "<Figure size 576x432 with 1 Axes>"
      ]
     },
     "metadata": {
      "needs_background": "light"
     },
     "output_type": "display_data"
    }
   ],
   "source": [
    "lrn_crv.lrn_crv_power_law_extrapolate(x=df['shards_arr'], y=df['mean_absolute_error'],\n",
    "                                      m0 = 8,\n",
    "                                      plot_fit=True, metric_name='mean_absolute_error',\n",
    "                                      # xtick_scale='log2', ytick_scale='log2',\n",
    "                                      xtick_scale='linear', ytick_scale='linear',\n",
    "                                      title='Every-shard HPO', label='Data', ax=None, figsize=(8,6))"
   ]
  },
  {
   "cell_type": "code",
   "execution_count": null,
   "metadata": {},
   "outputs": [],
   "source": []
  },
  {
   "cell_type": "code",
   "execution_count": null,
   "metadata": {},
   "outputs": [],
   "source": []
  },
  {
   "cell_type": "markdown",
   "metadata": {},
   "source": [
    "# Previous HP Settings (not optimized)"
   ]
  },
  {
   "cell_type": "code",
   "execution_count": 189,
   "metadata": {},
   "outputs": [
    {
     "data": {
      "text/html": [
       "<div>\n",
       "<style scoped>\n",
       "    .dataframe tbody tr th:only-of-type {\n",
       "        vertical-align: middle;\n",
       "    }\n",
       "\n",
       "    .dataframe tbody tr th {\n",
       "        vertical-align: top;\n",
       "    }\n",
       "\n",
       "    .dataframe thead th {\n",
       "        text-align: right;\n",
       "    }\n",
       "</style>\n",
       "<table border=\"1\" class=\"dataframe\">\n",
       "  <thead>\n",
       "    <tr style=\"text-align: right;\">\n",
       "      <th></th>\n",
       "      <th>shards_arr</th>\n",
       "      <th>batch_size</th>\n",
       "      <th>lr</th>\n",
       "      <th>opt</th>\n",
       "      <th>dr_rate</th>\n",
       "      <th>mean_absolute_error</th>\n",
       "      <th>mean_squared_error</th>\n",
       "      <th>median_absolute_error</th>\n",
       "      <th>r2</th>\n",
       "    </tr>\n",
       "  </thead>\n",
       "  <tbody>\n",
       "    <tr>\n",
       "      <th>0</th>\n",
       "      <td>1024</td>\n",
       "      <td>32</td>\n",
       "      <td>0.0001</td>\n",
       "      <td>sgd</td>\n",
       "      <td>0.2</td>\n",
       "      <td>0.116332</td>\n",
       "      <td>0.019930</td>\n",
       "      <td>0.112465</td>\n",
       "      <td>0.058226</td>\n",
       "    </tr>\n",
       "    <tr>\n",
       "      <th>1</th>\n",
       "      <td>2048</td>\n",
       "      <td>32</td>\n",
       "      <td>0.0001</td>\n",
       "      <td>sgd</td>\n",
       "      <td>0.2</td>\n",
       "      <td>0.112946</td>\n",
       "      <td>0.019277</td>\n",
       "      <td>0.107589</td>\n",
       "      <td>0.089070</td>\n",
       "    </tr>\n",
       "    <tr>\n",
       "      <th>2</th>\n",
       "      <td>4096</td>\n",
       "      <td>32</td>\n",
       "      <td>0.0001</td>\n",
       "      <td>sgd</td>\n",
       "      <td>0.2</td>\n",
       "      <td>0.108167</td>\n",
       "      <td>0.017813</td>\n",
       "      <td>0.100739</td>\n",
       "      <td>0.158235</td>\n",
       "    </tr>\n",
       "    <tr>\n",
       "      <th>3</th>\n",
       "      <td>8192</td>\n",
       "      <td>32</td>\n",
       "      <td>0.0001</td>\n",
       "      <td>sgd</td>\n",
       "      <td>0.2</td>\n",
       "      <td>0.099160</td>\n",
       "      <td>0.015339</td>\n",
       "      <td>0.089884</td>\n",
       "      <td>0.275152</td>\n",
       "    </tr>\n",
       "    <tr>\n",
       "      <th>4</th>\n",
       "      <td>16384</td>\n",
       "      <td>32</td>\n",
       "      <td>0.0001</td>\n",
       "      <td>sgd</td>\n",
       "      <td>0.2</td>\n",
       "      <td>0.094073</td>\n",
       "      <td>0.014291</td>\n",
       "      <td>0.080651</td>\n",
       "      <td>0.324663</td>\n",
       "    </tr>\n",
       "    <tr>\n",
       "      <th>5</th>\n",
       "      <td>32768</td>\n",
       "      <td>32</td>\n",
       "      <td>0.0001</td>\n",
       "      <td>sgd</td>\n",
       "      <td>0.2</td>\n",
       "      <td>0.086323</td>\n",
       "      <td>0.012527</td>\n",
       "      <td>0.070321</td>\n",
       "      <td>0.408034</td>\n",
       "    </tr>\n",
       "    <tr>\n",
       "      <th>6</th>\n",
       "      <td>65536</td>\n",
       "      <td>32</td>\n",
       "      <td>0.0001</td>\n",
       "      <td>sgd</td>\n",
       "      <td>0.2</td>\n",
       "      <td>0.075593</td>\n",
       "      <td>0.010236</td>\n",
       "      <td>0.059036</td>\n",
       "      <td>0.516294</td>\n",
       "    </tr>\n",
       "    <tr>\n",
       "      <th>7</th>\n",
       "      <td>131072</td>\n",
       "      <td>32</td>\n",
       "      <td>0.0001</td>\n",
       "      <td>sgd</td>\n",
       "      <td>0.2</td>\n",
       "      <td>0.071975</td>\n",
       "      <td>0.008895</td>\n",
       "      <td>0.058246</td>\n",
       "      <td>0.579660</td>\n",
       "    </tr>\n",
       "    <tr>\n",
       "      <th>8</th>\n",
       "      <td>262144</td>\n",
       "      <td>32</td>\n",
       "      <td>0.0001</td>\n",
       "      <td>sgd</td>\n",
       "      <td>0.2</td>\n",
       "      <td>0.065576</td>\n",
       "      <td>0.007533</td>\n",
       "      <td>0.051647</td>\n",
       "      <td>0.644039</td>\n",
       "    </tr>\n",
       "  </tbody>\n",
       "</table>\n",
       "</div>"
      ],
      "text/plain": [
       "   shards_arr  batch_size      lr  opt  dr_rate  mean_absolute_error  \\\n",
       "0        1024          32  0.0001  sgd      0.2             0.116332   \n",
       "1        2048          32  0.0001  sgd      0.2             0.112946   \n",
       "2        4096          32  0.0001  sgd      0.2             0.108167   \n",
       "3        8192          32  0.0001  sgd      0.2             0.099160   \n",
       "4       16384          32  0.0001  sgd      0.2             0.094073   \n",
       "5       32768          32  0.0001  sgd      0.2             0.086323   \n",
       "6       65536          32  0.0001  sgd      0.2             0.075593   \n",
       "7      131072          32  0.0001  sgd      0.2             0.071975   \n",
       "8      262144          32  0.0001  sgd      0.2             0.065576   \n",
       "\n",
       "   mean_squared_error  median_absolute_error        r2  \n",
       "0            0.019930               0.112465  0.058226  \n",
       "1            0.019277               0.107589  0.089070  \n",
       "2            0.017813               0.100739  0.158235  \n",
       "3            0.015339               0.089884  0.275152  \n",
       "4            0.014291               0.080651  0.324663  \n",
       "5            0.012527               0.070321  0.408034  \n",
       "6            0.010236               0.059036  0.516294  \n",
       "7            0.008895               0.058246  0.579660  \n",
       "8            0.007533               0.051647  0.644039  "
      ]
     },
     "metadata": {},
     "output_type": "display_data"
    }
   ],
   "source": [
    "idx = (hp['opt']=='sgd') & (hp['lr']==0.0001) & (hp['dr_rate']==0.2) & (hp['batch_size']==32)\n",
    "df = hp[ idx ].sort_values('shards_arr').reset_index(drop=True)\n",
    "display(df)"
   ]
  },
  {
   "cell_type": "code",
   "execution_count": 190,
   "metadata": {},
   "outputs": [
    {
     "data": {
      "image/png": "[encoded data removed]",
      "text/plain": [
       "<Figure size 432x288 with 1 Axes>"
      ]
     },
     "metadata": {
      "needs_background": "light"
     },
     "output_type": "display_data"
    }
   ],
   "source": [
    "plt.plot(df['shards_arr'], df['mean_absolute_error'], '--.'); plt.title('Largest-shard HPO')\n",
    "plt.ylabel('Mean Absolute Error'); plt.xlabel('Train Size'); plt.grid(True)"
   ]
  },
  {
   "cell_type": "code",
   "execution_count": 191,
   "metadata": {},
   "outputs": [
    {
     "ename": "RuntimeError",
     "evalue": "Optimal parameters not found: Number of calls to function has reached maxfev = 800.",
     "output_type": "error",
     "traceback": [
      "\u001b[0;31m---------------------------------------------------------------------------\u001b[0m",
      "\u001b[0;31mRuntimeError\u001b[0m                              Traceback (most recent call last)",
      "\u001b[0;32m<ipython-input-191-fbbb230bb346>\u001b[0m in \u001b[0;36m<module>\u001b[0;34m\u001b[0m\n\u001b[1;32m      1\u001b[0m ax, pwr_law_prms = lrn_crv.plot_lrn_crv_power_law(x=df['shards_arr'], y=df['mean_absolute_error'],\n\u001b[1;32m      2\u001b[0m                                                   \u001b[0mplot_fit\u001b[0m\u001b[0;34m=\u001b[0m\u001b[0;32mTrue\u001b[0m\u001b[0;34m,\u001b[0m \u001b[0mmetric_name\u001b[0m\u001b[0;34m=\u001b[0m\u001b[0;34m'mean_absolute_error'\u001b[0m\u001b[0;34m,\u001b[0m\u001b[0;34m\u001b[0m\u001b[0;34m\u001b[0m\u001b[0m\n\u001b[0;32m----> 3\u001b[0;31m                                                   xtick_scale='log2', ytick_scale='log2', title='Largest-shard HPO', label='Data', ax=None)\n\u001b[0m",
      "\u001b[0;32m/vol/ml/apartin/projects/LearningCurves/lrn_crv.py\u001b[0m in \u001b[0;36mplot_lrn_crv_power_law\u001b[0;34m(x, y, plot_fit, metric_name, xtick_scale, ytick_scale, xlim, ylim, title, figsize, label, ax)\u001b[0m\n\u001b[1;32m    674\u001b[0m \u001b[0;34m\u001b[0m\u001b[0m\n\u001b[1;32m    675\u001b[0m     \u001b[0;31m# Fit power-law (3 params)\u001b[0m\u001b[0;34m\u001b[0m\u001b[0;34m\u001b[0m\u001b[0;34m\u001b[0m\u001b[0m\n\u001b[0;32m--> 676\u001b[0;31m     \u001b[0mpower_law_params\u001b[0m \u001b[0;34m=\u001b[0m \u001b[0mfit_power_law_3prm\u001b[0m\u001b[0;34m(\u001b[0m\u001b[0mx\u001b[0m\u001b[0;34m,\u001b[0m \u001b[0my\u001b[0m\u001b[0;34m)\u001b[0m\u001b[0;34m\u001b[0m\u001b[0;34m\u001b[0m\u001b[0m\n\u001b[0m\u001b[1;32m    677\u001b[0m     \u001b[0myfit\u001b[0m \u001b[0;34m=\u001b[0m \u001b[0mpower_law_func_3prm\u001b[0m\u001b[0;34m(\u001b[0m\u001b[0mx\u001b[0m\u001b[0;34m,\u001b[0m \u001b[0;34m**\u001b[0m\u001b[0mpower_law_params\u001b[0m\u001b[0;34m)\u001b[0m\u001b[0;34m\u001b[0m\u001b[0;34m\u001b[0m\u001b[0m\n\u001b[1;32m    678\u001b[0m \u001b[0;34m\u001b[0m\u001b[0m\n",
      "\u001b[0;32m/vol/ml/apartin/projects/LearningCurves/lrn_crv.py\u001b[0m in \u001b[0;36mfit_power_law_3prm\u001b[0;34m(x, y, p0)\u001b[0m\n\u001b[1;32m    653\u001b[0m     \u001b[0mMUKHERJEE\u001b[0m \u001b[0met\u001b[0m \u001b[0mal\u001b[0m \u001b[0;34m(\u001b[0m\u001b[0;36m2003\u001b[0m\u001b[0;34m)\u001b[0m \u001b[0mperforms\u001b[0m \u001b[0msignificance\u001b[0m \u001b[0mtest\u001b[0m\u001b[0;31m!\u001b[0m\u001b[0;34m\u001b[0m\u001b[0;34m\u001b[0m\u001b[0m\n\u001b[1;32m    654\u001b[0m     \"\"\"\n\u001b[0;32m--> 655\u001b[0;31m     \u001b[0mprms\u001b[0m\u001b[0;34m,\u001b[0m \u001b[0mprms_cov\u001b[0m \u001b[0;34m=\u001b[0m \u001b[0moptimize\u001b[0m\u001b[0;34m.\u001b[0m\u001b[0mcurve_fit\u001b[0m\u001b[0;34m(\u001b[0m\u001b[0mpower_law_func_3prm\u001b[0m\u001b[0;34m,\u001b[0m \u001b[0mx\u001b[0m\u001b[0;34m,\u001b[0m \u001b[0my\u001b[0m\u001b[0;34m,\u001b[0m \u001b[0mp0\u001b[0m\u001b[0;34m=\u001b[0m\u001b[0mp0\u001b[0m\u001b[0;34m)\u001b[0m\u001b[0;34m\u001b[0m\u001b[0;34m\u001b[0m\u001b[0m\n\u001b[0m\u001b[1;32m    656\u001b[0m     \u001b[0mprms_dct\u001b[0m \u001b[0;34m=\u001b[0m \u001b[0;34m{\u001b[0m\u001b[0;34m}\u001b[0m\u001b[0;34m\u001b[0m\u001b[0;34m\u001b[0m\u001b[0m\n\u001b[1;32m    657\u001b[0m     \u001b[0mprms_dct\u001b[0m\u001b[0;34m[\u001b[0m\u001b[0;34m'alpha'\u001b[0m\u001b[0;34m]\u001b[0m\u001b[0;34m,\u001b[0m \u001b[0mprms_dct\u001b[0m\u001b[0;34m[\u001b[0m\u001b[0;34m'beta'\u001b[0m\u001b[0;34m]\u001b[0m\u001b[0;34m,\u001b[0m \u001b[0mprms_dct\u001b[0m\u001b[0;34m[\u001b[0m\u001b[0;34m'gamma'\u001b[0m\u001b[0;34m]\u001b[0m \u001b[0;34m=\u001b[0m \u001b[0mprms\u001b[0m\u001b[0;34m[\u001b[0m\u001b[0;36m0\u001b[0m\u001b[0;34m]\u001b[0m\u001b[0;34m,\u001b[0m \u001b[0mprms\u001b[0m\u001b[0;34m[\u001b[0m\u001b[0;36m1\u001b[0m\u001b[0;34m]\u001b[0m\u001b[0;34m,\u001b[0m \u001b[0mprms\u001b[0m\u001b[0;34m[\u001b[0m\u001b[0;36m2\u001b[0m\u001b[0;34m]\u001b[0m\u001b[0;34m\u001b[0m\u001b[0;34m\u001b[0m\u001b[0m\n",
      "\u001b[0;32m/vol/ml/apartin/anaconda3/envs/p1/lib/python3.6/site-packages/scipy/optimize/minpack.py\u001b[0m in \u001b[0;36mcurve_fit\u001b[0;34m(f, xdata, ydata, p0, sigma, absolute_sigma, check_finite, bounds, method, jac, **kwargs)\u001b[0m\n\u001b[1;32m    746\u001b[0m         \u001b[0mcost\u001b[0m \u001b[0;34m=\u001b[0m \u001b[0mnp\u001b[0m\u001b[0;34m.\u001b[0m\u001b[0msum\u001b[0m\u001b[0;34m(\u001b[0m\u001b[0minfodict\u001b[0m\u001b[0;34m[\u001b[0m\u001b[0;34m'fvec'\u001b[0m\u001b[0;34m]\u001b[0m \u001b[0;34m**\u001b[0m \u001b[0;36m2\u001b[0m\u001b[0;34m)\u001b[0m\u001b[0;34m\u001b[0m\u001b[0;34m\u001b[0m\u001b[0m\n\u001b[1;32m    747\u001b[0m         \u001b[0;32mif\u001b[0m \u001b[0mier\u001b[0m \u001b[0;32mnot\u001b[0m \u001b[0;32min\u001b[0m \u001b[0;34m[\u001b[0m\u001b[0;36m1\u001b[0m\u001b[0;34m,\u001b[0m \u001b[0;36m2\u001b[0m\u001b[0;34m,\u001b[0m \u001b[0;36m3\u001b[0m\u001b[0;34m,\u001b[0m \u001b[0;36m4\u001b[0m\u001b[0;34m]\u001b[0m\u001b[0;34m:\u001b[0m\u001b[0;34m\u001b[0m\u001b[0;34m\u001b[0m\u001b[0m\n\u001b[0;32m--> 748\u001b[0;31m             \u001b[0;32mraise\u001b[0m \u001b[0mRuntimeError\u001b[0m\u001b[0;34m(\u001b[0m\u001b[0;34m\"Optimal parameters not found: \"\u001b[0m \u001b[0;34m+\u001b[0m \u001b[0merrmsg\u001b[0m\u001b[0;34m)\u001b[0m\u001b[0;34m\u001b[0m\u001b[0;34m\u001b[0m\u001b[0m\n\u001b[0m\u001b[1;32m    749\u001b[0m     \u001b[0;32melse\u001b[0m\u001b[0;34m:\u001b[0m\u001b[0;34m\u001b[0m\u001b[0;34m\u001b[0m\u001b[0m\n\u001b[1;32m    750\u001b[0m         \u001b[0;31m# Rename maxfev (leastsq) to max_nfev (least_squares), if specified.\u001b[0m\u001b[0;34m\u001b[0m\u001b[0;34m\u001b[0m\u001b[0;34m\u001b[0m\u001b[0m\n",
      "\u001b[0;31mRuntimeError\u001b[0m: Optimal parameters not found: Number of calls to function has reached maxfev = 800."
     ]
    }
   ],
   "source": [
    "ax, pwr_law_prms = lrn_crv.plot_lrn_crv_power_law(x=df['shards_arr'], y=df['mean_absolute_error'],\n",
    "                                                  plot_fit=True, metric_name='mean_absolute_error',\n",
    "                                                  xtick_scale='log2', ytick_scale='log2', title='Largest-shard HPO', label='Data', ax=None)"
   ]
  },
  {
   "cell_type": "code",
   "execution_count": null,
   "metadata": {},
   "outputs": [],
   "source": []
  },
  {
   "cell_type": "code",
   "execution_count": null,
   "metadata": {},
   "outputs": [],
   "source": []
  },
  {
   "cell_type": "code",
   "execution_count": null,
   "metadata": {},
   "outputs": [],
   "source": []
  },
  {
   "cell_type": "code",
   "execution_count": null,
   "metadata": {},
   "outputs": [],
   "source": []
  },
  {
   "cell_type": "code",
   "execution_count": null,
   "metadata": {},
   "outputs": [],
   "source": []
  },
  {
   "cell_type": "code",
   "execution_count": null,
   "metadata": {},
   "outputs": [],
   "source": []
  },
  {
   "cell_type": "code",
   "execution_count": 42,
   "metadata": {},
   "outputs": [
    {
     "name": "stdout",
     "output_type": "stream",
     "text": [
      "(384, 24)\n",
      "(46, 24)\n"
     ]
    }
   ],
   "source": [
    "# d1 = hp[hp['shards_arr']==65536].reset_index(drop=True)\n",
    "d1 = hp.reset_index(drop=True)\n",
    "print(d1.shape)\n",
    "d1 = d1[d1['r2']>0.73]\n",
    "print(d1.shape)"
   ]
  },
  {
   "cell_type": "code",
   "execution_count": 43,
   "metadata": {},
   "outputs": [
    {
     "data": {
      "text/html": [
       "<div>\n",
       "<style scoped>\n",
       "    .dataframe tbody tr th:only-of-type {\n",
       "        vertical-align: middle;\n",
       "    }\n",
       "\n",
       "    .dataframe tbody tr th {\n",
       "        vertical-align: top;\n",
       "    }\n",
       "\n",
       "    .dataframe thead th {\n",
       "        text-align: right;\n",
       "    }\n",
       "</style>\n",
       "<table border=\"1\" class=\"dataframe\">\n",
       "  <thead>\n",
       "    <tr style=\"text-align: right;\">\n",
       "      <th></th>\n",
       "      <th>shards_arr</th>\n",
       "      <th>batch_size</th>\n",
       "      <th>dr_rate</th>\n",
       "      <th>opt</th>\n",
       "      <th>lr</th>\n",
       "      <th>mean_absolute_error</th>\n",
       "      <th>mean_squared_error</th>\n",
       "      <th>r2</th>\n",
       "    </tr>\n",
       "  </thead>\n",
       "  <tbody>\n",
       "    <tr>\n",
       "      <th>0</th>\n",
       "      <td>65536</td>\n",
       "      <td>[32, 64, 128, 256]</td>\n",
       "      <td>[0.1, 0, 0.2]</td>\n",
       "      <td>[adam, sgd]</td>\n",
       "      <td>[1e-05, 0.01, 0.0001]</td>\n",
       "      <td>0.049140</td>\n",
       "      <td>0.005496</td>\n",
       "      <td>0.740268</td>\n",
       "    </tr>\n",
       "    <tr>\n",
       "      <th>1</th>\n",
       "      <td>131072</td>\n",
       "      <td>[32, 64, 128, 256]</td>\n",
       "      <td>[0, 0.1, 0.2]</td>\n",
       "      <td>[adam, sgd]</td>\n",
       "      <td>[1e-05, 0.001, 0.01, 0.0001]</td>\n",
       "      <td>0.047997</td>\n",
       "      <td>0.005068</td>\n",
       "      <td>0.760502</td>\n",
       "    </tr>\n",
       "    <tr>\n",
       "      <th>2</th>\n",
       "      <td>262144</td>\n",
       "      <td>[32, 64, 256, 128]</td>\n",
       "      <td>[0, 0.1, 0.2]</td>\n",
       "      <td>[adam, sgd]</td>\n",
       "      <td>[1e-05, 0.001, 0.01, 0.0001]</td>\n",
       "      <td>0.045759</td>\n",
       "      <td>0.004626</td>\n",
       "      <td>0.781399</td>\n",
       "    </tr>\n",
       "  </tbody>\n",
       "</table>\n",
       "</div>"
      ],
      "text/plain": [
       "   shards_arr          batch_size        dr_rate          opt  \\\n",
       "0       65536  [32, 64, 128, 256]  [0.1, 0, 0.2]  [adam, sgd]   \n",
       "1      131072  [32, 64, 128, 256]  [0, 0.1, 0.2]  [adam, sgd]   \n",
       "2      262144  [32, 64, 256, 128]  [0, 0.1, 0.2]  [adam, sgd]   \n",
       "\n",
       "                             lr  mean_absolute_error  mean_squared_error  \\\n",
       "0         [1e-05, 0.01, 0.0001]             0.049140            0.005496   \n",
       "1  [1e-05, 0.001, 0.01, 0.0001]             0.047997            0.005068   \n",
       "2  [1e-05, 0.001, 0.01, 0.0001]             0.045759            0.004626   \n",
       "\n",
       "         r2  \n",
       "0  0.740268  \n",
       "1  0.760502  \n",
       "2  0.781399  "
      ]
     },
     "execution_count": 43,
     "metadata": {},
     "output_type": "execute_result"
    }
   ],
   "source": [
    "d1.groupby('shards_arr').agg({'batch_size': 'unique', 'dr_rate': 'unique', 'opt': 'unique', 'lr': 'unique',\n",
    "                              'mean_absolute_error': 'min', 'mean_squared_error': 'min', 'r2': 'max'}).reset_index()\n",
    "# d1.groupby('shards_arr')['batch_size'].value_counts()"
   ]
  },
  {
   "cell_type": "code",
   "execution_count": 47,
   "metadata": {},
   "outputs": [],
   "source": []
  },
  {
   "cell_type": "code",
   "execution_count": 53,
   "metadata": {},
   "outputs": [
    {
     "data": {
      "text/html": [
       "<div>\n",
       "<style scoped>\n",
       "    .dataframe tbody tr th:only-of-type {\n",
       "        vertical-align: middle;\n",
       "    }\n",
       "\n",
       "    .dataframe tbody tr th {\n",
       "        vertical-align: top;\n",
       "    }\n",
       "\n",
       "    .dataframe thead th {\n",
       "        text-align: right;\n",
       "    }\n",
       "</style>\n",
       "<table border=\"1\" class=\"dataframe\">\n",
       "  <thead>\n",
       "    <tr style=\"text-align: right;\">\n",
       "      <th></th>\n",
       "      <th>batch_size</th>\n",
       "      <th>lr</th>\n",
       "      <th>opt</th>\n",
       "      <th>dr_rate</th>\n",
       "      <th>batchnorm</th>\n",
       "      <th>cell_fea</th>\n",
       "      <th>clr_mode</th>\n",
       "      <th>cv_folds</th>\n",
       "      <th>cv_method</th>\n",
       "      <th>drug_fea</th>\n",
       "      <th>...</th>\n",
       "      <th>run_id</th>\n",
       "      <th>scaler</th>\n",
       "      <th>shard_step_scale</th>\n",
       "      <th>shards_arr</th>\n",
       "      <th>target_name</th>\n",
       "      <th>epoch_stop</th>\n",
       "      <th>mean_absolute_error</th>\n",
       "      <th>mean_squared_error</th>\n",
       "      <th>median_absolute_error</th>\n",
       "      <th>r2</th>\n",
       "    </tr>\n",
       "  </thead>\n",
       "  <tbody>\n",
       "    <tr>\n",
       "      <th>0</th>\n",
       "      <td>128</td>\n",
       "      <td>0.0001</td>\n",
       "      <td>adam</td>\n",
       "      <td>0.1</td>\n",
       "      <td>False</td>\n",
       "      <td>['GE']</td>\n",
       "      <td>None</td>\n",
       "      <td>1</td>\n",
       "      <td>simple</td>\n",
       "      <td>['DD']</td>\n",
       "      <td>...</td>\n",
       "      <td>id_54</td>\n",
       "      <td>stnd</td>\n",
       "      <td>log2</td>\n",
       "      <td>65536</td>\n",
       "      <td>AUC</td>\n",
       "      <td>122</td>\n",
       "      <td>0.051723</td>\n",
       "      <td>0.005496</td>\n",
       "      <td>0.03616</td>\n",
       "      <td>0.740268</td>\n",
       "    </tr>\n",
       "  </tbody>\n",
       "</table>\n",
       "<p>1 rows × 24 columns</p>\n",
       "</div>"
      ],
      "text/plain": [
       "  batch_size      lr   opt dr_rate batchnorm cell_fea clr_mode cv_folds  \\\n",
       "0        128  0.0001  adam     0.1     False   ['GE']     None        1   \n",
       "\n",
       "  cv_method drug_fea  ... run_id scaler shard_step_scale shards_arr  \\\n",
       "0    simple   ['DD']  ...  id_54   stnd             log2      65536   \n",
       "\n",
       "  target_name epoch_stop mean_absolute_error  mean_squared_error  \\\n",
       "0         AUC        122            0.051723            0.005496   \n",
       "\n",
       "  median_absolute_error        r2  \n",
       "0               0.03616  0.740268  \n",
       "\n",
       "[1 rows x 24 columns]"
      ]
     },
     "metadata": {},
     "output_type": "display_data"
    }
   ],
   "source": [
    "df = top_runs(hp, shard_size=65536, n=1)\n",
    "display(df)"
   ]
  },
  {
   "cell_type": "code",
   "execution_count": 54,
   "metadata": {},
   "outputs": [
    {
     "data": {
      "text/html": [
       "<div>\n",
       "<style scoped>\n",
       "    .dataframe tbody tr th:only-of-type {\n",
       "        vertical-align: middle;\n",
       "    }\n",
       "\n",
       "    .dataframe tbody tr th {\n",
       "        vertical-align: top;\n",
       "    }\n",
       "\n",
       "    .dataframe thead th {\n",
       "        text-align: right;\n",
       "    }\n",
       "</style>\n",
       "<table border=\"1\" class=\"dataframe\">\n",
       "  <thead>\n",
       "    <tr style=\"text-align: right;\">\n",
       "      <th></th>\n",
       "      <th>batch_size</th>\n",
       "      <th>lr</th>\n",
       "      <th>opt</th>\n",
       "      <th>dr_rate</th>\n",
       "      <th>batchnorm</th>\n",
       "      <th>cell_fea</th>\n",
       "      <th>clr_mode</th>\n",
       "      <th>cv_folds</th>\n",
       "      <th>cv_method</th>\n",
       "      <th>drug_fea</th>\n",
       "      <th>...</th>\n",
       "      <th>run_id</th>\n",
       "      <th>scaler</th>\n",
       "      <th>shard_step_scale</th>\n",
       "      <th>shards_arr</th>\n",
       "      <th>target_name</th>\n",
       "      <th>epoch_stop</th>\n",
       "      <th>mean_absolute_error</th>\n",
       "      <th>mean_squared_error</th>\n",
       "      <th>median_absolute_error</th>\n",
       "      <th>r2</th>\n",
       "    </tr>\n",
       "  </thead>\n",
       "  <tbody>\n",
       "    <tr>\n",
       "      <th>0</th>\n",
       "      <td>32</td>\n",
       "      <td>0.0001</td>\n",
       "      <td>adam</td>\n",
       "      <td>0.1</td>\n",
       "      <td>False</td>\n",
       "      <td>['GE']</td>\n",
       "      <td>None</td>\n",
       "      <td>1</td>\n",
       "      <td>simple</td>\n",
       "      <td>['DD']</td>\n",
       "      <td>...</td>\n",
       "      <td>id_68</td>\n",
       "      <td>stnd</td>\n",
       "      <td>log2</td>\n",
       "      <td>131072</td>\n",
       "      <td>AUC</td>\n",
       "      <td>107</td>\n",
       "      <td>0.048234</td>\n",
       "      <td>0.005068</td>\n",
       "      <td>0.031422</td>\n",
       "      <td>0.760502</td>\n",
       "    </tr>\n",
       "  </tbody>\n",
       "</table>\n",
       "<p>1 rows × 24 columns</p>\n",
       "</div>"
      ],
      "text/plain": [
       "  batch_size      lr   opt dr_rate batchnorm cell_fea clr_mode cv_folds  \\\n",
       "0         32  0.0001  adam     0.1     False   ['GE']     None        1   \n",
       "\n",
       "  cv_method drug_fea  ... run_id scaler shard_step_scale shards_arr  \\\n",
       "0    simple   ['DD']  ...  id_68   stnd             log2     131072   \n",
       "\n",
       "  target_name epoch_stop mean_absolute_error  mean_squared_error  \\\n",
       "0         AUC        107            0.048234            0.005068   \n",
       "\n",
       "  median_absolute_error        r2  \n",
       "0              0.031422  0.760502  \n",
       "\n",
       "[1 rows x 24 columns]"
      ]
     },
     "metadata": {},
     "output_type": "display_data"
    }
   ],
   "source": [
    "df = top_n_runs(hp, shard_size=131072, n=1)\n",
    "display(df)"
   ]
  },
  {
   "cell_type": "code",
   "execution_count": 55,
   "metadata": {},
   "outputs": [
    {
     "data": {
      "text/html": [
       "<div>\n",
       "<style scoped>\n",
       "    .dataframe tbody tr th:only-of-type {\n",
       "        vertical-align: middle;\n",
       "    }\n",
       "\n",
       "    .dataframe tbody tr th {\n",
       "        vertical-align: top;\n",
       "    }\n",
       "\n",
       "    .dataframe thead th {\n",
       "        text-align: right;\n",
       "    }\n",
       "</style>\n",
       "<table border=\"1\" class=\"dataframe\">\n",
       "  <thead>\n",
       "    <tr style=\"text-align: right;\">\n",
       "      <th></th>\n",
       "      <th>batch_size</th>\n",
       "      <th>lr</th>\n",
       "      <th>opt</th>\n",
       "      <th>dr_rate</th>\n",
       "      <th>batchnorm</th>\n",
       "      <th>cell_fea</th>\n",
       "      <th>clr_mode</th>\n",
       "      <th>cv_folds</th>\n",
       "      <th>cv_method</th>\n",
       "      <th>drug_fea</th>\n",
       "      <th>...</th>\n",
       "      <th>run_id</th>\n",
       "      <th>scaler</th>\n",
       "      <th>shard_step_scale</th>\n",
       "      <th>shards_arr</th>\n",
       "      <th>target_name</th>\n",
       "      <th>epoch_stop</th>\n",
       "      <th>mean_absolute_error</th>\n",
       "      <th>mean_squared_error</th>\n",
       "      <th>median_absolute_error</th>\n",
       "      <th>r2</th>\n",
       "    </tr>\n",
       "  </thead>\n",
       "  <tbody>\n",
       "    <tr>\n",
       "      <th>0</th>\n",
       "      <td>64</td>\n",
       "      <td>0.0001</td>\n",
       "      <td>adam</td>\n",
       "      <td>0.1</td>\n",
       "      <td>False</td>\n",
       "      <td>['GE']</td>\n",
       "      <td>None</td>\n",
       "      <td>1</td>\n",
       "      <td>simple</td>\n",
       "      <td>['DD']</td>\n",
       "      <td>...</td>\n",
       "      <td>id_85</td>\n",
       "      <td>stnd</td>\n",
       "      <td>log2</td>\n",
       "      <td>262144</td>\n",
       "      <td>AUC</td>\n",
       "      <td>91</td>\n",
       "      <td>0.045795</td>\n",
       "      <td>0.004626</td>\n",
       "      <td>0.029842</td>\n",
       "      <td>0.781399</td>\n",
       "    </tr>\n",
       "  </tbody>\n",
       "</table>\n",
       "<p>1 rows × 24 columns</p>\n",
       "</div>"
      ],
      "text/plain": [
       "  batch_size      lr   opt dr_rate batchnorm cell_fea clr_mode cv_folds  \\\n",
       "0         64  0.0001  adam     0.1     False   ['GE']     None        1   \n",
       "\n",
       "  cv_method drug_fea  ... run_id scaler shard_step_scale shards_arr  \\\n",
       "0    simple   ['DD']  ...  id_85   stnd             log2     262144   \n",
       "\n",
       "  target_name epoch_stop mean_absolute_error  mean_squared_error  \\\n",
       "0         AUC         91            0.045795            0.004626   \n",
       "\n",
       "  median_absolute_error        r2  \n",
       "0              0.029842  0.781399  \n",
       "\n",
       "[1 rows x 24 columns]"
      ]
     },
     "metadata": {},
     "output_type": "display_data"
    }
   ],
   "source": [
    "df = top_n_runs(hp, shard_size=262144, n=1)\n",
    "display(df)"
   ]
  },
  {
   "cell_type": "code",
   "execution_count": null,
   "metadata": {},
   "outputs": [],
   "source": []
  },
  {
   "cell_type": "code",
   "execution_count": null,
   "metadata": {},
   "outputs": [],
   "source": []
  }
 ],
 "metadata": {
  "kernelspec": {
   "display_name": "Python 3",
   "language": "python",
   "name": "python3"
  },
  "language_info": {
   "codemirror_mode": {
    "name": "ipython",
    "version": 3
   },
   "file_extension": ".py",
   "mimetype": "text/x-python",
   "name": "python",
   "nbconvert_exporter": "python",
   "pygments_lexer": "ipython3",
   "version": "3.6.8"
  }
 },
 "nbformat": 4,
 "nbformat_minor": 2
}
