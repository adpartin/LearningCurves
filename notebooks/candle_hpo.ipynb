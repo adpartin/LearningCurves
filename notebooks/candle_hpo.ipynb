{
 "cells": [
  {
   "cell_type": "markdown",
   "metadata": {},
   "source": [
    "# Getting best results per-shard using CANDLE HPO"
   ]
  },
  {
   "cell_type": "code",
   "execution_count": 1,
   "metadata": {},
   "outputs": [
    {
     "name": "stderr",
     "output_type": "stream",
     "text": [
      "Using TensorFlow backend.\n"
     ]
    }
   ],
   "source": [
    "%load_ext autoreload\n",
    "%autoreload 2\n",
    "%matplotlib inline\n",
    "\n",
    "import warnings\n",
    "warnings.filterwarnings('ignore')\n",
    "\n",
    "import os\n",
    "import sys\n",
    "from pathlib import Path\n",
    "from glob import glob\n",
    "\n",
    "import sklearn\n",
    "import numpy as np\n",
    "import pandas as pd\n",
    "from glob import glob\n",
    "\n",
    "from keras.models import load_model\n",
    "\n",
    "import matplotlib\n",
    "import matplotlib.pyplot as plt"
   ]
  },
  {
   "cell_type": "code",
   "execution_count": null,
   "metadata": {},
   "outputs": [],
   "source": []
  },
  {
   "cell_type": "code",
   "execution_count": 2,
   "metadata": {},
   "outputs": [],
   "source": [
    "basedir = Path('/vol/ml/apartin/projects/LearningCurves/from_harry/lc_hpo_e700')"
   ]
  },
  {
   "cell_type": "code",
   "execution_count": 3,
   "metadata": {},
   "outputs": [],
   "source": [
    "# --------------------------\n",
    "#     UPF file\n",
    "# --------------------------\n",
    "# This file lists all the HPO runs (why id number is missing?)\n",
    "# upf = pd.read_csv(basedir/'upf-lc-hpo.txt', header=None)\n",
    "# upf.columns = ['id', 'epochs', 'dirpath', 'cv_folds', 'shards_arr', 'model_name', 'opt', 'lr', 'dr_rate', 'batch_size']\n",
    "\n",
    "# Update df values\n",
    "# upf['id'] = upf['id'].map(lambda x: x.split('\"id\": ')[-1].replace('\"', ''))\n",
    "# upf['epochs'] = upf['epochs'].map(lambda x: int(x.split('\"epochs\": ')[-1]))\n",
    "# upf['dirpath'] = upf['dirpath'].map(lambda x: x.split('\"dirpath\": ')[-1].replace('\"', ''))\n",
    "# upf['cv_folds'] = upf['cv_folds'].map(lambda x: int(x.split('\"cv_folds\": ')[-1]))\n",
    "# upf['shards_arr'] = upf['shards_arr'].map(lambda x: int(x.split('\"shards_arr\": ')[-1].replace('[', '').replace(']', '')) )\n",
    "# upf['model_name'] = upf['model_name'].map(lambda x: x.split('\"model_name\": ')[-1].replace('\"', ''))\n",
    "# upf['opt'] = upf['opt'].map(lambda x: x.split('\"opt\": ')[-1].replace('\"', ''))\n",
    "# upf['lr'] = upf['lr'].map(lambda x: float(x.split('\"lr\": ')[-1]))\n",
    "# upf['dr_rate'] = upf['dr_rate'].map(lambda x: float(x.split('\"dr_rate\": ')[-1]))\n",
    "# upf['batch_size'] = upf['batch_size'].map(lambda x: x.split('\"batch_size\": ')[-1].rstrip('\\}'))\n",
    "\n",
    "# upf[:5]"
   ]
  },
  {
   "cell_type": "code",
   "execution_count": null,
   "metadata": {},
   "outputs": [],
   "source": []
  },
  {
   "cell_type": "code",
   "execution_count": 4,
   "metadata": {},
   "outputs": [
    {
     "name": "stdout",
     "output_type": "stream",
     "text": [
      "Total runs 384\n",
      "hp.shape (384, 38)\n"
     ]
    }
   ],
   "source": [
    "# Aggregate results from all HPO runs into a dataframe\n",
    "hp = []\n",
    "all_runs = sorted(glob(str(basedir/'run'/'id_*')))\n",
    "print('Total runs {}'.format( len(all_runs) ))\n",
    "for i, r in enumerate(all_runs):\n",
    "    r = glob(str(Path(r)/'output'/'*'))[0]\n",
    "    \n",
    "    # Load args into dict\n",
    "    with open(Path(r)/'args.txt', 'r') as f:\n",
    "        args = {}\n",
    "        for l in f:\n",
    "            k, v = l.rstrip('\\n').split(': ')\n",
    "            args[k] = v\n",
    "            \n",
    "    # Add scores\n",
    "    if (Path(r)/'lrn_crv_scores.csv').exists():\n",
    "        # lrn_crv_scores.csv doesn't exist if it's timed out\n",
    "        scr = pd.read_csv(Path(r)/'lrn_crv_scores.csv')\n",
    "        tr_size = int(args['shards_arr'].replace('[','').replace(']',''))\n",
    "        aa = scr.loc[(scr['tr_size']==tr_size) & (scr['tr_set']==False), ['metric', 'fold1']].reset_index(drop=True)\n",
    "        d = {aa.loc[i, 'metric']: aa.loc[i, 'fold1'] for i in range(aa.shape[0])}    \n",
    "\n",
    "    # Add early stop\n",
    "    tr_dir = Path(glob(str(Path(r)/(f'cv*_sz'+str(tr_size))))[0])\n",
    "    if tr_dir.exists():\n",
    "        if (tr_dir/'krs_history.csv').exists():\n",
    "            h = pd.read_csv(tr_dir/'krs_history.csv')\n",
    "            d['epoch_stop'] = h['epoch'].max()\n",
    "\n",
    "    # Update dict\n",
    "    args.update(d)\n",
    "        \n",
    "    # Agg info from all runs\n",
    "    hp.append(args)\n",
    "\n",
    "hp = pd.DataFrame(hp)\n",
    "print('hp.shape', hp.shape)\n",
    "\n",
    "# Update values\n",
    "hp['shards_arr'] = hp['shards_arr'].map(lambda x: int(x.replace('[', '').replace(']', '')))"
   ]
  },
  {
   "cell_type": "code",
   "execution_count": 5,
   "metadata": {},
   "outputs": [
    {
     "data": {
      "text/plain": [
       "array(['batch_size', 'batchnorm', 'cell_fea', 'clr_base_lr', 'clr_gamma',\n",
       "       'clr_max_lr', 'clr_mode', 'cv_folds', 'cv_folds_arr', 'cv_method',\n",
       "       'dirpath', 'dr_rate', 'drug_fea', 'epoch_stop', 'epochs',\n",
       "       'experiment_id', 'framework', 'id', 'instance_directory', 'lr',\n",
       "       'max_shard', 'mean_absolute_error', 'mean_squared_error',\n",
       "       'median_absolute_error', 'min_shard', 'model_name', 'n_jobs',\n",
       "       'n_shards', 'n_trees', 'opt', 'r2', 'run_id', 'save', 'scaler',\n",
       "       'shard_step_scale', 'shards_arr', 'target_name', 'timeout'],\n",
       "      dtype=object)"
      ]
     },
     "execution_count": 5,
     "metadata": {},
     "output_type": "execute_result"
    }
   ],
   "source": [
    "hp.columns.values"
   ]
  },
  {
   "cell_type": "code",
   "execution_count": 35,
   "metadata": {},
   "outputs": [],
   "source": [
    "# Get a subset of columns\n",
    "col_subset = ['batch_size', 'lr', 'opt', 'dr_rate', 'batchnorm', 'cell_fea', 'clr_mode', 'cv_folds', 'cv_method',\n",
    "              'drug_fea', 'epochs', 'framework', 'model_name',\n",
    "              'n_trees', 'run_id', 'scaler', 'shard_step_scale', 'shards_arr', 'target_name', 'epoch_stop',\n",
    "              'mean_absolute_error', 'mean_squared_error', 'median_absolute_error', 'r2']\n",
    "hp = hp[col_subset]"
   ]
  },
  {
   "cell_type": "code",
   "execution_count": 36,
   "metadata": {},
   "outputs": [
    {
     "data": {
      "text/plain": [
       "shards_arr  batch_size\n",
       "65536       128           32\n",
       "            256           32\n",
       "            32            32\n",
       "            64            32\n",
       "131072      128           32\n",
       "            256           32\n",
       "            32            32\n",
       "            64            32\n",
       "262144      128           32\n",
       "            256           32\n",
       "            32            32\n",
       "            64            32\n",
       "Name: batch_size, dtype: int64"
      ]
     },
     "execution_count": 36,
     "metadata": {},
     "output_type": "execute_result"
    }
   ],
   "source": [
    "hp.groupby('shards_arr')['batch_size'].value_counts()"
   ]
  },
  {
   "cell_type": "code",
   "execution_count": 37,
   "metadata": {},
   "outputs": [],
   "source": [
    "# hp.batch_size.value_counts()"
   ]
  },
  {
   "cell_type": "code",
   "execution_count": 38,
   "metadata": {},
   "outputs": [],
   "source": [
    "# hp.opt.value_counts()"
   ]
  },
  {
   "cell_type": "code",
   "execution_count": 39,
   "metadata": {},
   "outputs": [],
   "source": [
    "# hp.shards_arr.value_counts()"
   ]
  },
  {
   "cell_type": "code",
   "execution_count": 40,
   "metadata": {},
   "outputs": [],
   "source": [
    "# hp.lr.value_counts()"
   ]
  },
  {
   "cell_type": "code",
   "execution_count": 41,
   "metadata": {},
   "outputs": [],
   "source": [
    "# hp.sort_values('mean_absolute_error')"
   ]
  },
  {
   "cell_type": "code",
   "execution_count": 42,
   "metadata": {},
   "outputs": [
    {
     "name": "stdout",
     "output_type": "stream",
     "text": [
      "(384, 24)\n",
      "(46, 24)\n"
     ]
    }
   ],
   "source": [
    "# d1 = hp[hp['shards_arr']==65536].reset_index(drop=True)\n",
    "d1 = hp.reset_index(drop=True)\n",
    "print(d1.shape)\n",
    "d1 = d1[d1['r2']>0.73]\n",
    "print(d1.shape)"
   ]
  },
  {
   "cell_type": "code",
   "execution_count": 43,
   "metadata": {},
   "outputs": [
    {
     "data": {
      "text/html": [
       "<div>\n",
       "<style scoped>\n",
       "    .dataframe tbody tr th:only-of-type {\n",
       "        vertical-align: middle;\n",
       "    }\n",
       "\n",
       "    .dataframe tbody tr th {\n",
       "        vertical-align: top;\n",
       "    }\n",
       "\n",
       "    .dataframe thead th {\n",
       "        text-align: right;\n",
       "    }\n",
       "</style>\n",
       "<table border=\"1\" class=\"dataframe\">\n",
       "  <thead>\n",
       "    <tr style=\"text-align: right;\">\n",
       "      <th></th>\n",
       "      <th>shards_arr</th>\n",
       "      <th>batch_size</th>\n",
       "      <th>dr_rate</th>\n",
       "      <th>opt</th>\n",
       "      <th>lr</th>\n",
       "      <th>mean_absolute_error</th>\n",
       "      <th>mean_squared_error</th>\n",
       "      <th>r2</th>\n",
       "    </tr>\n",
       "  </thead>\n",
       "  <tbody>\n",
       "    <tr>\n",
       "      <th>0</th>\n",
       "      <td>65536</td>\n",
       "      <td>[32, 64, 128, 256]</td>\n",
       "      <td>[0.1, 0, 0.2]</td>\n",
       "      <td>[adam, sgd]</td>\n",
       "      <td>[1e-05, 0.01, 0.0001]</td>\n",
       "      <td>0.049140</td>\n",
       "      <td>0.005496</td>\n",
       "      <td>0.740268</td>\n",
       "    </tr>\n",
       "    <tr>\n",
       "      <th>1</th>\n",
       "      <td>131072</td>\n",
       "      <td>[32, 64, 128, 256]</td>\n",
       "      <td>[0, 0.1, 0.2]</td>\n",
       "      <td>[adam, sgd]</td>\n",
       "      <td>[1e-05, 0.001, 0.01, 0.0001]</td>\n",
       "      <td>0.047997</td>\n",
       "      <td>0.005068</td>\n",
       "      <td>0.760502</td>\n",
       "    </tr>\n",
       "    <tr>\n",
       "      <th>2</th>\n",
       "      <td>262144</td>\n",
       "      <td>[32, 64, 256, 128]</td>\n",
       "      <td>[0, 0.1, 0.2]</td>\n",
       "      <td>[adam, sgd]</td>\n",
       "      <td>[1e-05, 0.001, 0.01, 0.0001]</td>\n",
       "      <td>0.045759</td>\n",
       "      <td>0.004626</td>\n",
       "      <td>0.781399</td>\n",
       "    </tr>\n",
       "  </tbody>\n",
       "</table>\n",
       "</div>"
      ],
      "text/plain": [
       "   shards_arr          batch_size        dr_rate          opt  \\\n",
       "0       65536  [32, 64, 128, 256]  [0.1, 0, 0.2]  [adam, sgd]   \n",
       "1      131072  [32, 64, 128, 256]  [0, 0.1, 0.2]  [adam, sgd]   \n",
       "2      262144  [32, 64, 256, 128]  [0, 0.1, 0.2]  [adam, sgd]   \n",
       "\n",
       "                             lr  mean_absolute_error  mean_squared_error  \\\n",
       "0         [1e-05, 0.01, 0.0001]             0.049140            0.005496   \n",
       "1  [1e-05, 0.001, 0.01, 0.0001]             0.047997            0.005068   \n",
       "2  [1e-05, 0.001, 0.01, 0.0001]             0.045759            0.004626   \n",
       "\n",
       "         r2  \n",
       "0  0.740268  \n",
       "1  0.760502  \n",
       "2  0.781399  "
      ]
     },
     "execution_count": 43,
     "metadata": {},
     "output_type": "execute_result"
    }
   ],
   "source": [
    "d1.groupby('shards_arr').agg({'batch_size': 'unique', 'dr_rate': 'unique', 'opt': 'unique', 'lr': 'unique',\n",
    "                              'mean_absolute_error': 'min', 'mean_squared_error': 'min', 'r2': 'max'}).reset_index()\n",
    "# d1.groupby('shards_arr')['batch_size'].value_counts()"
   ]
  },
  {
   "cell_type": "code",
   "execution_count": 47,
   "metadata": {},
   "outputs": [],
   "source": [
    "def top_runs(df, shard_size=None, n=10, sort_by='r2', plot=False):\n",
    "    if shard_size is not None:\n",
    "        df = df[df['shards_arr']==shard_size].reset_index(drop=True)\n",
    "    if sort_by == 'r2':\n",
    "        df = df.sort_values(sort_by, ascending=False).iloc[:n, :]\n",
    "    else:\n",
    "        df = df.sort_values(sort_by).iloc[:n, :]\n",
    "    \n",
    "    if plot: display(df.transpose())\n",
    "    return df.reset_index(drop=True)"
   ]
  },
  {
   "cell_type": "code",
   "execution_count": 53,
   "metadata": {},
   "outputs": [
    {
     "data": {
      "text/html": [
       "<div>\n",
       "<style scoped>\n",
       "    .dataframe tbody tr th:only-of-type {\n",
       "        vertical-align: middle;\n",
       "    }\n",
       "\n",
       "    .dataframe tbody tr th {\n",
       "        vertical-align: top;\n",
       "    }\n",
       "\n",
       "    .dataframe thead th {\n",
       "        text-align: right;\n",
       "    }\n",
       "</style>\n",
       "<table border=\"1\" class=\"dataframe\">\n",
       "  <thead>\n",
       "    <tr style=\"text-align: right;\">\n",
       "      <th></th>\n",
       "      <th>batch_size</th>\n",
       "      <th>lr</th>\n",
       "      <th>opt</th>\n",
       "      <th>dr_rate</th>\n",
       "      <th>batchnorm</th>\n",
       "      <th>cell_fea</th>\n",
       "      <th>clr_mode</th>\n",
       "      <th>cv_folds</th>\n",
       "      <th>cv_method</th>\n",
       "      <th>drug_fea</th>\n",
       "      <th>...</th>\n",
       "      <th>run_id</th>\n",
       "      <th>scaler</th>\n",
       "      <th>shard_step_scale</th>\n",
       "      <th>shards_arr</th>\n",
       "      <th>target_name</th>\n",
       "      <th>epoch_stop</th>\n",
       "      <th>mean_absolute_error</th>\n",
       "      <th>mean_squared_error</th>\n",
       "      <th>median_absolute_error</th>\n",
       "      <th>r2</th>\n",
       "    </tr>\n",
       "  </thead>\n",
       "  <tbody>\n",
       "    <tr>\n",
       "      <th>0</th>\n",
       "      <td>128</td>\n",
       "      <td>0.0001</td>\n",
       "      <td>adam</td>\n",
       "      <td>0.1</td>\n",
       "      <td>False</td>\n",
       "      <td>['GE']</td>\n",
       "      <td>None</td>\n",
       "      <td>1</td>\n",
       "      <td>simple</td>\n",
       "      <td>['DD']</td>\n",
       "      <td>...</td>\n",
       "      <td>id_54</td>\n",
       "      <td>stnd</td>\n",
       "      <td>log2</td>\n",
       "      <td>65536</td>\n",
       "      <td>AUC</td>\n",
       "      <td>122</td>\n",
       "      <td>0.051723</td>\n",
       "      <td>0.005496</td>\n",
       "      <td>0.03616</td>\n",
       "      <td>0.740268</td>\n",
       "    </tr>\n",
       "  </tbody>\n",
       "</table>\n",
       "<p>1 rows × 24 columns</p>\n",
       "</div>"
      ],
      "text/plain": [
       "  batch_size      lr   opt dr_rate batchnorm cell_fea clr_mode cv_folds  \\\n",
       "0        128  0.0001  adam     0.1     False   ['GE']     None        1   \n",
       "\n",
       "  cv_method drug_fea  ... run_id scaler shard_step_scale shards_arr  \\\n",
       "0    simple   ['DD']  ...  id_54   stnd             log2      65536   \n",
       "\n",
       "  target_name epoch_stop mean_absolute_error  mean_squared_error  \\\n",
       "0         AUC        122            0.051723            0.005496   \n",
       "\n",
       "  median_absolute_error        r2  \n",
       "0               0.03616  0.740268  \n",
       "\n",
       "[1 rows x 24 columns]"
      ]
     },
     "metadata": {},
     "output_type": "display_data"
    }
   ],
   "source": [
    "df = top_runs(hp, shard_size=65536, n=1)\n",
    "display(df)"
   ]
  },
  {
   "cell_type": "code",
   "execution_count": 54,
   "metadata": {},
   "outputs": [
    {
     "data": {
      "text/html": [
       "<div>\n",
       "<style scoped>\n",
       "    .dataframe tbody tr th:only-of-type {\n",
       "        vertical-align: middle;\n",
       "    }\n",
       "\n",
       "    .dataframe tbody tr th {\n",
       "        vertical-align: top;\n",
       "    }\n",
       "\n",
       "    .dataframe thead th {\n",
       "        text-align: right;\n",
       "    }\n",
       "</style>\n",
       "<table border=\"1\" class=\"dataframe\">\n",
       "  <thead>\n",
       "    <tr style=\"text-align: right;\">\n",
       "      <th></th>\n",
       "      <th>batch_size</th>\n",
       "      <th>lr</th>\n",
       "      <th>opt</th>\n",
       "      <th>dr_rate</th>\n",
       "      <th>batchnorm</th>\n",
       "      <th>cell_fea</th>\n",
       "      <th>clr_mode</th>\n",
       "      <th>cv_folds</th>\n",
       "      <th>cv_method</th>\n",
       "      <th>drug_fea</th>\n",
       "      <th>...</th>\n",
       "      <th>run_id</th>\n",
       "      <th>scaler</th>\n",
       "      <th>shard_step_scale</th>\n",
       "      <th>shards_arr</th>\n",
       "      <th>target_name</th>\n",
       "      <th>epoch_stop</th>\n",
       "      <th>mean_absolute_error</th>\n",
       "      <th>mean_squared_error</th>\n",
       "      <th>median_absolute_error</th>\n",
       "      <th>r2</th>\n",
       "    </tr>\n",
       "  </thead>\n",
       "  <tbody>\n",
       "    <tr>\n",
       "      <th>0</th>\n",
       "      <td>32</td>\n",
       "      <td>0.0001</td>\n",
       "      <td>adam</td>\n",
       "      <td>0.1</td>\n",
       "      <td>False</td>\n",
       "      <td>['GE']</td>\n",
       "      <td>None</td>\n",
       "      <td>1</td>\n",
       "      <td>simple</td>\n",
       "      <td>['DD']</td>\n",
       "      <td>...</td>\n",
       "      <td>id_68</td>\n",
       "      <td>stnd</td>\n",
       "      <td>log2</td>\n",
       "      <td>131072</td>\n",
       "      <td>AUC</td>\n",
       "      <td>107</td>\n",
       "      <td>0.048234</td>\n",
       "      <td>0.005068</td>\n",
       "      <td>0.031422</td>\n",
       "      <td>0.760502</td>\n",
       "    </tr>\n",
       "  </tbody>\n",
       "</table>\n",
       "<p>1 rows × 24 columns</p>\n",
       "</div>"
      ],
      "text/plain": [
       "  batch_size      lr   opt dr_rate batchnorm cell_fea clr_mode cv_folds  \\\n",
       "0         32  0.0001  adam     0.1     False   ['GE']     None        1   \n",
       "\n",
       "  cv_method drug_fea  ... run_id scaler shard_step_scale shards_arr  \\\n",
       "0    simple   ['DD']  ...  id_68   stnd             log2     131072   \n",
       "\n",
       "  target_name epoch_stop mean_absolute_error  mean_squared_error  \\\n",
       "0         AUC        107            0.048234            0.005068   \n",
       "\n",
       "  median_absolute_error        r2  \n",
       "0              0.031422  0.760502  \n",
       "\n",
       "[1 rows x 24 columns]"
      ]
     },
     "metadata": {},
     "output_type": "display_data"
    }
   ],
   "source": [
    "df = top_runs(hp, shard_size=131072, n=1)\n",
    "display(df)"
   ]
  },
  {
   "cell_type": "code",
   "execution_count": 55,
   "metadata": {},
   "outputs": [
    {
     "data": {
      "text/html": [
       "<div>\n",
       "<style scoped>\n",
       "    .dataframe tbody tr th:only-of-type {\n",
       "        vertical-align: middle;\n",
       "    }\n",
       "\n",
       "    .dataframe tbody tr th {\n",
       "        vertical-align: top;\n",
       "    }\n",
       "\n",
       "    .dataframe thead th {\n",
       "        text-align: right;\n",
       "    }\n",
       "</style>\n",
       "<table border=\"1\" class=\"dataframe\">\n",
       "  <thead>\n",
       "    <tr style=\"text-align: right;\">\n",
       "      <th></th>\n",
       "      <th>batch_size</th>\n",
       "      <th>lr</th>\n",
       "      <th>opt</th>\n",
       "      <th>dr_rate</th>\n",
       "      <th>batchnorm</th>\n",
       "      <th>cell_fea</th>\n",
       "      <th>clr_mode</th>\n",
       "      <th>cv_folds</th>\n",
       "      <th>cv_method</th>\n",
       "      <th>drug_fea</th>\n",
       "      <th>...</th>\n",
       "      <th>run_id</th>\n",
       "      <th>scaler</th>\n",
       "      <th>shard_step_scale</th>\n",
       "      <th>shards_arr</th>\n",
       "      <th>target_name</th>\n",
       "      <th>epoch_stop</th>\n",
       "      <th>mean_absolute_error</th>\n",
       "      <th>mean_squared_error</th>\n",
       "      <th>median_absolute_error</th>\n",
       "      <th>r2</th>\n",
       "    </tr>\n",
       "  </thead>\n",
       "  <tbody>\n",
       "    <tr>\n",
       "      <th>0</th>\n",
       "      <td>64</td>\n",
       "      <td>0.0001</td>\n",
       "      <td>adam</td>\n",
       "      <td>0.1</td>\n",
       "      <td>False</td>\n",
       "      <td>['GE']</td>\n",
       "      <td>None</td>\n",
       "      <td>1</td>\n",
       "      <td>simple</td>\n",
       "      <td>['DD']</td>\n",
       "      <td>...</td>\n",
       "      <td>id_85</td>\n",
       "      <td>stnd</td>\n",
       "      <td>log2</td>\n",
       "      <td>262144</td>\n",
       "      <td>AUC</td>\n",
       "      <td>91</td>\n",
       "      <td>0.045795</td>\n",
       "      <td>0.004626</td>\n",
       "      <td>0.029842</td>\n",
       "      <td>0.781399</td>\n",
       "    </tr>\n",
       "  </tbody>\n",
       "</table>\n",
       "<p>1 rows × 24 columns</p>\n",
       "</div>"
      ],
      "text/plain": [
       "  batch_size      lr   opt dr_rate batchnorm cell_fea clr_mode cv_folds  \\\n",
       "0         64  0.0001  adam     0.1     False   ['GE']     None        1   \n",
       "\n",
       "  cv_method drug_fea  ... run_id scaler shard_step_scale shards_arr  \\\n",
       "0    simple   ['DD']  ...  id_85   stnd             log2     262144   \n",
       "\n",
       "  target_name epoch_stop mean_absolute_error  mean_squared_error  \\\n",
       "0         AUC         91            0.045795            0.004626   \n",
       "\n",
       "  median_absolute_error        r2  \n",
       "0              0.029842  0.781399  \n",
       "\n",
       "[1 rows x 24 columns]"
      ]
     },
     "metadata": {},
     "output_type": "display_data"
    }
   ],
   "source": [
    "df = top_runs(hp, shard_size=262144, n=1)\n",
    "display(df)"
   ]
  },
  {
   "cell_type": "code",
   "execution_count": null,
   "metadata": {},
   "outputs": [],
   "source": []
  },
  {
   "cell_type": "code",
   "execution_count": null,
   "metadata": {},
   "outputs": [],
   "source": []
  }
 ],
 "metadata": {
  "kernelspec": {
   "display_name": "Python 3",
   "language": "python",
   "name": "python3"
  },
  "language_info": {
   "codemirror_mode": {
    "name": "ipython",
    "version": 3
   },
   "file_extension": ".py",
   "mimetype": "text/x-python",
   "name": "python",
   "nbconvert_exporter": "python",
   "pygments_lexer": "ipython3",
   "version": "3.6.8"
  }
 },
 "nbformat": 4,
 "nbformat_minor": 2
}
