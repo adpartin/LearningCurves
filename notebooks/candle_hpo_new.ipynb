{
 "cells": [
  {
   "cell_type": "markdown",
   "metadata": {},
   "source": [
    "# Getting best results per-shard using CANDLE HPO"
   ]
  },
  {
   "cell_type": "code",
   "execution_count": 29,
   "metadata": {},
   "outputs": [
    {
     "name": "stdout",
     "output_type": "stream",
     "text": [
      "The autoreload extension is already loaded. To reload it, use:\n",
      "  %reload_ext autoreload\n"
     ]
    },
    {
     "data": {
      "text/plain": [
       "PosixPath('/vol/ml/apartin/projects/LearningCurves/notebooks')"
      ]
     },
     "execution_count": 29,
     "metadata": {},
     "output_type": "execute_result"
    }
   ],
   "source": [
    "%load_ext autoreload\n",
    "%autoreload 2\n",
    "%matplotlib inline\n",
    "\n",
    "import warnings\n",
    "warnings.filterwarnings('ignore')\n",
    "\n",
    "import os\n",
    "import sys\n",
    "from pathlib import Path\n",
    "\n",
    "import sklearn\n",
    "import numpy as np\n",
    "import pandas as pd\n",
    "from glob import glob\n",
    "\n",
    "import matplotlib\n",
    "import matplotlib.pyplot as plt\n",
    "\n",
    "# Make all python scripts available in the path\n",
    "sys.path.append('../')\n",
    "\n",
    "import lrn_crv\n",
    "import lrn_crv_plot\n",
    "%matplotlib inline\n",
    "\n",
    "filepath = Path(os.getcwd())\n",
    "filepath"
   ]
  },
  {
   "cell_type": "code",
   "execution_count": 30,
   "metadata": {},
   "outputs": [],
   "source": [
    "# HPO runs\n",
    "hpo_ctrp_nn_dir = Path('/vol/ml/apartin/projects/LearningCurves/hpo_runs/lc_ctrp_nn_reg0_hpo')\n",
    "hpo_gdsc_nn_dir = Path('/vol/ml/apartin/projects/LearningCurves/hpo_runs/lc_gdsc_nn_reg0_hpo')\n",
    "hpo_top6_nn_dir = Path('/vol/ml/apartin/projects/LearningCurves/hpo_runs/lc_top6_nn_reg0_hpo')\n",
    "\n",
    "hpo_ctrp_lgbm_dir = Path('/vol/ml/apartin/projects/LearningCurves/hpo_runs/lc_ctrp_lgbm_hpo')\n",
    "hpo_gdsc_lgbm_dir = Path('/vol/ml/apartin/projects/LearningCurves/hpo_runs/lc_gdsc_lgbm_hpo')\n",
    "# hpo_top6_dir = Path('/vol/ml/apartin/projects/LearningCurves/hpo_runs/lc_top6_lgbm_hpo')"
   ]
  },
  {
   "cell_type": "code",
   "execution_count": null,
   "metadata": {},
   "outputs": [],
   "source": []
  },
  {
   "cell_type": "markdown",
   "metadata": {},
   "source": [
    "# Utils"
   ]
  },
  {
   "cell_type": "code",
   "execution_count": 31,
   "metadata": {},
   "outputs": [],
   "source": [
    "def top_n_runs(df, tr_size=None, n=10, sort_by_metric='mean_absolute_error', plot=False):\n",
    "    \"\"\" Return top runs based on sort_by_metric. \"\"\"\n",
    "    if tr_size is not None:\n",
    "        df = df[df['tr_size']==tr_size].reset_index(drop=True)\n",
    "    if sort_by_metric == 'r2':\n",
    "        df = df.sort_values(sort_by_metric, ascending=False).iloc[:n, :]\n",
    "    else:\n",
    "        df = df.sort_values(sort_by_metric, ascending=True).iloc[:n, :]\n",
    "    \n",
    "    if plot: display(df.transpose())\n",
    "    return df.reset_index(drop=True)"
   ]
  },
  {
   "cell_type": "code",
   "execution_count": null,
   "metadata": {},
   "outputs": [],
   "source": []
  },
  {
   "cell_type": "markdown",
   "metadata": {},
   "source": [
    "# Load results from runs"
   ]
  },
  {
   "cell_type": "code",
   "execution_count": 32,
   "metadata": {},
   "outputs": [],
   "source": [
    "# base_dir = hpo_ctrp_nn_dir\n",
    "base_dir = hpo_gdsc_nn_dir\n",
    "# base_dir = hpo_top6_nn_dir\n",
    "\n",
    "# base_dir = hpo_ctrp_lgbm_dir\n",
    "# base_dir = hpo_gdsc_lgbm_dir\n",
    "# base_dir = hpo_top6_lgbm_dir\n",
    "\n",
    "# Load\n",
    "hp = pd.read_csv( base_dir/'hpo_all.csv' )"
   ]
  },
  {
   "cell_type": "code",
   "execution_count": 33,
   "metadata": {},
   "outputs": [],
   "source": [
    "# Subset of columns\n",
    "if 'nn' in str(base_dir):\n",
    "    col_subset = ['tr_size',\n",
    "                  'batch_size', 'lr', 'opt', 'dr_rate', 'batchnorm', # HPs\n",
    "                  'epoch_stop', 'epochs',\n",
    "                  'run_id',\n",
    "                  # 'clr_mode', 'cv_method', 'scaler',   # potential DL HPs\n",
    "                  # 'n_trees',  # potential LGBM HPs\n",
    "                  # 'cell_fea', 'drug_fea', 'target_name',  # features and response\n",
    "                  # 'framework', 'model_name', 'cv_folds',  # ML settings\n",
    "                  'shard_step_scale', # Other\n",
    "                  'mean_absolute_error', 'mean_squared_error', 'median_absolute_error', 'r2', # scores\n",
    "                 ]\n",
    "else:\n",
    "    col_subset = ['tr_size',\n",
    "                  'gbm_leaves', 'gbm_lr', 'gbm_max_depth', 'gbm_trees', # HPs\n",
    "                  'run_id',\n",
    "                  # 'n_trees',  # potential LGBM HPs\n",
    "                  # 'cell_fea', 'drug_fea', 'target_name',  # features and response\n",
    "                  # 'framework', 'model_name', 'cv_folds',  # ML settings\n",
    "                  'shard_step_scale', # Other\n",
    "                  'mean_absolute_error', 'mean_squared_error', 'median_absolute_error', 'r2', # scores\n",
    "                 ]"
   ]
  },
  {
   "cell_type": "code",
   "execution_count": 34,
   "metadata": {},
   "outputs": [
    {
     "name": "stdout",
     "output_type": "stream",
     "text": [
      "(1683, 13)\n"
     ]
    }
   ],
   "source": [
    "# Cols subset\n",
    "hp = hp[[c for c in col_subset if c in hp.columns]]\n",
    "print(hp.shape)"
   ]
  },
  {
   "cell_type": "code",
   "execution_count": 35,
   "metadata": {},
   "outputs": [
    {
     "data": {
      "text/html": [
       "<div>\n",
       "<style scoped>\n",
       "    .dataframe tbody tr th:only-of-type {\n",
       "        vertical-align: middle;\n",
       "    }\n",
       "\n",
       "    .dataframe tbody tr th {\n",
       "        vertical-align: top;\n",
       "    }\n",
       "\n",
       "    .dataframe thead th {\n",
       "        text-align: right;\n",
       "    }\n",
       "</style>\n",
       "<table border=\"1\" class=\"dataframe\">\n",
       "  <thead>\n",
       "    <tr style=\"text-align: right;\">\n",
       "      <th></th>\n",
       "      <th>tr_size</th>\n",
       "      <th>batch_size</th>\n",
       "      <th>lr</th>\n",
       "      <th>opt</th>\n",
       "      <th>dr_rate</th>\n",
       "      <th>batchnorm</th>\n",
       "      <th>epoch_stop</th>\n",
       "      <th>epochs</th>\n",
       "      <th>run_id</th>\n",
       "      <th>shard_step_scale</th>\n",
       "      <th>mean_absolute_error</th>\n",
       "      <th>median_absolute_error</th>\n",
       "      <th>r2</th>\n",
       "    </tr>\n",
       "  </thead>\n",
       "  <tbody>\n",
       "    <tr>\n",
       "      <th>0</th>\n",
       "      <td>16384</td>\n",
       "      <td>32</td>\n",
       "      <td>0.00001</td>\n",
       "      <td>adam</td>\n",
       "      <td>0.0</td>\n",
       "      <td>True</td>\n",
       "      <td>354</td>\n",
       "      <td>600</td>\n",
       "      <td>id_000</td>\n",
       "      <td>log2</td>\n",
       "      <td>0.079476</td>\n",
       "      <td>0.061043</td>\n",
       "      <td>0.566969</td>\n",
       "    </tr>\n",
       "    <tr>\n",
       "      <th>1</th>\n",
       "      <td>2048</td>\n",
       "      <td>32</td>\n",
       "      <td>0.00001</td>\n",
       "      <td>adam</td>\n",
       "      <td>0.0</td>\n",
       "      <td>True</td>\n",
       "      <td>424</td>\n",
       "      <td>600</td>\n",
       "      <td>id_000</td>\n",
       "      <td>log2</td>\n",
       "      <td>0.109577</td>\n",
       "      <td>0.079785</td>\n",
       "      <td>-0.013417</td>\n",
       "    </tr>\n",
       "    <tr>\n",
       "      <th>2</th>\n",
       "      <td>32768</td>\n",
       "      <td>32</td>\n",
       "      <td>0.00001</td>\n",
       "      <td>adam</td>\n",
       "      <td>0.0</td>\n",
       "      <td>True</td>\n",
       "      <td>188</td>\n",
       "      <td>600</td>\n",
       "      <td>id_000</td>\n",
       "      <td>log2</td>\n",
       "      <td>0.074965</td>\n",
       "      <td>0.056606</td>\n",
       "      <td>0.605526</td>\n",
       "    </tr>\n",
       "  </tbody>\n",
       "</table>\n",
       "</div>"
      ],
      "text/plain": [
       "   tr_size  batch_size       lr   opt  dr_rate  batchnorm  epoch_stop  epochs  \\\n",
       "0    16384          32  0.00001  adam      0.0       True         354     600   \n",
       "1     2048          32  0.00001  adam      0.0       True         424     600   \n",
       "2    32768          32  0.00001  adam      0.0       True         188     600   \n",
       "\n",
       "   run_id shard_step_scale  mean_absolute_error  median_absolute_error  \\\n",
       "0  id_000             log2             0.079476               0.061043   \n",
       "1  id_000             log2             0.109577               0.079785   \n",
       "2  id_000             log2             0.074965               0.056606   \n",
       "\n",
       "         r2  \n",
       "0  0.566969  \n",
       "1 -0.013417  \n",
       "2  0.605526  "
      ]
     },
     "execution_count": 35,
     "metadata": {},
     "output_type": "execute_result"
    }
   ],
   "source": [
    "hp[:3]"
   ]
  },
  {
   "cell_type": "markdown",
   "metadata": {},
   "source": [
    "### Check data"
   ]
  },
  {
   "cell_type": "code",
   "execution_count": 36,
   "metadata": {},
   "outputs": [
    {
     "data": {
      "text/html": [
       "<div>\n",
       "<style scoped>\n",
       "    .dataframe tbody tr th:only-of-type {\n",
       "        vertical-align: middle;\n",
       "    }\n",
       "\n",
       "    .dataframe tbody tr th {\n",
       "        vertical-align: top;\n",
       "    }\n",
       "\n",
       "    .dataframe thead th {\n",
       "        text-align: right;\n",
       "    }\n",
       "</style>\n",
       "<table border=\"1\" class=\"dataframe\">\n",
       "  <thead>\n",
       "    <tr style=\"text-align: right;\">\n",
       "      <th></th>\n",
       "      <th>subset</th>\n",
       "      <th>tr_size</th>\n",
       "    </tr>\n",
       "  </thead>\n",
       "  <tbody>\n",
       "    <tr>\n",
       "      <th>0</th>\n",
       "      <td>2048</td>\n",
       "      <td>256</td>\n",
       "    </tr>\n",
       "    <tr>\n",
       "      <th>1</th>\n",
       "      <td>4096</td>\n",
       "      <td>256</td>\n",
       "    </tr>\n",
       "    <tr>\n",
       "      <th>2</th>\n",
       "      <td>8192</td>\n",
       "      <td>256</td>\n",
       "    </tr>\n",
       "    <tr>\n",
       "      <th>3</th>\n",
       "      <td>16384</td>\n",
       "      <td>256</td>\n",
       "    </tr>\n",
       "    <tr>\n",
       "      <th>4</th>\n",
       "      <td>32768</td>\n",
       "      <td>251</td>\n",
       "    </tr>\n",
       "    <tr>\n",
       "      <th>5</th>\n",
       "      <td>65536</td>\n",
       "      <td>222</td>\n",
       "    </tr>\n",
       "    <tr>\n",
       "      <th>6</th>\n",
       "      <td>88416</td>\n",
       "      <td>186</td>\n",
       "    </tr>\n",
       "  </tbody>\n",
       "</table>\n",
       "</div>"
      ],
      "text/plain": [
       "   subset  tr_size\n",
       "0    2048      256\n",
       "1    4096      256\n",
       "2    8192      256\n",
       "3   16384      256\n",
       "4   32768      251\n",
       "5   65536      222\n",
       "6   88416      186"
      ]
     },
     "execution_count": 36,
     "metadata": {},
     "output_type": "execute_result"
    }
   ],
   "source": [
    "# Certain runs were not completed --> check\n",
    "hp['tr_size'].value_counts().reset_index().rename(columns={'index': 'subset'}).sort_values('subset').reset_index(drop=True)"
   ]
  },
  {
   "cell_type": "code",
   "execution_count": 39,
   "metadata": {},
   "outputs": [
    {
     "data": {
      "text/html": [
       "<div>\n",
       "<style scoped>\n",
       "    .dataframe tbody tr th:only-of-type {\n",
       "        vertical-align: middle;\n",
       "    }\n",
       "\n",
       "    .dataframe tbody tr th {\n",
       "        vertical-align: top;\n",
       "    }\n",
       "\n",
       "    .dataframe thead th {\n",
       "        text-align: right;\n",
       "    }\n",
       "</style>\n",
       "<table border=\"1\" class=\"dataframe\">\n",
       "  <thead>\n",
       "    <tr style=\"text-align: right;\">\n",
       "      <th></th>\n",
       "      <th>tr_size</th>\n",
       "      <th>batch_size</th>\n",
       "      <th>count</th>\n",
       "    </tr>\n",
       "  </thead>\n",
       "  <tbody>\n",
       "    <tr>\n",
       "      <th>0</th>\n",
       "      <td>2048</td>\n",
       "      <td>32</td>\n",
       "      <td>64</td>\n",
       "    </tr>\n",
       "    <tr>\n",
       "      <th>1</th>\n",
       "      <td>2048</td>\n",
       "      <td>64</td>\n",
       "      <td>64</td>\n",
       "    </tr>\n",
       "    <tr>\n",
       "      <th>2</th>\n",
       "      <td>2048</td>\n",
       "      <td>128</td>\n",
       "      <td>64</td>\n",
       "    </tr>\n",
       "    <tr>\n",
       "      <th>3</th>\n",
       "      <td>2048</td>\n",
       "      <td>256</td>\n",
       "      <td>64</td>\n",
       "    </tr>\n",
       "    <tr>\n",
       "      <th>4</th>\n",
       "      <td>4096</td>\n",
       "      <td>32</td>\n",
       "      <td>64</td>\n",
       "    </tr>\n",
       "    <tr>\n",
       "      <th>5</th>\n",
       "      <td>4096</td>\n",
       "      <td>64</td>\n",
       "      <td>64</td>\n",
       "    </tr>\n",
       "    <tr>\n",
       "      <th>6</th>\n",
       "      <td>4096</td>\n",
       "      <td>128</td>\n",
       "      <td>64</td>\n",
       "    </tr>\n",
       "    <tr>\n",
       "      <th>7</th>\n",
       "      <td>4096</td>\n",
       "      <td>256</td>\n",
       "      <td>64</td>\n",
       "    </tr>\n",
       "    <tr>\n",
       "      <th>8</th>\n",
       "      <td>8192</td>\n",
       "      <td>32</td>\n",
       "      <td>64</td>\n",
       "    </tr>\n",
       "    <tr>\n",
       "      <th>9</th>\n",
       "      <td>8192</td>\n",
       "      <td>64</td>\n",
       "      <td>64</td>\n",
       "    </tr>\n",
       "  </tbody>\n",
       "</table>\n",
       "</div>"
      ],
      "text/plain": [
       "   tr_size  batch_size  count\n",
       "0     2048          32     64\n",
       "1     2048          64     64\n",
       "2     2048         128     64\n",
       "3     2048         256     64\n",
       "4     4096          32     64\n",
       "5     4096          64     64\n",
       "6     4096         128     64\n",
       "7     4096         256     64\n",
       "8     8192          32     64\n",
       "9     8192          64     64"
      ]
     },
     "metadata": {},
     "output_type": "display_data"
    }
   ],
   "source": [
    "# certain runs were not completed (a more detailed look)\n",
    "if 'nn' in str(base_dir):\n",
    "    display(hp.groupby(['tr_size', 'batch_size']).agg({'r2': 'size'}).reset_index().rename(columns={'r2': 'count'})[:10])"
   ]
  },
  {
   "cell_type": "code",
   "execution_count": 40,
   "metadata": {},
   "outputs": [
    {
     "data": {
      "text/html": [
       "<div>\n",
       "<style scoped>\n",
       "    .dataframe tbody tr th:only-of-type {\n",
       "        vertical-align: middle;\n",
       "    }\n",
       "\n",
       "    .dataframe tbody tr th {\n",
       "        vertical-align: top;\n",
       "    }\n",
       "\n",
       "    .dataframe thead th {\n",
       "        text-align: right;\n",
       "    }\n",
       "</style>\n",
       "<table border=\"1\" class=\"dataframe\">\n",
       "  <thead>\n",
       "    <tr style=\"text-align: right;\">\n",
       "      <th></th>\n",
       "      <th>tr_size</th>\n",
       "      <th>batch_size</th>\n",
       "      <th>dr_rate</th>\n",
       "      <th>opt</th>\n",
       "      <th>lr</th>\n",
       "      <th>mean_absolute_error</th>\n",
       "      <th>r2</th>\n",
       "    </tr>\n",
       "  </thead>\n",
       "  <tbody>\n",
       "    <tr>\n",
       "      <th>0</th>\n",
       "      <td>2048</td>\n",
       "      <td>[32, 64, 128, 256]</td>\n",
       "      <td>[0.0, 0.1, 0.2, 0.3]</td>\n",
       "      <td>[adam, sgd]</td>\n",
       "      <td>[1e-05, 0.0001, 0.001, 0.01]</td>\n",
       "      <td>0.083689</td>\n",
       "      <td>0.523973</td>\n",
       "    </tr>\n",
       "    <tr>\n",
       "      <th>1</th>\n",
       "      <td>4096</td>\n",
       "      <td>[32, 64, 128, 256]</td>\n",
       "      <td>[0.0, 0.1, 0.2, 0.3]</td>\n",
       "      <td>[adam, sgd]</td>\n",
       "      <td>[1e-05, 0.0001, 0.001, 0.01]</td>\n",
       "      <td>0.078094</td>\n",
       "      <td>0.567769</td>\n",
       "    </tr>\n",
       "    <tr>\n",
       "      <th>2</th>\n",
       "      <td>8192</td>\n",
       "      <td>[32, 64, 128, 256]</td>\n",
       "      <td>[0.0, 0.1, 0.2, 0.3]</td>\n",
       "      <td>[adam, sgd]</td>\n",
       "      <td>[1e-05, 0.0001, 0.001, 0.01]</td>\n",
       "      <td>0.075140</td>\n",
       "      <td>0.607003</td>\n",
       "    </tr>\n",
       "    <tr>\n",
       "      <th>3</th>\n",
       "      <td>16384</td>\n",
       "      <td>[32, 64, 128, 256]</td>\n",
       "      <td>[0.0, 0.1, 0.2, 0.3]</td>\n",
       "      <td>[adam, sgd]</td>\n",
       "      <td>[1e-05, 0.0001, 0.001, 0.01]</td>\n",
       "      <td>0.071646</td>\n",
       "      <td>0.640094</td>\n",
       "    </tr>\n",
       "    <tr>\n",
       "      <th>4</th>\n",
       "      <td>32768</td>\n",
       "      <td>[32, 64, 128, 256]</td>\n",
       "      <td>[0.0, 0.1, 0.2, 0.3]</td>\n",
       "      <td>[adam, sgd]</td>\n",
       "      <td>[1e-05, 0.0001, 0.001, 0.01]</td>\n",
       "      <td>0.068200</td>\n",
       "      <td>0.671603</td>\n",
       "    </tr>\n",
       "    <tr>\n",
       "      <th>5</th>\n",
       "      <td>65536</td>\n",
       "      <td>[32, 64, 128, 256]</td>\n",
       "      <td>[0.0, 0.1, 0.2, 0.3]</td>\n",
       "      <td>[adam, sgd]</td>\n",
       "      <td>[1e-05, 0.0001, 0.001, 0.01]</td>\n",
       "      <td>0.063936</td>\n",
       "      <td>0.706599</td>\n",
       "    </tr>\n",
       "    <tr>\n",
       "      <th>6</th>\n",
       "      <td>88416</td>\n",
       "      <td>[64, 128, 256, 32]</td>\n",
       "      <td>[0.0, 0.1, 0.2, 0.3]</td>\n",
       "      <td>[adam, sgd]</td>\n",
       "      <td>[1e-05, 0.0001, 0.001, 0.01]</td>\n",
       "      <td>0.061893</td>\n",
       "      <td>0.721139</td>\n",
       "    </tr>\n",
       "  </tbody>\n",
       "</table>\n",
       "</div>"
      ],
      "text/plain": [
       "   tr_size          batch_size               dr_rate          opt  \\\n",
       "0     2048  [32, 64, 128, 256]  [0.0, 0.1, 0.2, 0.3]  [adam, sgd]   \n",
       "1     4096  [32, 64, 128, 256]  [0.0, 0.1, 0.2, 0.3]  [adam, sgd]   \n",
       "2     8192  [32, 64, 128, 256]  [0.0, 0.1, 0.2, 0.3]  [adam, sgd]   \n",
       "3    16384  [32, 64, 128, 256]  [0.0, 0.1, 0.2, 0.3]  [adam, sgd]   \n",
       "4    32768  [32, 64, 128, 256]  [0.0, 0.1, 0.2, 0.3]  [adam, sgd]   \n",
       "5    65536  [32, 64, 128, 256]  [0.0, 0.1, 0.2, 0.3]  [adam, sgd]   \n",
       "6    88416  [64, 128, 256, 32]  [0.0, 0.1, 0.2, 0.3]  [adam, sgd]   \n",
       "\n",
       "                             lr  mean_absolute_error        r2  \n",
       "0  [1e-05, 0.0001, 0.001, 0.01]             0.083689  0.523973  \n",
       "1  [1e-05, 0.0001, 0.001, 0.01]             0.078094  0.567769  \n",
       "2  [1e-05, 0.0001, 0.001, 0.01]             0.075140  0.607003  \n",
       "3  [1e-05, 0.0001, 0.001, 0.01]             0.071646  0.640094  \n",
       "4  [1e-05, 0.0001, 0.001, 0.01]             0.068200  0.671603  \n",
       "5  [1e-05, 0.0001, 0.001, 0.01]             0.063936  0.706599  \n",
       "6  [1e-05, 0.0001, 0.001, 0.01]             0.061893  0.721139  "
      ]
     },
     "metadata": {},
     "output_type": "display_data"
    }
   ],
   "source": [
    "# All HP per subset size\n",
    "if 'nn' in str(base_dir):\n",
    "    display(hp.groupby('tr_size').agg({'batch_size': 'unique', 'dr_rate': 'unique', 'opt': 'unique', 'lr': 'unique',\n",
    "                               'mean_absolute_error': 'min', 'r2': 'max'}).reset_index())\n",
    "elif 'lgbm' in str(base_dir):\n",
    "    display(hp.groupby('tr_size').agg({'gbm_leaves': 'unique', 'gbm_lr': 'unique', 'gbm_max_depth': 'unique', 'gbm_trees': 'unique',\n",
    "                               'mean_absolute_error': 'min', 'r2': 'max'}).reset_index())"
   ]
  },
  {
   "cell_type": "code",
   "execution_count": 41,
   "metadata": {},
   "outputs": [
    {
     "name": "stdout",
     "output_type": "stream",
     "text": [
      "Early stop was not activated for 390 runs out of 1683\n"
     ]
    }
   ],
   "source": [
    "# Certain runs were did not converge (early stop was not activated)\n",
    "if 'nn' in str(base_dir):\n",
    "    not_cnv = hp[ hp['epoch_stop']==hp['epochs'] ]\n",
    "    print('Early stop was not activated for {} runs out of {}'.format( not_cnv.shape[0], hp.shape[0] ))"
   ]
  },
  {
   "cell_type": "code",
   "execution_count": null,
   "metadata": {},
   "outputs": [],
   "source": []
  },
  {
   "cell_type": "markdown",
   "metadata": {},
   "source": [
    "## Plot all runs per metric"
   ]
  },
  {
   "cell_type": "code",
   "execution_count": 42,
   "metadata": {},
   "outputs": [],
   "source": [
    "met = 'mean_absolute_error'\n",
    "\n",
    "# Plot settings\n",
    "figsize=(7,5)\n",
    "# xtick_scale, ytick_scale = 'linear', 'linear'\n",
    "xtick_scale, ytick_scale = 'log2', 'log2'"
   ]
  },
  {
   "cell_type": "code",
   "execution_count": 43,
   "metadata": {},
   "outputs": [
    {
     "data": {
      "image/png": "[encoded data removed]",
      "text/plain": [
       "<Figure size 504x360 with 1 Axes>"
      ]
     },
     "metadata": {
      "needs_background": "light"
     },
     "output_type": "display_data"
    }
   ],
   "source": [
    "fig, ax = plt.subplots(figsize=figsize)\n",
    "plt.plot(hp['tr_size'], hp[met], '.', alpha=0.5); plt.grid(True); plt.xlabel('Train Size (Log2)'); plt.ylabel(lrn_crv_plot.capitalize_metric(met) + ' (Log2)');\n",
    "ax.set_title('Results from Grid Search (total runs: {})'.format(hp.shape[0]))\n",
    "ax.set_xscale('log', basex=2)\n",
    "# ax.set_yscale('log', basey=2)"
   ]
  },
  {
   "cell_type": "code",
   "execution_count": null,
   "metadata": {},
   "outputs": [],
   "source": []
  },
  {
   "cell_type": "markdown",
   "metadata": {},
   "source": [
    "# Compare PS-HPO and LS-HPO"
   ]
  },
  {
   "cell_type": "code",
   "execution_count": 44,
   "metadata": {},
   "outputs": [],
   "source": [
    "plot_kwargs = {'plot_fit': True, 'metric_name': met, 'xtick_scale': xtick_scale, 'ytick_scale': xtick_scale,\n",
    "               'figsize': figsize}"
   ]
  },
  {
   "cell_type": "code",
   "execution_count": null,
   "metadata": {},
   "outputs": [],
   "source": []
  },
  {
   "cell_type": "markdown",
   "metadata": {},
   "source": [
    "## Per-Subset HPO\n",
    "Extract the best performance score for every shard (for each metric)"
   ]
  },
  {
   "cell_type": "code",
   "execution_count": 45,
   "metadata": {},
   "outputs": [
    {
     "data": {
      "text/html": [
       "<div>\n",
       "<style scoped>\n",
       "    .dataframe tbody tr th:only-of-type {\n",
       "        vertical-align: middle;\n",
       "    }\n",
       "\n",
       "    .dataframe tbody tr th {\n",
       "        vertical-align: top;\n",
       "    }\n",
       "\n",
       "    .dataframe thead th {\n",
       "        text-align: right;\n",
       "    }\n",
       "</style>\n",
       "<table border=\"1\" class=\"dataframe\">\n",
       "  <thead>\n",
       "    <tr style=\"text-align: right;\">\n",
       "      <th></th>\n",
       "      <th>tr_size</th>\n",
       "      <th>batch_size</th>\n",
       "      <th>lr</th>\n",
       "      <th>opt</th>\n",
       "      <th>dr_rate</th>\n",
       "      <th>batchnorm</th>\n",
       "      <th>epoch_stop</th>\n",
       "      <th>epochs</th>\n",
       "      <th>run_id</th>\n",
       "      <th>shard_step_scale</th>\n",
       "      <th>mean_absolute_error</th>\n",
       "      <th>median_absolute_error</th>\n",
       "      <th>r2</th>\n",
       "    </tr>\n",
       "  </thead>\n",
       "  <tbody>\n",
       "    <tr>\n",
       "      <th>0</th>\n",
       "      <td>2048</td>\n",
       "      <td>64</td>\n",
       "      <td>0.0100</td>\n",
       "      <td>adam</td>\n",
       "      <td>0.2</td>\n",
       "      <td>True</td>\n",
       "      <td>151</td>\n",
       "      <td>600</td>\n",
       "      <td>id_105</td>\n",
       "      <td>log2</td>\n",
       "      <td>0.083689</td>\n",
       "      <td>0.062011</td>\n",
       "      <td>0.514818</td>\n",
       "    </tr>\n",
       "    <tr>\n",
       "      <th>1</th>\n",
       "      <td>4096</td>\n",
       "      <td>32</td>\n",
       "      <td>0.0001</td>\n",
       "      <td>adam</td>\n",
       "      <td>0.2</td>\n",
       "      <td>True</td>\n",
       "      <td>318</td>\n",
       "      <td>600</td>\n",
       "      <td>id_040</td>\n",
       "      <td>log2</td>\n",
       "      <td>0.078094</td>\n",
       "      <td>0.057655</td>\n",
       "      <td>0.565306</td>\n",
       "    </tr>\n",
       "    <tr>\n",
       "      <th>2</th>\n",
       "      <td>8192</td>\n",
       "      <td>32</td>\n",
       "      <td>0.0001</td>\n",
       "      <td>adam</td>\n",
       "      <td>0.2</td>\n",
       "      <td>False</td>\n",
       "      <td>179</td>\n",
       "      <td>600</td>\n",
       "      <td>id_056</td>\n",
       "      <td>log2</td>\n",
       "      <td>0.075140</td>\n",
       "      <td>0.055555</td>\n",
       "      <td>0.600735</td>\n",
       "    </tr>\n",
       "    <tr>\n",
       "      <th>3</th>\n",
       "      <td>16384</td>\n",
       "      <td>64</td>\n",
       "      <td>0.0010</td>\n",
       "      <td>adam</td>\n",
       "      <td>0.3</td>\n",
       "      <td>False</td>\n",
       "      <td>107</td>\n",
       "      <td>600</td>\n",
       "      <td>id_093</td>\n",
       "      <td>log2</td>\n",
       "      <td>0.071646</td>\n",
       "      <td>0.053056</td>\n",
       "      <td>0.633708</td>\n",
       "    </tr>\n",
       "    <tr>\n",
       "      <th>4</th>\n",
       "      <td>32768</td>\n",
       "      <td>64</td>\n",
       "      <td>0.0100</td>\n",
       "      <td>sgd</td>\n",
       "      <td>0.2</td>\n",
       "      <td>True</td>\n",
       "      <td>299</td>\n",
       "      <td>600</td>\n",
       "      <td>id_233</td>\n",
       "      <td>log2</td>\n",
       "      <td>0.068200</td>\n",
       "      <td>0.051545</td>\n",
       "      <td>0.671603</td>\n",
       "    </tr>\n",
       "    <tr>\n",
       "      <th>5</th>\n",
       "      <td>65536</td>\n",
       "      <td>128</td>\n",
       "      <td>0.0001</td>\n",
       "      <td>adam</td>\n",
       "      <td>0.3</td>\n",
       "      <td>False</td>\n",
       "      <td>234</td>\n",
       "      <td>600</td>\n",
       "      <td>id_062</td>\n",
       "      <td>log2</td>\n",
       "      <td>0.063936</td>\n",
       "      <td>0.046559</td>\n",
       "      <td>0.702178</td>\n",
       "    </tr>\n",
       "    <tr>\n",
       "      <th>6</th>\n",
       "      <td>88416</td>\n",
       "      <td>64</td>\n",
       "      <td>0.0001</td>\n",
       "      <td>adam</td>\n",
       "      <td>0.2</td>\n",
       "      <td>False</td>\n",
       "      <td>210</td>\n",
       "      <td>600</td>\n",
       "      <td>id_057</td>\n",
       "      <td>log2</td>\n",
       "      <td>0.061893</td>\n",
       "      <td>0.043283</td>\n",
       "      <td>0.712297</td>\n",
       "    </tr>\n",
       "  </tbody>\n",
       "</table>\n",
       "</div>"
      ],
      "text/plain": [
       "   tr_size  batch_size      lr   opt  dr_rate  batchnorm  epoch_stop  epochs  \\\n",
       "0     2048          64  0.0100  adam      0.2       True         151     600   \n",
       "1     4096          32  0.0001  adam      0.2       True         318     600   \n",
       "2     8192          32  0.0001  adam      0.2      False         179     600   \n",
       "3    16384          64  0.0010  adam      0.3      False         107     600   \n",
       "4    32768          64  0.0100   sgd      0.2       True         299     600   \n",
       "5    65536         128  0.0001  adam      0.3      False         234     600   \n",
       "6    88416          64  0.0001  adam      0.2      False         210     600   \n",
       "\n",
       "   run_id shard_step_scale  mean_absolute_error  median_absolute_error  \\\n",
       "0  id_105             log2             0.083689               0.062011   \n",
       "1  id_040             log2             0.078094               0.057655   \n",
       "2  id_056             log2             0.075140               0.055555   \n",
       "3  id_093             log2             0.071646               0.053056   \n",
       "4  id_233             log2             0.068200               0.051545   \n",
       "5  id_062             log2             0.063936               0.046559   \n",
       "6  id_057             log2             0.061893               0.043283   \n",
       "\n",
       "         r2  \n",
       "0  0.514818  \n",
       "1  0.565306  \n",
       "2  0.600735  \n",
       "3  0.633708  \n",
       "4  0.671603  \n",
       "5  0.702178  \n",
       "6  0.712297  "
      ]
     },
     "execution_count": 45,
     "metadata": {},
     "output_type": "execute_result"
    }
   ],
   "source": [
    "ps_best = hp.sort_values(met, ascending=True).drop_duplicates(['tr_size']).sort_values('tr_size').reset_index(drop=True)\n",
    "ps_best"
   ]
  },
  {
   "cell_type": "code",
   "execution_count": 46,
   "metadata": {},
   "outputs": [
    {
     "data": {
      "image/png": "[encoded data removed]",
      "text/plain": [
       "<Figure size 504x360 with 1 Axes>"
      ]
     },
     "metadata": {
      "needs_background": "light"
     },
     "output_type": "display_data"
    }
   ],
   "source": [
    "lrn_crv_plot.plot_lrn_crv_power_law( x = ps_best['tr_size'], y = ps_best[met], title='Per-Subset HPO', **plot_kwargs );"
   ]
  },
  {
   "cell_type": "code",
   "execution_count": null,
   "metadata": {},
   "outputs": [],
   "source": []
  },
  {
   "cell_type": "markdown",
   "metadata": {},
   "source": [
    "# Largest-Subset HPO\n",
    "Extract the best performance score for the largest shard (for each metric)"
   ]
  },
  {
   "cell_type": "code",
   "execution_count": 47,
   "metadata": {},
   "outputs": [
    {
     "data": {
      "text/html": [
       "<div>\n",
       "<style scoped>\n",
       "    .dataframe tbody tr th:only-of-type {\n",
       "        vertical-align: middle;\n",
       "    }\n",
       "\n",
       "    .dataframe tbody tr th {\n",
       "        vertical-align: top;\n",
       "    }\n",
       "\n",
       "    .dataframe thead th {\n",
       "        text-align: right;\n",
       "    }\n",
       "</style>\n",
       "<table border=\"1\" class=\"dataframe\">\n",
       "  <thead>\n",
       "    <tr style=\"text-align: right;\">\n",
       "      <th></th>\n",
       "      <th>tr_size</th>\n",
       "      <th>batch_size</th>\n",
       "      <th>lr</th>\n",
       "      <th>opt</th>\n",
       "      <th>dr_rate</th>\n",
       "      <th>batchnorm</th>\n",
       "      <th>epoch_stop</th>\n",
       "      <th>epochs</th>\n",
       "      <th>run_id</th>\n",
       "      <th>shard_step_scale</th>\n",
       "      <th>mean_absolute_error</th>\n",
       "      <th>median_absolute_error</th>\n",
       "      <th>r2</th>\n",
       "    </tr>\n",
       "  </thead>\n",
       "  <tbody>\n",
       "    <tr>\n",
       "      <th>0</th>\n",
       "      <td>88416</td>\n",
       "      <td>64</td>\n",
       "      <td>0.0001</td>\n",
       "      <td>adam</td>\n",
       "      <td>0.2</td>\n",
       "      <td>False</td>\n",
       "      <td>210</td>\n",
       "      <td>600</td>\n",
       "      <td>id_057</td>\n",
       "      <td>log2</td>\n",
       "      <td>0.061893</td>\n",
       "      <td>0.043283</td>\n",
       "      <td>0.712297</td>\n",
       "    </tr>\n",
       "  </tbody>\n",
       "</table>\n",
       "</div>"
      ],
      "text/plain": [
       "   tr_size  batch_size      lr   opt  dr_rate  batchnorm  epoch_stop  epochs  \\\n",
       "0    88416          64  0.0001  adam      0.2      False         210     600   \n",
       "\n",
       "   run_id shard_step_scale  mean_absolute_error  median_absolute_error  \\\n",
       "0  id_057             log2             0.061893               0.043283   \n",
       "\n",
       "         r2  \n",
       "0  0.712297  "
      ]
     },
     "metadata": {},
     "output_type": "display_data"
    }
   ],
   "source": [
    "best = top_n_runs(hp, tr_size=hp['tr_size'].max(), n=1, sort_by_metric=met, plot=False)\n",
    "display(best)"
   ]
  },
  {
   "cell_type": "code",
   "execution_count": 48,
   "metadata": {},
   "outputs": [],
   "source": [
    "# idx = (hp['opt']==best['opt'][0]) & (hp['lr']==best['lr'][0]) & (hp['dr_rate']==best['dr_rate'][0]) & (hp['batch_size']==best['batch_size'][0]) & (hp['batchnorm']==best['batchnorm'][0])\n",
    "# ls_best = hp[ idx ].sort_values('tr_size').reset_index(drop=True)"
   ]
  },
  {
   "cell_type": "code",
   "execution_count": 49,
   "metadata": {},
   "outputs": [],
   "source": [
    "if 'nn' in str(base_dir):\n",
    "    prm_names = ['dr_rate', 'opt', 'lr', 'batchnorm', 'batch_size']\n",
    "elif 'lgbm' in str(base_dir):\n",
    "    prm_names = ['gbm_trees', 'gbm_max_depth', 'gbm_lr', 'gbm_leaves']"
   ]
  },
  {
   "cell_type": "code",
   "execution_count": 50,
   "metadata": {},
   "outputs": [],
   "source": [
    "idx = pd.Series(True, index=range(hp.shape[0]))\n",
    "for c in prm_names:\n",
    "    # print(c, best[c][0])\n",
    "    idx = idx & ( hp[c] == best[c][0] )\n",
    "    \n",
    "ls_best = hp[ idx ].sort_values('tr_size').reset_index(drop=True)"
   ]
  },
  {
   "cell_type": "code",
   "execution_count": 51,
   "metadata": {},
   "outputs": [
    {
     "data": {
      "image/png": "[encoded data removed]",
      "text/plain": [
       "<Figure size 504x360 with 1 Axes>"
      ]
     },
     "metadata": {
      "needs_background": "light"
     },
     "output_type": "display_data"
    }
   ],
   "source": [
    "lrn_crv_plot.plot_lrn_crv_power_law( x = ls_best['tr_size'], y = ls_best[met], title='Largest-Subset HPO', **plot_kwargs );"
   ]
  },
  {
   "cell_type": "code",
   "execution_count": null,
   "metadata": {},
   "outputs": [],
   "source": []
  },
  {
   "cell_type": "markdown",
   "metadata": {},
   "source": [
    "## PS-HPO vs LS-HPO fit"
   ]
  },
  {
   "cell_type": "code",
   "execution_count": 25,
   "metadata": {},
   "outputs": [
    {
     "data": {
      "image/png": "[encoded data removed]",
      "text/plain": [
       "<Figure size 504x360 with 1 Axes>"
      ]
     },
     "metadata": {
      "needs_background": "light"
     },
     "output_type": "display_data"
    }
   ],
   "source": [
    "marker='o'; alpha=0.5\n",
    "\n",
    "ax, pwr_law_params = lrn_crv_plot.plot_lrn_crv_power_law(x=ps_best['tr_size'], y=ps_best[met],\n",
    "                                                         marker=marker, alpha=alpha, label='PS-HPO',\n",
    "                                                         ax=None, **plot_kwargs)\n",
    "\n",
    "ax, pwr_law_params = lrn_crv_plot.plot_lrn_crv_power_law(x=ls_best['tr_size'], y=ls_best[met],\n",
    "                                                         marker=marker, alpha=alpha, label='LS-HPO', \n",
    "                                                         ax=ax, **plot_kwargs,\n",
    "                                                         title='Per-Subset HPO vs. Largest-Subset HPO')"
   ]
  },
  {
   "cell_type": "markdown",
   "metadata": {},
   "source": [
    "## PS-HPO vs LS-HPO extrapolate"
   ]
  },
  {
   "cell_type": "code",
   "execution_count": 28,
   "metadata": {},
   "outputs": [],
   "source": [
    "m0 = 9"
   ]
  },
  {
   "cell_type": "code",
   "execution_count": 29,
   "metadata": {},
   "outputs": [
    {
     "data": {
      "text/plain": [
       "(<matplotlib.axes._subplots.AxesSubplot at 0x7f3e30814390>,\n",
       " {'alpha': 0.29325062145429553,\n",
       "  'beta': -0.3238105835844031,\n",
       "  'gamma': 0.059407797845529096})"
      ]
     },
     "execution_count": 29,
     "metadata": {},
     "output_type": "execute_result"
    },
    {
     "data": {
      "image/png": "[encoded data removed]",
      "text/plain": [
       "<Figure size 504x360 with 1 Axes>"
      ]
     },
     "metadata": {
      "needs_background": "light"
     },
     "output_type": "display_data"
    }
   ],
   "source": [
    "lrn_crv_plot.lrn_crv_power_law_extrapolate(x=ls_best['tr_size'], y=ls_best[met],\n",
    "                                           m0=m0, **plot_kwargs, title='Largest-Subset HPO')"
   ]
  },
  {
   "cell_type": "code",
   "execution_count": 30,
   "metadata": {},
   "outputs": [
    {
     "data": {
      "text/plain": [
       "(<matplotlib.axes._subplots.AxesSubplot at 0x7f3e3085d6d8>,\n",
       " {'alpha': 0.2967430511815115,\n",
       "  'beta': -0.32917909441285775,\n",
       "  'gamma': 0.05953145919464494})"
      ]
     },
     "execution_count": 30,
     "metadata": {},
     "output_type": "execute_result"
    },
    {
     "data": {
      "image/png": "[encoded data removed]",
      "text/plain": [
       "<Figure size 504x360 with 1 Axes>"
      ]
     },
     "metadata": {
      "needs_background": "light"
     },
     "output_type": "display_data"
    }
   ],
   "source": [
    "lrn_crv_plot.lrn_crv_power_law_extrapolate(x=ps_best['tr_size'], y=ps_best[met],\n",
    "                                           m0=m0, **plot_kwargs, title='Per-Subset HPO')"
   ]
  },
  {
   "cell_type": "code",
   "execution_count": null,
   "metadata": {},
   "outputs": [],
   "source": []
  },
  {
   "cell_type": "markdown",
   "metadata": {},
   "source": [
    "# Curve Fit\n",
    "Matlab Package\n",
    "- https://www.mathworks.com/help/stats/examples/weighted-nonlinear-regression.html<br>\n",
    "\n",
    "R Package\n",
    "- https://stat.ethz.ch/R-manual/R-devel/library/stats/html/nls.html\n",
    "- https://stackoverflow.com/questions/27722664/r-fitting-power-law-curve-to-data-starting-value-for-c\n",
    "- https://www.rdocumentation.org/packages/stats/versions/3.6.1/topics/nls"
   ]
  },
  {
   "cell_type": "code",
   "execution_count": 61,
   "metadata": {},
   "outputs": [],
   "source": [
    "x = ps_best['tr_size']\n",
    "y = ps_best['mean_absolute_error']"
   ]
  },
  {
   "cell_type": "code",
   "execution_count": 80,
   "metadata": {},
   "outputs": [],
   "source": [
    "# np.polyfit returns polynomial coefficients, highest power first\n",
    "# y = Ax^b\n",
    "# log(y) = log(Ax^b) = log(A) + b*log(x) --> log(A) = p[1], b = p[0]\n",
    "expon, amp = np.polyfit( np.log(x+1.e-14), np.log(y+1.e-14), deg=1 )"
   ]
  },
  {
   "cell_type": "code",
   "execution_count": 69,
   "metadata": {},
   "outputs": [],
   "source": [
    "w = x / (np.exp(1) * (1-np.exp(1)))\n",
    "w = 2**(np.arange(len(x)) + 1)"
   ]
  },
  {
   "cell_type": "code",
   "execution_count": 70,
   "metadata": {},
   "outputs": [
    {
     "data": {
      "text/plain": [
       "array([  2,   4,   8,  16,  32,  64, 128, 256])"
      ]
     },
     "execution_count": 70,
     "metadata": {},
     "output_type": "execute_result"
    }
   ],
   "source": [
    "w"
   ]
  },
  {
   "cell_type": "code",
   "execution_count": 72,
   "metadata": {},
   "outputs": [
    {
     "data": {
      "image/png": "[encoded data removed]",
      "text/plain": [
       "<Figure size 432x288 with 1 Axes>"
      ]
     },
     "metadata": {
      "needs_background": "light"
     },
     "output_type": "display_data"
    }
   ],
   "source": [
    "plt.scatter(x, w); plt.grid(True)"
   ]
  },
  {
   "cell_type": "code",
   "execution_count": 73,
   "metadata": {},
   "outputs": [],
   "source": [
    "expon, amp = np.polyfit(np.log(x+1.e-14), np.log(y+1.e-14), 1, w=w)"
   ]
  },
  {
   "cell_type": "code",
   "execution_count": 74,
   "metadata": {},
   "outputs": [
    {
     "data": {
      "text/plain": [
       "-2.05392912636267"
      ]
     },
     "execution_count": 74,
     "metadata": {},
     "output_type": "execute_result"
    }
   ],
   "source": [
    "amp"
   ]
  },
  {
   "cell_type": "code",
   "execution_count": 75,
   "metadata": {},
   "outputs": [
    {
     "data": {
      "text/plain": [
       "-0.08736553525661991"
      ]
     },
     "execution_count": 75,
     "metadata": {},
     "output_type": "execute_result"
    }
   ],
   "source": [
    "expon"
   ]
  },
  {
   "cell_type": "code",
   "execution_count": null,
   "metadata": {},
   "outputs": [],
   "source": []
  }
 ],
 "metadata": {
  "kernelspec": {
   "display_name": "Python 3",
   "language": "python",
   "name": "python3"
  },
  "language_info": {
   "codemirror_mode": {
    "name": "ipython",
    "version": 3
   },
   "file_extension": ".py",
   "mimetype": "text/x-python",
   "name": "python",
   "nbconvert_exporter": "python",
   "pygments_lexer": "ipython3",
   "version": "3.6.8"
  }
 },
 "nbformat": 4,
 "nbformat_minor": 2
}
