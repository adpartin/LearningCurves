{
 "cells": [
  {
   "cell_type": "markdown",
   "metadata": {},
   "source": [
    "# Getting best results per-shard using CANDLE HPO"
   ]
  },
  {
   "cell_type": "code",
   "execution_count": 1,
   "metadata": {},
   "outputs": [
    {
     "name": "stderr",
     "output_type": "stream",
     "text": [
      "Using TensorFlow backend.\n"
     ]
    },
    {
     "data": {
      "text/plain": [
       "PosixPath('/vol/ml/apartin/projects/LearningCurves/notebooks')"
      ]
     },
     "execution_count": 1,
     "metadata": {},
     "output_type": "execute_result"
    }
   ],
   "source": [
    "%load_ext autoreload\n",
    "%autoreload 2\n",
    "%matplotlib inline\n",
    "\n",
    "import warnings\n",
    "warnings.filterwarnings('ignore')\n",
    "\n",
    "import os\n",
    "import sys\n",
    "from pathlib import Path\n",
    "\n",
    "import sklearn\n",
    "import numpy as np\n",
    "import pandas as pd\n",
    "from glob import glob\n",
    "\n",
    "import matplotlib\n",
    "import matplotlib.pyplot as plt\n",
    "\n",
    "# Make all python scripts available in the path\n",
    "sys.path.append('../')\n",
    "\n",
    "import lrn_crv\n",
    "import lrn_crv_plot\n",
    "%matplotlib inline\n",
    "\n",
    "filepath = Path(os.getcwd())\n",
    "filepath"
   ]
  },
  {
   "cell_type": "code",
   "execution_count": 2,
   "metadata": {},
   "outputs": [],
   "source": [
    "# HPO runs\n",
    "hpo_ctrp_nn_dir = Path('/vol/ml/apartin/projects/LearningCurves/hpo_runs/lc_ctrp_nn_reg0_hpo')\n",
    "hpo_gdsc_nn_dir = Path('/vol/ml/apartin/projects/LearningCurves/hpo_runs/lc_gdsc_nn_reg0_hpo')\n",
    "hpo_top6_nn_dir = Path('/vol/ml/apartin/projects/LearningCurves/hpo_runs/lc_top6_nn_reg0_hpo')\n",
    "\n",
    "hpo_ctrp_lgbm_dir = Path('/vol/ml/apartin/projects/LearningCurves/hpo_runs/lc_ctrp_lgbm_hpo')\n",
    "hpo_gdsc_lgbm_dir = Path('/vol/ml/apartin/projects/LearningCurves/hpo_runs/lc_gdsc_lgbm_hpo')\n",
    "# hpo_top6_dir = Path('/vol/ml/apartin/projects/LearningCurves/hpo_runs/lc_top6_lgbm_hpo')"
   ]
  },
  {
   "cell_type": "code",
   "execution_count": null,
   "metadata": {},
   "outputs": [],
   "source": []
  },
  {
   "cell_type": "markdown",
   "metadata": {},
   "source": [
    "# Utils"
   ]
  },
  {
   "cell_type": "code",
   "execution_count": 3,
   "metadata": {},
   "outputs": [],
   "source": [
    "def top_n_runs(df, tr_size=None, n=10, sort_by_metric='mean_absolute_error', plot=False):\n",
    "    \"\"\" Return top runs based on sort_by_metric. \"\"\"\n",
    "    if tr_size is not None:\n",
    "        df = df[df['tr_size']==tr_size].reset_index(drop=True)\n",
    "    if sort_by_metric == 'r2':\n",
    "        df = df.sort_values(sort_by_metric, ascending=False).iloc[:n, :]\n",
    "    else:\n",
    "        df = df.sort_values(sort_by_metric, ascending=True).iloc[:n, :]\n",
    "    \n",
    "    if plot: display(df.transpose())\n",
    "    return df.reset_index(drop=True)"
   ]
  },
  {
   "cell_type": "code",
   "execution_count": null,
   "metadata": {},
   "outputs": [],
   "source": []
  },
  {
   "cell_type": "markdown",
   "metadata": {},
   "source": [
    "# Load results from runs"
   ]
  },
  {
   "cell_type": "code",
   "execution_count": 16,
   "metadata": {},
   "outputs": [],
   "source": [
    "# base_dir = hpo_ctrp_nn_dir\n",
    "# base_dir = hpo_gdsc_nn_dir\n",
    "# base_dir = hpo_top6_nn_dir\n",
    "\n",
    "# base_dir = hpo_ctrp_lgbm_dir\n",
    "base_dir = hpo_gdsc_lgbm_dir\n",
    "# base_dir = hpo_top6_lgbm_dir\n",
    "\n",
    "# Load\n",
    "hp = pd.read_csv( base_dir/'hpo_all.csv' )"
   ]
  },
  {
   "cell_type": "code",
   "execution_count": 17,
   "metadata": {},
   "outputs": [],
   "source": [
    "# Subset of columns\n",
    "if 'nn' in str(base_dir):\n",
    "    col_subset = ['tr_size',\n",
    "                  'batch_size', 'lr', 'opt', 'dr_rate', 'batchnorm', # HPs\n",
    "                  'epoch_stop', 'epochs',\n",
    "                  'run_id',\n",
    "                  # 'clr_mode', 'cv_method', 'scaler',   # potential DL HPs\n",
    "                  # 'n_trees',  # potential LGBM HPs\n",
    "                  # 'cell_fea', 'drug_fea', 'target_name',  # features and response\n",
    "                  # 'framework', 'model_name', 'cv_folds',  # ML settings\n",
    "                  'shard_step_scale', # Other\n",
    "                  'mean_absolute_error', 'mean_squared_error', 'median_absolute_error', 'r2', # scores\n",
    "                 ]\n",
    "else:\n",
    "    col_subset = ['tr_size',\n",
    "                  'gbm_leaves', 'gbm_lr', 'gbm_max_depth', 'gbm_trees', # HPs\n",
    "                  'run_id',\n",
    "                  # 'n_trees',  # potential LGBM HPs\n",
    "                  # 'cell_fea', 'drug_fea', 'target_name',  # features and response\n",
    "                  # 'framework', 'model_name', 'cv_folds',  # ML settings\n",
    "                  'shard_step_scale', # Other\n",
    "                  'mean_absolute_error', 'mean_squared_error', 'median_absolute_error', 'r2', # scores\n",
    "                 ]"
   ]
  },
  {
   "cell_type": "code",
   "execution_count": 18,
   "metadata": {},
   "outputs": [
    {
     "name": "stdout",
     "output_type": "stream",
     "text": [
      "(1188, 10)\n"
     ]
    }
   ],
   "source": [
    "# Cols subset\n",
    "hp = hp[[c for c in col_subset if c in hp.columns]]\n",
    "print(hp.shape)"
   ]
  },
  {
   "cell_type": "code",
   "execution_count": 19,
   "metadata": {},
   "outputs": [
    {
     "data": {
      "text/html": [
       "<div>\n",
       "<style scoped>\n",
       "    .dataframe tbody tr th:only-of-type {\n",
       "        vertical-align: middle;\n",
       "    }\n",
       "\n",
       "    .dataframe tbody tr th {\n",
       "        vertical-align: top;\n",
       "    }\n",
       "\n",
       "    .dataframe thead th {\n",
       "        text-align: right;\n",
       "    }\n",
       "</style>\n",
       "<table border=\"1\" class=\"dataframe\">\n",
       "  <thead>\n",
       "    <tr style=\"text-align: right;\">\n",
       "      <th></th>\n",
       "      <th>tr_size</th>\n",
       "      <th>gbm_leaves</th>\n",
       "      <th>gbm_lr</th>\n",
       "      <th>gbm_max_depth</th>\n",
       "      <th>gbm_trees</th>\n",
       "      <th>run_id</th>\n",
       "      <th>shard_step_scale</th>\n",
       "      <th>mean_absolute_error</th>\n",
       "      <th>median_absolute_error</th>\n",
       "      <th>r2</th>\n",
       "    </tr>\n",
       "  </thead>\n",
       "  <tbody>\n",
       "    <tr>\n",
       "      <th>0</th>\n",
       "      <td>1024</td>\n",
       "      <td>10</td>\n",
       "      <td>0.1</td>\n",
       "      <td>-1</td>\n",
       "      <td>50</td>\n",
       "      <td>run0</td>\n",
       "      <td>log2</td>\n",
       "      <td>0.090764</td>\n",
       "      <td>0.072313</td>\n",
       "      <td>0.465283</td>\n",
       "    </tr>\n",
       "    <tr>\n",
       "      <th>1</th>\n",
       "      <td>128</td>\n",
       "      <td>10</td>\n",
       "      <td>0.1</td>\n",
       "      <td>-1</td>\n",
       "      <td>50</td>\n",
       "      <td>run0</td>\n",
       "      <td>log2</td>\n",
       "      <td>0.118960</td>\n",
       "      <td>0.096329</td>\n",
       "      <td>0.091060</td>\n",
       "    </tr>\n",
       "    <tr>\n",
       "      <th>2</th>\n",
       "      <td>16384</td>\n",
       "      <td>10</td>\n",
       "      <td>0.1</td>\n",
       "      <td>-1</td>\n",
       "      <td>50</td>\n",
       "      <td>run0</td>\n",
       "      <td>log2</td>\n",
       "      <td>0.080154</td>\n",
       "      <td>0.062879</td>\n",
       "      <td>0.572934</td>\n",
       "    </tr>\n",
       "  </tbody>\n",
       "</table>\n",
       "</div>"
      ],
      "text/plain": [
       "   tr_size  gbm_leaves  gbm_lr  gbm_max_depth  gbm_trees run_id  \\\n",
       "0     1024          10     0.1             -1         50   run0   \n",
       "1      128          10     0.1             -1         50   run0   \n",
       "2    16384          10     0.1             -1         50   run0   \n",
       "\n",
       "  shard_step_scale  mean_absolute_error  median_absolute_error        r2  \n",
       "0             log2             0.090764               0.072313  0.465283  \n",
       "1             log2             0.118960               0.096329  0.091060  \n",
       "2             log2             0.080154               0.062879  0.572934  "
      ]
     },
     "execution_count": 19,
     "metadata": {},
     "output_type": "execute_result"
    }
   ],
   "source": [
    "hp[:3]"
   ]
  },
  {
   "cell_type": "markdown",
   "metadata": {},
   "source": [
    "### Check data"
   ]
  },
  {
   "cell_type": "code",
   "execution_count": 20,
   "metadata": {},
   "outputs": [
    {
     "data": {
      "text/html": [
       "<div>\n",
       "<style scoped>\n",
       "    .dataframe tbody tr th:only-of-type {\n",
       "        vertical-align: middle;\n",
       "    }\n",
       "\n",
       "    .dataframe tbody tr th {\n",
       "        vertical-align: top;\n",
       "    }\n",
       "\n",
       "    .dataframe thead th {\n",
       "        text-align: right;\n",
       "    }\n",
       "</style>\n",
       "<table border=\"1\" class=\"dataframe\">\n",
       "  <thead>\n",
       "    <tr style=\"text-align: right;\">\n",
       "      <th></th>\n",
       "      <th>subset</th>\n",
       "      <th>tr_size</th>\n",
       "    </tr>\n",
       "  </thead>\n",
       "  <tbody>\n",
       "    <tr>\n",
       "      <th>0</th>\n",
       "      <td>128</td>\n",
       "      <td>108</td>\n",
       "    </tr>\n",
       "    <tr>\n",
       "      <th>1</th>\n",
       "      <td>256</td>\n",
       "      <td>108</td>\n",
       "    </tr>\n",
       "    <tr>\n",
       "      <th>2</th>\n",
       "      <td>512</td>\n",
       "      <td>108</td>\n",
       "    </tr>\n",
       "    <tr>\n",
       "      <th>3</th>\n",
       "      <td>1024</td>\n",
       "      <td>108</td>\n",
       "    </tr>\n",
       "    <tr>\n",
       "      <th>4</th>\n",
       "      <td>2048</td>\n",
       "      <td>108</td>\n",
       "    </tr>\n",
       "    <tr>\n",
       "      <th>5</th>\n",
       "      <td>4096</td>\n",
       "      <td>108</td>\n",
       "    </tr>\n",
       "    <tr>\n",
       "      <th>6</th>\n",
       "      <td>8192</td>\n",
       "      <td>108</td>\n",
       "    </tr>\n",
       "    <tr>\n",
       "      <th>7</th>\n",
       "      <td>16384</td>\n",
       "      <td>108</td>\n",
       "    </tr>\n",
       "    <tr>\n",
       "      <th>8</th>\n",
       "      <td>32768</td>\n",
       "      <td>108</td>\n",
       "    </tr>\n",
       "    <tr>\n",
       "      <th>9</th>\n",
       "      <td>65536</td>\n",
       "      <td>108</td>\n",
       "    </tr>\n",
       "    <tr>\n",
       "      <th>10</th>\n",
       "      <td>88416</td>\n",
       "      <td>108</td>\n",
       "    </tr>\n",
       "  </tbody>\n",
       "</table>\n",
       "</div>"
      ],
      "text/plain": [
       "    subset  tr_size\n",
       "0      128      108\n",
       "1      256      108\n",
       "2      512      108\n",
       "3     1024      108\n",
       "4     2048      108\n",
       "5     4096      108\n",
       "6     8192      108\n",
       "7    16384      108\n",
       "8    32768      108\n",
       "9    65536      108\n",
       "10   88416      108"
      ]
     },
     "execution_count": 20,
     "metadata": {},
     "output_type": "execute_result"
    }
   ],
   "source": [
    "# Certain runs were not completed --> check\n",
    "hp['tr_size'].value_counts().reset_index().rename(columns={'index': 'subset'}).sort_values('subset').reset_index(drop=True)"
   ]
  },
  {
   "cell_type": "code",
   "execution_count": 21,
   "metadata": {},
   "outputs": [],
   "source": [
    "# certain runs were not completed (a more detailed look)\n",
    "if 'nn' in str(base_dir):\n",
    "    hp.groupby(['tr_size', 'batch_size']).agg({'r2': 'size'}).reset_index().rename(columns={'r2': 'count'})[:10]"
   ]
  },
  {
   "cell_type": "code",
   "execution_count": 22,
   "metadata": {},
   "outputs": [
    {
     "data": {
      "text/html": [
       "<div>\n",
       "<style scoped>\n",
       "    .dataframe tbody tr th:only-of-type {\n",
       "        vertical-align: middle;\n",
       "    }\n",
       "\n",
       "    .dataframe tbody tr th {\n",
       "        vertical-align: top;\n",
       "    }\n",
       "\n",
       "    .dataframe thead th {\n",
       "        text-align: right;\n",
       "    }\n",
       "</style>\n",
       "<table border=\"1\" class=\"dataframe\">\n",
       "  <thead>\n",
       "    <tr style=\"text-align: right;\">\n",
       "      <th></th>\n",
       "      <th>tr_size</th>\n",
       "      <th>gbm_leaves</th>\n",
       "      <th>gbm_lr</th>\n",
       "      <th>gbm_max_depth</th>\n",
       "      <th>gbm_trees</th>\n",
       "      <th>mean_absolute_error</th>\n",
       "      <th>r2</th>\n",
       "    </tr>\n",
       "  </thead>\n",
       "  <tbody>\n",
       "    <tr>\n",
       "      <th>0</th>\n",
       "      <td>128</td>\n",
       "      <td>[10, 100, 31, 50]</td>\n",
       "      <td>[0.1, 0.4, 0.7]</td>\n",
       "      <td>[-1, 5, 9]</td>\n",
       "      <td>[50, 100, 1000]</td>\n",
       "      <td>0.118960</td>\n",
       "      <td>0.091060</td>\n",
       "    </tr>\n",
       "    <tr>\n",
       "      <th>1</th>\n",
       "      <td>256</td>\n",
       "      <td>[10, 100, 31, 50]</td>\n",
       "      <td>[0.1, 0.4, 0.7]</td>\n",
       "      <td>[-1, 5, 9]</td>\n",
       "      <td>[50, 100, 1000]</td>\n",
       "      <td>0.108738</td>\n",
       "      <td>0.222398</td>\n",
       "    </tr>\n",
       "    <tr>\n",
       "      <th>2</th>\n",
       "      <td>512</td>\n",
       "      <td>[10, 100, 31, 50]</td>\n",
       "      <td>[0.1, 0.4, 0.7]</td>\n",
       "      <td>[-1, 5, 9]</td>\n",
       "      <td>[50, 100, 1000]</td>\n",
       "      <td>0.097312</td>\n",
       "      <td>0.383377</td>\n",
       "    </tr>\n",
       "    <tr>\n",
       "      <th>3</th>\n",
       "      <td>1024</td>\n",
       "      <td>[10, 100, 31, 50]</td>\n",
       "      <td>[0.1, 0.4, 0.7]</td>\n",
       "      <td>[-1, 5, 9]</td>\n",
       "      <td>[50, 100, 1000]</td>\n",
       "      <td>0.089557</td>\n",
       "      <td>0.472507</td>\n",
       "    </tr>\n",
       "    <tr>\n",
       "      <th>4</th>\n",
       "      <td>2048</td>\n",
       "      <td>[10, 100, 31, 50]</td>\n",
       "      <td>[0.1, 0.4, 0.7]</td>\n",
       "      <td>[-1, 5, 9]</td>\n",
       "      <td>[50, 100, 1000]</td>\n",
       "      <td>0.083187</td>\n",
       "      <td>0.536044</td>\n",
       "    </tr>\n",
       "    <tr>\n",
       "      <th>5</th>\n",
       "      <td>4096</td>\n",
       "      <td>[10, 100, 31, 50]</td>\n",
       "      <td>[0.1, 0.4, 0.7]</td>\n",
       "      <td>[-1, 5, 9]</td>\n",
       "      <td>[50, 100, 1000]</td>\n",
       "      <td>0.078610</td>\n",
       "      <td>0.575394</td>\n",
       "    </tr>\n",
       "    <tr>\n",
       "      <th>6</th>\n",
       "      <td>8192</td>\n",
       "      <td>[10, 100, 31, 50]</td>\n",
       "      <td>[0.1, 0.4, 0.7]</td>\n",
       "      <td>[-1, 5, 9]</td>\n",
       "      <td>[50, 100, 1000]</td>\n",
       "      <td>0.074956</td>\n",
       "      <td>0.610734</td>\n",
       "    </tr>\n",
       "    <tr>\n",
       "      <th>7</th>\n",
       "      <td>16384</td>\n",
       "      <td>[10, 100, 31, 50]</td>\n",
       "      <td>[0.1, 0.4, 0.7]</td>\n",
       "      <td>[-1, 5, 9]</td>\n",
       "      <td>[50, 100, 1000]</td>\n",
       "      <td>0.072065</td>\n",
       "      <td>0.636911</td>\n",
       "    </tr>\n",
       "    <tr>\n",
       "      <th>8</th>\n",
       "      <td>32768</td>\n",
       "      <td>[10, 100, 31, 50]</td>\n",
       "      <td>[0.1, 0.4, 0.7]</td>\n",
       "      <td>[-1, 5, 9]</td>\n",
       "      <td>[50, 100, 1000]</td>\n",
       "      <td>0.069115</td>\n",
       "      <td>0.662546</td>\n",
       "    </tr>\n",
       "    <tr>\n",
       "      <th>9</th>\n",
       "      <td>65536</td>\n",
       "      <td>[10, 100, 31, 50]</td>\n",
       "      <td>[0.1, 0.4, 0.7]</td>\n",
       "      <td>[-1, 5, 9]</td>\n",
       "      <td>[50, 100, 1000]</td>\n",
       "      <td>0.066745</td>\n",
       "      <td>0.683417</td>\n",
       "    </tr>\n",
       "    <tr>\n",
       "      <th>10</th>\n",
       "      <td>88416</td>\n",
       "      <td>[10, 100, 31, 50]</td>\n",
       "      <td>[0.1, 0.4, 0.7]</td>\n",
       "      <td>[-1, 5, 9]</td>\n",
       "      <td>[50, 100, 1000]</td>\n",
       "      <td>0.065907</td>\n",
       "      <td>0.692753</td>\n",
       "    </tr>\n",
       "  </tbody>\n",
       "</table>\n",
       "</div>"
      ],
      "text/plain": [
       "    tr_size         gbm_leaves           gbm_lr gbm_max_depth  \\\n",
       "0       128  [10, 100, 31, 50]  [0.1, 0.4, 0.7]    [-1, 5, 9]   \n",
       "1       256  [10, 100, 31, 50]  [0.1, 0.4, 0.7]    [-1, 5, 9]   \n",
       "2       512  [10, 100, 31, 50]  [0.1, 0.4, 0.7]    [-1, 5, 9]   \n",
       "3      1024  [10, 100, 31, 50]  [0.1, 0.4, 0.7]    [-1, 5, 9]   \n",
       "4      2048  [10, 100, 31, 50]  [0.1, 0.4, 0.7]    [-1, 5, 9]   \n",
       "5      4096  [10, 100, 31, 50]  [0.1, 0.4, 0.7]    [-1, 5, 9]   \n",
       "6      8192  [10, 100, 31, 50]  [0.1, 0.4, 0.7]    [-1, 5, 9]   \n",
       "7     16384  [10, 100, 31, 50]  [0.1, 0.4, 0.7]    [-1, 5, 9]   \n",
       "8     32768  [10, 100, 31, 50]  [0.1, 0.4, 0.7]    [-1, 5, 9]   \n",
       "9     65536  [10, 100, 31, 50]  [0.1, 0.4, 0.7]    [-1, 5, 9]   \n",
       "10    88416  [10, 100, 31, 50]  [0.1, 0.4, 0.7]    [-1, 5, 9]   \n",
       "\n",
       "          gbm_trees  mean_absolute_error        r2  \n",
       "0   [50, 100, 1000]             0.118960  0.091060  \n",
       "1   [50, 100, 1000]             0.108738  0.222398  \n",
       "2   [50, 100, 1000]             0.097312  0.383377  \n",
       "3   [50, 100, 1000]             0.089557  0.472507  \n",
       "4   [50, 100, 1000]             0.083187  0.536044  \n",
       "5   [50, 100, 1000]             0.078610  0.575394  \n",
       "6   [50, 100, 1000]             0.074956  0.610734  \n",
       "7   [50, 100, 1000]             0.072065  0.636911  \n",
       "8   [50, 100, 1000]             0.069115  0.662546  \n",
       "9   [50, 100, 1000]             0.066745  0.683417  \n",
       "10  [50, 100, 1000]             0.065907  0.692753  "
      ]
     },
     "metadata": {},
     "output_type": "display_data"
    }
   ],
   "source": [
    "# All HP per subset size\n",
    "if 'nn' in str(base_dir):\n",
    "    display(hp.groupby('tr_size').agg({'batch_size': 'unique', 'dr_rate': 'unique', 'opt': 'unique', 'lr': 'unique',\n",
    "                               'mean_absolute_error': 'min', 'r2': 'max'}).reset_index())\n",
    "elif 'lgbm' in str(base_dir):\n",
    "    display(hp.groupby('tr_size').agg({'gbm_leaves': 'unique', 'gbm_lr': 'unique', 'gbm_max_depth': 'unique', 'gbm_trees': 'unique',\n",
    "                               'mean_absolute_error': 'min', 'r2': 'max'}).reset_index())"
   ]
  },
  {
   "cell_type": "code",
   "execution_count": 23,
   "metadata": {},
   "outputs": [],
   "source": [
    "# Certain runs were did not converge (early stop was not activated)\n",
    "if 'nn' in str(base_dir):\n",
    "    not_cnv = hp[ hp['epoch_stop']==hp['epochs'] ]\n",
    "    print('Early stop was not activated for {} runs out of {}'.format( not_cnv.shape[0], hp.shape[0] ))"
   ]
  },
  {
   "cell_type": "code",
   "execution_count": null,
   "metadata": {},
   "outputs": [],
   "source": []
  },
  {
   "cell_type": "markdown",
   "metadata": {},
   "source": [
    "## Plot all runs per metric"
   ]
  },
  {
   "cell_type": "code",
   "execution_count": 24,
   "metadata": {},
   "outputs": [],
   "source": [
    "met = 'mean_absolute_error'\n",
    "\n",
    "# Plot settings\n",
    "figsize=(7,5)\n",
    "# xtick_scale, ytick_scale = 'linear', 'linear'\n",
    "xtick_scale, ytick_scale = 'log2', 'log2'"
   ]
  },
  {
   "cell_type": "code",
   "execution_count": 25,
   "metadata": {},
   "outputs": [
    {
     "data": {
      "image/png": "[encoded data removed]",
      "text/plain": [
       "<Figure size 504x360 with 1 Axes>"
      ]
     },
     "metadata": {
      "needs_background": "light"
     },
     "output_type": "display_data"
    }
   ],
   "source": [
    "fig, ax = plt.subplots(figsize=figsize)\n",
    "plt.plot(hp['tr_size'], hp[met], '.', alpha=0.5); plt.grid(True); plt.xlabel('Train Size (Log2)'); plt.ylabel(lrn_crv_plot.capitalize_metric(met) + ' (Log2)');\n",
    "ax.set_title('Results from Grid Search (total runs: {})'.format(hp.shape[0]))\n",
    "ax.set_xscale('log', basex=2)\n",
    "# ax.set_yscale('log', basey=2)"
   ]
  },
  {
   "cell_type": "code",
   "execution_count": null,
   "metadata": {},
   "outputs": [],
   "source": []
  },
  {
   "cell_type": "markdown",
   "metadata": {},
   "source": [
    "# Compare PS-HPO and LS-HPO"
   ]
  },
  {
   "cell_type": "code",
   "execution_count": 26,
   "metadata": {},
   "outputs": [],
   "source": [
    "plot_kwargs = {'plot_fit': True, 'metric_name': met, 'xtick_scale': xtick_scale, 'ytick_scale': xtick_scale,\n",
    "               'figsize': figsize}"
   ]
  },
  {
   "cell_type": "code",
   "execution_count": null,
   "metadata": {},
   "outputs": [],
   "source": []
  },
  {
   "cell_type": "markdown",
   "metadata": {},
   "source": [
    "## Per-Subset HPO\n",
    "Extract the best performance score for every shard (for each metric)"
   ]
  },
  {
   "cell_type": "code",
   "execution_count": 27,
   "metadata": {},
   "outputs": [
    {
     "data": {
      "text/html": [
       "<div>\n",
       "<style scoped>\n",
       "    .dataframe tbody tr th:only-of-type {\n",
       "        vertical-align: middle;\n",
       "    }\n",
       "\n",
       "    .dataframe tbody tr th {\n",
       "        vertical-align: top;\n",
       "    }\n",
       "\n",
       "    .dataframe thead th {\n",
       "        text-align: right;\n",
       "    }\n",
       "</style>\n",
       "<table border=\"1\" class=\"dataframe\">\n",
       "  <thead>\n",
       "    <tr style=\"text-align: right;\">\n",
       "      <th></th>\n",
       "      <th>tr_size</th>\n",
       "      <th>gbm_leaves</th>\n",
       "      <th>gbm_lr</th>\n",
       "      <th>gbm_max_depth</th>\n",
       "      <th>gbm_trees</th>\n",
       "      <th>run_id</th>\n",
       "      <th>shard_step_scale</th>\n",
       "      <th>mean_absolute_error</th>\n",
       "      <th>median_absolute_error</th>\n",
       "      <th>r2</th>\n",
       "    </tr>\n",
       "  </thead>\n",
       "  <tbody>\n",
       "    <tr>\n",
       "      <th>0</th>\n",
       "      <td>128</td>\n",
       "      <td>10</td>\n",
       "      <td>0.1</td>\n",
       "      <td>-1</td>\n",
       "      <td>50</td>\n",
       "      <td>run0</td>\n",
       "      <td>log2</td>\n",
       "      <td>0.118960</td>\n",
       "      <td>0.096329</td>\n",
       "      <td>0.091060</td>\n",
       "    </tr>\n",
       "    <tr>\n",
       "      <th>1</th>\n",
       "      <td>256</td>\n",
       "      <td>10</td>\n",
       "      <td>0.1</td>\n",
       "      <td>5</td>\n",
       "      <td>1000</td>\n",
       "      <td>run11</td>\n",
       "      <td>log2</td>\n",
       "      <td>0.108738</td>\n",
       "      <td>0.085659</td>\n",
       "      <td>0.222398</td>\n",
       "    </tr>\n",
       "    <tr>\n",
       "      <th>2</th>\n",
       "      <td>512</td>\n",
       "      <td>10</td>\n",
       "      <td>0.1</td>\n",
       "      <td>5</td>\n",
       "      <td>1000</td>\n",
       "      <td>run11</td>\n",
       "      <td>log2</td>\n",
       "      <td>0.097312</td>\n",
       "      <td>0.078088</td>\n",
       "      <td>0.383377</td>\n",
       "    </tr>\n",
       "    <tr>\n",
       "      <th>3</th>\n",
       "      <td>1024</td>\n",
       "      <td>10</td>\n",
       "      <td>0.1</td>\n",
       "      <td>-1</td>\n",
       "      <td>1000</td>\n",
       "      <td>run2</td>\n",
       "      <td>log2</td>\n",
       "      <td>0.089557</td>\n",
       "      <td>0.070036</td>\n",
       "      <td>0.472507</td>\n",
       "    </tr>\n",
       "    <tr>\n",
       "      <th>4</th>\n",
       "      <td>2048</td>\n",
       "      <td>10</td>\n",
       "      <td>0.1</td>\n",
       "      <td>-1</td>\n",
       "      <td>1000</td>\n",
       "      <td>run2</td>\n",
       "      <td>log2</td>\n",
       "      <td>0.083187</td>\n",
       "      <td>0.063687</td>\n",
       "      <td>0.536044</td>\n",
       "    </tr>\n",
       "    <tr>\n",
       "      <th>5</th>\n",
       "      <td>4096</td>\n",
       "      <td>50</td>\n",
       "      <td>0.1</td>\n",
       "      <td>-1</td>\n",
       "      <td>100</td>\n",
       "      <td>run55</td>\n",
       "      <td>log2</td>\n",
       "      <td>0.078610</td>\n",
       "      <td>0.059281</td>\n",
       "      <td>0.573523</td>\n",
       "    </tr>\n",
       "    <tr>\n",
       "      <th>6</th>\n",
       "      <td>8192</td>\n",
       "      <td>31</td>\n",
       "      <td>0.1</td>\n",
       "      <td>-1</td>\n",
       "      <td>1000</td>\n",
       "      <td>run29</td>\n",
       "      <td>log2</td>\n",
       "      <td>0.074956</td>\n",
       "      <td>0.055894</td>\n",
       "      <td>0.610027</td>\n",
       "    </tr>\n",
       "    <tr>\n",
       "      <th>7</th>\n",
       "      <td>16384</td>\n",
       "      <td>100</td>\n",
       "      <td>0.1</td>\n",
       "      <td>5</td>\n",
       "      <td>1000</td>\n",
       "      <td>run92</td>\n",
       "      <td>log2</td>\n",
       "      <td>0.072065</td>\n",
       "      <td>0.053796</td>\n",
       "      <td>0.635836</td>\n",
       "    </tr>\n",
       "    <tr>\n",
       "      <th>8</th>\n",
       "      <td>32768</td>\n",
       "      <td>50</td>\n",
       "      <td>0.1</td>\n",
       "      <td>9</td>\n",
       "      <td>1000</td>\n",
       "      <td>run74</td>\n",
       "      <td>log2</td>\n",
       "      <td>0.069115</td>\n",
       "      <td>0.051628</td>\n",
       "      <td>0.662546</td>\n",
       "    </tr>\n",
       "    <tr>\n",
       "      <th>9</th>\n",
       "      <td>65536</td>\n",
       "      <td>100</td>\n",
       "      <td>0.1</td>\n",
       "      <td>9</td>\n",
       "      <td>1000</td>\n",
       "      <td>run101</td>\n",
       "      <td>log2</td>\n",
       "      <td>0.066745</td>\n",
       "      <td>0.049391</td>\n",
       "      <td>0.683417</td>\n",
       "    </tr>\n",
       "    <tr>\n",
       "      <th>10</th>\n",
       "      <td>88416</td>\n",
       "      <td>31</td>\n",
       "      <td>0.1</td>\n",
       "      <td>-1</td>\n",
       "      <td>1000</td>\n",
       "      <td>run29</td>\n",
       "      <td>log2</td>\n",
       "      <td>0.065907</td>\n",
       "      <td>0.048720</td>\n",
       "      <td>0.691762</td>\n",
       "    </tr>\n",
       "  </tbody>\n",
       "</table>\n",
       "</div>"
      ],
      "text/plain": [
       "    tr_size  gbm_leaves  gbm_lr  gbm_max_depth  gbm_trees  run_id  \\\n",
       "0       128          10     0.1             -1         50    run0   \n",
       "1       256          10     0.1              5       1000   run11   \n",
       "2       512          10     0.1              5       1000   run11   \n",
       "3      1024          10     0.1             -1       1000    run2   \n",
       "4      2048          10     0.1             -1       1000    run2   \n",
       "5      4096          50     0.1             -1        100   run55   \n",
       "6      8192          31     0.1             -1       1000   run29   \n",
       "7     16384         100     0.1              5       1000   run92   \n",
       "8     32768          50     0.1              9       1000   run74   \n",
       "9     65536         100     0.1              9       1000  run101   \n",
       "10    88416          31     0.1             -1       1000   run29   \n",
       "\n",
       "   shard_step_scale  mean_absolute_error  median_absolute_error        r2  \n",
       "0              log2             0.118960               0.096329  0.091060  \n",
       "1              log2             0.108738               0.085659  0.222398  \n",
       "2              log2             0.097312               0.078088  0.383377  \n",
       "3              log2             0.089557               0.070036  0.472507  \n",
       "4              log2             0.083187               0.063687  0.536044  \n",
       "5              log2             0.078610               0.059281  0.573523  \n",
       "6              log2             0.074956               0.055894  0.610027  \n",
       "7              log2             0.072065               0.053796  0.635836  \n",
       "8              log2             0.069115               0.051628  0.662546  \n",
       "9              log2             0.066745               0.049391  0.683417  \n",
       "10             log2             0.065907               0.048720  0.691762  "
      ]
     },
     "execution_count": 27,
     "metadata": {},
     "output_type": "execute_result"
    }
   ],
   "source": [
    "ps_best = hp.sort_values(met, ascending=True).drop_duplicates(['tr_size']).sort_values('tr_size').reset_index(drop=True)\n",
    "ps_best"
   ]
  },
  {
   "cell_type": "code",
   "execution_count": 28,
   "metadata": {},
   "outputs": [
    {
     "data": {
      "image/png": "[encoded data removed]",
      "text/plain": [
       "<Figure size 504x360 with 1 Axes>"
      ]
     },
     "metadata": {
      "needs_background": "light"
     },
     "output_type": "display_data"
    }
   ],
   "source": [
    "lrn_crv_plot.plot_lrn_crv_power_law( x = ps_best['tr_size'], y = ps_best[met], title='Per-Subset HPO', **plot_kwargs );"
   ]
  },
  {
   "cell_type": "code",
   "execution_count": null,
   "metadata": {},
   "outputs": [],
   "source": []
  },
  {
   "cell_type": "markdown",
   "metadata": {},
   "source": [
    "# Largest-Subset HPO\n",
    "Extract the best performance score for the largest shard (for each metric)"
   ]
  },
  {
   "cell_type": "code",
   "execution_count": 20,
   "metadata": {},
   "outputs": [
    {
     "data": {
      "text/html": [
       "<div>\n",
       "<style scoped>\n",
       "    .dataframe tbody tr th:only-of-type {\n",
       "        vertical-align: middle;\n",
       "    }\n",
       "\n",
       "    .dataframe tbody tr th {\n",
       "        vertical-align: top;\n",
       "    }\n",
       "\n",
       "    .dataframe thead th {\n",
       "        text-align: right;\n",
       "    }\n",
       "</style>\n",
       "<table border=\"1\" class=\"dataframe\">\n",
       "  <thead>\n",
       "    <tr style=\"text-align: right;\">\n",
       "      <th></th>\n",
       "      <th>tr_size</th>\n",
       "      <th>gbm_leaves</th>\n",
       "      <th>gbm_lr</th>\n",
       "      <th>gbm_max_depth</th>\n",
       "      <th>gbm_trees</th>\n",
       "      <th>run_id</th>\n",
       "      <th>shard_step_scale</th>\n",
       "      <th>mean_absolute_error</th>\n",
       "      <th>median_absolute_error</th>\n",
       "      <th>r2</th>\n",
       "    </tr>\n",
       "  </thead>\n",
       "  <tbody>\n",
       "    <tr>\n",
       "      <th>0</th>\n",
       "      <td>88416</td>\n",
       "      <td>31</td>\n",
       "      <td>0.1</td>\n",
       "      <td>-1</td>\n",
       "      <td>1000</td>\n",
       "      <td>run29</td>\n",
       "      <td>log2</td>\n",
       "      <td>0.065907</td>\n",
       "      <td>0.04872</td>\n",
       "      <td>0.691762</td>\n",
       "    </tr>\n",
       "  </tbody>\n",
       "</table>\n",
       "</div>"
      ],
      "text/plain": [
       "   tr_size  gbm_leaves  gbm_lr  gbm_max_depth  gbm_trees run_id  \\\n",
       "0    88416          31     0.1             -1       1000  run29   \n",
       "\n",
       "  shard_step_scale  mean_absolute_error  median_absolute_error        r2  \n",
       "0             log2             0.065907                0.04872  0.691762  "
      ]
     },
     "metadata": {},
     "output_type": "display_data"
    }
   ],
   "source": [
    "best = top_n_runs(hp, tr_size=hp['tr_size'].max(), n=1, sort_by_metric=met, plot=False)\n",
    "display(best)"
   ]
  },
  {
   "cell_type": "code",
   "execution_count": 21,
   "metadata": {},
   "outputs": [],
   "source": [
    "# idx = (hp['opt']==best['opt'][0]) & (hp['lr']==best['lr'][0]) & (hp['dr_rate']==best['dr_rate'][0]) & (hp['batch_size']==best['batch_size'][0]) & (hp['batchnorm']==best['batchnorm'][0])\n",
    "# ls_best = hp[ idx ].sort_values('tr_size').reset_index(drop=True)"
   ]
  },
  {
   "cell_type": "code",
   "execution_count": 22,
   "metadata": {},
   "outputs": [],
   "source": [
    "if 'nn' in str(base_dir):\n",
    "    prm_names = ['dr_rate', 'opt', 'lr', 'batchnorm', 'batch_size']\n",
    "elif 'lgbm' in str(base_dir):\n",
    "    prm_names = ['gbm_trees', 'gbm_max_depth', 'gbm_lr', 'gbm_leaves']"
   ]
  },
  {
   "cell_type": "code",
   "execution_count": 23,
   "metadata": {},
   "outputs": [],
   "source": [
    "idx = pd.Series(True, index=range(hp.shape[0]))\n",
    "for c in prm_names:\n",
    "    # print(c, best[c][0])\n",
    "    idx = idx & ( hp[c] == best[c][0] )\n",
    "    \n",
    "ls_best = hp[ idx ].sort_values('tr_size').reset_index(drop=True)"
   ]
  },
  {
   "cell_type": "code",
   "execution_count": 24,
   "metadata": {},
   "outputs": [
    {
     "data": {
      "image/png": "[encoded data removed]",
      "text/plain": [
       "<Figure size 504x360 with 1 Axes>"
      ]
     },
     "metadata": {
      "needs_background": "light"
     },
     "output_type": "display_data"
    }
   ],
   "source": [
    "lrn_crv_plot.plot_lrn_crv_power_law( x = ls_best['tr_size'], y = ls_best[met], title='Largest-Subset HPO', **plot_kwargs );"
   ]
  },
  {
   "cell_type": "code",
   "execution_count": null,
   "metadata": {},
   "outputs": [],
   "source": []
  },
  {
   "cell_type": "markdown",
   "metadata": {},
   "source": [
    "## PS-HPO vs LS-HPO fit"
   ]
  },
  {
   "cell_type": "code",
   "execution_count": 25,
   "metadata": {},
   "outputs": [
    {
     "data": {
      "image/png": "[encoded data removed]",
      "text/plain": [
       "<Figure size 504x360 with 1 Axes>"
      ]
     },
     "metadata": {
      "needs_background": "light"
     },
     "output_type": "display_data"
    }
   ],
   "source": [
    "marker='o'; alpha=0.5\n",
    "\n",
    "ax, pwr_law_params = lrn_crv_plot.plot_lrn_crv_power_law(x=ps_best['tr_size'], y=ps_best[met],\n",
    "                                                         marker=marker, alpha=alpha, label='PS-HPO',\n",
    "                                                         ax=None, **plot_kwargs)\n",
    "\n",
    "ax, pwr_law_params = lrn_crv_plot.plot_lrn_crv_power_law(x=ls_best['tr_size'], y=ls_best[met],\n",
    "                                                         marker=marker, alpha=alpha, label='LS-HPO', \n",
    "                                                         ax=ax, **plot_kwargs,\n",
    "                                                         title='Per-Subset HPO vs. Largest-Subset HPO')"
   ]
  },
  {
   "cell_type": "markdown",
   "metadata": {},
   "source": [
    "## PS-HPO vs LS-HPO extrapolate"
   ]
  },
  {
   "cell_type": "code",
   "execution_count": 28,
   "metadata": {},
   "outputs": [],
   "source": [
    "m0 = 9"
   ]
  },
  {
   "cell_type": "code",
   "execution_count": 29,
   "metadata": {},
   "outputs": [
    {
     "data": {
      "text/plain": [
       "(<matplotlib.axes._subplots.AxesSubplot at 0x7f3e30814390>,\n",
       " {'alpha': 0.29325062145429553,\n",
       "  'beta': -0.3238105835844031,\n",
       "  'gamma': 0.059407797845529096})"
      ]
     },
     "execution_count": 29,
     "metadata": {},
     "output_type": "execute_result"
    },
    {
     "data": {
      "image/png": "[encoded data removed]",
      "text/plain": [
       "<Figure size 504x360 with 1 Axes>"
      ]
     },
     "metadata": {
      "needs_background": "light"
     },
     "output_type": "display_data"
    }
   ],
   "source": [
    "lrn_crv_plot.lrn_crv_power_law_extrapolate(x=ls_best['tr_size'], y=ls_best[met],\n",
    "                                           m0=m0, **plot_kwargs, title='Largest-Subset HPO')"
   ]
  },
  {
   "cell_type": "code",
   "execution_count": 30,
   "metadata": {},
   "outputs": [
    {
     "data": {
      "text/plain": [
       "(<matplotlib.axes._subplots.AxesSubplot at 0x7f3e3085d6d8>,\n",
       " {'alpha': 0.2967430511815115,\n",
       "  'beta': -0.32917909441285775,\n",
       "  'gamma': 0.05953145919464494})"
      ]
     },
     "execution_count": 30,
     "metadata": {},
     "output_type": "execute_result"
    },
    {
     "data": {
      "image/png": "[encoded data removed]",
      "text/plain": [
       "<Figure size 504x360 with 1 Axes>"
      ]
     },
     "metadata": {
      "needs_background": "light"
     },
     "output_type": "display_data"
    }
   ],
   "source": [
    "lrn_crv_plot.lrn_crv_power_law_extrapolate(x=ps_best['tr_size'], y=ps_best[met],\n",
    "                                           m0=m0, **plot_kwargs, title='Per-Subset HPO')"
   ]
  },
  {
   "cell_type": "code",
   "execution_count": null,
   "metadata": {},
   "outputs": [],
   "source": []
  },
  {
   "cell_type": "markdown",
   "metadata": {},
   "source": [
    "# Curve Fit\n",
    "Matlab Package\n",
    "- https://www.mathworks.com/help/stats/examples/weighted-nonlinear-regression.html<br>\n",
    "\n",
    "R Package\n",
    "- https://stat.ethz.ch/R-manual/R-devel/library/stats/html/nls.html\n",
    "- https://stackoverflow.com/questions/27722664/r-fitting-power-law-curve-to-data-starting-value-for-c\n",
    "- https://www.rdocumentation.org/packages/stats/versions/3.6.1/topics/nls"
   ]
  },
  {
   "cell_type": "code",
   "execution_count": 61,
   "metadata": {},
   "outputs": [],
   "source": [
    "x = ps_best['tr_size']\n",
    "y = ps_best['mean_absolute_error']"
   ]
  },
  {
   "cell_type": "code",
   "execution_count": 80,
   "metadata": {},
   "outputs": [],
   "source": [
    "# np.polyfit returns polynomial coefficients, highest power first\n",
    "# y = Ax^b\n",
    "# log(y) = log(Ax^b) = log(A) + b*log(x) --> log(A) = p[1], b = p[0]\n",
    "expon, amp = np.polyfit( np.log(x+1.e-14), np.log(y+1.e-14), deg=1 )"
   ]
  },
  {
   "cell_type": "code",
   "execution_count": 69,
   "metadata": {},
   "outputs": [],
   "source": [
    "w = x / (np.exp(1) * (1-np.exp(1)))\n",
    "w = 2**(np.arange(len(x)) + 1)"
   ]
  },
  {
   "cell_type": "code",
   "execution_count": 70,
   "metadata": {},
   "outputs": [
    {
     "data": {
      "text/plain": [
       "array([  2,   4,   8,  16,  32,  64, 128, 256])"
      ]
     },
     "execution_count": 70,
     "metadata": {},
     "output_type": "execute_result"
    }
   ],
   "source": [
    "w"
   ]
  },
  {
   "cell_type": "code",
   "execution_count": 72,
   "metadata": {},
   "outputs": [
    {
     "data": {
      "image/png": "[encoded data removed]",
      "text/plain": [
       "<Figure size 432x288 with 1 Axes>"
      ]
     },
     "metadata": {
      "needs_background": "light"
     },
     "output_type": "display_data"
    }
   ],
   "source": [
    "plt.scatter(x, w); plt.grid(True)"
   ]
  },
  {
   "cell_type": "code",
   "execution_count": 73,
   "metadata": {},
   "outputs": [],
   "source": [
    "expon, amp = np.polyfit(np.log(x+1.e-14), np.log(y+1.e-14), 1, w=w)"
   ]
  },
  {
   "cell_type": "code",
   "execution_count": 74,
   "metadata": {},
   "outputs": [
    {
     "data": {
      "text/plain": [
       "-2.05392912636267"
      ]
     },
     "execution_count": 74,
     "metadata": {},
     "output_type": "execute_result"
    }
   ],
   "source": [
    "amp"
   ]
  },
  {
   "cell_type": "code",
   "execution_count": 75,
   "metadata": {},
   "outputs": [
    {
     "data": {
      "text/plain": [
       "-0.08736553525661991"
      ]
     },
     "execution_count": 75,
     "metadata": {},
     "output_type": "execute_result"
    }
   ],
   "source": [
    "expon"
   ]
  },
  {
   "cell_type": "code",
   "execution_count": null,
   "metadata": {},
   "outputs": [],
   "source": []
  }
 ],
 "metadata": {
  "kernelspec": {
   "display_name": "Python 3",
   "language": "python",
   "name": "python3"
  },
  "language_info": {
   "codemirror_mode": {
    "name": "ipython",
    "version": 3
   },
   "file_extension": ".py",
   "mimetype": "text/x-python",
   "name": "python",
   "nbconvert_exporter": "python",
   "pygments_lexer": "ipython3",
   "version": "3.6.8"
  }
 },
 "nbformat": 4,
 "nbformat_minor": 2
}
